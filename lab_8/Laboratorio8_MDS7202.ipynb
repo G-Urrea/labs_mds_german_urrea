{
  "cells": [
    {
      "cell_type": "markdown",
      "source": [
        "<h1><center>Laboratorio 8: Aprendizaje Supervisado 🔮</center></h1>\n",
        "\n",
        "<center><strong>MDS7202: Laboratorio de Programación Científica para Ciencia de Datos</strong></center>"
      ],
      "metadata": {
        "id": "XUZ1dFPHzAHl",
        "cell_id": "e651654461c3474fb2b0d36de22a6c14",
        "deepnote_cell_height": 103.53334045410156,
        "deepnote_cell_type": "markdown"
      }
    },
    {
      "cell_type": "markdown",
      "source": [
        "### Cuerpo Docente:\n",
        "\n",
        "- Profesor: Pablo Badilla y Ignacio Meza\n",
        "- Auxiliar: Sebastián Tinoco\n",
        "- Ayudante: Felipe Arias y Diego Cortez"
      ],
      "metadata": {
        "id": "UD8X1uhGzAHq",
        "cell_id": "7a6943958920482eb851e608d1efb6ac",
        "deepnote_cell_type": "markdown"
      }
    },
    {
      "cell_type": "markdown",
      "source": [
        "### Equipo: SUPER IMPORTANTE - notebooks sin nombre no serán revisados\n",
        "\n",
        "- Nombre de alumno 1: Germán Urrea\n",
        "- Nombre de alumno 2: - \n"
      ],
      "metadata": {
        "id": "tXflExjqzAHr",
        "cell_id": "0202c4ed94184a289e51ca5325b8afba",
        "deepnote_cell_height": 139.5,
        "deepnote_cell_type": "markdown"
      }
    },
    {
      "cell_type": "markdown",
      "source": [
        "### **Link de repositorio de GitHub:** `https://github.com/G-Urrea/labs_mds_german_urrea`"
      ],
      "metadata": {
        "id": "AD-V0bbZzAHr",
        "cell_id": "ce180f8cd3f3485fabbe6c0959a648db",
        "deepnote_cell_height": 61.28334045410156,
        "deepnote_cell_type": "markdown"
      }
    },
    {
      "cell_type": "markdown",
      "source": [
        "## Temas a tratar\n",
        "\n",
        "- Aprendizaje Supervisado\n",
        "- Flujos de datos a través de `Pipelines`.\n",
        "\n",
        "## Reglas\n",
        "\n",
        "- **Grupos de 2 personas**\n",
        "- Asistencia **obligatoria** a instrucciones del lab (viernes 16.15). Luego, pueden quedarse trabajando en las salas o irse.\n",
        "- **No se revisarán entregas de personas ausentes**. \n",
        "- Cualquier duda fuera del horario de clases al foro. Mensajes al equipo docente serán respondidos por este medio.\n",
        "- Prohibidas las copias. \n",
        "- Pueden usar cualquer matrial del curso que estimen conveniente.\n",
        "\n",
        "## Objetivos principales del laboratorio\n",
        "\n",
        "- Comprender el funcionamiento de clasificadores/regresores.\n",
        "- Generar múltiples modelos predictivos.\n",
        "- Comprender las ventajas de crear modelos en pipeline vs hacer las operaciones a mano.\n",
        "\n",
        "El laboratorio deberá ser desarrollado sin el uso indiscriminado de iteradores nativos de python (aka \"for\", \"while\"). La idea es que aprendan a exprimir al máximo las funciones optimizadas que nos entrega `pandas`, las cuales vale mencionar, son bastante más eficientes que los iteradores nativos sobre `DataFrames`."
      ],
      "metadata": {
        "id": "6uBLPj1PzAHs",
        "cell_id": "df3ab193db4a4f09ac25dbe605e3a83a",
        "deepnote_cell_height": 603.8499755859375,
        "deepnote_cell_type": "markdown"
      }
    },
    {
      "cell_type": "markdown",
      "source": [
        "### Importamos librerias utiles 😸"
      ],
      "metadata": {
        "id": "MhISwri4zAHy",
        "cell_id": "ad2df18de2544420960174a3f424bc5c",
        "deepnote_cell_height": 61.133331298828125,
        "deepnote_cell_type": "markdown"
      }
    },
    {
      "cell_type": "code",
      "source": [
        "# Libreria Core del lab.\n",
        "import numpy as np\n",
        "import pandas as pd\n",
        "from sklearn.pipeline import Pipeline\n",
        "from sklearn.compose import ColumnTransformer\n",
        "from sklearn.model_selection import train_test_split \n",
        "\n",
        "# Pre-procesamiento\n",
        "from sklearn.preprocessing import MinMaxScaler\n",
        "from sklearn.preprocessing import StandardScaler\n",
        "from sklearn.preprocessing import FunctionTransformer\n",
        "from sklearn.preprocessing import PowerTransformer\n",
        "from sklearn.preprocessing import OneHotEncoder\n",
        "from sklearn.tree import DecisionTreeClassifier\n",
        "\n",
        "# Metricas de evaluación\n",
        "from sklearn.metrics import classification_report\n",
        "from sklearn.metrics import accuracy_score\n",
        "from sklearn.metrics import f1_score\n",
        "from sklearn.metrics import cohen_kappa_score\n",
        "\n",
        "#Libreria para plotear\n",
        "!pip install --upgrade plotly\n",
        "import plotly.express as px\n",
        "from plotly.subplots import make_subplots\n",
        "import plotly.graph_objects as go"
      ],
      "metadata": {
        "id": "uyc33dKdzAHy",
        "colab": {
          "base_uri": "https://localhost:8080/"
        },
        "cell_id": "c99537db269c4b04970732c3cccac0c9",
        "outputId": "e673f236-f5f3-4ebe-e746-4045d62a6b77",
        "ExecuteTime": {
          "end_time": "2021-03-29T00:08:16.884674Z",
          "start_time": "2021-03-29T00:08:16.349846Z"
        },
        "source_hash": "cb3614e",
        "owner_user_id": "badcc427-fd3d-4615-9296-faa43ec69cfb",
        "execution_start": 1636741163382,
        "execution_millis": 7630,
        "deepnote_to_be_reexecuted": false,
        "deepnote_cell_type": "code"
      },
      "outputs": [
        {
          "output_type": "stream",
          "name": "stdout",
          "text": [
            "Looking in indexes: https://pypi.org/simple, https://us-python.pkg.dev/colab-wheels/public/simple/\n",
            "Requirement already satisfied: plotly in /usr/local/lib/python3.10/dist-packages (5.13.1)\n",
            "Collecting plotly\n",
            "  Downloading plotly-5.14.1-py2.py3-none-any.whl (15.3 MB)\n",
            "\u001b[2K     \u001b[90m━━━━━━━━━━━━━━━━━━━━━━━━━━━━━━━━━━━━━━━━\u001b[0m \u001b[32m15.3/15.3 MB\u001b[0m \u001b[31m88.2 MB/s\u001b[0m eta \u001b[36m0:00:00\u001b[0m\n",
            "\u001b[?25hRequirement already satisfied: tenacity>=6.2.0 in /usr/local/lib/python3.10/dist-packages (from plotly) (8.2.2)\n",
            "Requirement already satisfied: packaging in /usr/local/lib/python3.10/dist-packages (from plotly) (23.1)\n",
            "Installing collected packages: plotly\n",
            "  Attempting uninstall: plotly\n",
            "    Found existing installation: plotly 5.13.1\n",
            "    Uninstalling plotly-5.13.1:\n",
            "      Successfully uninstalled plotly-5.13.1\n",
            "Successfully installed plotly-5.14.1\n"
          ]
        }
      ],
      "execution_count": 1
    },
    {
      "cell_type": "markdown",
      "source": [
        "https://www.kaggle.com/antoinekrajnc/soccer-players-statistics"
      ],
      "metadata": {
        "id": "5FTGE74b3FBU",
        "cell_id": "3960faa7a101458896294c72b4b0758c",
        "deepnote_cell_height": 51.53334045410156,
        "deepnote_cell_type": "markdown"
      }
    },
    {
      "cell_type": "markdown",
      "source": [
        "# 1. Predicciones Futboleras\n",
        "\n",
        "<p align=\"center\">\n",
        "  <img src=\"https://drive.google.com/uc?export=view&id=1BnO4tyh3vM2P199Ec9s3JjngQ4qQ9seP\"\n",
        "\" width=\"300\">\n",
        "</p>\n",
        "\n",
        "\n",
        "Tras el trágico despido de la mítica mascota de Maipú, Renacín decide adentrarse como consultor en el mercado futbolero, el cuál (para variar...) está cargado en especulaciones. \n",
        "\n",
        "Como su principal tarea será asesorar a los directivos de los clubes sobre cuál jugador comprar y cuál no, Renacín desea generar modelos predictivos que evaluén distintas características de los jugadores; todo con el fin de tomar decisiones concretas basadas en los datos.\n",
        "\n",
        "Sin embargo, su condición de corporeo le impidió tomar la versión anterior de MDS7202, por lo que este motivo Renacín contrata a su equipo para lograr su objetivo final. Dado que aún tiene fuertes vínculos con la dirección de deportes de la municipalidad, el corporeo le entrega base de datos con las estadísticas de cada jugador para que su equipo empieze a trabajar ya con un dataset listo para ser usado.\n"
      ],
      "metadata": {
        "id": "xpOTbQcxbSiy",
        "cell_id": "f9e9147f05744f749e29d4134157f1f3",
        "deepnote_cell_height": 305.933349609375,
        "deepnote_cell_type": "markdown"
      }
    },
    {
      "cell_type": "markdown",
      "source": [
        "**Los Datos**\n",
        "\n",
        "Para este laboratorio deberán trabajar con los csv `statsplayers.csv` y `salarios.pickle`, donde deberán aplicar algoritmos de de aprendizaje supervisado (clasificación y regresión) en base a características que describen de jugadores de futbol.\n",
        "\n",
        "Para comenzar cargue el dataset señalado y a continuación vea el reporte **`Player_Stats_Report.html`** (adjunto en la carpeta del enunciado) que describe las características principales del `DataFrame`."
      ],
      "metadata": {
        "id": "jnmZfFpxTTYX",
        "cell_id": "5b831ae5e73547a1ae5f96b453f1ab2d",
        "deepnote_cell_height": 169.13333129882812,
        "deepnote_cell_type": "markdown"
      }
    },
    {
      "cell_type": "code",
      "source": [
        "!pip install gdown"
      ],
      "metadata": {
        "colab": {
          "base_uri": "https://localhost:8080/"
        },
        "id": "1tt-rc6tGcUN",
        "outputId": "484841f7-5599-4fd1-e878-42cf6726d413"
      },
      "execution_count": 2,
      "outputs": [
        {
          "output_type": "stream",
          "name": "stdout",
          "text": [
            "Looking in indexes: https://pypi.org/simple, https://us-python.pkg.dev/colab-wheels/public/simple/\n",
            "Requirement already satisfied: gdown in /usr/local/lib/python3.10/dist-packages (4.6.6)\n",
            "Requirement already satisfied: filelock in /usr/local/lib/python3.10/dist-packages (from gdown) (3.12.0)\n",
            "Requirement already satisfied: requests[socks] in /usr/local/lib/python3.10/dist-packages (from gdown) (2.27.1)\n",
            "Requirement already satisfied: six in /usr/local/lib/python3.10/dist-packages (from gdown) (1.16.0)\n",
            "Requirement already satisfied: tqdm in /usr/local/lib/python3.10/dist-packages (from gdown) (4.65.0)\n",
            "Requirement already satisfied: beautifulsoup4 in /usr/local/lib/python3.10/dist-packages (from gdown) (4.11.2)\n",
            "Requirement already satisfied: soupsieve>1.2 in /usr/local/lib/python3.10/dist-packages (from beautifulsoup4->gdown) (2.4.1)\n",
            "Requirement already satisfied: urllib3<1.27,>=1.21.1 in /usr/local/lib/python3.10/dist-packages (from requests[socks]->gdown) (1.26.15)\n",
            "Requirement already satisfied: certifi>=2017.4.17 in /usr/local/lib/python3.10/dist-packages (from requests[socks]->gdown) (2022.12.7)\n",
            "Requirement already satisfied: charset-normalizer~=2.0.0 in /usr/local/lib/python3.10/dist-packages (from requests[socks]->gdown) (2.0.12)\n",
            "Requirement already satisfied: idna<4,>=2.5 in /usr/local/lib/python3.10/dist-packages (from requests[socks]->gdown) (3.4)\n",
            "Requirement already satisfied: PySocks!=1.5.7,>=1.5.6 in /usr/local/lib/python3.10/dist-packages (from requests[socks]->gdown) (1.7.1)\n"
          ]
        }
      ]
    },
    {
      "cell_type": "code",
      "source": [
        "import gdown\n",
        "try:\n",
        "  df_players = pd.read_csv('stats_players.csv')\n",
        "except:\n",
        "  url = \"https://drive.google.com/uc?id=1j1ir0YF68akv5z4ikKfySt6AQaU_4QAH\"\n",
        "  gdown.download(url, 'stats_players.csv')\n",
        "  df_players = pd.read_csv('stats_players.csv')\n",
        "df_players"
      ],
      "metadata": {
        "id": "bED3w3tDbSCf",
        "colab": {
          "height": 733,
          "base_uri": "https://localhost:8080/"
        },
        "cell_id": "bbd60dabcba44542826c491f69c1f53c",
        "outputId": "656abcff-561a-49a4-8f18-e9a1da9f903d",
        "source_hash": "65944a94",
        "execution_start": 1636742947300,
        "execution_millis": 184,
        "deepnote_to_be_reexecuted": false,
        "deepnote_cell_type": "code"
      },
      "outputs": [
        {
          "output_type": "stream",
          "name": "stderr",
          "text": [
            "Downloading...\n",
            "From: https://drive.google.com/uc?id=1j1ir0YF68akv5z4ikKfySt6AQaU_4QAH\n",
            "To: /content/stats_players.csv\n",
            "100%|██████████| 2.58M/2.58M [00:00<00:00, 114MB/s]\n"
          ]
        },
        {
          "output_type": "execute_result",
          "data": {
            "text/plain": [
              "                    Name          Nationality National_Position Club_Position  \\\n",
              "0      Cristiano Ronaldo             Portugal                LS            LW   \n",
              "1           Lionel Messi            Argentina                RW            RW   \n",
              "2                 Neymar               Brazil                LW            LW   \n",
              "3            Luis Suárez              Uruguay                LS            ST   \n",
              "4           Manuel Neuer              Germany                GK            GK   \n",
              "...                  ...                  ...               ...           ...   \n",
              "17583        Adam Dunbar  Republic of Ireland               NaN           Sub   \n",
              "17584       Dylan McGoey  Republic of Ireland               NaN           Sub   \n",
              "17585    Tommy Ouldridge              England               NaN           Res   \n",
              "17586         Mark Foden             Scotland               NaN           Sub   \n",
              "17587   Barry Richardson              England               NaN           Sub   \n",
              "\n",
              "       Height  Weight Preffered_Foot  Age        Work_Rate  Weak_foot  ...  \\\n",
              "0         185      80          Right   32       High / Low          4  ...   \n",
              "1         170      72           Left   29  Medium / Medium          4  ...   \n",
              "2         174      68          Right   25    High / Medium          5  ...   \n",
              "3         182      85          Right   30    High / Medium          4  ...   \n",
              "4         193      92          Right   31  Medium / Medium          4  ...   \n",
              "...       ...     ...            ...  ...              ...        ...  ...   \n",
              "17583     183      82          Right   19  Medium / Medium          1  ...   \n",
              "17584     185      80          Right   19  Medium / Medium          2  ...   \n",
              "17585     173      61          Right   18    High / Medium          2  ...   \n",
              "17586     180      80          Right   21  Medium / Medium          3  ...   \n",
              "17587     185      77          Right   47  Medium / Medium          2  ...   \n",
              "\n",
              "       Agility  Jumping  Heading  Shot_Power  Finishing  Long_Shots  Curve  \\\n",
              "0           90       95       85          92         93          90     81   \n",
              "1           90       68       71          85         95          88     89   \n",
              "2           96       61       62          78         89          77     79   \n",
              "3           86       69       77          87         94          86     86   \n",
              "4           52       78       25          25         13          16     14   \n",
              "...        ...      ...      ...         ...        ...         ...    ...   \n",
              "17583       27       56       14          16         13          13     11   \n",
              "17584       28       53       12          17         12          11     12   \n",
              "17585       54       61       41          44         28          42     35   \n",
              "17586       34       48       15          23         14          12     13   \n",
              "17587       38       51       12          13         11          16     12   \n",
              "\n",
              "       Freekick_Accuracy  Penalties  Volleys  \n",
              "0                     76         85       88  \n",
              "1                     90         74       85  \n",
              "2                     84         81       83  \n",
              "3                     84         85       88  \n",
              "4                     11         47       11  \n",
              "...                  ...        ...      ...  \n",
              "17583                 13         15       12  \n",
              "17584                 13         16       12  \n",
              "17585                 36         42       37  \n",
              "17586                 12         24       12  \n",
              "17587                 11         22       12  \n",
              "\n",
              "[17588 rows x 39 columns]"
            ],
            "text/html": [
              "\n",
              "  <div id=\"df-cdf6b838-e6b8-46db-ad11-44b8a5572732\">\n",
              "    <div class=\"colab-df-container\">\n",
              "      <div>\n",
              "<style scoped>\n",
              "    .dataframe tbody tr th:only-of-type {\n",
              "        vertical-align: middle;\n",
              "    }\n",
              "\n",
              "    .dataframe tbody tr th {\n",
              "        vertical-align: top;\n",
              "    }\n",
              "\n",
              "    .dataframe thead th {\n",
              "        text-align: right;\n",
              "    }\n",
              "</style>\n",
              "<table border=\"1\" class=\"dataframe\">\n",
              "  <thead>\n",
              "    <tr style=\"text-align: right;\">\n",
              "      <th></th>\n",
              "      <th>Name</th>\n",
              "      <th>Nationality</th>\n",
              "      <th>National_Position</th>\n",
              "      <th>Club_Position</th>\n",
              "      <th>Height</th>\n",
              "      <th>Weight</th>\n",
              "      <th>Preffered_Foot</th>\n",
              "      <th>Age</th>\n",
              "      <th>Work_Rate</th>\n",
              "      <th>Weak_foot</th>\n",
              "      <th>...</th>\n",
              "      <th>Agility</th>\n",
              "      <th>Jumping</th>\n",
              "      <th>Heading</th>\n",
              "      <th>Shot_Power</th>\n",
              "      <th>Finishing</th>\n",
              "      <th>Long_Shots</th>\n",
              "      <th>Curve</th>\n",
              "      <th>Freekick_Accuracy</th>\n",
              "      <th>Penalties</th>\n",
              "      <th>Volleys</th>\n",
              "    </tr>\n",
              "  </thead>\n",
              "  <tbody>\n",
              "    <tr>\n",
              "      <th>0</th>\n",
              "      <td>Cristiano Ronaldo</td>\n",
              "      <td>Portugal</td>\n",
              "      <td>LS</td>\n",
              "      <td>LW</td>\n",
              "      <td>185</td>\n",
              "      <td>80</td>\n",
              "      <td>Right</td>\n",
              "      <td>32</td>\n",
              "      <td>High / Low</td>\n",
              "      <td>4</td>\n",
              "      <td>...</td>\n",
              "      <td>90</td>\n",
              "      <td>95</td>\n",
              "      <td>85</td>\n",
              "      <td>92</td>\n",
              "      <td>93</td>\n",
              "      <td>90</td>\n",
              "      <td>81</td>\n",
              "      <td>76</td>\n",
              "      <td>85</td>\n",
              "      <td>88</td>\n",
              "    </tr>\n",
              "    <tr>\n",
              "      <th>1</th>\n",
              "      <td>Lionel Messi</td>\n",
              "      <td>Argentina</td>\n",
              "      <td>RW</td>\n",
              "      <td>RW</td>\n",
              "      <td>170</td>\n",
              "      <td>72</td>\n",
              "      <td>Left</td>\n",
              "      <td>29</td>\n",
              "      <td>Medium / Medium</td>\n",
              "      <td>4</td>\n",
              "      <td>...</td>\n",
              "      <td>90</td>\n",
              "      <td>68</td>\n",
              "      <td>71</td>\n",
              "      <td>85</td>\n",
              "      <td>95</td>\n",
              "      <td>88</td>\n",
              "      <td>89</td>\n",
              "      <td>90</td>\n",
              "      <td>74</td>\n",
              "      <td>85</td>\n",
              "    </tr>\n",
              "    <tr>\n",
              "      <th>2</th>\n",
              "      <td>Neymar</td>\n",
              "      <td>Brazil</td>\n",
              "      <td>LW</td>\n",
              "      <td>LW</td>\n",
              "      <td>174</td>\n",
              "      <td>68</td>\n",
              "      <td>Right</td>\n",
              "      <td>25</td>\n",
              "      <td>High / Medium</td>\n",
              "      <td>5</td>\n",
              "      <td>...</td>\n",
              "      <td>96</td>\n",
              "      <td>61</td>\n",
              "      <td>62</td>\n",
              "      <td>78</td>\n",
              "      <td>89</td>\n",
              "      <td>77</td>\n",
              "      <td>79</td>\n",
              "      <td>84</td>\n",
              "      <td>81</td>\n",
              "      <td>83</td>\n",
              "    </tr>\n",
              "    <tr>\n",
              "      <th>3</th>\n",
              "      <td>Luis Suárez</td>\n",
              "      <td>Uruguay</td>\n",
              "      <td>LS</td>\n",
              "      <td>ST</td>\n",
              "      <td>182</td>\n",
              "      <td>85</td>\n",
              "      <td>Right</td>\n",
              "      <td>30</td>\n",
              "      <td>High / Medium</td>\n",
              "      <td>4</td>\n",
              "      <td>...</td>\n",
              "      <td>86</td>\n",
              "      <td>69</td>\n",
              "      <td>77</td>\n",
              "      <td>87</td>\n",
              "      <td>94</td>\n",
              "      <td>86</td>\n",
              "      <td>86</td>\n",
              "      <td>84</td>\n",
              "      <td>85</td>\n",
              "      <td>88</td>\n",
              "    </tr>\n",
              "    <tr>\n",
              "      <th>4</th>\n",
              "      <td>Manuel Neuer</td>\n",
              "      <td>Germany</td>\n",
              "      <td>GK</td>\n",
              "      <td>GK</td>\n",
              "      <td>193</td>\n",
              "      <td>92</td>\n",
              "      <td>Right</td>\n",
              "      <td>31</td>\n",
              "      <td>Medium / Medium</td>\n",
              "      <td>4</td>\n",
              "      <td>...</td>\n",
              "      <td>52</td>\n",
              "      <td>78</td>\n",
              "      <td>25</td>\n",
              "      <td>25</td>\n",
              "      <td>13</td>\n",
              "      <td>16</td>\n",
              "      <td>14</td>\n",
              "      <td>11</td>\n",
              "      <td>47</td>\n",
              "      <td>11</td>\n",
              "    </tr>\n",
              "    <tr>\n",
              "      <th>...</th>\n",
              "      <td>...</td>\n",
              "      <td>...</td>\n",
              "      <td>...</td>\n",
              "      <td>...</td>\n",
              "      <td>...</td>\n",
              "      <td>...</td>\n",
              "      <td>...</td>\n",
              "      <td>...</td>\n",
              "      <td>...</td>\n",
              "      <td>...</td>\n",
              "      <td>...</td>\n",
              "      <td>...</td>\n",
              "      <td>...</td>\n",
              "      <td>...</td>\n",
              "      <td>...</td>\n",
              "      <td>...</td>\n",
              "      <td>...</td>\n",
              "      <td>...</td>\n",
              "      <td>...</td>\n",
              "      <td>...</td>\n",
              "      <td>...</td>\n",
              "    </tr>\n",
              "    <tr>\n",
              "      <th>17583</th>\n",
              "      <td>Adam Dunbar</td>\n",
              "      <td>Republic of Ireland</td>\n",
              "      <td>NaN</td>\n",
              "      <td>Sub</td>\n",
              "      <td>183</td>\n",
              "      <td>82</td>\n",
              "      <td>Right</td>\n",
              "      <td>19</td>\n",
              "      <td>Medium / Medium</td>\n",
              "      <td>1</td>\n",
              "      <td>...</td>\n",
              "      <td>27</td>\n",
              "      <td>56</td>\n",
              "      <td>14</td>\n",
              "      <td>16</td>\n",
              "      <td>13</td>\n",
              "      <td>13</td>\n",
              "      <td>11</td>\n",
              "      <td>13</td>\n",
              "      <td>15</td>\n",
              "      <td>12</td>\n",
              "    </tr>\n",
              "    <tr>\n",
              "      <th>17584</th>\n",
              "      <td>Dylan McGoey</td>\n",
              "      <td>Republic of Ireland</td>\n",
              "      <td>NaN</td>\n",
              "      <td>Sub</td>\n",
              "      <td>185</td>\n",
              "      <td>80</td>\n",
              "      <td>Right</td>\n",
              "      <td>19</td>\n",
              "      <td>Medium / Medium</td>\n",
              "      <td>2</td>\n",
              "      <td>...</td>\n",
              "      <td>28</td>\n",
              "      <td>53</td>\n",
              "      <td>12</td>\n",
              "      <td>17</td>\n",
              "      <td>12</td>\n",
              "      <td>11</td>\n",
              "      <td>12</td>\n",
              "      <td>13</td>\n",
              "      <td>16</td>\n",
              "      <td>12</td>\n",
              "    </tr>\n",
              "    <tr>\n",
              "      <th>17585</th>\n",
              "      <td>Tommy Ouldridge</td>\n",
              "      <td>England</td>\n",
              "      <td>NaN</td>\n",
              "      <td>Res</td>\n",
              "      <td>173</td>\n",
              "      <td>61</td>\n",
              "      <td>Right</td>\n",
              "      <td>18</td>\n",
              "      <td>High / Medium</td>\n",
              "      <td>2</td>\n",
              "      <td>...</td>\n",
              "      <td>54</td>\n",
              "      <td>61</td>\n",
              "      <td>41</td>\n",
              "      <td>44</td>\n",
              "      <td>28</td>\n",
              "      <td>42</td>\n",
              "      <td>35</td>\n",
              "      <td>36</td>\n",
              "      <td>42</td>\n",
              "      <td>37</td>\n",
              "    </tr>\n",
              "    <tr>\n",
              "      <th>17586</th>\n",
              "      <td>Mark Foden</td>\n",
              "      <td>Scotland</td>\n",
              "      <td>NaN</td>\n",
              "      <td>Sub</td>\n",
              "      <td>180</td>\n",
              "      <td>80</td>\n",
              "      <td>Right</td>\n",
              "      <td>21</td>\n",
              "      <td>Medium / Medium</td>\n",
              "      <td>3</td>\n",
              "      <td>...</td>\n",
              "      <td>34</td>\n",
              "      <td>48</td>\n",
              "      <td>15</td>\n",
              "      <td>23</td>\n",
              "      <td>14</td>\n",
              "      <td>12</td>\n",
              "      <td>13</td>\n",
              "      <td>12</td>\n",
              "      <td>24</td>\n",
              "      <td>12</td>\n",
              "    </tr>\n",
              "    <tr>\n",
              "      <th>17587</th>\n",
              "      <td>Barry Richardson</td>\n",
              "      <td>England</td>\n",
              "      <td>NaN</td>\n",
              "      <td>Sub</td>\n",
              "      <td>185</td>\n",
              "      <td>77</td>\n",
              "      <td>Right</td>\n",
              "      <td>47</td>\n",
              "      <td>Medium / Medium</td>\n",
              "      <td>2</td>\n",
              "      <td>...</td>\n",
              "      <td>38</td>\n",
              "      <td>51</td>\n",
              "      <td>12</td>\n",
              "      <td>13</td>\n",
              "      <td>11</td>\n",
              "      <td>16</td>\n",
              "      <td>12</td>\n",
              "      <td>11</td>\n",
              "      <td>22</td>\n",
              "      <td>12</td>\n",
              "    </tr>\n",
              "  </tbody>\n",
              "</table>\n",
              "<p>17588 rows × 39 columns</p>\n",
              "</div>\n",
              "      <button class=\"colab-df-convert\" onclick=\"convertToInteractive('df-cdf6b838-e6b8-46db-ad11-44b8a5572732')\"\n",
              "              title=\"Convert this dataframe to an interactive table.\"\n",
              "              style=\"display:none;\">\n",
              "        \n",
              "  <svg xmlns=\"http://www.w3.org/2000/svg\" height=\"24px\"viewBox=\"0 0 24 24\"\n",
              "       width=\"24px\">\n",
              "    <path d=\"M0 0h24v24H0V0z\" fill=\"none\"/>\n",
              "    <path d=\"M18.56 5.44l.94 2.06.94-2.06 2.06-.94-2.06-.94-.94-2.06-.94 2.06-2.06.94zm-11 1L8.5 8.5l.94-2.06 2.06-.94-2.06-.94L8.5 2.5l-.94 2.06-2.06.94zm10 10l.94 2.06.94-2.06 2.06-.94-2.06-.94-.94-2.06-.94 2.06-2.06.94z\"/><path d=\"M17.41 7.96l-1.37-1.37c-.4-.4-.92-.59-1.43-.59-.52 0-1.04.2-1.43.59L10.3 9.45l-7.72 7.72c-.78.78-.78 2.05 0 2.83L4 21.41c.39.39.9.59 1.41.59.51 0 1.02-.2 1.41-.59l7.78-7.78 2.81-2.81c.8-.78.8-2.07 0-2.86zM5.41 20L4 18.59l7.72-7.72 1.47 1.35L5.41 20z\"/>\n",
              "  </svg>\n",
              "      </button>\n",
              "      \n",
              "  <style>\n",
              "    .colab-df-container {\n",
              "      display:flex;\n",
              "      flex-wrap:wrap;\n",
              "      gap: 12px;\n",
              "    }\n",
              "\n",
              "    .colab-df-convert {\n",
              "      background-color: #E8F0FE;\n",
              "      border: none;\n",
              "      border-radius: 50%;\n",
              "      cursor: pointer;\n",
              "      display: none;\n",
              "      fill: #1967D2;\n",
              "      height: 32px;\n",
              "      padding: 0 0 0 0;\n",
              "      width: 32px;\n",
              "    }\n",
              "\n",
              "    .colab-df-convert:hover {\n",
              "      background-color: #E2EBFA;\n",
              "      box-shadow: 0px 1px 2px rgba(60, 64, 67, 0.3), 0px 1px 3px 1px rgba(60, 64, 67, 0.15);\n",
              "      fill: #174EA6;\n",
              "    }\n",
              "\n",
              "    [theme=dark] .colab-df-convert {\n",
              "      background-color: #3B4455;\n",
              "      fill: #D2E3FC;\n",
              "    }\n",
              "\n",
              "    [theme=dark] .colab-df-convert:hover {\n",
              "      background-color: #434B5C;\n",
              "      box-shadow: 0px 1px 3px 1px rgba(0, 0, 0, 0.15);\n",
              "      filter: drop-shadow(0px 1px 2px rgba(0, 0, 0, 0.3));\n",
              "      fill: #FFFFFF;\n",
              "    }\n",
              "  </style>\n",
              "\n",
              "      <script>\n",
              "        const buttonEl =\n",
              "          document.querySelector('#df-cdf6b838-e6b8-46db-ad11-44b8a5572732 button.colab-df-convert');\n",
              "        buttonEl.style.display =\n",
              "          google.colab.kernel.accessAllowed ? 'block' : 'none';\n",
              "\n",
              "        async function convertToInteractive(key) {\n",
              "          const element = document.querySelector('#df-cdf6b838-e6b8-46db-ad11-44b8a5572732');\n",
              "          const dataTable =\n",
              "            await google.colab.kernel.invokeFunction('convertToInteractive',\n",
              "                                                     [key], {});\n",
              "          if (!dataTable) return;\n",
              "\n",
              "          const docLinkHtml = 'Like what you see? Visit the ' +\n",
              "            '<a target=\"_blank\" href=https://colab.research.google.com/notebooks/data_table.ipynb>data table notebook</a>'\n",
              "            + ' to learn more about interactive tables.';\n",
              "          element.innerHTML = '';\n",
              "          dataTable['output_type'] = 'display_data';\n",
              "          await google.colab.output.renderOutput(dataTable, element);\n",
              "          const docLink = document.createElement('div');\n",
              "          docLink.innerHTML = docLinkHtml;\n",
              "          element.appendChild(docLink);\n",
              "        }\n",
              "      </script>\n",
              "    </div>\n",
              "  </div>\n",
              "  "
            ]
          },
          "metadata": {},
          "execution_count": 3
        }
      ],
      "execution_count": 3
    },
    {
      "cell_type": "markdown",
      "source": [
        "## 1.1 Predicción de Seleccionados Nacionales \n",
        "\n",
        "Como primera tarea, Renacín, intrigado por la posibilidad de saber qué tan reconocido es un jugador, le consulta a su equipo si es posible predecir si un jugador será o no seleccionado nacional a partir de sus estadísticas en el juego. \n",
        "\n",
        "<p align=\"center\">\n",
        "  <img src=\"https://thumbs.gfycat.com/ThornyFrankFoxhound-size_restricted.gif\" width=\"500\">\n",
        "</p>"
      ],
      "metadata": {
        "id": "2R3b7Qe501t5",
        "cell_id": "9e9e7d5dbc2f420ba40afb038a3c7b37",
        "owner_user_id": "d50c3174-babb-4861-9c71-7e3af66458b8",
        "deepnote_cell_height": 169.93333435058594,
        "deepnote_cell_type": "markdown"
      }
    },
    {
      "cell_type": "markdown",
      "source": [
        "### 1.1.1 Generación de Labels para la Clasificación [Sin Puntaje]\n",
        "\n",
        "\n",
        "Primero comience generando las labels para la clasificación. Para esto, trabaje sobre el atributo ```National_Position``` suponiendo que los valores nulos son jugadores no seleccionados para representar a su país. \n",
        "\n",
        "Hecho esto, ¿Cuantos ejemplos por cada clase se tienen? Comente lo que observa.\n",
        "\n"
      ],
      "metadata": {
        "id": "PIe_Ha58pQRC",
        "cell_id": "4fd0ec6793474c6e8dd304827ef35c74",
        "deepnote_cell_height": 158.3333282470703,
        "deepnote_cell_type": "markdown"
      }
    },
    {
      "cell_type": "markdown",
      "source": [
        "**Respuesta:**"
      ],
      "metadata": {
        "tags": [],
        "cell_id": "4bafb6f1da424f84be4eceb20d100d91",
        "deepnote_cell_height": 51.53334045410156,
        "deepnote_cell_type": "markdown",
        "id": "_25HuNgaFa9T"
      }
    },
    {
      "cell_type": "markdown",
      "source": [
        "Se crea una nueva columna \"label\", en donde un valor 1 indica un jugador seleccionado, mienntras que 0 indica un jugador no seleccionado"
      ],
      "metadata": {
        "id": "yK2P54LhNCcH"
      }
    },
    {
      "cell_type": "code",
      "source": [
        "df_players['label'] = df_players[\"National_Position\"].isna().apply(lambda x: 0 if x else 1)"
      ],
      "metadata": {
        "id": "jAQpgSu_NA7Z"
      },
      "execution_count": 4,
      "outputs": []
    },
    {
      "cell_type": "markdown",
      "source": [
        "Acto seguido se cuenta el número de clases"
      ],
      "metadata": {
        "id": "oQrbVU61JBAr"
      }
    },
    {
      "cell_type": "code",
      "source": [
        "df_players['label'].value_counts()/len(df_players['label'])"
      ],
      "metadata": {
        "colab": {
          "base_uri": "https://localhost:8080/"
        },
        "id": "KGlVd2tCK-5O",
        "outputId": "bf5c927f-ae80-4074-aaac-a8dab606f136"
      },
      "execution_count": 5,
      "outputs": [
        {
          "output_type": "execute_result",
          "data": {
            "text/plain": [
              "0    0.938879\n",
              "1    0.061121\n",
              "Name: label, dtype: float64"
            ]
          },
          "metadata": {},
          "execution_count": 5
        }
      ]
    },
    {
      "cell_type": "markdown",
      "source": [
        "La mayoría de jugadores no son seleccionados, alrededor del $93\\%$, lo que quiere decir que estamos ante un caso de clasificación altamente desbalanceado."
      ],
      "metadata": {
        "id": "2d7ZmiWQLnjy"
      }
    },
    {
      "cell_type": "markdown",
      "source": [
        "### 1.1.2 Camino a la clasificación [1 punto]\n",
        "\n",
        "<p align=\"center\">\n",
        "  <img src=\"https://c.tenor.com/SoXZJHWnhKAAAAAC/pitbull-medel.gif\" width=\"500\">\n",
        "</p>\n",
        "\n",
        "Para preprocesar el dataset, genere un `ColumnTransformer` en donde especifique las transformaciones que hay que realizar para cada columna (por ejemplo StandarScaler, MinMaxScaler, OneHotEncoder, etc...) para que puedan ser utilizadas correctamente por el modelo predictivo y guardelo en algúna variable.\n",
        "\n",
        "Luego, comente y justifique las transformaciones elegidas sobre cada una de las variables (para esto utilice el material ```Player_Stats_Report.html``` que viene en el zip del lab), al igual que las transformaciones aplicadas.\n",
        "\n",
        "Hecho lo anterior, **defina al menos 3 pipelines para la clasificación**, en donde utilice el mismo ColumnTransformer definido anteriormente, pero que varie entre cada pipeline los clasificadores. \n",
        "\n",
        "Para seleccionar los clasificadores más adecuados, utilice la siguiente guía:\n",
        "\n",
        "<p align=\"center\">\n",
        "  <img src=\"https://scikit-learn.org/stable/_static/ml_map.png\" width=\"500\">\n",
        "</p>\n",
        "\n",
        "<br/>\n",
        "\n",
        "Con ella, comente y justifique cada una de las decisiones tomadas al momento de desarrollar su pipeline.\n",
        "\n",
        "**Nota:** Si tiene problemas al utilizar OneHotEncoder puede utilizar el parámetro handle_unknown='ignore'. Esto hace que en la codificación se omitan las categorias que no aparecen en el entrenamiento. Pregunta dudosa (no tiene puntaje), ¿esto tiene sentido a nivel de modelos?.\n",
        "\n",
        "**To-Do:**\n",
        "\n",
        "- [ ] Genere un ```ColumnTransformer``` enfocado en preprocesar los datos.\n",
        "- [ ] Indicar y Justificar que preprocesamiento utiliza sobre cada columna.\n",
        "- [ ] Crear 3 ``pipelines`` con diferentes clasificadores.\n",
        "- [ ] Para seleccionar los clasificadores base sus decisiones en la siguiente [guía](https://scikit-learn.org/stable/tutorial/machine_learning_map/index.html)\n",
        "- [ ] No entrenar los ``pipelines`` aún.\n",
        "\n",
        "**Nota:** No es necesario entrenar los clasificadores aún."
      ],
      "metadata": {
        "id": "0F70XPRFpWH9",
        "cell_id": "882716f31dd4415983e3ed8e403ddcf0",
        "deepnote_cell_height": 678.1500244140625,
        "deepnote_cell_type": "markdown"
      }
    },
    {
      "cell_type": "markdown",
      "source": [
        "**Respuesta:**"
      ],
      "metadata": {
        "tags": [],
        "cell_id": "494effcc7471436084ebd22e15296fb9",
        "deepnote_cell_height": 51.53334045410156,
        "deepnote_cell_type": "markdown",
        "id": "kR5RlxxAFa9V"
      }
    },
    {
      "cell_type": "markdown",
      "source": [
        "Para el preprocesamiento se toman las siguientes decisiones:\n",
        "- Deshacerse de la columna `National_Position`, dado que las etiquetas se derivan de esta y puede producirse data leakage.\n",
        "- Deshacerse de la columna `Name`, pues para que el clasificador sea más generalizable, el nombre no debería ser un factor relevante a la hora de definir si un jugador será seleccionado.\n",
        "- Aplicar One-Hot Encoding en las caracteristicas categoricas, para poder aplicar estas en modelos matematicos. Se escoge One-Hot Encoding principalmente porque de esta forma se evita representar en una escala ordenada las caracteristicas, las que en este caso no se adaptarían bien  ya que, por ejemplo, la caracteristica `Work_Rate` posee los valores \"High / Medium\" y \"Medium/High\", los que no serían evidentes de traducir a una escala numérica convencional.\n",
        "- Aplicar un **StandardScaler** a las características numéricas. Esto pues algunas de estas presentan comportamientos similares a una distribución normal, como las variables `Strength` y `Composure`. De esta forma se llevaría a todas las variables a un rango comparable, beneficiandose principalmente aquellas que siguen una distribución similar a una normal."
      ],
      "metadata": {
        "id": "WNF_k6aeP887"
      }
    },
    {
      "cell_type": "code",
      "source": [
        "categoric_columns = df_players.dtypes[df_players.dtypes=='object']\n",
        "categoric_columns"
      ],
      "metadata": {
        "colab": {
          "base_uri": "https://localhost:8080/"
        },
        "id": "Jrzzd6eIagG3",
        "outputId": "f86a4b13-c572-4fbf-b0d7-39f52c07eec5"
      },
      "execution_count": 6,
      "outputs": [
        {
          "output_type": "execute_result",
          "data": {
            "text/plain": [
              "Name                 object\n",
              "Nationality          object\n",
              "National_Position    object\n",
              "Club_Position        object\n",
              "Preffered_Foot       object\n",
              "Work_Rate            object\n",
              "dtype: object"
            ]
          },
          "metadata": {},
          "execution_count": 6
        }
      ]
    },
    {
      "cell_type": "code",
      "source": [
        "numeric_columns = df_players.dtypes[df_players.dtypes =='int64']\n",
        "numeric_columns = [x for x in numeric_columns.index if x!='label']"
      ],
      "metadata": {
        "id": "L79AEQvPZZku"
      },
      "execution_count": 7,
      "outputs": []
    },
    {
      "cell_type": "code",
      "source": [
        "transformer_players = ColumnTransformer([\n",
        "    ('Encoding', OneHotEncoder(handle_unknown='ignore'), ['Nationality', 'Club_Position', 'Preffered_Foot', 'Work_Rate']),\n",
        "     ('standarization', StandardScaler(), numeric_columns)\n",
        "     ],\n",
        "     remainder='drop'\n",
        "    )"
      ],
      "metadata": {
        "tags": [],
        "cell_id": "3405035b85c6475594991b29a465a506",
        "deepnote_cell_height": 65.13333129882812,
        "deepnote_cell_type": "code",
        "id": "rFpHldf8Fa9V"
      },
      "outputs": [],
      "execution_count": 8
    },
    {
      "cell_type": "code",
      "source": [
        "def pipeline_0(classifier):\n",
        "  pipe = Pipeline([\n",
        "      ('transformer', transformer_players),\n",
        "      ('classifier', classifier)\n",
        "  ])\n",
        "  return pipe"
      ],
      "metadata": {
        "id": "GlphPfkxT8QT"
      },
      "execution_count": 9,
      "outputs": []
    },
    {
      "cell_type": "markdown",
      "source": [
        "Siguiendo los lineamientos de Scikit-Learn, se ocuparán los siguientes clasificadores:\n",
        "- **Linear SVC**: Dado que se está ante un problema de clasificación con datos etiquetados y menos de 100k muestras.\n",
        "- **KNN**: Dado que es el clasificador recomendado cuando la clasificación no funciona y se tiene caracteristifcas numericas.\n",
        "- **Random Forest**: Pues se aconseja el uso de clasificadores ensemble en caso de que KNN no sea suficiente, y Random Forest es una de las opciones clásicas para este tipo de clasificadores."
      ],
      "metadata": {
        "id": "ggjpvNBAchEg"
      }
    },
    {
      "cell_type": "code",
      "source": [
        "from sklearn.svm import SVC\n",
        "from sklearn.neighbors import KNeighborsClassifier\n",
        "from sklearn.ensemble import RandomForestClassifier"
      ],
      "metadata": {
        "id": "W8v-BCKJd6ff"
      },
      "execution_count": 10,
      "outputs": []
    },
    {
      "cell_type": "code",
      "source": [
        "pipe_svc = pipeline_0(SVC(kernel='linear', random_state=42))\n",
        "pipe_knn = pipeline_0(KNeighborsClassifier())\n",
        "pipe_rf = pipeline_0(RandomForestClassifier(random_state=42))"
      ],
      "metadata": {
        "id": "2Ms8UiX6cfPZ"
      },
      "execution_count": 11,
      "outputs": []
    },
    {
      "cell_type": "code",
      "source": [
        "pipe_rf"
      ],
      "metadata": {
        "colab": {
          "base_uri": "https://localhost:8080/",
          "height": 190
        },
        "id": "39BH6_bOekXr",
        "outputId": "3c284cee-1876-4936-a305-802d151d2e93"
      },
      "execution_count": 12,
      "outputs": [
        {
          "output_type": "execute_result",
          "data": {
            "text/plain": [
              "Pipeline(steps=[('transformer',\n",
              "                 ColumnTransformer(transformers=[('Encoding',\n",
              "                                                  OneHotEncoder(handle_unknown='ignore'),\n",
              "                                                  ['Nationality',\n",
              "                                                   'Club_Position',\n",
              "                                                   'Preffered_Foot',\n",
              "                                                   'Work_Rate']),\n",
              "                                                 ('standarization',\n",
              "                                                  StandardScaler(),\n",
              "                                                  ['Height', 'Weight', 'Age',\n",
              "                                                   'Weak_foot', 'Skill_Moves',\n",
              "                                                   'Ball_Control', 'Dribbling',\n",
              "                                                   'Marking', 'Sliding_Tackle',\n",
              "                                                   'Standing_Tackle',\n",
              "                                                   'Aggression', 'Reactions',\n",
              "                                                   'Interceptions', 'Vision',\n",
              "                                                   'Composure', 'Crossing',\n",
              "                                                   'Short_Pass', 'Long_Pass',\n",
              "                                                   'Acceleration', 'Speed',\n",
              "                                                   'Stamina', 'Strength',\n",
              "                                                   'Balance', 'Agility',\n",
              "                                                   'Jumping', 'Heading',\n",
              "                                                   'Shot_Power', 'Finishing',\n",
              "                                                   'Long_Shots', 'Curve', ...])])),\n",
              "                ('classifier', RandomForestClassifier(random_state=42))])"
            ],
            "text/html": [
              "<style>#sk-container-id-1 {color: black;background-color: white;}#sk-container-id-1 pre{padding: 0;}#sk-container-id-1 div.sk-toggleable {background-color: white;}#sk-container-id-1 label.sk-toggleable__label {cursor: pointer;display: block;width: 100%;margin-bottom: 0;padding: 0.3em;box-sizing: border-box;text-align: center;}#sk-container-id-1 label.sk-toggleable__label-arrow:before {content: \"▸\";float: left;margin-right: 0.25em;color: #696969;}#sk-container-id-1 label.sk-toggleable__label-arrow:hover:before {color: black;}#sk-container-id-1 div.sk-estimator:hover label.sk-toggleable__label-arrow:before {color: black;}#sk-container-id-1 div.sk-toggleable__content {max-height: 0;max-width: 0;overflow: hidden;text-align: left;background-color: #f0f8ff;}#sk-container-id-1 div.sk-toggleable__content pre {margin: 0.2em;color: black;border-radius: 0.25em;background-color: #f0f8ff;}#sk-container-id-1 input.sk-toggleable__control:checked~div.sk-toggleable__content {max-height: 200px;max-width: 100%;overflow: auto;}#sk-container-id-1 input.sk-toggleable__control:checked~label.sk-toggleable__label-arrow:before {content: \"▾\";}#sk-container-id-1 div.sk-estimator input.sk-toggleable__control:checked~label.sk-toggleable__label {background-color: #d4ebff;}#sk-container-id-1 div.sk-label input.sk-toggleable__control:checked~label.sk-toggleable__label {background-color: #d4ebff;}#sk-container-id-1 input.sk-hidden--visually {border: 0;clip: rect(1px 1px 1px 1px);clip: rect(1px, 1px, 1px, 1px);height: 1px;margin: -1px;overflow: hidden;padding: 0;position: absolute;width: 1px;}#sk-container-id-1 div.sk-estimator {font-family: monospace;background-color: #f0f8ff;border: 1px dotted black;border-radius: 0.25em;box-sizing: border-box;margin-bottom: 0.5em;}#sk-container-id-1 div.sk-estimator:hover {background-color: #d4ebff;}#sk-container-id-1 div.sk-parallel-item::after {content: \"\";width: 100%;border-bottom: 1px solid gray;flex-grow: 1;}#sk-container-id-1 div.sk-label:hover label.sk-toggleable__label {background-color: #d4ebff;}#sk-container-id-1 div.sk-serial::before {content: \"\";position: absolute;border-left: 1px solid gray;box-sizing: border-box;top: 0;bottom: 0;left: 50%;z-index: 0;}#sk-container-id-1 div.sk-serial {display: flex;flex-direction: column;align-items: center;background-color: white;padding-right: 0.2em;padding-left: 0.2em;position: relative;}#sk-container-id-1 div.sk-item {position: relative;z-index: 1;}#sk-container-id-1 div.sk-parallel {display: flex;align-items: stretch;justify-content: center;background-color: white;position: relative;}#sk-container-id-1 div.sk-item::before, #sk-container-id-1 div.sk-parallel-item::before {content: \"\";position: absolute;border-left: 1px solid gray;box-sizing: border-box;top: 0;bottom: 0;left: 50%;z-index: -1;}#sk-container-id-1 div.sk-parallel-item {display: flex;flex-direction: column;z-index: 1;position: relative;background-color: white;}#sk-container-id-1 div.sk-parallel-item:first-child::after {align-self: flex-end;width: 50%;}#sk-container-id-1 div.sk-parallel-item:last-child::after {align-self: flex-start;width: 50%;}#sk-container-id-1 div.sk-parallel-item:only-child::after {width: 0;}#sk-container-id-1 div.sk-dashed-wrapped {border: 1px dashed gray;margin: 0 0.4em 0.5em 0.4em;box-sizing: border-box;padding-bottom: 0.4em;background-color: white;}#sk-container-id-1 div.sk-label label {font-family: monospace;font-weight: bold;display: inline-block;line-height: 1.2em;}#sk-container-id-1 div.sk-label-container {text-align: center;}#sk-container-id-1 div.sk-container {/* jupyter's `normalize.less` sets `[hidden] { display: none; }` but bootstrap.min.css set `[hidden] { display: none !important; }` so we also need the `!important` here to be able to override the default hidden behavior on the sphinx rendered scikit-learn.org. See: https://github.com/scikit-learn/scikit-learn/issues/21755 */display: inline-block !important;position: relative;}#sk-container-id-1 div.sk-text-repr-fallback {display: none;}</style><div id=\"sk-container-id-1\" class=\"sk-top-container\"><div class=\"sk-text-repr-fallback\"><pre>Pipeline(steps=[(&#x27;transformer&#x27;,\n",
              "                 ColumnTransformer(transformers=[(&#x27;Encoding&#x27;,\n",
              "                                                  OneHotEncoder(handle_unknown=&#x27;ignore&#x27;),\n",
              "                                                  [&#x27;Nationality&#x27;,\n",
              "                                                   &#x27;Club_Position&#x27;,\n",
              "                                                   &#x27;Preffered_Foot&#x27;,\n",
              "                                                   &#x27;Work_Rate&#x27;]),\n",
              "                                                 (&#x27;standarization&#x27;,\n",
              "                                                  StandardScaler(),\n",
              "                                                  [&#x27;Height&#x27;, &#x27;Weight&#x27;, &#x27;Age&#x27;,\n",
              "                                                   &#x27;Weak_foot&#x27;, &#x27;Skill_Moves&#x27;,\n",
              "                                                   &#x27;Ball_Control&#x27;, &#x27;Dribbling&#x27;,\n",
              "                                                   &#x27;Marking&#x27;, &#x27;Sliding_Tackle&#x27;,\n",
              "                                                   &#x27;Standing_Tackle&#x27;,\n",
              "                                                   &#x27;Aggression&#x27;, &#x27;Reactions&#x27;,\n",
              "                                                   &#x27;Interceptions&#x27;, &#x27;Vision&#x27;,\n",
              "                                                   &#x27;Composure&#x27;, &#x27;Crossing&#x27;,\n",
              "                                                   &#x27;Short_Pass&#x27;, &#x27;Long_Pass&#x27;,\n",
              "                                                   &#x27;Acceleration&#x27;, &#x27;Speed&#x27;,\n",
              "                                                   &#x27;Stamina&#x27;, &#x27;Strength&#x27;,\n",
              "                                                   &#x27;Balance&#x27;, &#x27;Agility&#x27;,\n",
              "                                                   &#x27;Jumping&#x27;, &#x27;Heading&#x27;,\n",
              "                                                   &#x27;Shot_Power&#x27;, &#x27;Finishing&#x27;,\n",
              "                                                   &#x27;Long_Shots&#x27;, &#x27;Curve&#x27;, ...])])),\n",
              "                (&#x27;classifier&#x27;, RandomForestClassifier(random_state=42))])</pre><b>In a Jupyter environment, please rerun this cell to show the HTML representation or trust the notebook. <br />On GitHub, the HTML representation is unable to render, please try loading this page with nbviewer.org.</b></div><div class=\"sk-container\" hidden><div class=\"sk-item sk-dashed-wrapped\"><div class=\"sk-label-container\"><div class=\"sk-label sk-toggleable\"><input class=\"sk-toggleable__control sk-hidden--visually\" id=\"sk-estimator-id-1\" type=\"checkbox\" ><label for=\"sk-estimator-id-1\" class=\"sk-toggleable__label sk-toggleable__label-arrow\">Pipeline</label><div class=\"sk-toggleable__content\"><pre>Pipeline(steps=[(&#x27;transformer&#x27;,\n",
              "                 ColumnTransformer(transformers=[(&#x27;Encoding&#x27;,\n",
              "                                                  OneHotEncoder(handle_unknown=&#x27;ignore&#x27;),\n",
              "                                                  [&#x27;Nationality&#x27;,\n",
              "                                                   &#x27;Club_Position&#x27;,\n",
              "                                                   &#x27;Preffered_Foot&#x27;,\n",
              "                                                   &#x27;Work_Rate&#x27;]),\n",
              "                                                 (&#x27;standarization&#x27;,\n",
              "                                                  StandardScaler(),\n",
              "                                                  [&#x27;Height&#x27;, &#x27;Weight&#x27;, &#x27;Age&#x27;,\n",
              "                                                   &#x27;Weak_foot&#x27;, &#x27;Skill_Moves&#x27;,\n",
              "                                                   &#x27;Ball_Control&#x27;, &#x27;Dribbling&#x27;,\n",
              "                                                   &#x27;Marking&#x27;, &#x27;Sliding_Tackle&#x27;,\n",
              "                                                   &#x27;Standing_Tackle&#x27;,\n",
              "                                                   &#x27;Aggression&#x27;, &#x27;Reactions&#x27;,\n",
              "                                                   &#x27;Interceptions&#x27;, &#x27;Vision&#x27;,\n",
              "                                                   &#x27;Composure&#x27;, &#x27;Crossing&#x27;,\n",
              "                                                   &#x27;Short_Pass&#x27;, &#x27;Long_Pass&#x27;,\n",
              "                                                   &#x27;Acceleration&#x27;, &#x27;Speed&#x27;,\n",
              "                                                   &#x27;Stamina&#x27;, &#x27;Strength&#x27;,\n",
              "                                                   &#x27;Balance&#x27;, &#x27;Agility&#x27;,\n",
              "                                                   &#x27;Jumping&#x27;, &#x27;Heading&#x27;,\n",
              "                                                   &#x27;Shot_Power&#x27;, &#x27;Finishing&#x27;,\n",
              "                                                   &#x27;Long_Shots&#x27;, &#x27;Curve&#x27;, ...])])),\n",
              "                (&#x27;classifier&#x27;, RandomForestClassifier(random_state=42))])</pre></div></div></div><div class=\"sk-serial\"><div class=\"sk-item sk-dashed-wrapped\"><div class=\"sk-label-container\"><div class=\"sk-label sk-toggleable\"><input class=\"sk-toggleable__control sk-hidden--visually\" id=\"sk-estimator-id-2\" type=\"checkbox\" ><label for=\"sk-estimator-id-2\" class=\"sk-toggleable__label sk-toggleable__label-arrow\">transformer: ColumnTransformer</label><div class=\"sk-toggleable__content\"><pre>ColumnTransformer(transformers=[(&#x27;Encoding&#x27;,\n",
              "                                 OneHotEncoder(handle_unknown=&#x27;ignore&#x27;),\n",
              "                                 [&#x27;Nationality&#x27;, &#x27;Club_Position&#x27;,\n",
              "                                  &#x27;Preffered_Foot&#x27;, &#x27;Work_Rate&#x27;]),\n",
              "                                (&#x27;standarization&#x27;, StandardScaler(),\n",
              "                                 [&#x27;Height&#x27;, &#x27;Weight&#x27;, &#x27;Age&#x27;, &#x27;Weak_foot&#x27;,\n",
              "                                  &#x27;Skill_Moves&#x27;, &#x27;Ball_Control&#x27;, &#x27;Dribbling&#x27;,\n",
              "                                  &#x27;Marking&#x27;, &#x27;Sliding_Tackle&#x27;,\n",
              "                                  &#x27;Standing_Tackle&#x27;, &#x27;Aggression&#x27;, &#x27;Reactions&#x27;,\n",
              "                                  &#x27;Interceptions&#x27;, &#x27;Vision&#x27;, &#x27;Composure&#x27;,\n",
              "                                  &#x27;Crossing&#x27;, &#x27;Short_Pass&#x27;, &#x27;Long_Pass&#x27;,\n",
              "                                  &#x27;Acceleration&#x27;, &#x27;Speed&#x27;, &#x27;Stamina&#x27;,\n",
              "                                  &#x27;Strength&#x27;, &#x27;Balance&#x27;, &#x27;Agility&#x27;, &#x27;Jumping&#x27;,\n",
              "                                  &#x27;Heading&#x27;, &#x27;Shot_Power&#x27;, &#x27;Finishing&#x27;,\n",
              "                                  &#x27;Long_Shots&#x27;, &#x27;Curve&#x27;, ...])])</pre></div></div></div><div class=\"sk-parallel\"><div class=\"sk-parallel-item\"><div class=\"sk-item\"><div class=\"sk-label-container\"><div class=\"sk-label sk-toggleable\"><input class=\"sk-toggleable__control sk-hidden--visually\" id=\"sk-estimator-id-3\" type=\"checkbox\" ><label for=\"sk-estimator-id-3\" class=\"sk-toggleable__label sk-toggleable__label-arrow\">Encoding</label><div class=\"sk-toggleable__content\"><pre>[&#x27;Nationality&#x27;, &#x27;Club_Position&#x27;, &#x27;Preffered_Foot&#x27;, &#x27;Work_Rate&#x27;]</pre></div></div></div><div class=\"sk-serial\"><div class=\"sk-item\"><div class=\"sk-estimator sk-toggleable\"><input class=\"sk-toggleable__control sk-hidden--visually\" id=\"sk-estimator-id-4\" type=\"checkbox\" ><label for=\"sk-estimator-id-4\" class=\"sk-toggleable__label sk-toggleable__label-arrow\">OneHotEncoder</label><div class=\"sk-toggleable__content\"><pre>OneHotEncoder(handle_unknown=&#x27;ignore&#x27;)</pre></div></div></div></div></div></div><div class=\"sk-parallel-item\"><div class=\"sk-item\"><div class=\"sk-label-container\"><div class=\"sk-label sk-toggleable\"><input class=\"sk-toggleable__control sk-hidden--visually\" id=\"sk-estimator-id-5\" type=\"checkbox\" ><label for=\"sk-estimator-id-5\" class=\"sk-toggleable__label sk-toggleable__label-arrow\">standarization</label><div class=\"sk-toggleable__content\"><pre>[&#x27;Height&#x27;, &#x27;Weight&#x27;, &#x27;Age&#x27;, &#x27;Weak_foot&#x27;, &#x27;Skill_Moves&#x27;, &#x27;Ball_Control&#x27;, &#x27;Dribbling&#x27;, &#x27;Marking&#x27;, &#x27;Sliding_Tackle&#x27;, &#x27;Standing_Tackle&#x27;, &#x27;Aggression&#x27;, &#x27;Reactions&#x27;, &#x27;Interceptions&#x27;, &#x27;Vision&#x27;, &#x27;Composure&#x27;, &#x27;Crossing&#x27;, &#x27;Short_Pass&#x27;, &#x27;Long_Pass&#x27;, &#x27;Acceleration&#x27;, &#x27;Speed&#x27;, &#x27;Stamina&#x27;, &#x27;Strength&#x27;, &#x27;Balance&#x27;, &#x27;Agility&#x27;, &#x27;Jumping&#x27;, &#x27;Heading&#x27;, &#x27;Shot_Power&#x27;, &#x27;Finishing&#x27;, &#x27;Long_Shots&#x27;, &#x27;Curve&#x27;, &#x27;Freekick_Accuracy&#x27;, &#x27;Penalties&#x27;, &#x27;Volleys&#x27;]</pre></div></div></div><div class=\"sk-serial\"><div class=\"sk-item\"><div class=\"sk-estimator sk-toggleable\"><input class=\"sk-toggleable__control sk-hidden--visually\" id=\"sk-estimator-id-6\" type=\"checkbox\" ><label for=\"sk-estimator-id-6\" class=\"sk-toggleable__label sk-toggleable__label-arrow\">StandardScaler</label><div class=\"sk-toggleable__content\"><pre>StandardScaler()</pre></div></div></div></div></div></div></div></div><div class=\"sk-item\"><div class=\"sk-estimator sk-toggleable\"><input class=\"sk-toggleable__control sk-hidden--visually\" id=\"sk-estimator-id-7\" type=\"checkbox\" ><label for=\"sk-estimator-id-7\" class=\"sk-toggleable__label sk-toggleable__label-arrow\">RandomForestClassifier</label><div class=\"sk-toggleable__content\"><pre>RandomForestClassifier(random_state=42)</pre></div></div></div></div></div></div></div>"
            ]
          },
          "metadata": {},
          "execution_count": 12
        }
      ]
    },
    {
      "cell_type": "markdown",
      "source": [
        "### 1.1.3 Entrenemos los pipelines [1 punto]\n",
        "\n",
        "<p align=\"center\">\n",
        "  <img src=\"https://i.gifer.com/7Cc8.gif\" width=\"350\">\n",
        "</p>\n"
      ],
      "metadata": {
        "id": "MpKq6oO3vCNL",
        "cell_id": "b7fa6937d9a043fd93b7966fb0e81861",
        "deepnote_cell_height": 101.13333129882812,
        "deepnote_cell_type": "markdown"
      }
    },
    {
      "cell_type": "markdown",
      "source": [
        "Ahora, entrene los `pipeline` generados en los pasos anteriores. Para esto, primero separe los datos de entrenamiento en un conjunto de entrenamiento y de prueba  (la proporción queda a su juicio).\n",
        "\n",
        "En este paso, seleccione los ejemplos de forma aleatoria e intente mantener la distribución original de labels de cada clase en los conjuntos de prueba/entrenamiento. (vea la documentación de `train_test_split`).\n",
        "\n",
        "\n",
        "Luego, entrene los pipelines\n",
        "\n",
        "Una vez entrenado su modelo, evalue su rendimiento a través de diferentes métricas, comentando que significa cada uno de los valores obtenidos. Puede usar la función `classification_report` para corroborar sus resultados.\n",
        "\n",
        "- ¿Qué implican los valores de accuracy, precisión y recall de la clase positiva (la que indica que un jugador es seleccionado nacional)?\n",
        "- ¿Podrían mejorarse los resultados?, ¿Cómo?\n",
        "- ¿Influye la cantidad de ejemplos por clase?\n",
        "\n",
        "**To-Do**:\n",
        "\n",
        "- [ ] Separar el conjunto de datos en entrenamiento y de prueba.\n",
        "- [ ] Entrenar los `pipelines`.\n",
        "- [ ] Utilizar las métricas para evaluar los modelos generados.\n"
      ],
      "metadata": {
        "id": "wE_1aZaIvOeN",
        "cell_id": "5ead21d7e26d4e3da1486c9937f22968",
        "deepnote_cell_height": 454.433349609375,
        "deepnote_cell_type": "markdown"
      }
    },
    {
      "cell_type": "markdown",
      "source": [
        "**Respuesta:**"
      ],
      "metadata": {
        "tags": [],
        "cell_id": "053a95315e3245b39ba9d263d932e7d4",
        "deepnote_cell_height": 51.53334045410156,
        "deepnote_cell_type": "markdown",
        "id": "u4oVWdZmFa9W"
      }
    },
    {
      "cell_type": "markdown",
      "source": [
        "Se escoge una proporción estándarde train/test, en este caso $7:3$."
      ],
      "metadata": {
        "id": "F3EcL8BBezaL"
      }
    },
    {
      "cell_type": "code",
      "source": [
        "X = df_players.drop(columns = ['label'])\n",
        "y = df_players['label']"
      ],
      "metadata": {
        "id": "1RxQhdAJfBb2"
      },
      "execution_count": 13,
      "outputs": []
    },
    {
      "cell_type": "code",
      "source": [
        "x_train, x_test, y_train, y_test = train_test_split(X, y, test_size = 0.3, random_state=42, stratify = y)"
      ],
      "metadata": {
        "tags": [],
        "cell_id": "0148b8e4a7e24b838381dbee30b31758",
        "deepnote_cell_height": 65.13333129882812,
        "deepnote_cell_type": "code",
        "id": "hCJeBUN1Fa9W"
      },
      "outputs": [],
      "execution_count": 14
    },
    {
      "cell_type": "code",
      "source": [
        "def proporcion(labels):\n",
        "  '''\n",
        "  Recibe labels binarios (0,1).\n",
        "  Entrega porcentaje de clase positiva\n",
        "  '''\n",
        "  return labels.sum()/len(labels)\n",
        "\n",
        "print(f\"Proporción original: {proporcion(y)}\")\n",
        "print(f\"Proporción train: {proporcion(y_train)}\")\n",
        "print(f\"Proporción train: {proporcion(y_test)}\")"
      ],
      "metadata": {
        "colab": {
          "base_uri": "https://localhost:8080/"
        },
        "id": "S8mvPXTghivR",
        "outputId": "739f8d98-8f34-488d-e309-5a84ac88a6fd"
      },
      "execution_count": 15,
      "outputs": [
        {
          "output_type": "stream",
          "name": "stdout",
          "text": [
            "Proporción original: 0.061121219012963385\n",
            "Proporción train: 0.061083583786857285\n",
            "Proporción train: 0.061209020276672355\n"
          ]
        }
      ]
    },
    {
      "cell_type": "code",
      "source": [
        "pipe_svc.fit(x_train, y_train)\n",
        "pipe_knn.fit(x_train, y_train)\n",
        "pipe_rf.fit(x_train, y_train)"
      ],
      "metadata": {
        "colab": {
          "base_uri": "https://localhost:8080/",
          "height": 190
        },
        "id": "Vk4Inc3zf3Nr",
        "outputId": "42876d39-c494-430b-f406-7debc8c84fd2"
      },
      "execution_count": 16,
      "outputs": [
        {
          "output_type": "execute_result",
          "data": {
            "text/plain": [
              "Pipeline(steps=[('transformer',\n",
              "                 ColumnTransformer(transformers=[('Encoding',\n",
              "                                                  OneHotEncoder(handle_unknown='ignore'),\n",
              "                                                  ['Nationality',\n",
              "                                                   'Club_Position',\n",
              "                                                   'Preffered_Foot',\n",
              "                                                   'Work_Rate']),\n",
              "                                                 ('standarization',\n",
              "                                                  StandardScaler(),\n",
              "                                                  ['Height', 'Weight', 'Age',\n",
              "                                                   'Weak_foot', 'Skill_Moves',\n",
              "                                                   'Ball_Control', 'Dribbling',\n",
              "                                                   'Marking', 'Sliding_Tackle',\n",
              "                                                   'Standing_Tackle',\n",
              "                                                   'Aggression', 'Reactions',\n",
              "                                                   'Interceptions', 'Vision',\n",
              "                                                   'Composure', 'Crossing',\n",
              "                                                   'Short_Pass', 'Long_Pass',\n",
              "                                                   'Acceleration', 'Speed',\n",
              "                                                   'Stamina', 'Strength',\n",
              "                                                   'Balance', 'Agility',\n",
              "                                                   'Jumping', 'Heading',\n",
              "                                                   'Shot_Power', 'Finishing',\n",
              "                                                   'Long_Shots', 'Curve', ...])])),\n",
              "                ('classifier', RandomForestClassifier(random_state=42))])"
            ],
            "text/html": [
              "<style>#sk-container-id-2 {color: black;background-color: white;}#sk-container-id-2 pre{padding: 0;}#sk-container-id-2 div.sk-toggleable {background-color: white;}#sk-container-id-2 label.sk-toggleable__label {cursor: pointer;display: block;width: 100%;margin-bottom: 0;padding: 0.3em;box-sizing: border-box;text-align: center;}#sk-container-id-2 label.sk-toggleable__label-arrow:before {content: \"▸\";float: left;margin-right: 0.25em;color: #696969;}#sk-container-id-2 label.sk-toggleable__label-arrow:hover:before {color: black;}#sk-container-id-2 div.sk-estimator:hover label.sk-toggleable__label-arrow:before {color: black;}#sk-container-id-2 div.sk-toggleable__content {max-height: 0;max-width: 0;overflow: hidden;text-align: left;background-color: #f0f8ff;}#sk-container-id-2 div.sk-toggleable__content pre {margin: 0.2em;color: black;border-radius: 0.25em;background-color: #f0f8ff;}#sk-container-id-2 input.sk-toggleable__control:checked~div.sk-toggleable__content {max-height: 200px;max-width: 100%;overflow: auto;}#sk-container-id-2 input.sk-toggleable__control:checked~label.sk-toggleable__label-arrow:before {content: \"▾\";}#sk-container-id-2 div.sk-estimator input.sk-toggleable__control:checked~label.sk-toggleable__label {background-color: #d4ebff;}#sk-container-id-2 div.sk-label input.sk-toggleable__control:checked~label.sk-toggleable__label {background-color: #d4ebff;}#sk-container-id-2 input.sk-hidden--visually {border: 0;clip: rect(1px 1px 1px 1px);clip: rect(1px, 1px, 1px, 1px);height: 1px;margin: -1px;overflow: hidden;padding: 0;position: absolute;width: 1px;}#sk-container-id-2 div.sk-estimator {font-family: monospace;background-color: #f0f8ff;border: 1px dotted black;border-radius: 0.25em;box-sizing: border-box;margin-bottom: 0.5em;}#sk-container-id-2 div.sk-estimator:hover {background-color: #d4ebff;}#sk-container-id-2 div.sk-parallel-item::after {content: \"\";width: 100%;border-bottom: 1px solid gray;flex-grow: 1;}#sk-container-id-2 div.sk-label:hover label.sk-toggleable__label {background-color: #d4ebff;}#sk-container-id-2 div.sk-serial::before {content: \"\";position: absolute;border-left: 1px solid gray;box-sizing: border-box;top: 0;bottom: 0;left: 50%;z-index: 0;}#sk-container-id-2 div.sk-serial {display: flex;flex-direction: column;align-items: center;background-color: white;padding-right: 0.2em;padding-left: 0.2em;position: relative;}#sk-container-id-2 div.sk-item {position: relative;z-index: 1;}#sk-container-id-2 div.sk-parallel {display: flex;align-items: stretch;justify-content: center;background-color: white;position: relative;}#sk-container-id-2 div.sk-item::before, #sk-container-id-2 div.sk-parallel-item::before {content: \"\";position: absolute;border-left: 1px solid gray;box-sizing: border-box;top: 0;bottom: 0;left: 50%;z-index: -1;}#sk-container-id-2 div.sk-parallel-item {display: flex;flex-direction: column;z-index: 1;position: relative;background-color: white;}#sk-container-id-2 div.sk-parallel-item:first-child::after {align-self: flex-end;width: 50%;}#sk-container-id-2 div.sk-parallel-item:last-child::after {align-self: flex-start;width: 50%;}#sk-container-id-2 div.sk-parallel-item:only-child::after {width: 0;}#sk-container-id-2 div.sk-dashed-wrapped {border: 1px dashed gray;margin: 0 0.4em 0.5em 0.4em;box-sizing: border-box;padding-bottom: 0.4em;background-color: white;}#sk-container-id-2 div.sk-label label {font-family: monospace;font-weight: bold;display: inline-block;line-height: 1.2em;}#sk-container-id-2 div.sk-label-container {text-align: center;}#sk-container-id-2 div.sk-container {/* jupyter's `normalize.less` sets `[hidden] { display: none; }` but bootstrap.min.css set `[hidden] { display: none !important; }` so we also need the `!important` here to be able to override the default hidden behavior on the sphinx rendered scikit-learn.org. See: https://github.com/scikit-learn/scikit-learn/issues/21755 */display: inline-block !important;position: relative;}#sk-container-id-2 div.sk-text-repr-fallback {display: none;}</style><div id=\"sk-container-id-2\" class=\"sk-top-container\"><div class=\"sk-text-repr-fallback\"><pre>Pipeline(steps=[(&#x27;transformer&#x27;,\n",
              "                 ColumnTransformer(transformers=[(&#x27;Encoding&#x27;,\n",
              "                                                  OneHotEncoder(handle_unknown=&#x27;ignore&#x27;),\n",
              "                                                  [&#x27;Nationality&#x27;,\n",
              "                                                   &#x27;Club_Position&#x27;,\n",
              "                                                   &#x27;Preffered_Foot&#x27;,\n",
              "                                                   &#x27;Work_Rate&#x27;]),\n",
              "                                                 (&#x27;standarization&#x27;,\n",
              "                                                  StandardScaler(),\n",
              "                                                  [&#x27;Height&#x27;, &#x27;Weight&#x27;, &#x27;Age&#x27;,\n",
              "                                                   &#x27;Weak_foot&#x27;, &#x27;Skill_Moves&#x27;,\n",
              "                                                   &#x27;Ball_Control&#x27;, &#x27;Dribbling&#x27;,\n",
              "                                                   &#x27;Marking&#x27;, &#x27;Sliding_Tackle&#x27;,\n",
              "                                                   &#x27;Standing_Tackle&#x27;,\n",
              "                                                   &#x27;Aggression&#x27;, &#x27;Reactions&#x27;,\n",
              "                                                   &#x27;Interceptions&#x27;, &#x27;Vision&#x27;,\n",
              "                                                   &#x27;Composure&#x27;, &#x27;Crossing&#x27;,\n",
              "                                                   &#x27;Short_Pass&#x27;, &#x27;Long_Pass&#x27;,\n",
              "                                                   &#x27;Acceleration&#x27;, &#x27;Speed&#x27;,\n",
              "                                                   &#x27;Stamina&#x27;, &#x27;Strength&#x27;,\n",
              "                                                   &#x27;Balance&#x27;, &#x27;Agility&#x27;,\n",
              "                                                   &#x27;Jumping&#x27;, &#x27;Heading&#x27;,\n",
              "                                                   &#x27;Shot_Power&#x27;, &#x27;Finishing&#x27;,\n",
              "                                                   &#x27;Long_Shots&#x27;, &#x27;Curve&#x27;, ...])])),\n",
              "                (&#x27;classifier&#x27;, RandomForestClassifier(random_state=42))])</pre><b>In a Jupyter environment, please rerun this cell to show the HTML representation or trust the notebook. <br />On GitHub, the HTML representation is unable to render, please try loading this page with nbviewer.org.</b></div><div class=\"sk-container\" hidden><div class=\"sk-item sk-dashed-wrapped\"><div class=\"sk-label-container\"><div class=\"sk-label sk-toggleable\"><input class=\"sk-toggleable__control sk-hidden--visually\" id=\"sk-estimator-id-8\" type=\"checkbox\" ><label for=\"sk-estimator-id-8\" class=\"sk-toggleable__label sk-toggleable__label-arrow\">Pipeline</label><div class=\"sk-toggleable__content\"><pre>Pipeline(steps=[(&#x27;transformer&#x27;,\n",
              "                 ColumnTransformer(transformers=[(&#x27;Encoding&#x27;,\n",
              "                                                  OneHotEncoder(handle_unknown=&#x27;ignore&#x27;),\n",
              "                                                  [&#x27;Nationality&#x27;,\n",
              "                                                   &#x27;Club_Position&#x27;,\n",
              "                                                   &#x27;Preffered_Foot&#x27;,\n",
              "                                                   &#x27;Work_Rate&#x27;]),\n",
              "                                                 (&#x27;standarization&#x27;,\n",
              "                                                  StandardScaler(),\n",
              "                                                  [&#x27;Height&#x27;, &#x27;Weight&#x27;, &#x27;Age&#x27;,\n",
              "                                                   &#x27;Weak_foot&#x27;, &#x27;Skill_Moves&#x27;,\n",
              "                                                   &#x27;Ball_Control&#x27;, &#x27;Dribbling&#x27;,\n",
              "                                                   &#x27;Marking&#x27;, &#x27;Sliding_Tackle&#x27;,\n",
              "                                                   &#x27;Standing_Tackle&#x27;,\n",
              "                                                   &#x27;Aggression&#x27;, &#x27;Reactions&#x27;,\n",
              "                                                   &#x27;Interceptions&#x27;, &#x27;Vision&#x27;,\n",
              "                                                   &#x27;Composure&#x27;, &#x27;Crossing&#x27;,\n",
              "                                                   &#x27;Short_Pass&#x27;, &#x27;Long_Pass&#x27;,\n",
              "                                                   &#x27;Acceleration&#x27;, &#x27;Speed&#x27;,\n",
              "                                                   &#x27;Stamina&#x27;, &#x27;Strength&#x27;,\n",
              "                                                   &#x27;Balance&#x27;, &#x27;Agility&#x27;,\n",
              "                                                   &#x27;Jumping&#x27;, &#x27;Heading&#x27;,\n",
              "                                                   &#x27;Shot_Power&#x27;, &#x27;Finishing&#x27;,\n",
              "                                                   &#x27;Long_Shots&#x27;, &#x27;Curve&#x27;, ...])])),\n",
              "                (&#x27;classifier&#x27;, RandomForestClassifier(random_state=42))])</pre></div></div></div><div class=\"sk-serial\"><div class=\"sk-item sk-dashed-wrapped\"><div class=\"sk-label-container\"><div class=\"sk-label sk-toggleable\"><input class=\"sk-toggleable__control sk-hidden--visually\" id=\"sk-estimator-id-9\" type=\"checkbox\" ><label for=\"sk-estimator-id-9\" class=\"sk-toggleable__label sk-toggleable__label-arrow\">transformer: ColumnTransformer</label><div class=\"sk-toggleable__content\"><pre>ColumnTransformer(transformers=[(&#x27;Encoding&#x27;,\n",
              "                                 OneHotEncoder(handle_unknown=&#x27;ignore&#x27;),\n",
              "                                 [&#x27;Nationality&#x27;, &#x27;Club_Position&#x27;,\n",
              "                                  &#x27;Preffered_Foot&#x27;, &#x27;Work_Rate&#x27;]),\n",
              "                                (&#x27;standarization&#x27;, StandardScaler(),\n",
              "                                 [&#x27;Height&#x27;, &#x27;Weight&#x27;, &#x27;Age&#x27;, &#x27;Weak_foot&#x27;,\n",
              "                                  &#x27;Skill_Moves&#x27;, &#x27;Ball_Control&#x27;, &#x27;Dribbling&#x27;,\n",
              "                                  &#x27;Marking&#x27;, &#x27;Sliding_Tackle&#x27;,\n",
              "                                  &#x27;Standing_Tackle&#x27;, &#x27;Aggression&#x27;, &#x27;Reactions&#x27;,\n",
              "                                  &#x27;Interceptions&#x27;, &#x27;Vision&#x27;, &#x27;Composure&#x27;,\n",
              "                                  &#x27;Crossing&#x27;, &#x27;Short_Pass&#x27;, &#x27;Long_Pass&#x27;,\n",
              "                                  &#x27;Acceleration&#x27;, &#x27;Speed&#x27;, &#x27;Stamina&#x27;,\n",
              "                                  &#x27;Strength&#x27;, &#x27;Balance&#x27;, &#x27;Agility&#x27;, &#x27;Jumping&#x27;,\n",
              "                                  &#x27;Heading&#x27;, &#x27;Shot_Power&#x27;, &#x27;Finishing&#x27;,\n",
              "                                  &#x27;Long_Shots&#x27;, &#x27;Curve&#x27;, ...])])</pre></div></div></div><div class=\"sk-parallel\"><div class=\"sk-parallel-item\"><div class=\"sk-item\"><div class=\"sk-label-container\"><div class=\"sk-label sk-toggleable\"><input class=\"sk-toggleable__control sk-hidden--visually\" id=\"sk-estimator-id-10\" type=\"checkbox\" ><label for=\"sk-estimator-id-10\" class=\"sk-toggleable__label sk-toggleable__label-arrow\">Encoding</label><div class=\"sk-toggleable__content\"><pre>[&#x27;Nationality&#x27;, &#x27;Club_Position&#x27;, &#x27;Preffered_Foot&#x27;, &#x27;Work_Rate&#x27;]</pre></div></div></div><div class=\"sk-serial\"><div class=\"sk-item\"><div class=\"sk-estimator sk-toggleable\"><input class=\"sk-toggleable__control sk-hidden--visually\" id=\"sk-estimator-id-11\" type=\"checkbox\" ><label for=\"sk-estimator-id-11\" class=\"sk-toggleable__label sk-toggleable__label-arrow\">OneHotEncoder</label><div class=\"sk-toggleable__content\"><pre>OneHotEncoder(handle_unknown=&#x27;ignore&#x27;)</pre></div></div></div></div></div></div><div class=\"sk-parallel-item\"><div class=\"sk-item\"><div class=\"sk-label-container\"><div class=\"sk-label sk-toggleable\"><input class=\"sk-toggleable__control sk-hidden--visually\" id=\"sk-estimator-id-12\" type=\"checkbox\" ><label for=\"sk-estimator-id-12\" class=\"sk-toggleable__label sk-toggleable__label-arrow\">standarization</label><div class=\"sk-toggleable__content\"><pre>[&#x27;Height&#x27;, &#x27;Weight&#x27;, &#x27;Age&#x27;, &#x27;Weak_foot&#x27;, &#x27;Skill_Moves&#x27;, &#x27;Ball_Control&#x27;, &#x27;Dribbling&#x27;, &#x27;Marking&#x27;, &#x27;Sliding_Tackle&#x27;, &#x27;Standing_Tackle&#x27;, &#x27;Aggression&#x27;, &#x27;Reactions&#x27;, &#x27;Interceptions&#x27;, &#x27;Vision&#x27;, &#x27;Composure&#x27;, &#x27;Crossing&#x27;, &#x27;Short_Pass&#x27;, &#x27;Long_Pass&#x27;, &#x27;Acceleration&#x27;, &#x27;Speed&#x27;, &#x27;Stamina&#x27;, &#x27;Strength&#x27;, &#x27;Balance&#x27;, &#x27;Agility&#x27;, &#x27;Jumping&#x27;, &#x27;Heading&#x27;, &#x27;Shot_Power&#x27;, &#x27;Finishing&#x27;, &#x27;Long_Shots&#x27;, &#x27;Curve&#x27;, &#x27;Freekick_Accuracy&#x27;, &#x27;Penalties&#x27;, &#x27;Volleys&#x27;]</pre></div></div></div><div class=\"sk-serial\"><div class=\"sk-item\"><div class=\"sk-estimator sk-toggleable\"><input class=\"sk-toggleable__control sk-hidden--visually\" id=\"sk-estimator-id-13\" type=\"checkbox\" ><label for=\"sk-estimator-id-13\" class=\"sk-toggleable__label sk-toggleable__label-arrow\">StandardScaler</label><div class=\"sk-toggleable__content\"><pre>StandardScaler()</pre></div></div></div></div></div></div></div></div><div class=\"sk-item\"><div class=\"sk-estimator sk-toggleable\"><input class=\"sk-toggleable__control sk-hidden--visually\" id=\"sk-estimator-id-14\" type=\"checkbox\" ><label for=\"sk-estimator-id-14\" class=\"sk-toggleable__label sk-toggleable__label-arrow\">RandomForestClassifier</label><div class=\"sk-toggleable__content\"><pre>RandomForestClassifier(random_state=42)</pre></div></div></div></div></div></div></div>"
            ]
          },
          "metadata": {},
          "execution_count": 16
        }
      ]
    },
    {
      "cell_type": "code",
      "source": [
        "y_pred_svc = pipe_svc.predict(x_test) \n",
        "y_pred_knn = pipe_knn.predict(x_test) \n",
        "y_pred_rf = pipe_rf.predict(x_test) "
      ],
      "metadata": {
        "id": "8eXov4krgSqK"
      },
      "execution_count": 17,
      "outputs": []
    },
    {
      "cell_type": "markdown",
      "source": [
        "**Respuesta**:\n",
        "\n"
      ],
      "metadata": {
        "id": "QgSeo0aIx9ow",
        "cell_id": "2e9c35fbe33d4a38bfdf6af6de3022f3",
        "deepnote_cell_height": 106.33332824707031,
        "deepnote_cell_type": "markdown"
      }
    },
    {
      "cell_type": "code",
      "source": [
        "print(\"Resultados SVC Linear\")\n",
        "print(classification_report(y_test, y_pred_svc))"
      ],
      "metadata": {
        "colab": {
          "base_uri": "https://localhost:8080/"
        },
        "id": "R7oFXqI_g8ad",
        "outputId": "e7333f3a-e719-4f23-b60a-1cb2fc2c7211"
      },
      "execution_count": 18,
      "outputs": [
        {
          "output_type": "stream",
          "name": "stdout",
          "text": [
            "Resultados SVC Linear\n",
            "              precision    recall  f1-score   support\n",
            "\n",
            "           0       0.95      0.99      0.97      4954\n",
            "           1       0.64      0.18      0.28       323\n",
            "\n",
            "    accuracy                           0.94      5277\n",
            "   macro avg       0.80      0.59      0.63      5277\n",
            "weighted avg       0.93      0.94      0.93      5277\n",
            "\n"
          ]
        }
      ]
    },
    {
      "cell_type": "code",
      "source": [
        "print(\"Resultados KNN\")\n",
        "print(classification_report(y_test, y_pred_knn))"
      ],
      "metadata": {
        "colab": {
          "base_uri": "https://localhost:8080/"
        },
        "id": "DQXInCAfgHjl",
        "outputId": "ecda64bf-f9e8-4da0-b61f-3a2bf8844f7b"
      },
      "execution_count": 19,
      "outputs": [
        {
          "output_type": "stream",
          "name": "stdout",
          "text": [
            "Resultados KNN\n",
            "              precision    recall  f1-score   support\n",
            "\n",
            "           0       0.94      0.99      0.97      4954\n",
            "           1       0.40      0.05      0.09       323\n",
            "\n",
            "    accuracy                           0.94      5277\n",
            "   macro avg       0.67      0.52      0.53      5277\n",
            "weighted avg       0.91      0.94      0.91      5277\n",
            "\n"
          ]
        }
      ]
    },
    {
      "cell_type": "code",
      "source": [
        "print(\"Resultados Random Forest\")\n",
        "print(classification_report(y_test, y_pred_rf))"
      ],
      "metadata": {
        "colab": {
          "base_uri": "https://localhost:8080/"
        },
        "id": "uA3QgRKUg-Cj",
        "outputId": "b4d0a1f2-37c9-4d83-cfbd-3e8337297b4e"
      },
      "execution_count": 20,
      "outputs": [
        {
          "output_type": "stream",
          "name": "stdout",
          "text": [
            "Resultados Random Forest\n",
            "              precision    recall  f1-score   support\n",
            "\n",
            "           0       0.94      1.00      0.97      4954\n",
            "           1       0.66      0.08      0.15       323\n",
            "\n",
            "    accuracy                           0.94      5277\n",
            "   macro avg       0.80      0.54      0.56      5277\n",
            "weighted avg       0.93      0.94      0.92      5277\n",
            "\n"
          ]
        }
      ]
    },
    {
      "cell_type": "markdown",
      "source": [
        "- ¿Qué implican los valores de accuracy, precisión y recall de la clase positiva (la que indica que un jugador es seleccionado nacional)?\n",
        "- ¿Podrían mejorarse los resultados?, ¿Cómo?\n",
        "- ¿Influye la cantidad de ejemplos por clase?"
      ],
      "metadata": {
        "id": "Nymsni3YiPzD"
      }
    },
    {
      "cell_type": "markdown",
      "source": [
        "Los 3 clasificadores dejan bastante que desear en las prediciones de seleccionados.\n",
        "- Para la métrica **Recall**, que indica el porcentaje de ejemplos acertados correctamente entre los ejemplos que de verdad pertenecen a la clase, osea, el rendimiento respecto a los datos, ninguno de los clasificadores alcanza más de un $0.16$. Esto quiere decir que, respecto al conjunto de datos de prueba, ninguno de los clasificadores logra acertar a una canntidad significativa de ejemplos.\n",
        "- Para la métrica **Precision**, que indica el porcentaje de ejemplos acertados correctamente entre las predicciones para dicha clase, osea, el rendimiento respecto al clasificador, el rendimiento es relativamente mejor. En este caso el clasificador **KNN** es el que peor se desempeña, con $0.4$ de precisión, mientras que **Random Forest** es el mejor, con un $0.7$ de precisión. Esto quiere decir que, en general , los clasificadores rinden relativamente mejor si los medimos respecto a sus propias predicciones de la clase positiva.\n",
        "- Para la métrica **Accuracy**, que indica el porcentaje general de predicciones correctas (tanto positivas como negativas), los resultados de los 3 clasificadores son bastante mejorables, pues no suelen ser más altas que $0.61$. \n",
        "- Por otro lado, para el *weighted average*, que toma en cuenta el desbalance de clases en la ponderación del score **F1**, el cual a su vez es una ponderación de precision y recall, los resultados son bastante altos, generalmente superando el $0.9$.\n",
        "\n",
        "En este sentido es claro que el desbalance de clases afecta la clasificación, pues los clasificadores rinden bastante mejor respecto a la clase negativa, y esto no es de extrañar, pues el $93\\%$ de las muestras pertenecen a esta clase.\n",
        "\n",
        "Los resultados son mejorables, en primer lugar habría que tratar con el desbalance de clases. Para tratar con el desbalance, se pueden recolectar más datos de la clase positiva, sin embargo en este caso sería más directo aplicar alguna técnica de *undersampling* u *oversampling*, para minimizar el impacto del desbalance y mejorar las métricas. Posterior a esto también se podrían probar otras técnicas, como ajuste de hiperparámetros mediante validación cruzada, con el objetivo de refinar los resultados respecto a los modelos utilizados. "
      ],
      "metadata": {
        "id": "dkbjMGmpiUpr"
      }
    },
    {
      "cell_type": "markdown",
      "source": [
        "## 1.2 Predicción de posiciones de jugadores [2 puntos]\n",
        "\n",
        "<p align=\"center\">\n",
        "  <img src=\"https://pbs.twimg.com/media/E1rfA1aWEAYU6Ny.jpg\" width=\"500\">\n",
        "</p>"
      ],
      "metadata": {
        "id": "ix97Ho4uOARH",
        "cell_id": "5aa0cc14dba04749ad3bc07a92d351d2",
        "deepnote_cell_type": "markdown"
      }
    },
    {
      "cell_type": "markdown",
      "source": [
        "En una nueva jornada de desmesuradas transacciones deportivas, Renacín escuchó a sus colegas discutir acerca de que el precio de cada jugador depende en gran medida de la posición en la cancha en la que juega. Y además, que hay bastantes jugadores nuevos que no tienen muy claro en que posición verdaderamente brillarían, por lo que actualmente puede que actualmente estén jugando en posiciones sub-optimas. \n",
        "\n",
        "Viendo que los resultados del primer análisis no son tan esperanzadores, el corporeo los comanda a cambiar su tarea: ahora, les solicita que construyan un clasificador enfocado en predecir la mejor posición de los jugadores en la cancha según sus características. \n",
        "\n",
        "Para lograr esto, primero, les pide que etiqueten de la siguiente manera los valores que aparecen en el atributo ```Club_Position```, pidiendo que agrupen los valores en los siguientes grupos:\n",
        "\n",
        "**Nota**:  Renacín les recalca que **no deben utilizar los valores ```Sub``` y ```Res``` de esta columna**.\n",
        "\n",
        "```python\n",
        "ataque = ['ST', 'CF'] \n",
        "central_ataque = ['RW', 'CAM', 'LW'] \n",
        "central = ['RM', 'CM', 'LM'] \n",
        "central_defensa = ['RWB', 'CDM', 'LWB']\n",
        "defensa = ['RB', 'CB', 'LB']\n",
        "arquero = ['GK']\n",
        "```\n",
        "\n",
        "Cabe señalar que al igual como lo realizado con la clasificación binaria, deberá justificar en base a la [guía](https://scikit-learn.org/stable/tutorial/machine_learning_map/index.html) la elección del clasificador y se deben comentar los resultados obtenidos en la clasificación.\n",
        "\n",
        "**Nota:** Clasifique solamente con las clases señaladas, si observa mas clases eliminelas de la clasficación.\n",
        "\n",
        "**To-Do**:\n",
        "\n",
        "- [ ] Aplique las etiquetas descritas anteriormente en cada uno de los valores señalados en esta sección.\n",
        "- [ ] Cuente cuantos por clase quedan.\n",
        "- [ ] Entrene el nuevo pipeline y ejecute una evaluación de este.  \n",
        "- [ ] Comente los resultados obtenidos."
      ],
      "metadata": {
        "id": "oHAwZfV8hMsk",
        "cell_id": "6cd2eee12b6147bc8eba66af43a1f1f7",
        "deepnote_cell_type": "markdown"
      }
    },
    {
      "cell_type": "markdown",
      "source": [
        "**Respuesta:**"
      ],
      "metadata": {
        "tags": [],
        "cell_id": "71cd4b2ee5a74b96aa2dd4e1da166655",
        "deepnote_cell_type": "markdown",
        "id": "bCzjFb_XFa9X"
      }
    },
    {
      "cell_type": "code",
      "source": [
        "ataque = ['ST', 'CF'] \n",
        "central_ataque = ['RW', 'CAM', 'LW'] \n",
        "central = ['RM', 'CM', 'LM'] \n",
        "central_defensa = ['RWB', 'CDM', 'LWB']\n",
        "defensa = ['RB', 'CB', 'LB']\n",
        "arquero = ['GK']\n",
        "\n",
        "mapper = {\n",
        "    'ataque':ataque,\n",
        "    'central_ataque':central_ataque,\n",
        "    \"central\": central,\n",
        "    \"central_defensa\": central_defensa,\n",
        "    \"defensa\": defensa,\n",
        "    \"arquero\": arquero\n",
        "}\n",
        "\n",
        "position_mapper = {}\n",
        "\n",
        "for positions in mapper:\n",
        "  for pos in mapper[positions]:\n",
        "    # guardar mapeo (ej: ST-> ataque)\n",
        "    position_mapper[pos] = positions\n"
      ],
      "metadata": {
        "id": "KWgD36Crq7CJ"
      },
      "execution_count": 21,
      "outputs": []
    },
    {
      "cell_type": "code",
      "source": [
        "df_players['position_label'] = df_players['Club_Position'].apply(lambda x: position_mapper.get(x))"
      ],
      "metadata": {
        "tags": [],
        "cell_id": "e54c0311c11e47cf917f4c7ec61370bc",
        "deepnote_cell_type": "code",
        "id": "V1XSyVkeFa9X"
      },
      "outputs": [],
      "execution_count": 22
    },
    {
      "cell_type": "markdown",
      "source": [
        "Se elimina cualquier muestra que no corresponda a las etiquetas definidas, pues no aportarían a la clasificación."
      ],
      "metadata": {
        "id": "m4Lq6DvQteVR"
      }
    },
    {
      "cell_type": "code",
      "source": [
        "# Botar filas sin label apropiado\n",
        "df_positions = df_players.dropna(subset=['position_label'])\n",
        "print(len(df_positions))"
      ],
      "metadata": {
        "colab": {
          "base_uri": "https://localhost:8080/"
        },
        "id": "p4loMH0lsqGu",
        "outputId": "f8ec1397-9e33-47c6-d776-87d0b4145c39"
      },
      "execution_count": 23,
      "outputs": [
        {
          "output_type": "stream",
          "name": "stdout",
          "text": [
            "3939\n"
          ]
        }
      ]
    },
    {
      "cell_type": "code",
      "source": [
        "print(df_positions['position_label'].value_counts())\n",
        "print()\n",
        "print(df_positions['position_label'].value_counts()/len(df_positions['position_label']))"
      ],
      "metadata": {
        "colab": {
          "base_uri": "https://localhost:8080/"
        },
        "id": "3mNTOSPItFcl",
        "outputId": "03f71cce-7e80-4e3d-f075-d3e05ac3bde9"
      },
      "execution_count": 24,
      "outputs": [
        {
          "output_type": "stream",
          "name": "stdout",
          "text": [
            "defensa            1180\n",
            "central             907\n",
            "arquero             632\n",
            "central_ataque      581\n",
            "ataque              430\n",
            "central_defensa     209\n",
            "Name: position_label, dtype: int64\n",
            "\n",
            "defensa            0.299568\n",
            "central            0.230261\n",
            "arquero            0.160447\n",
            "central_ataque     0.147499\n",
            "ataque             0.109165\n",
            "central_defensa    0.053059\n",
            "Name: position_label, dtype: float64\n"
          ]
        }
      ]
    },
    {
      "cell_type": "markdown",
      "source": [
        "En este caso el número de muestras es mucho menor que antes, debido a la eliminación de muestras sin una etiqueta válida. En este caso el equilibrio de clases es mejor que antes, aunque sigue existiendo cierto desbalance, en este caso la clase más favorecida es \"defensa\", mientras que se tienen muy pocas muestras de \"central_defensa\", alrededor del $5\\%$ de las muestras, por lo que puede que existan problemas al predecir dicha clase."
      ],
      "metadata": {
        "id": "fXbMBQ2zz88v"
      }
    },
    {
      "cell_type": "code",
      "source": [
        "df_positions['National_Position'].isna().sum()"
      ],
      "metadata": {
        "colab": {
          "base_uri": "https://localhost:8080/"
        },
        "id": "GFRiVZDT3c-4",
        "outputId": "327b55b7-e240-4a4a-dd93-c258f64aab9b"
      },
      "execution_count": 25,
      "outputs": [
        {
          "output_type": "execute_result",
          "data": {
            "text/plain": [
              "3573"
            ]
          },
          "metadata": {},
          "execution_count": 25
        }
      ]
    },
    {
      "cell_type": "markdown",
      "source": [
        "### Definición de pipeline"
      ],
      "metadata": {
        "id": "zTo4te5i-ZYk"
      }
    },
    {
      "cell_type": "markdown",
      "source": [
        "Respecto a la transformación de variables, el único cambio significativo será eliminar la variable `Club_Position` como caracteristica, pues traería consigo \"data leakages\". A su vez, se utilizarán las etiquetas creadas en los pasos anteriores, osea, si el jugador es seleccionado nacional o no, y en cambio no se utilizará la caracteristica `National_Position`, principalmente por la existencia de nans."
      ],
      "metadata": {
        "id": "snC53Qcq1t2L"
      }
    },
    {
      "cell_type": "code",
      "source": [
        "transformer_positions = ColumnTransformer([\n",
        "    ('Encoding', OneHotEncoder(handle_unknown='ignore'), ['Nationality', 'Preffered_Foot', 'Work_Rate']),\n",
        "     ('standarization', StandardScaler(), numeric_columns),# Mismas columnas numéricas definidas antes\n",
        "     ('pass', 'passthrough', ['label'])\n",
        "     ],\n",
        "     remainder='drop'\n",
        "    )"
      ],
      "metadata": {
        "id": "eyUKhM4C3_eX"
      },
      "execution_count": 26,
      "outputs": []
    },
    {
      "cell_type": "markdown",
      "source": [
        "Respecto a los clasificadores a utilizar, estos no cambiarán, debido a que se sigue trabajando con caracteristicas numéricas y con una cantidad de datos relativamente baja."
      ],
      "metadata": {
        "id": "tTV97UrA4cMD"
      }
    },
    {
      "cell_type": "code",
      "source": [
        "def pipeline_1(clf):\n",
        "  return Pipeline([\n",
        "      ('transformer', transformer_positions),\n",
        "      ('classifier', clf)\n",
        "  ])"
      ],
      "metadata": {
        "id": "WKEZHu7R5MXt"
      },
      "execution_count": 27,
      "outputs": []
    },
    {
      "cell_type": "code",
      "source": [
        "pipe_svc_1 = pipeline_1(SVC(kernel='linear', random_state=42))\n",
        "pipe_knn_1 = pipeline_1(KNeighborsClassifier())\n",
        "pipe_rf_1 = pipeline_1(RandomForestClassifier(random_state=42))"
      ],
      "metadata": {
        "id": "nsEeWkOj5ekE"
      },
      "execution_count": 28,
      "outputs": []
    },
    {
      "cell_type": "code",
      "source": [
        "x,y = df_positions.drop(columns=['position_label']), df_positions['position_label']"
      ],
      "metadata": {
        "id": "1u9xkRIc6CoR"
      },
      "execution_count": 29,
      "outputs": []
    },
    {
      "cell_type": "code",
      "source": [
        "# Es necesario un nuevo split\n",
        "x_train, x_test, y_train, y_test = train_test_split(x, y, test_size = 0.3, random_state=42, stratify = y)"
      ],
      "metadata": {
        "id": "JnMcP3a95p1c"
      },
      "execution_count": 30,
      "outputs": []
    },
    {
      "cell_type": "code",
      "source": [
        "pipe_svc_1.fit(x_train, y_train)\n",
        "pipe_knn_1.fit(x_train, y_train)\n",
        "pipe_rf_1.fit(x_train, y_train)"
      ],
      "metadata": {
        "colab": {
          "base_uri": "https://localhost:8080/",
          "height": 190
        },
        "id": "rdPVswM46mpd",
        "outputId": "bd7e7c96-6d3f-4822-9f47-4e55f8f4a5e9"
      },
      "execution_count": 31,
      "outputs": [
        {
          "output_type": "execute_result",
          "data": {
            "text/plain": [
              "Pipeline(steps=[('transformer',\n",
              "                 ColumnTransformer(transformers=[('Encoding',\n",
              "                                                  OneHotEncoder(handle_unknown='ignore'),\n",
              "                                                  ['Nationality',\n",
              "                                                   'Preffered_Foot',\n",
              "                                                   'Work_Rate']),\n",
              "                                                 ('standarization',\n",
              "                                                  StandardScaler(),\n",
              "                                                  ['Height', 'Weight', 'Age',\n",
              "                                                   'Weak_foot', 'Skill_Moves',\n",
              "                                                   'Ball_Control', 'Dribbling',\n",
              "                                                   'Marking', 'Sliding_Tackle',\n",
              "                                                   'Standing_Tackle',\n",
              "                                                   'Aggression', 'Reactions',\n",
              "                                                   'Interceptions', 'Vision',\n",
              "                                                   'Composure', 'Crossing',\n",
              "                                                   'Short_Pass', 'Long_Pass',\n",
              "                                                   'Acceleration', 'Speed',\n",
              "                                                   'Stamina', 'Strength',\n",
              "                                                   'Balance', 'Agility',\n",
              "                                                   'Jumping', 'Heading',\n",
              "                                                   'Shot_Power', 'Finishing',\n",
              "                                                   'Long_Shots', 'Curve', ...]),\n",
              "                                                 ('pass', 'passthrough',\n",
              "                                                  ['label'])])),\n",
              "                ('classifier', RandomForestClassifier(random_state=42))])"
            ],
            "text/html": [
              "<style>#sk-container-id-3 {color: black;background-color: white;}#sk-container-id-3 pre{padding: 0;}#sk-container-id-3 div.sk-toggleable {background-color: white;}#sk-container-id-3 label.sk-toggleable__label {cursor: pointer;display: block;width: 100%;margin-bottom: 0;padding: 0.3em;box-sizing: border-box;text-align: center;}#sk-container-id-3 label.sk-toggleable__label-arrow:before {content: \"▸\";float: left;margin-right: 0.25em;color: #696969;}#sk-container-id-3 label.sk-toggleable__label-arrow:hover:before {color: black;}#sk-container-id-3 div.sk-estimator:hover label.sk-toggleable__label-arrow:before {color: black;}#sk-container-id-3 div.sk-toggleable__content {max-height: 0;max-width: 0;overflow: hidden;text-align: left;background-color: #f0f8ff;}#sk-container-id-3 div.sk-toggleable__content pre {margin: 0.2em;color: black;border-radius: 0.25em;background-color: #f0f8ff;}#sk-container-id-3 input.sk-toggleable__control:checked~div.sk-toggleable__content {max-height: 200px;max-width: 100%;overflow: auto;}#sk-container-id-3 input.sk-toggleable__control:checked~label.sk-toggleable__label-arrow:before {content: \"▾\";}#sk-container-id-3 div.sk-estimator input.sk-toggleable__control:checked~label.sk-toggleable__label {background-color: #d4ebff;}#sk-container-id-3 div.sk-label input.sk-toggleable__control:checked~label.sk-toggleable__label {background-color: #d4ebff;}#sk-container-id-3 input.sk-hidden--visually {border: 0;clip: rect(1px 1px 1px 1px);clip: rect(1px, 1px, 1px, 1px);height: 1px;margin: -1px;overflow: hidden;padding: 0;position: absolute;width: 1px;}#sk-container-id-3 div.sk-estimator {font-family: monospace;background-color: #f0f8ff;border: 1px dotted black;border-radius: 0.25em;box-sizing: border-box;margin-bottom: 0.5em;}#sk-container-id-3 div.sk-estimator:hover {background-color: #d4ebff;}#sk-container-id-3 div.sk-parallel-item::after {content: \"\";width: 100%;border-bottom: 1px solid gray;flex-grow: 1;}#sk-container-id-3 div.sk-label:hover label.sk-toggleable__label {background-color: #d4ebff;}#sk-container-id-3 div.sk-serial::before {content: \"\";position: absolute;border-left: 1px solid gray;box-sizing: border-box;top: 0;bottom: 0;left: 50%;z-index: 0;}#sk-container-id-3 div.sk-serial {display: flex;flex-direction: column;align-items: center;background-color: white;padding-right: 0.2em;padding-left: 0.2em;position: relative;}#sk-container-id-3 div.sk-item {position: relative;z-index: 1;}#sk-container-id-3 div.sk-parallel {display: flex;align-items: stretch;justify-content: center;background-color: white;position: relative;}#sk-container-id-3 div.sk-item::before, #sk-container-id-3 div.sk-parallel-item::before {content: \"\";position: absolute;border-left: 1px solid gray;box-sizing: border-box;top: 0;bottom: 0;left: 50%;z-index: -1;}#sk-container-id-3 div.sk-parallel-item {display: flex;flex-direction: column;z-index: 1;position: relative;background-color: white;}#sk-container-id-3 div.sk-parallel-item:first-child::after {align-self: flex-end;width: 50%;}#sk-container-id-3 div.sk-parallel-item:last-child::after {align-self: flex-start;width: 50%;}#sk-container-id-3 div.sk-parallel-item:only-child::after {width: 0;}#sk-container-id-3 div.sk-dashed-wrapped {border: 1px dashed gray;margin: 0 0.4em 0.5em 0.4em;box-sizing: border-box;padding-bottom: 0.4em;background-color: white;}#sk-container-id-3 div.sk-label label {font-family: monospace;font-weight: bold;display: inline-block;line-height: 1.2em;}#sk-container-id-3 div.sk-label-container {text-align: center;}#sk-container-id-3 div.sk-container {/* jupyter's `normalize.less` sets `[hidden] { display: none; }` but bootstrap.min.css set `[hidden] { display: none !important; }` so we also need the `!important` here to be able to override the default hidden behavior on the sphinx rendered scikit-learn.org. See: https://github.com/scikit-learn/scikit-learn/issues/21755 */display: inline-block !important;position: relative;}#sk-container-id-3 div.sk-text-repr-fallback {display: none;}</style><div id=\"sk-container-id-3\" class=\"sk-top-container\"><div class=\"sk-text-repr-fallback\"><pre>Pipeline(steps=[(&#x27;transformer&#x27;,\n",
              "                 ColumnTransformer(transformers=[(&#x27;Encoding&#x27;,\n",
              "                                                  OneHotEncoder(handle_unknown=&#x27;ignore&#x27;),\n",
              "                                                  [&#x27;Nationality&#x27;,\n",
              "                                                   &#x27;Preffered_Foot&#x27;,\n",
              "                                                   &#x27;Work_Rate&#x27;]),\n",
              "                                                 (&#x27;standarization&#x27;,\n",
              "                                                  StandardScaler(),\n",
              "                                                  [&#x27;Height&#x27;, &#x27;Weight&#x27;, &#x27;Age&#x27;,\n",
              "                                                   &#x27;Weak_foot&#x27;, &#x27;Skill_Moves&#x27;,\n",
              "                                                   &#x27;Ball_Control&#x27;, &#x27;Dribbling&#x27;,\n",
              "                                                   &#x27;Marking&#x27;, &#x27;Sliding_Tackle&#x27;,\n",
              "                                                   &#x27;Standing_Tackle&#x27;,\n",
              "                                                   &#x27;Aggression&#x27;, &#x27;Reactions&#x27;,\n",
              "                                                   &#x27;Interceptions&#x27;, &#x27;Vision&#x27;,\n",
              "                                                   &#x27;Composure&#x27;, &#x27;Crossing&#x27;,\n",
              "                                                   &#x27;Short_Pass&#x27;, &#x27;Long_Pass&#x27;,\n",
              "                                                   &#x27;Acceleration&#x27;, &#x27;Speed&#x27;,\n",
              "                                                   &#x27;Stamina&#x27;, &#x27;Strength&#x27;,\n",
              "                                                   &#x27;Balance&#x27;, &#x27;Agility&#x27;,\n",
              "                                                   &#x27;Jumping&#x27;, &#x27;Heading&#x27;,\n",
              "                                                   &#x27;Shot_Power&#x27;, &#x27;Finishing&#x27;,\n",
              "                                                   &#x27;Long_Shots&#x27;, &#x27;Curve&#x27;, ...]),\n",
              "                                                 (&#x27;pass&#x27;, &#x27;passthrough&#x27;,\n",
              "                                                  [&#x27;label&#x27;])])),\n",
              "                (&#x27;classifier&#x27;, RandomForestClassifier(random_state=42))])</pre><b>In a Jupyter environment, please rerun this cell to show the HTML representation or trust the notebook. <br />On GitHub, the HTML representation is unable to render, please try loading this page with nbviewer.org.</b></div><div class=\"sk-container\" hidden><div class=\"sk-item sk-dashed-wrapped\"><div class=\"sk-label-container\"><div class=\"sk-label sk-toggleable\"><input class=\"sk-toggleable__control sk-hidden--visually\" id=\"sk-estimator-id-15\" type=\"checkbox\" ><label for=\"sk-estimator-id-15\" class=\"sk-toggleable__label sk-toggleable__label-arrow\">Pipeline</label><div class=\"sk-toggleable__content\"><pre>Pipeline(steps=[(&#x27;transformer&#x27;,\n",
              "                 ColumnTransformer(transformers=[(&#x27;Encoding&#x27;,\n",
              "                                                  OneHotEncoder(handle_unknown=&#x27;ignore&#x27;),\n",
              "                                                  [&#x27;Nationality&#x27;,\n",
              "                                                   &#x27;Preffered_Foot&#x27;,\n",
              "                                                   &#x27;Work_Rate&#x27;]),\n",
              "                                                 (&#x27;standarization&#x27;,\n",
              "                                                  StandardScaler(),\n",
              "                                                  [&#x27;Height&#x27;, &#x27;Weight&#x27;, &#x27;Age&#x27;,\n",
              "                                                   &#x27;Weak_foot&#x27;, &#x27;Skill_Moves&#x27;,\n",
              "                                                   &#x27;Ball_Control&#x27;, &#x27;Dribbling&#x27;,\n",
              "                                                   &#x27;Marking&#x27;, &#x27;Sliding_Tackle&#x27;,\n",
              "                                                   &#x27;Standing_Tackle&#x27;,\n",
              "                                                   &#x27;Aggression&#x27;, &#x27;Reactions&#x27;,\n",
              "                                                   &#x27;Interceptions&#x27;, &#x27;Vision&#x27;,\n",
              "                                                   &#x27;Composure&#x27;, &#x27;Crossing&#x27;,\n",
              "                                                   &#x27;Short_Pass&#x27;, &#x27;Long_Pass&#x27;,\n",
              "                                                   &#x27;Acceleration&#x27;, &#x27;Speed&#x27;,\n",
              "                                                   &#x27;Stamina&#x27;, &#x27;Strength&#x27;,\n",
              "                                                   &#x27;Balance&#x27;, &#x27;Agility&#x27;,\n",
              "                                                   &#x27;Jumping&#x27;, &#x27;Heading&#x27;,\n",
              "                                                   &#x27;Shot_Power&#x27;, &#x27;Finishing&#x27;,\n",
              "                                                   &#x27;Long_Shots&#x27;, &#x27;Curve&#x27;, ...]),\n",
              "                                                 (&#x27;pass&#x27;, &#x27;passthrough&#x27;,\n",
              "                                                  [&#x27;label&#x27;])])),\n",
              "                (&#x27;classifier&#x27;, RandomForestClassifier(random_state=42))])</pre></div></div></div><div class=\"sk-serial\"><div class=\"sk-item sk-dashed-wrapped\"><div class=\"sk-label-container\"><div class=\"sk-label sk-toggleable\"><input class=\"sk-toggleable__control sk-hidden--visually\" id=\"sk-estimator-id-16\" type=\"checkbox\" ><label for=\"sk-estimator-id-16\" class=\"sk-toggleable__label sk-toggleable__label-arrow\">transformer: ColumnTransformer</label><div class=\"sk-toggleable__content\"><pre>ColumnTransformer(transformers=[(&#x27;Encoding&#x27;,\n",
              "                                 OneHotEncoder(handle_unknown=&#x27;ignore&#x27;),\n",
              "                                 [&#x27;Nationality&#x27;, &#x27;Preffered_Foot&#x27;,\n",
              "                                  &#x27;Work_Rate&#x27;]),\n",
              "                                (&#x27;standarization&#x27;, StandardScaler(),\n",
              "                                 [&#x27;Height&#x27;, &#x27;Weight&#x27;, &#x27;Age&#x27;, &#x27;Weak_foot&#x27;,\n",
              "                                  &#x27;Skill_Moves&#x27;, &#x27;Ball_Control&#x27;, &#x27;Dribbling&#x27;,\n",
              "                                  &#x27;Marking&#x27;, &#x27;Sliding_Tackle&#x27;,\n",
              "                                  &#x27;Standing_Tackle&#x27;, &#x27;Aggression&#x27;, &#x27;Reactions&#x27;,\n",
              "                                  &#x27;Interceptions&#x27;, &#x27;Vision&#x27;, &#x27;Composure&#x27;,\n",
              "                                  &#x27;Crossing&#x27;, &#x27;Short_Pass&#x27;, &#x27;Long_Pass&#x27;,\n",
              "                                  &#x27;Acceleration&#x27;, &#x27;Speed&#x27;, &#x27;Stamina&#x27;,\n",
              "                                  &#x27;Strength&#x27;, &#x27;Balance&#x27;, &#x27;Agility&#x27;, &#x27;Jumping&#x27;,\n",
              "                                  &#x27;Heading&#x27;, &#x27;Shot_Power&#x27;, &#x27;Finishing&#x27;,\n",
              "                                  &#x27;Long_Shots&#x27;, &#x27;Curve&#x27;, ...]),\n",
              "                                (&#x27;pass&#x27;, &#x27;passthrough&#x27;, [&#x27;label&#x27;])])</pre></div></div></div><div class=\"sk-parallel\"><div class=\"sk-parallel-item\"><div class=\"sk-item\"><div class=\"sk-label-container\"><div class=\"sk-label sk-toggleable\"><input class=\"sk-toggleable__control sk-hidden--visually\" id=\"sk-estimator-id-17\" type=\"checkbox\" ><label for=\"sk-estimator-id-17\" class=\"sk-toggleable__label sk-toggleable__label-arrow\">Encoding</label><div class=\"sk-toggleable__content\"><pre>[&#x27;Nationality&#x27;, &#x27;Preffered_Foot&#x27;, &#x27;Work_Rate&#x27;]</pre></div></div></div><div class=\"sk-serial\"><div class=\"sk-item\"><div class=\"sk-estimator sk-toggleable\"><input class=\"sk-toggleable__control sk-hidden--visually\" id=\"sk-estimator-id-18\" type=\"checkbox\" ><label for=\"sk-estimator-id-18\" class=\"sk-toggleable__label sk-toggleable__label-arrow\">OneHotEncoder</label><div class=\"sk-toggleable__content\"><pre>OneHotEncoder(handle_unknown=&#x27;ignore&#x27;)</pre></div></div></div></div></div></div><div class=\"sk-parallel-item\"><div class=\"sk-item\"><div class=\"sk-label-container\"><div class=\"sk-label sk-toggleable\"><input class=\"sk-toggleable__control sk-hidden--visually\" id=\"sk-estimator-id-19\" type=\"checkbox\" ><label for=\"sk-estimator-id-19\" class=\"sk-toggleable__label sk-toggleable__label-arrow\">standarization</label><div class=\"sk-toggleable__content\"><pre>[&#x27;Height&#x27;, &#x27;Weight&#x27;, &#x27;Age&#x27;, &#x27;Weak_foot&#x27;, &#x27;Skill_Moves&#x27;, &#x27;Ball_Control&#x27;, &#x27;Dribbling&#x27;, &#x27;Marking&#x27;, &#x27;Sliding_Tackle&#x27;, &#x27;Standing_Tackle&#x27;, &#x27;Aggression&#x27;, &#x27;Reactions&#x27;, &#x27;Interceptions&#x27;, &#x27;Vision&#x27;, &#x27;Composure&#x27;, &#x27;Crossing&#x27;, &#x27;Short_Pass&#x27;, &#x27;Long_Pass&#x27;, &#x27;Acceleration&#x27;, &#x27;Speed&#x27;, &#x27;Stamina&#x27;, &#x27;Strength&#x27;, &#x27;Balance&#x27;, &#x27;Agility&#x27;, &#x27;Jumping&#x27;, &#x27;Heading&#x27;, &#x27;Shot_Power&#x27;, &#x27;Finishing&#x27;, &#x27;Long_Shots&#x27;, &#x27;Curve&#x27;, &#x27;Freekick_Accuracy&#x27;, &#x27;Penalties&#x27;, &#x27;Volleys&#x27;]</pre></div></div></div><div class=\"sk-serial\"><div class=\"sk-item\"><div class=\"sk-estimator sk-toggleable\"><input class=\"sk-toggleable__control sk-hidden--visually\" id=\"sk-estimator-id-20\" type=\"checkbox\" ><label for=\"sk-estimator-id-20\" class=\"sk-toggleable__label sk-toggleable__label-arrow\">StandardScaler</label><div class=\"sk-toggleable__content\"><pre>StandardScaler()</pre></div></div></div></div></div></div><div class=\"sk-parallel-item\"><div class=\"sk-item\"><div class=\"sk-label-container\"><div class=\"sk-label sk-toggleable\"><input class=\"sk-toggleable__control sk-hidden--visually\" id=\"sk-estimator-id-21\" type=\"checkbox\" ><label for=\"sk-estimator-id-21\" class=\"sk-toggleable__label sk-toggleable__label-arrow\">pass</label><div class=\"sk-toggleable__content\"><pre>[&#x27;label&#x27;]</pre></div></div></div><div class=\"sk-serial\"><div class=\"sk-item\"><div class=\"sk-estimator sk-toggleable\"><input class=\"sk-toggleable__control sk-hidden--visually\" id=\"sk-estimator-id-22\" type=\"checkbox\" ><label for=\"sk-estimator-id-22\" class=\"sk-toggleable__label sk-toggleable__label-arrow\">passthrough</label><div class=\"sk-toggleable__content\"><pre>passthrough</pre></div></div></div></div></div></div></div></div><div class=\"sk-item\"><div class=\"sk-estimator sk-toggleable\"><input class=\"sk-toggleable__control sk-hidden--visually\" id=\"sk-estimator-id-23\" type=\"checkbox\" ><label for=\"sk-estimator-id-23\" class=\"sk-toggleable__label sk-toggleable__label-arrow\">RandomForestClassifier</label><div class=\"sk-toggleable__content\"><pre>RandomForestClassifier(random_state=42)</pre></div></div></div></div></div></div></div>"
            ]
          },
          "metadata": {},
          "execution_count": 31
        }
      ]
    },
    {
      "cell_type": "markdown",
      "source": [
        "### Clasificación"
      ],
      "metadata": {
        "id": "kW_FYKav-cfL"
      }
    },
    {
      "cell_type": "code",
      "source": [
        "y_pred_svc_1 = pipe_svc_1.predict(x_test)\n",
        "y_pred_knn_1 = pipe_knn_1.predict(x_test)\n",
        "y_pred_rf_1 = pipe_rf_1.predict(x_test)"
      ],
      "metadata": {
        "id": "qJyDSrP_674D"
      },
      "execution_count": 32,
      "outputs": []
    },
    {
      "cell_type": "code",
      "source": [
        "print(\"Resultados SVC Linear\")\n",
        "print(classification_report(y_test, y_pred_svc_1))"
      ],
      "metadata": {
        "colab": {
          "base_uri": "https://localhost:8080/"
        },
        "id": "nb8feMPF9f7F",
        "outputId": "f3c26689-63fa-4024-aad6-3017a9abf943"
      },
      "execution_count": 33,
      "outputs": [
        {
          "output_type": "stream",
          "name": "stdout",
          "text": [
            "Resultados SVC Linear\n",
            "                 precision    recall  f1-score   support\n",
            "\n",
            "        arquero       1.00      1.00      1.00       190\n",
            "         ataque       0.76      0.81      0.78       129\n",
            "        central       0.56      0.60      0.58       272\n",
            " central_ataque       0.47      0.37      0.41       174\n",
            "central_defensa       0.34      0.16      0.22        63\n",
            "        defensa       0.84      0.94      0.89       354\n",
            "\n",
            "       accuracy                           0.73      1182\n",
            "      macro avg       0.66      0.65      0.65      1182\n",
            "   weighted avg       0.71      0.73      0.72      1182\n",
            "\n"
          ]
        }
      ]
    },
    {
      "cell_type": "code",
      "source": [
        "print(\"Resultados KNN\")\n",
        "print(classification_report(y_test,y_pred_knn_1))"
      ],
      "metadata": {
        "colab": {
          "base_uri": "https://localhost:8080/"
        },
        "id": "c-LDnTKo9rUs",
        "outputId": "fc8967cf-bf02-4d9e-ca4b-90e89af2d8b1"
      },
      "execution_count": 34,
      "outputs": [
        {
          "output_type": "stream",
          "name": "stdout",
          "text": [
            "Resultados KNN\n",
            "                 precision    recall  f1-score   support\n",
            "\n",
            "        arquero       1.00      1.00      1.00       190\n",
            "         ataque       0.68      0.84      0.75       129\n",
            "        central       0.54      0.57      0.56       272\n",
            " central_ataque       0.45      0.28      0.35       174\n",
            "central_defensa       0.33      0.14      0.20        63\n",
            "        defensa       0.81      0.94      0.87       354\n",
            "\n",
            "       accuracy                           0.71      1182\n",
            "      macro avg       0.63      0.63      0.62      1182\n",
            "   weighted avg       0.68      0.71      0.69      1182\n",
            "\n"
          ]
        }
      ]
    },
    {
      "cell_type": "code",
      "source": [
        "print(\"Resultados Random Forest\")\n",
        "print(classification_report(y_test,y_pred_rf_1))"
      ],
      "metadata": {
        "colab": {
          "base_uri": "https://localhost:8080/"
        },
        "id": "q5fsJB4o9sG5",
        "outputId": "f05ddf8e-9ea3-4e85-ee95-2160b3cc495c"
      },
      "execution_count": 109,
      "outputs": [
        {
          "output_type": "stream",
          "name": "stdout",
          "text": [
            "Resultados Random Forest\n",
            "                 precision    recall  f1-score   support\n",
            "\n",
            "        arquero       1.00      1.00      1.00       190\n",
            "         ataque       0.75      0.82      0.79       129\n",
            "        central       0.55      0.62      0.58       272\n",
            " central_ataque       0.47      0.29      0.36       174\n",
            "central_defensa       0.47      0.11      0.18        63\n",
            "        defensa       0.80      0.96      0.87       354\n",
            "\n",
            "       accuracy                           0.73      1182\n",
            "      macro avg       0.67      0.63      0.63      1182\n",
            "   weighted avg       0.70      0.73      0.70      1182\n",
            "\n"
          ]
        }
      ]
    },
    {
      "cell_type": "markdown",
      "source": [
        "En este caso los resultados de clasificación son mixtos,  teniendo los 3 clasificadores rendimientos muy similares (alrededor de $0.7$ de accuracy).\n",
        "-  En general, los clasificadores son capaces de distinguir a la perfección a los arqueros, además de obtener resultados decentes para \"ataque\" y \"defensa\". En este caso resaltan los resultados para la clase \"ataque\", tomando en cuenta que la cantidad de muestras es relativamente baja (alrededor del $10\\%$) en comparación al resto de clases.\n",
        "- La clase \"Central\" en general presenta métricas bajas, pues no están muy lejos de lo que se esperaría de una predicción al azar. En este caso tanto *Precision* como *Recall* están en valores similares, lo que puede indicar que se realiza una cantidad de predicciones parecida al numéro real de ejemplos de la clase.\n",
        "- Por otro lado, las clases \"central_ataque\" y \"central_defensa\" tienen métricas bastante mejorables. En este sentido resalta que ambas tienen *Precision* más alto que *Recall*, lo que lleva a pensar que, en general, se realizan pocas predicciones de estas clases, lo que explicaría el *Recall* tan bajo.\n",
        "\n",
        "En este caso, para mejorar los resultados se podría seguir una metodología similar a la sugerida para la mejora de la predicción de seleccionados. Sin embargo, en este caso tal vez sea necesario realizar una exploración de datos más profunda para definir un curso de acción, pues por ejemplo la clase \"central\" es la que posee la segunda cantidad de muestras más grande, y sin embargo no se obtienen buenos resultados en sus predicciones."
      ],
      "metadata": {
        "id": "CwWoO4BK9qax"
      }
    },
    {
      "cell_type": "markdown",
      "source": [
        "## 1.3 Predicción de Sueldos [2 puntos]\n",
        "\n",
        "<p align=\"center\">\n",
        "  <img src=\"https://media.giphy.com/media/3oEjHWtHAFcOKS4iA0/giphy.gif\" width=\"460\">\n",
        "</p>"
      ],
      "metadata": {
        "id": "C-vkB4xoOGtM",
        "cell_id": "f8008fda06be4d8ab7564d7362151a14",
        "deepnote_cell_type": "markdown"
      }
    },
    {
      "cell_type": "markdown",
      "source": [
        "Queriendo ahondar aún más en el mercado del balompíe, Renacin, logra obtener (de una manera no muy formal) los sueldos de múltiples futbolistas y los guarda en el archivo ```sueldos.csv```. Con ellos les solicita que generen un regresor que les permita predecir el sueldo de los futbolistas en base a las características de los pichichis, esto, debido a su motivación por invertir y/o realizar especulación sobre los sueldos de jugadores.\n",
        "\n",
        "Renacin es claro señalando que deben seguir utilizando la [guía](https://scikit-learn.org/stable/tutorial/machine_learning_map/index.html) y comenten cada uno de los pasos realizados, para obtener su regresión lineal. Señalándoles que no aceptara un $R^2$ inferior a 0.35 para el modelo solicitado.\n",
        "\n",
        "Para esta parte usted tiene total libertad en la generación del regresor, la unica exigencia es que utilice un pipeline para generar la regresión y utilice la metrica $R^2$ para medir el rendimiento de esta.\n",
        "\n",
        "**To-Do**:\n",
        "\n",
        "- [ ] Explique en que consiste la métrica $R^2$\n",
        "- [ ] Generar un pipeline para la regresión.\n",
        "- [ ] Obtener un regresor con un $R^2$ superior a  $0.35$.\n",
        "- [ ] Comente sus resultados y si es posible mejorar los resultados obtenidos. ¿Se necesitarían más datos o otros tipos de características o una combinación de ambos?"
      ],
      "metadata": {
        "tags": [],
        "cell_id": "598c8a91d80c412091470f396af54b5f",
        "deepnote_cell_type": "markdown",
        "id": "eg9SYjB8Fa9X"
      }
    },
    {
      "cell_type": "markdown",
      "source": [
        "**Respuesta**"
      ],
      "metadata": {
        "tags": [],
        "cell_id": "5ce70aab37cb4924b1543eeab84e7de4",
        "deepnote_cell_type": "markdown",
        "id": "Obb-iA--Fa9Y"
      }
    },
    {
      "cell_type": "code",
      "source": [
        "### Código aquí ###\n",
        "try:\n",
        "  df_sueldos = pd.read_csv('sueldos.csv')\n",
        "except:\n",
        "  url = \"https://drive.google.com/uc?id=1R2HIRG7UFxKJHTKF-jDJD7jef0I_FXoY\"\n",
        "  gdown.download(url, 'sueldos.csv')\n",
        "  df_sueldos = pd.read_csv('sueldos.csv')\n"
      ],
      "metadata": {
        "tags": [],
        "cell_id": "96e8db5c5a7044b79966da981618c807",
        "deepnote_cell_type": "code",
        "colab": {
          "base_uri": "https://localhost:8080/"
        },
        "id": "NzicOQQ7Fa9Y",
        "outputId": "016e1f72-4cb2-45a9-922f-e6886715bc01"
      },
      "outputs": [
        {
          "output_type": "stream",
          "name": "stderr",
          "text": [
            "Downloading...\n",
            "From: https://drive.google.com/uc?id=1R2HIRG7UFxKJHTKF-jDJD7jef0I_FXoY\n",
            "To: /content/sueldos.csv\n",
            "100%|██████████| 68.8k/68.8k [00:00<00:00, 43.4MB/s]\n"
          ]
        }
      ],
      "execution_count": 36
    },
    {
      "cell_type": "code",
      "source": [
        "df_sueldos.rename(columns ={'Player':'Name'}, inplace=True)\n",
        "df_sueldos.head()"
      ],
      "metadata": {
        "colab": {
          "base_uri": "https://localhost:8080/",
          "height": 206
        },
        "id": "qgvcpn5_j_sj",
        "outputId": "77404282-8532-410d-e83b-2e329610f29f"
      },
      "execution_count": 44,
      "outputs": [
        {
          "output_type": "execute_result",
          "data": {
            "text/plain": [
              "   Unnamed: 0               Name  Weekly Salary\n",
              "0        1528       Lionel Messi      1538905.0\n",
              "1        1006  Cristiano Ronaldo      1248536.0\n",
              "2        1529  Antoine Griezmann       997032.0\n",
              "3        2004             Neymar       797726.0\n",
              "4        1530        Gareth Bale       607706.0"
            ],
            "text/html": [
              "\n",
              "  <div id=\"df-529ac3be-ddf8-4d56-b640-c036dd9745ff\">\n",
              "    <div class=\"colab-df-container\">\n",
              "      <div>\n",
              "<style scoped>\n",
              "    .dataframe tbody tr th:only-of-type {\n",
              "        vertical-align: middle;\n",
              "    }\n",
              "\n",
              "    .dataframe tbody tr th {\n",
              "        vertical-align: top;\n",
              "    }\n",
              "\n",
              "    .dataframe thead th {\n",
              "        text-align: right;\n",
              "    }\n",
              "</style>\n",
              "<table border=\"1\" class=\"dataframe\">\n",
              "  <thead>\n",
              "    <tr style=\"text-align: right;\">\n",
              "      <th></th>\n",
              "      <th>Unnamed: 0</th>\n",
              "      <th>Name</th>\n",
              "      <th>Weekly Salary</th>\n",
              "    </tr>\n",
              "  </thead>\n",
              "  <tbody>\n",
              "    <tr>\n",
              "      <th>0</th>\n",
              "      <td>1528</td>\n",
              "      <td>Lionel Messi</td>\n",
              "      <td>1538905.0</td>\n",
              "    </tr>\n",
              "    <tr>\n",
              "      <th>1</th>\n",
              "      <td>1006</td>\n",
              "      <td>Cristiano Ronaldo</td>\n",
              "      <td>1248536.0</td>\n",
              "    </tr>\n",
              "    <tr>\n",
              "      <th>2</th>\n",
              "      <td>1529</td>\n",
              "      <td>Antoine Griezmann</td>\n",
              "      <td>997032.0</td>\n",
              "    </tr>\n",
              "    <tr>\n",
              "      <th>3</th>\n",
              "      <td>2004</td>\n",
              "      <td>Neymar</td>\n",
              "      <td>797726.0</td>\n",
              "    </tr>\n",
              "    <tr>\n",
              "      <th>4</th>\n",
              "      <td>1530</td>\n",
              "      <td>Gareth Bale</td>\n",
              "      <td>607706.0</td>\n",
              "    </tr>\n",
              "  </tbody>\n",
              "</table>\n",
              "</div>\n",
              "      <button class=\"colab-df-convert\" onclick=\"convertToInteractive('df-529ac3be-ddf8-4d56-b640-c036dd9745ff')\"\n",
              "              title=\"Convert this dataframe to an interactive table.\"\n",
              "              style=\"display:none;\">\n",
              "        \n",
              "  <svg xmlns=\"http://www.w3.org/2000/svg\" height=\"24px\"viewBox=\"0 0 24 24\"\n",
              "       width=\"24px\">\n",
              "    <path d=\"M0 0h24v24H0V0z\" fill=\"none\"/>\n",
              "    <path d=\"M18.56 5.44l.94 2.06.94-2.06 2.06-.94-2.06-.94-.94-2.06-.94 2.06-2.06.94zm-11 1L8.5 8.5l.94-2.06 2.06-.94-2.06-.94L8.5 2.5l-.94 2.06-2.06.94zm10 10l.94 2.06.94-2.06 2.06-.94-2.06-.94-.94-2.06-.94 2.06-2.06.94z\"/><path d=\"M17.41 7.96l-1.37-1.37c-.4-.4-.92-.59-1.43-.59-.52 0-1.04.2-1.43.59L10.3 9.45l-7.72 7.72c-.78.78-.78 2.05 0 2.83L4 21.41c.39.39.9.59 1.41.59.51 0 1.02-.2 1.41-.59l7.78-7.78 2.81-2.81c.8-.78.8-2.07 0-2.86zM5.41 20L4 18.59l7.72-7.72 1.47 1.35L5.41 20z\"/>\n",
              "  </svg>\n",
              "      </button>\n",
              "      \n",
              "  <style>\n",
              "    .colab-df-container {\n",
              "      display:flex;\n",
              "      flex-wrap:wrap;\n",
              "      gap: 12px;\n",
              "    }\n",
              "\n",
              "    .colab-df-convert {\n",
              "      background-color: #E8F0FE;\n",
              "      border: none;\n",
              "      border-radius: 50%;\n",
              "      cursor: pointer;\n",
              "      display: none;\n",
              "      fill: #1967D2;\n",
              "      height: 32px;\n",
              "      padding: 0 0 0 0;\n",
              "      width: 32px;\n",
              "    }\n",
              "\n",
              "    .colab-df-convert:hover {\n",
              "      background-color: #E2EBFA;\n",
              "      box-shadow: 0px 1px 2px rgba(60, 64, 67, 0.3), 0px 1px 3px 1px rgba(60, 64, 67, 0.15);\n",
              "      fill: #174EA6;\n",
              "    }\n",
              "\n",
              "    [theme=dark] .colab-df-convert {\n",
              "      background-color: #3B4455;\n",
              "      fill: #D2E3FC;\n",
              "    }\n",
              "\n",
              "    [theme=dark] .colab-df-convert:hover {\n",
              "      background-color: #434B5C;\n",
              "      box-shadow: 0px 1px 3px 1px rgba(0, 0, 0, 0.15);\n",
              "      filter: drop-shadow(0px 1px 2px rgba(0, 0, 0, 0.3));\n",
              "      fill: #FFFFFF;\n",
              "    }\n",
              "  </style>\n",
              "\n",
              "      <script>\n",
              "        const buttonEl =\n",
              "          document.querySelector('#df-529ac3be-ddf8-4d56-b640-c036dd9745ff button.colab-df-convert');\n",
              "        buttonEl.style.display =\n",
              "          google.colab.kernel.accessAllowed ? 'block' : 'none';\n",
              "\n",
              "        async function convertToInteractive(key) {\n",
              "          const element = document.querySelector('#df-529ac3be-ddf8-4d56-b640-c036dd9745ff');\n",
              "          const dataTable =\n",
              "            await google.colab.kernel.invokeFunction('convertToInteractive',\n",
              "                                                     [key], {});\n",
              "          if (!dataTable) return;\n",
              "\n",
              "          const docLinkHtml = 'Like what you see? Visit the ' +\n",
              "            '<a target=\"_blank\" href=https://colab.research.google.com/notebooks/data_table.ipynb>data table notebook</a>'\n",
              "            + ' to learn more about interactive tables.';\n",
              "          element.innerHTML = '';\n",
              "          dataTable['output_type'] = 'display_data';\n",
              "          await google.colab.output.renderOutput(dataTable, element);\n",
              "          const docLink = document.createElement('div');\n",
              "          docLink.innerHTML = docLinkHtml;\n",
              "          element.appendChild(docLink);\n",
              "        }\n",
              "      </script>\n",
              "    </div>\n",
              "  </div>\n",
              "  "
            ]
          },
          "metadata": {},
          "execution_count": 44
        }
      ]
    },
    {
      "cell_type": "markdown",
      "source": [
        "Se aplica un inner join con los datos ya existentes para de esta forma utilizar las caracteristicas ya conocidas."
      ],
      "metadata": {
        "id": "cFtlcMoKzG6x"
      }
    },
    {
      "cell_type": "code",
      "source": [
        "df_sueldos = df_sueldos.merge(df_players, on='Name')"
      ],
      "metadata": {
        "id": "huKsc6VSv9tj"
      },
      "execution_count": 47,
      "outputs": []
    },
    {
      "cell_type": "markdown",
      "source": [
        "Al igual que en la clasificación, se aplicarán transformaciones de estandarización y encoding a las caracteristicas. Respecto a las etiquetas generadas con anterioridad, se utilizará la etiqueta que señala si un jugador es seleccionado o no (`label`), mientras que, para no perder información por valores nulos, se utilizará la característica `Club_Position` en lugar de la etiqueta derivada de esta."
      ],
      "metadata": {
        "id": "btvUPgeIz5Mk"
      }
    },
    {
      "cell_type": "code",
      "source": [
        "transformer_salary = ColumnTransformer([\n",
        "    ('Encoding', OneHotEncoder(handle_unknown='ignore'), ['Club_Position', 'Nationality', 'Preffered_Foot', 'Work_Rate']),\n",
        "     ('standarization', StandardScaler(), numeric_columns),# Mismas columnas numéricas definidas antes\n",
        "     ('pass', 'passthrough', ['label'])\n",
        "     ],\n",
        "     remainder='drop'\n",
        "    )"
      ],
      "metadata": {
        "id": "ZUJeUVHozWF3"
      },
      "execution_count": 46,
      "outputs": []
    },
    {
      "cell_type": "code",
      "source": [
        "print(df_sueldos.shape)"
      ],
      "metadata": {
        "colab": {
          "base_uri": "https://localhost:8080/"
        },
        "id": "_57Dhr7-0tRw",
        "outputId": "38c19364-9cdc-41ec-ce76-87fca2687bfe"
      },
      "execution_count": 58,
      "outputs": [
        {
          "output_type": "stream",
          "name": "stdout",
          "text": [
            "(1866, 43)\n"
          ]
        }
      ]
    },
    {
      "cell_type": "markdown",
      "source": [
        "En este caso, la cantidad de muestras no es precisamente alta, pues se tienen alrededor de 1800, por otro lado, la cantidad de caracteristicas es de alrededor de 40, y se espera que con el encoding el número aumente entre 10 y 20 caracteristicas más. Dado que la cantidad de caracteristicas es considerable, pero no se tiene certeza de la importancia de cada una en la tarea de regresión, se seguirán los lineamientos de la guía de \"sklearn\" para cada caso, osea, se escogerá un regresor para el caso en que sólo unas cuantas caracteristicas importan, y uno para el caso contrario. En este contexto, se trabajará con las regresiones Lasso y Ridge, para así tener un punto de comparación entre las penalizaciones L1 y L2."
      ],
      "metadata": {
        "id": "rmDWTy7U00Z9"
      }
    },
    {
      "cell_type": "code",
      "source": [
        "def pipeline_regr(model):\n",
        "  return Pipeline(\n",
        "      [\n",
        "          ('transformer', transformer_salary),\n",
        "          ('regressor', model)\n",
        "      ]\n",
        "  )"
      ],
      "metadata": {
        "id": "e3RJA12E9FHC"
      },
      "execution_count": 59,
      "outputs": []
    },
    {
      "cell_type": "code",
      "source": [
        "x, y = df_sueldos.drop(columns=['Weekly Salary']), df_sueldos['Weekly Salary']\n",
        "x_train, x_test, y_train, y_test = train_test_split(x, y, random_state=42, train_size = 0.7)"
      ],
      "metadata": {
        "id": "axWK0k0RCiYq"
      },
      "execution_count": 77,
      "outputs": []
    },
    {
      "cell_type": "code",
      "source": [
        "from sklearn.metrics import r2_score\n",
        "from sklearn.linear_model import Lasso\n",
        "from sklearn.linear_model import Ridge\n",
        "\n",
        "pipe_lasso = pipeline_regr(Lasso())\n",
        "pipe_ridge = pipeline_regr(Ridge())"
      ],
      "metadata": {
        "id": "cl8GE74J9HH3"
      },
      "execution_count": 78,
      "outputs": []
    },
    {
      "cell_type": "code",
      "source": [
        "pipe_lasso.fit(x_train, y_train)\n",
        "pipe_ridge.fit(x_train, y_train)"
      ],
      "metadata": {
        "colab": {
          "base_uri": "https://localhost:8080/",
          "height": 190
        },
        "id": "9k3WHQomEEjh",
        "outputId": "b3e864fa-0b03-4b90-e563-91caa85f3e52"
      },
      "execution_count": 79,
      "outputs": [
        {
          "output_type": "execute_result",
          "data": {
            "text/plain": [
              "Pipeline(steps=[('transformer',\n",
              "                 ColumnTransformer(transformers=[('Encoding',\n",
              "                                                  OneHotEncoder(handle_unknown='ignore'),\n",
              "                                                  ['Club_Position',\n",
              "                                                   'Nationality',\n",
              "                                                   'Preffered_Foot',\n",
              "                                                   'Work_Rate']),\n",
              "                                                 ('standarization',\n",
              "                                                  StandardScaler(),\n",
              "                                                  ['Height', 'Weight', 'Age',\n",
              "                                                   'Weak_foot', 'Skill_Moves',\n",
              "                                                   'Ball_Control', 'Dribbling',\n",
              "                                                   'Marking', 'Sliding_Tackle',\n",
              "                                                   'Standing_Tackle',\n",
              "                                                   'Aggression', 'Reactions',\n",
              "                                                   'Interceptions', 'Vision',\n",
              "                                                   'Composure', 'Crossing',\n",
              "                                                   'Short_Pass', 'Long_Pass',\n",
              "                                                   'Acceleration', 'Speed',\n",
              "                                                   'Stamina', 'Strength',\n",
              "                                                   'Balance', 'Agility',\n",
              "                                                   'Jumping', 'Heading',\n",
              "                                                   'Shot_Power', 'Finishing',\n",
              "                                                   'Long_Shots', 'Curve', ...]),\n",
              "                                                 ('pass', 'passthrough',\n",
              "                                                  ['label'])])),\n",
              "                ('regressor', Ridge())])"
            ],
            "text/html": [
              "<style>#sk-container-id-5 {color: black;background-color: white;}#sk-container-id-5 pre{padding: 0;}#sk-container-id-5 div.sk-toggleable {background-color: white;}#sk-container-id-5 label.sk-toggleable__label {cursor: pointer;display: block;width: 100%;margin-bottom: 0;padding: 0.3em;box-sizing: border-box;text-align: center;}#sk-container-id-5 label.sk-toggleable__label-arrow:before {content: \"▸\";float: left;margin-right: 0.25em;color: #696969;}#sk-container-id-5 label.sk-toggleable__label-arrow:hover:before {color: black;}#sk-container-id-5 div.sk-estimator:hover label.sk-toggleable__label-arrow:before {color: black;}#sk-container-id-5 div.sk-toggleable__content {max-height: 0;max-width: 0;overflow: hidden;text-align: left;background-color: #f0f8ff;}#sk-container-id-5 div.sk-toggleable__content pre {margin: 0.2em;color: black;border-radius: 0.25em;background-color: #f0f8ff;}#sk-container-id-5 input.sk-toggleable__control:checked~div.sk-toggleable__content {max-height: 200px;max-width: 100%;overflow: auto;}#sk-container-id-5 input.sk-toggleable__control:checked~label.sk-toggleable__label-arrow:before {content: \"▾\";}#sk-container-id-5 div.sk-estimator input.sk-toggleable__control:checked~label.sk-toggleable__label {background-color: #d4ebff;}#sk-container-id-5 div.sk-label input.sk-toggleable__control:checked~label.sk-toggleable__label {background-color: #d4ebff;}#sk-container-id-5 input.sk-hidden--visually {border: 0;clip: rect(1px 1px 1px 1px);clip: rect(1px, 1px, 1px, 1px);height: 1px;margin: -1px;overflow: hidden;padding: 0;position: absolute;width: 1px;}#sk-container-id-5 div.sk-estimator {font-family: monospace;background-color: #f0f8ff;border: 1px dotted black;border-radius: 0.25em;box-sizing: border-box;margin-bottom: 0.5em;}#sk-container-id-5 div.sk-estimator:hover {background-color: #d4ebff;}#sk-container-id-5 div.sk-parallel-item::after {content: \"\";width: 100%;border-bottom: 1px solid gray;flex-grow: 1;}#sk-container-id-5 div.sk-label:hover label.sk-toggleable__label {background-color: #d4ebff;}#sk-container-id-5 div.sk-serial::before {content: \"\";position: absolute;border-left: 1px solid gray;box-sizing: border-box;top: 0;bottom: 0;left: 50%;z-index: 0;}#sk-container-id-5 div.sk-serial {display: flex;flex-direction: column;align-items: center;background-color: white;padding-right: 0.2em;padding-left: 0.2em;position: relative;}#sk-container-id-5 div.sk-item {position: relative;z-index: 1;}#sk-container-id-5 div.sk-parallel {display: flex;align-items: stretch;justify-content: center;background-color: white;position: relative;}#sk-container-id-5 div.sk-item::before, #sk-container-id-5 div.sk-parallel-item::before {content: \"\";position: absolute;border-left: 1px solid gray;box-sizing: border-box;top: 0;bottom: 0;left: 50%;z-index: -1;}#sk-container-id-5 div.sk-parallel-item {display: flex;flex-direction: column;z-index: 1;position: relative;background-color: white;}#sk-container-id-5 div.sk-parallel-item:first-child::after {align-self: flex-end;width: 50%;}#sk-container-id-5 div.sk-parallel-item:last-child::after {align-self: flex-start;width: 50%;}#sk-container-id-5 div.sk-parallel-item:only-child::after {width: 0;}#sk-container-id-5 div.sk-dashed-wrapped {border: 1px dashed gray;margin: 0 0.4em 0.5em 0.4em;box-sizing: border-box;padding-bottom: 0.4em;background-color: white;}#sk-container-id-5 div.sk-label label {font-family: monospace;font-weight: bold;display: inline-block;line-height: 1.2em;}#sk-container-id-5 div.sk-label-container {text-align: center;}#sk-container-id-5 div.sk-container {/* jupyter's `normalize.less` sets `[hidden] { display: none; }` but bootstrap.min.css set `[hidden] { display: none !important; }` so we also need the `!important` here to be able to override the default hidden behavior on the sphinx rendered scikit-learn.org. See: https://github.com/scikit-learn/scikit-learn/issues/21755 */display: inline-block !important;position: relative;}#sk-container-id-5 div.sk-text-repr-fallback {display: none;}</style><div id=\"sk-container-id-5\" class=\"sk-top-container\"><div class=\"sk-text-repr-fallback\"><pre>Pipeline(steps=[(&#x27;transformer&#x27;,\n",
              "                 ColumnTransformer(transformers=[(&#x27;Encoding&#x27;,\n",
              "                                                  OneHotEncoder(handle_unknown=&#x27;ignore&#x27;),\n",
              "                                                  [&#x27;Club_Position&#x27;,\n",
              "                                                   &#x27;Nationality&#x27;,\n",
              "                                                   &#x27;Preffered_Foot&#x27;,\n",
              "                                                   &#x27;Work_Rate&#x27;]),\n",
              "                                                 (&#x27;standarization&#x27;,\n",
              "                                                  StandardScaler(),\n",
              "                                                  [&#x27;Height&#x27;, &#x27;Weight&#x27;, &#x27;Age&#x27;,\n",
              "                                                   &#x27;Weak_foot&#x27;, &#x27;Skill_Moves&#x27;,\n",
              "                                                   &#x27;Ball_Control&#x27;, &#x27;Dribbling&#x27;,\n",
              "                                                   &#x27;Marking&#x27;, &#x27;Sliding_Tackle&#x27;,\n",
              "                                                   &#x27;Standing_Tackle&#x27;,\n",
              "                                                   &#x27;Aggression&#x27;, &#x27;Reactions&#x27;,\n",
              "                                                   &#x27;Interceptions&#x27;, &#x27;Vision&#x27;,\n",
              "                                                   &#x27;Composure&#x27;, &#x27;Crossing&#x27;,\n",
              "                                                   &#x27;Short_Pass&#x27;, &#x27;Long_Pass&#x27;,\n",
              "                                                   &#x27;Acceleration&#x27;, &#x27;Speed&#x27;,\n",
              "                                                   &#x27;Stamina&#x27;, &#x27;Strength&#x27;,\n",
              "                                                   &#x27;Balance&#x27;, &#x27;Agility&#x27;,\n",
              "                                                   &#x27;Jumping&#x27;, &#x27;Heading&#x27;,\n",
              "                                                   &#x27;Shot_Power&#x27;, &#x27;Finishing&#x27;,\n",
              "                                                   &#x27;Long_Shots&#x27;, &#x27;Curve&#x27;, ...]),\n",
              "                                                 (&#x27;pass&#x27;, &#x27;passthrough&#x27;,\n",
              "                                                  [&#x27;label&#x27;])])),\n",
              "                (&#x27;regressor&#x27;, Ridge())])</pre><b>In a Jupyter environment, please rerun this cell to show the HTML representation or trust the notebook. <br />On GitHub, the HTML representation is unable to render, please try loading this page with nbviewer.org.</b></div><div class=\"sk-container\" hidden><div class=\"sk-item sk-dashed-wrapped\"><div class=\"sk-label-container\"><div class=\"sk-label sk-toggleable\"><input class=\"sk-toggleable__control sk-hidden--visually\" id=\"sk-estimator-id-33\" type=\"checkbox\" ><label for=\"sk-estimator-id-33\" class=\"sk-toggleable__label sk-toggleable__label-arrow\">Pipeline</label><div class=\"sk-toggleable__content\"><pre>Pipeline(steps=[(&#x27;transformer&#x27;,\n",
              "                 ColumnTransformer(transformers=[(&#x27;Encoding&#x27;,\n",
              "                                                  OneHotEncoder(handle_unknown=&#x27;ignore&#x27;),\n",
              "                                                  [&#x27;Club_Position&#x27;,\n",
              "                                                   &#x27;Nationality&#x27;,\n",
              "                                                   &#x27;Preffered_Foot&#x27;,\n",
              "                                                   &#x27;Work_Rate&#x27;]),\n",
              "                                                 (&#x27;standarization&#x27;,\n",
              "                                                  StandardScaler(),\n",
              "                                                  [&#x27;Height&#x27;, &#x27;Weight&#x27;, &#x27;Age&#x27;,\n",
              "                                                   &#x27;Weak_foot&#x27;, &#x27;Skill_Moves&#x27;,\n",
              "                                                   &#x27;Ball_Control&#x27;, &#x27;Dribbling&#x27;,\n",
              "                                                   &#x27;Marking&#x27;, &#x27;Sliding_Tackle&#x27;,\n",
              "                                                   &#x27;Standing_Tackle&#x27;,\n",
              "                                                   &#x27;Aggression&#x27;, &#x27;Reactions&#x27;,\n",
              "                                                   &#x27;Interceptions&#x27;, &#x27;Vision&#x27;,\n",
              "                                                   &#x27;Composure&#x27;, &#x27;Crossing&#x27;,\n",
              "                                                   &#x27;Short_Pass&#x27;, &#x27;Long_Pass&#x27;,\n",
              "                                                   &#x27;Acceleration&#x27;, &#x27;Speed&#x27;,\n",
              "                                                   &#x27;Stamina&#x27;, &#x27;Strength&#x27;,\n",
              "                                                   &#x27;Balance&#x27;, &#x27;Agility&#x27;,\n",
              "                                                   &#x27;Jumping&#x27;, &#x27;Heading&#x27;,\n",
              "                                                   &#x27;Shot_Power&#x27;, &#x27;Finishing&#x27;,\n",
              "                                                   &#x27;Long_Shots&#x27;, &#x27;Curve&#x27;, ...]),\n",
              "                                                 (&#x27;pass&#x27;, &#x27;passthrough&#x27;,\n",
              "                                                  [&#x27;label&#x27;])])),\n",
              "                (&#x27;regressor&#x27;, Ridge())])</pre></div></div></div><div class=\"sk-serial\"><div class=\"sk-item sk-dashed-wrapped\"><div class=\"sk-label-container\"><div class=\"sk-label sk-toggleable\"><input class=\"sk-toggleable__control sk-hidden--visually\" id=\"sk-estimator-id-34\" type=\"checkbox\" ><label for=\"sk-estimator-id-34\" class=\"sk-toggleable__label sk-toggleable__label-arrow\">transformer: ColumnTransformer</label><div class=\"sk-toggleable__content\"><pre>ColumnTransformer(transformers=[(&#x27;Encoding&#x27;,\n",
              "                                 OneHotEncoder(handle_unknown=&#x27;ignore&#x27;),\n",
              "                                 [&#x27;Club_Position&#x27;, &#x27;Nationality&#x27;,\n",
              "                                  &#x27;Preffered_Foot&#x27;, &#x27;Work_Rate&#x27;]),\n",
              "                                (&#x27;standarization&#x27;, StandardScaler(),\n",
              "                                 [&#x27;Height&#x27;, &#x27;Weight&#x27;, &#x27;Age&#x27;, &#x27;Weak_foot&#x27;,\n",
              "                                  &#x27;Skill_Moves&#x27;, &#x27;Ball_Control&#x27;, &#x27;Dribbling&#x27;,\n",
              "                                  &#x27;Marking&#x27;, &#x27;Sliding_Tackle&#x27;,\n",
              "                                  &#x27;Standing_Tackle&#x27;, &#x27;Aggression&#x27;, &#x27;Reactions&#x27;,\n",
              "                                  &#x27;Interceptions&#x27;, &#x27;Vision&#x27;, &#x27;Composure&#x27;,\n",
              "                                  &#x27;Crossing&#x27;, &#x27;Short_Pass&#x27;, &#x27;Long_Pass&#x27;,\n",
              "                                  &#x27;Acceleration&#x27;, &#x27;Speed&#x27;, &#x27;Stamina&#x27;,\n",
              "                                  &#x27;Strength&#x27;, &#x27;Balance&#x27;, &#x27;Agility&#x27;, &#x27;Jumping&#x27;,\n",
              "                                  &#x27;Heading&#x27;, &#x27;Shot_Power&#x27;, &#x27;Finishing&#x27;,\n",
              "                                  &#x27;Long_Shots&#x27;, &#x27;Curve&#x27;, ...]),\n",
              "                                (&#x27;pass&#x27;, &#x27;passthrough&#x27;, [&#x27;label&#x27;])])</pre></div></div></div><div class=\"sk-parallel\"><div class=\"sk-parallel-item\"><div class=\"sk-item\"><div class=\"sk-label-container\"><div class=\"sk-label sk-toggleable\"><input class=\"sk-toggleable__control sk-hidden--visually\" id=\"sk-estimator-id-35\" type=\"checkbox\" ><label for=\"sk-estimator-id-35\" class=\"sk-toggleable__label sk-toggleable__label-arrow\">Encoding</label><div class=\"sk-toggleable__content\"><pre>[&#x27;Club_Position&#x27;, &#x27;Nationality&#x27;, &#x27;Preffered_Foot&#x27;, &#x27;Work_Rate&#x27;]</pre></div></div></div><div class=\"sk-serial\"><div class=\"sk-item\"><div class=\"sk-estimator sk-toggleable\"><input class=\"sk-toggleable__control sk-hidden--visually\" id=\"sk-estimator-id-36\" type=\"checkbox\" ><label for=\"sk-estimator-id-36\" class=\"sk-toggleable__label sk-toggleable__label-arrow\">OneHotEncoder</label><div class=\"sk-toggleable__content\"><pre>OneHotEncoder(handle_unknown=&#x27;ignore&#x27;)</pre></div></div></div></div></div></div><div class=\"sk-parallel-item\"><div class=\"sk-item\"><div class=\"sk-label-container\"><div class=\"sk-label sk-toggleable\"><input class=\"sk-toggleable__control sk-hidden--visually\" id=\"sk-estimator-id-37\" type=\"checkbox\" ><label for=\"sk-estimator-id-37\" class=\"sk-toggleable__label sk-toggleable__label-arrow\">standarization</label><div class=\"sk-toggleable__content\"><pre>[&#x27;Height&#x27;, &#x27;Weight&#x27;, &#x27;Age&#x27;, &#x27;Weak_foot&#x27;, &#x27;Skill_Moves&#x27;, &#x27;Ball_Control&#x27;, &#x27;Dribbling&#x27;, &#x27;Marking&#x27;, &#x27;Sliding_Tackle&#x27;, &#x27;Standing_Tackle&#x27;, &#x27;Aggression&#x27;, &#x27;Reactions&#x27;, &#x27;Interceptions&#x27;, &#x27;Vision&#x27;, &#x27;Composure&#x27;, &#x27;Crossing&#x27;, &#x27;Short_Pass&#x27;, &#x27;Long_Pass&#x27;, &#x27;Acceleration&#x27;, &#x27;Speed&#x27;, &#x27;Stamina&#x27;, &#x27;Strength&#x27;, &#x27;Balance&#x27;, &#x27;Agility&#x27;, &#x27;Jumping&#x27;, &#x27;Heading&#x27;, &#x27;Shot_Power&#x27;, &#x27;Finishing&#x27;, &#x27;Long_Shots&#x27;, &#x27;Curve&#x27;, &#x27;Freekick_Accuracy&#x27;, &#x27;Penalties&#x27;, &#x27;Volleys&#x27;]</pre></div></div></div><div class=\"sk-serial\"><div class=\"sk-item\"><div class=\"sk-estimator sk-toggleable\"><input class=\"sk-toggleable__control sk-hidden--visually\" id=\"sk-estimator-id-38\" type=\"checkbox\" ><label for=\"sk-estimator-id-38\" class=\"sk-toggleable__label sk-toggleable__label-arrow\">StandardScaler</label><div class=\"sk-toggleable__content\"><pre>StandardScaler()</pre></div></div></div></div></div></div><div class=\"sk-parallel-item\"><div class=\"sk-item\"><div class=\"sk-label-container\"><div class=\"sk-label sk-toggleable\"><input class=\"sk-toggleable__control sk-hidden--visually\" id=\"sk-estimator-id-39\" type=\"checkbox\" ><label for=\"sk-estimator-id-39\" class=\"sk-toggleable__label sk-toggleable__label-arrow\">pass</label><div class=\"sk-toggleable__content\"><pre>[&#x27;label&#x27;]</pre></div></div></div><div class=\"sk-serial\"><div class=\"sk-item\"><div class=\"sk-estimator sk-toggleable\"><input class=\"sk-toggleable__control sk-hidden--visually\" id=\"sk-estimator-id-40\" type=\"checkbox\" ><label for=\"sk-estimator-id-40\" class=\"sk-toggleable__label sk-toggleable__label-arrow\">passthrough</label><div class=\"sk-toggleable__content\"><pre>passthrough</pre></div></div></div></div></div></div></div></div><div class=\"sk-item\"><div class=\"sk-estimator sk-toggleable\"><input class=\"sk-toggleable__control sk-hidden--visually\" id=\"sk-estimator-id-41\" type=\"checkbox\" ><label for=\"sk-estimator-id-41\" class=\"sk-toggleable__label sk-toggleable__label-arrow\">Ridge</label><div class=\"sk-toggleable__content\"><pre>Ridge()</pre></div></div></div></div></div></div></div>"
            ]
          },
          "metadata": {},
          "execution_count": 79
        }
      ]
    },
    {
      "cell_type": "markdown",
      "source": [
        "**Respuesta**:\n"
      ],
      "metadata": {
        "tags": [],
        "cell_id": "bb39f9e88bf04d639ea5d67732450be6",
        "deepnote_cell_type": "markdown",
        "id": "F9NSNre2Fa9Y"
      }
    },
    {
      "cell_type": "markdown",
      "source": [
        "Para la evaluación de los regresores se utiliza la métrica $R^2$, también conocida como coeficiente de determinación, esta es una métrica definida en el rango $[-∞,1]$ que mide la proporción de varianza de las predicciones respecto a los verdaderos valores. En este caso el mejor valor posible es 1, indicando predicciones perfectas, mientras que valores cercanos a 0 y negativos indican una regresión deficiente."
      ],
      "metadata": {
        "id": "_Uo1vYgslZa5"
      }
    },
    {
      "cell_type": "code",
      "source": [
        "r2_lasso = r2_score(y_test, pipe_lasso.predict(x_test))\n",
        "r2_ridge = r2_score(y_test, pipe_ridge.predict(x_test))"
      ],
      "metadata": {
        "id": "ha7q_LpaEOP1"
      },
      "execution_count": 80,
      "outputs": []
    },
    {
      "cell_type": "code",
      "source": [
        "print(f\"LASSO: {r2_lasso}\")\n",
        "print(f\"Ridge: {r2_ridge}\")"
      ],
      "metadata": {
        "colab": {
          "base_uri": "https://localhost:8080/"
        },
        "id": "cuzrvdbUEe4J",
        "outputId": "01e6215d-a463-496c-d912-a6a6859f86c8"
      },
      "execution_count": 81,
      "outputs": [
        {
          "output_type": "stream",
          "name": "stdout",
          "text": [
            "LASSO: -0.07574850718499815\n",
            "Ridge: 0.009775650777637757\n"
          ]
        }
      ]
    },
    {
      "cell_type": "markdown",
      "source": [
        "En primera instancia los regresores no obtienen buenos resultados con el conjunto de prueba, pues el $R^2$ es más cercano a 0 que a 1 en ambos casos, de hecho LASO obtiene un $R^2$ negativo, lo que es un indicio de un pésimo ajuste. En este caso se siguen los lineamientos de *sklearn* cuando no funciona una regresión Ridge, que es intentar con un regresor de tipo *ensemble*. En este caso se probará con un *Random Forest Regressor*\n",
        "\n"
      ],
      "metadata": {
        "id": "1mfllOI0GEhl"
      }
    },
    {
      "cell_type": "code",
      "source": [
        "from sklearn.ensemble import RandomForestRegressor"
      ],
      "metadata": {
        "id": "f7DOS7psFM9G"
      },
      "execution_count": 82,
      "outputs": []
    },
    {
      "cell_type": "code",
      "source": [
        "pipe_rfr = pipeline_regr(RandomForestRegressor())\n",
        "pipe_rfr.fit(x_train, y_train)\n",
        "r2_rfr = r2_score(y_test, pipe_rfr.predict(x_test))\n",
        "print(f\"Random Forest Regressor: {r2_rfr}\")"
      ],
      "metadata": {
        "colab": {
          "base_uri": "https://localhost:8080/"
        },
        "id": "KDtlCpgeFPdh",
        "outputId": "db8c496c-eee2-4976-942f-29f60faa3379"
      },
      "execution_count": 83,
      "outputs": [
        {
          "output_type": "stream",
          "name": "stdout",
          "text": [
            "Random Forest Regressor: 0.40650691455977717\n"
          ]
        }
      ]
    },
    {
      "cell_type": "markdown",
      "source": [
        "Los resultados obtenidos con el regresor Random Forest son mucho mejores, superando el umbral establecido de $0.35$."
      ],
      "metadata": {
        "id": "0Igy0cR_GoG5"
      }
    },
    {
      "cell_type": "markdown",
      "source": [
        "En general, los resultados dejaron que desear, pues los primeros 2 modelos utilizados obtuvieron un $R^2$ altamente deficiente. En este caso, el uso de modelos *ensemble* fue beneficioso, pues se alcanzaron resultados mejores. Se puede teorizar que la ventaja de Random Forest radica en que este captura mejor relaciones no lineales, mientras que los otros 2 modelos son de regresión lineal.\n",
        "\n",
        "De cualquier forma, es claro que se necesita un mayor trabajo en este problema para mejorar las métricas de los modelos. En este caso el método más directo sería probar otros tipos de regresores no lineales e ir ajustando los hiperparámetros de estos para intentar mejorar los resultados. Sin embargo, una mayor cantidad de muestras podría ayudar a capturar comportamientos que actualmente los modelos no sean capaces de identificar por falta de evidencia. Por otro lado, tal vez la cantidad de dinero que gana un futbolista tenga que ver más con aspectos de marketing, como su popularidad en redes sociales y las campañas de publicidad en las que ha aparecido, por lo que también podría ser de utilidad poseer este tipo de características."
      ],
      "metadata": {
        "id": "o2GlB1tVKBea"
      }
    },
    {
      "cell_type": "markdown",
      "source": [
        "# Conclusión\n",
        "Eso ha sido todo para el lab de hoy, recuerden que el laboratorio tiene un plazo de entrega de una semana. Cualquier duda del laboratorio, no duden en contactarnos por mail o U-cursos.\n",
        "\n",
        "<p align=\"center\">\n",
        "  <img src=\"https://media2.giphy.com/media/l1J3CbFgn5o7DGRuE/giphy.gif\">\n",
        "</p>"
      ],
      "metadata": {
        "id": "Rg4ZMq8ezAH6",
        "cell_id": "502994b597214d4ba2f05e2b900d895c",
        "deepnote_cell_type": "markdown"
      }
    },
    {
      "cell_type": "markdown",
      "source": [
        "<br>\n",
        "<center>\n",
        "<img src=\"https://i.kym-cdn.com/photos/images/original/001/194/195/b18.png\" width=100 height=50 />\n",
        "</center>\n",
        "<br>"
      ],
      "metadata": {
        "id": "wCL1lACBzAH7",
        "cell_id": "da6d643bcf1542a8b119a15edaf0f75c",
        "deepnote_cell_type": "markdown"
      }
    },
    {
      "cell_type": "markdown",
      "source": [
        "<a style='text-decoration:none;line-height:16px;display:flex;color:#5B5B62;padding:10px;justify-content:end;' href='https://deepnote.com?utm_source=created-in-deepnote-cell&projectId=87110296-876e-426f-b91d-aaf681223468' target=\"_blank\">\n",
        "<img alt='Created in deepnote.com' style='display:inline;max-height:16px;margin:0px;margin-right:7.5px;' src='data:image/svg+xml;base64,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' > </img>\n",
        "Created in <span style='font-weight:600;margin-left:4px;'>Deepnote</span></a>"
      ],
      "metadata": {
        "created_in_deepnote_cell": true,
        "deepnote_cell_type": "markdown",
        "id": "gO0-d2gbFa9Z"
      }
    }
  ],
  "nbformat": 4,
  "nbformat_minor": 0,
  "metadata": {
    "toc": {
      "sideBar": true,
      "nav_menu": {},
      "toc_cell": false,
      "title_cell": "Tabla de Contenidos",
      "toc_position": {
        "top": "150px",
        "left": "10px",
        "width": "241.867px",
        "height": "calc(100% - 180px)"
      },
      "skip_h1_title": true,
      "title_sidebar": "Contenidos",
      "base_numbering": 1,
      "number_sections": true,
      "toc_window_display": true,
      "toc_section_display": true
    },
    "colab": {
      "provenance": [],
      "toc_visible": true
    },
    "deepnote": {},
    "kernelspec": {
      "name": "python3",
      "language": "python",
      "display_name": "Python 3"
    },
    "varInspector": {
      "cols": {
        "lenVar": 40,
        "lenName": 16,
        "lenType": 16
      },
      "kernels_config": {
        "r": {
          "library": "var_list.r",
          "varRefreshCmd": "cat(var_dic_list()) ",
          "delete_cmd_prefix": "rm(",
          "delete_cmd_postfix": ") "
        },
        "python": {
          "library": "var_list.py",
          "varRefreshCmd": "print(var_dic_list())",
          "delete_cmd_prefix": "del ",
          "delete_cmd_postfix": ""
        }
      },
      "window_display": false,
      "types_to_exclude": [
        "module",
        "function",
        "builtin_function_or_method",
        "instance",
        "_Feature"
      ]
    },
    "language_info": {
      "name": "python",
      "version": "3.8.3",
      "mimetype": "text/x-python",
      "file_extension": ".py",
      "pygments_lexer": "ipython3",
      "codemirror_mode": {
        "name": "ipython",
        "version": 3
      },
      "nbconvert_exporter": "python"
    },
    "deepnote_notebook_id": "41ad7e529bfb484c8f7f538003203695",
    "deepnote_execution_queue": []
  }
}