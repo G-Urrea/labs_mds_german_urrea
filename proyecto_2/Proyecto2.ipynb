{
  "cells": [
    {
      "cell_type": "markdown",
      "metadata": {
        "cell_id": "b9ead8046fc74db1bf0eb99287c3c91e",
        "deepnote_cell_type": "markdown",
        "id": "8rLloNNNbn99"
      },
      "source": [
        "![](https://www.dii.uchile.cl/wp-content/uploads/2021/06/Magi%CC%81ster-en-Ciencia-de-Datos.png)\n"
      ]
    },
    {
      "cell_type": "markdown",
      "metadata": {
        "cell_id": "ca18b36a3bd54ad09e518c5b63b08ef6",
        "deepnote_cell_type": "markdown",
        "id": "58zCxGhWbn9_"
      },
      "source": [
        "# Proyecto: Riesgo en el Banco Giturra\n",
        "\n",
        "**MDS7202: Laboratorio de Programación Científica para Ciencia de Datos**\n",
        "\n",
        "### Cuerpo Docente:\n",
        "\n",
        "- Profesor: Pablo Badilla, Ignacio Meza De La Jara\n",
        "- Auxiliar: Sebastián Tinoco\n",
        "- Ayudante: Diego Cortez M., Felipe Arias T.\n",
        "- Alumno: Germán Urrea\n"
      ]
    },
    {
      "cell_type": "markdown",
      "metadata": {
        "cell_id": "20bff171d2954732b74d8f532c21895a",
        "deepnote_cell_type": "markdown",
        "id": "UB5TTB1Pbn9_"
      },
      "source": [
        "---\n"
      ]
    },
    {
      "cell_type": "markdown",
      "metadata": {
        "cell_id": "731884b83ce840b1b52d26a180626317",
        "deepnote_cell_type": "markdown",
        "id": "ZAk5d1gubn-B"
      },
      "source": [
        "### Instalación de Librerías y Carga de Datos.\n"
      ]
    },
    {
      "cell_type": "markdown",
      "metadata": {
        "cell_id": "0c0b7aa1618543519231311b567d9bc3",
        "deepnote_cell_type": "markdown",
        "id": "sFzU3cLhbn-B"
      },
      "source": [
        "Para el desarrollo de su proyecto, utilice el conjunto de datos `dataset.pq` para entrenar un modelo de su elección. Además, se adjunta junto con los datos del proyecto un archivo llamado `requirements.txt` que contiene todas las bibliotecas y versiones necesarias para el desarrollo del proyecto. Se le recomienda levantar un ambiente de `conda` para instalar estas librerías y así evitar cualquier problema con las versiones.\n"
      ]
    },
    {
      "cell_type": "code",
      "source": [
        "!pip install joblib==1.3.1\n",
        "!pip install lightgbm==4.0.0\n",
        "!pip install numpy==1.23\n",
        "!pip install --upgrade pandas \"dask[complete]\"\n",
        "!pip install python-dateutil==2.8.2\n",
        "!pip install pytz==2023.3\n",
        "!pip install scikit-learn==1.2.2\n",
        "!pip install scipy==1.11.1\n",
        "!pip install six==1.16.0\n",
        "!pip install threadpoolctl==3.2.0\n",
        "!pip install tzdata==2023.3\n",
        "!pip install xgboost==1.7.6\n",
        "!pip install shap"
      ],
      "metadata": {
        "colab": {
          "base_uri": "https://localhost:8080/",
          "height": 1000
        },
        "id": "hXIUuOzjb8IM",
        "outputId": "cb3086fd-eb2a-4519-ff20-23f0bfcbcd78"
      },
      "execution_count": 1,
      "outputs": [
        {
          "output_type": "stream",
          "name": "stdout",
          "text": [
            "Requirement already satisfied: joblib==1.3.1 in /usr/local/lib/python3.10/dist-packages (1.3.1)\n",
            "Collecting lightgbm==4.0.0\n",
            "  Downloading lightgbm-4.0.0-py3-none-manylinux_2_28_x86_64.whl (3.0 MB)\n",
            "\u001b[2K     \u001b[90m━━━━━━━━━━━━━━━━━━━━━━━━━━━━━━━━━━━━━━━━\u001b[0m \u001b[32m3.0/3.0 MB\u001b[0m \u001b[31m9.6 MB/s\u001b[0m eta \u001b[36m0:00:00\u001b[0m\n",
            "\u001b[?25hRequirement already satisfied: numpy in /usr/local/lib/python3.10/dist-packages (from lightgbm==4.0.0) (1.22.4)\n",
            "Requirement already satisfied: scipy in /usr/local/lib/python3.10/dist-packages (from lightgbm==4.0.0) (1.10.1)\n",
            "Installing collected packages: lightgbm\n",
            "  Attempting uninstall: lightgbm\n",
            "    Found existing installation: lightgbm 3.3.5\n",
            "    Uninstalling lightgbm-3.3.5:\n",
            "      Successfully uninstalled lightgbm-3.3.5\n",
            "Successfully installed lightgbm-4.0.0\n",
            "Collecting numpy==1.23\n",
            "  Downloading numpy-1.23.0-cp310-cp310-manylinux_2_17_x86_64.manylinux2014_x86_64.whl (17.0 MB)\n",
            "\u001b[2K     \u001b[90m━━━━━━━━━━━━━━━━━━━━━━━━━━━━━━━━━━━━━━━━\u001b[0m \u001b[32m17.0/17.0 MB\u001b[0m \u001b[31m37.5 MB/s\u001b[0m eta \u001b[36m0:00:00\u001b[0m\n",
            "\u001b[?25hInstalling collected packages: numpy\n",
            "  Attempting uninstall: numpy\n",
            "    Found existing installation: numpy 1.22.4\n",
            "    Uninstalling numpy-1.22.4:\n",
            "      Successfully uninstalled numpy-1.22.4\n",
            "Successfully installed numpy-1.23.0\n"
          ]
        },
        {
          "output_type": "display_data",
          "data": {
            "application/vnd.colab-display-data+json": {
              "pip_warning": {
                "packages": [
                  "numpy"
                ]
              }
            }
          },
          "metadata": {}
        },
        {
          "output_type": "stream",
          "name": "stdout",
          "text": [
            "Requirement already satisfied: pandas in /usr/local/lib/python3.10/dist-packages (1.5.3)\n",
            "Collecting pandas\n",
            "  Downloading pandas-2.0.3-cp310-cp310-manylinux_2_17_x86_64.manylinux2014_x86_64.whl (12.3 MB)\n",
            "\u001b[2K     \u001b[90m━━━━━━━━━━━━━━━━━━━━━━━━━━━━━━━━━━━━━━━━\u001b[0m \u001b[32m12.3/12.3 MB\u001b[0m \u001b[31m33.4 MB/s\u001b[0m eta \u001b[36m0:00:00\u001b[0m\n",
            "\u001b[?25hRequirement already satisfied: dask[complete] in /usr/local/lib/python3.10/dist-packages (2022.12.1)\n",
            "Collecting dask[complete]\n",
            "  Downloading dask-2023.7.1-py3-none-any.whl (1.2 MB)\n",
            "\u001b[2K     \u001b[90m━━━━━━━━━━━━━━━━━━━━━━━━━━━━━━━━━━━━━━━━\u001b[0m \u001b[32m1.2/1.2 MB\u001b[0m \u001b[31m49.5 MB/s\u001b[0m eta \u001b[36m0:00:00\u001b[0m\n",
            "\u001b[?25hRequirement already satisfied: python-dateutil>=2.8.2 in /usr/local/lib/python3.10/dist-packages (from pandas) (2.8.2)\n",
            "Requirement already satisfied: pytz>=2020.1 in /usr/local/lib/python3.10/dist-packages (from pandas) (2022.7.1)\n",
            "Collecting tzdata>=2022.1 (from pandas)\n",
            "  Downloading tzdata-2023.3-py2.py3-none-any.whl (341 kB)\n",
            "\u001b[2K     \u001b[90m━━━━━━━━━━━━━━━━━━━━━━━━━━━━━━━━━━━━━━\u001b[0m \u001b[32m341.8/341.8 kB\u001b[0m \u001b[31m28.4 MB/s\u001b[0m eta \u001b[36m0:00:00\u001b[0m\n",
            "\u001b[?25hRequirement already satisfied: numpy>=1.21.0 in /usr/local/lib/python3.10/dist-packages (from pandas) (1.23.0)\n",
            "Requirement already satisfied: click>=8.0 in /usr/local/lib/python3.10/dist-packages (from dask[complete]) (8.1.6)\n",
            "Requirement already satisfied: cloudpickle>=1.5.0 in /usr/local/lib/python3.10/dist-packages (from dask[complete]) (2.2.1)\n",
            "Requirement already satisfied: fsspec>=2021.09.0 in /usr/local/lib/python3.10/dist-packages (from dask[complete]) (2023.6.0)\n",
            "Requirement already satisfied: packaging>=20.0 in /usr/local/lib/python3.10/dist-packages (from dask[complete]) (23.1)\n",
            "Requirement already satisfied: partd>=1.2.0 in /usr/local/lib/python3.10/dist-packages (from dask[complete]) (1.4.0)\n",
            "Requirement already satisfied: pyyaml>=5.3.1 in /usr/local/lib/python3.10/dist-packages (from dask[complete]) (6.0.1)\n",
            "Requirement already satisfied: toolz>=0.10.0 in /usr/local/lib/python3.10/dist-packages (from dask[complete]) (0.12.0)\n",
            "Collecting importlib-metadata>=4.13.0 (from dask[complete])\n",
            "  Downloading importlib_metadata-6.8.0-py3-none-any.whl (22 kB)\n",
            "Requirement already satisfied: pyarrow>=7.0 in /usr/local/lib/python3.10/dist-packages (from dask[complete]) (9.0.0)\n",
            "Collecting lz4>=4.3.2 (from dask[complete])\n",
            "  Downloading lz4-4.3.2-cp310-cp310-manylinux_2_17_x86_64.manylinux2014_x86_64.whl (1.3 MB)\n",
            "\u001b[2K     \u001b[90m━━━━━━━━━━━━━━━━━━━━━━━━━━━━━━━━━━━━━━━━\u001b[0m \u001b[32m1.3/1.3 MB\u001b[0m \u001b[31m66.7 MB/s\u001b[0m eta \u001b[36m0:00:00\u001b[0m\n",
            "\u001b[?25hRequirement already satisfied: zipp>=0.5 in /usr/local/lib/python3.10/dist-packages (from importlib-metadata>=4.13.0->dask[complete]) (3.16.2)\n",
            "Requirement already satisfied: locket in /usr/local/lib/python3.10/dist-packages (from partd>=1.2.0->dask[complete]) (1.0.0)\n",
            "Requirement already satisfied: six>=1.5 in /usr/local/lib/python3.10/dist-packages (from python-dateutil>=2.8.2->pandas) (1.16.0)\n",
            "Requirement already satisfied: bokeh>=2.4.2 in /usr/local/lib/python3.10/dist-packages (from dask[complete]) (2.4.3)\n",
            "Requirement already satisfied: jinja2>=2.10.3 in /usr/local/lib/python3.10/dist-packages (from dask[complete]) (3.1.2)\n",
            "Collecting distributed==2023.7.1 (from dask[complete])\n",
            "  Downloading distributed-2023.7.1-py3-none-any.whl (985 kB)\n",
            "\u001b[2K     \u001b[90m━━━━━━━━━━━━━━━━━━━━━━━━━━━━━━━━━━━━━━\u001b[0m \u001b[32m985.5/985.5 kB\u001b[0m \u001b[31m66.2 MB/s\u001b[0m eta \u001b[36m0:00:00\u001b[0m\n",
            "\u001b[?25hRequirement already satisfied: msgpack>=1.0.0 in /usr/local/lib/python3.10/dist-packages (from distributed==2023.7.1->dask[complete]) (1.0.5)\n",
            "Requirement already satisfied: psutil>=5.7.2 in /usr/local/lib/python3.10/dist-packages (from distributed==2023.7.1->dask[complete]) (5.9.5)\n",
            "Requirement already satisfied: sortedcontainers>=2.0.5 in /usr/local/lib/python3.10/dist-packages (from distributed==2023.7.1->dask[complete]) (2.4.0)\n",
            "Requirement already satisfied: tblib>=1.6.0 in /usr/local/lib/python3.10/dist-packages (from distributed==2023.7.1->dask[complete]) (2.0.0)\n",
            "Requirement already satisfied: tornado>=6.0.4 in /usr/local/lib/python3.10/dist-packages (from distributed==2023.7.1->dask[complete]) (6.3.1)\n",
            "Requirement already satisfied: urllib3>=1.24.3 in /usr/local/lib/python3.10/dist-packages (from distributed==2023.7.1->dask[complete]) (1.26.16)\n",
            "Requirement already satisfied: zict>=2.2.0 in /usr/local/lib/python3.10/dist-packages (from distributed==2023.7.1->dask[complete]) (3.0.0)\n",
            "Requirement already satisfied: pillow>=7.1.0 in /usr/local/lib/python3.10/dist-packages (from bokeh>=2.4.2->dask[complete]) (8.4.0)\n",
            "Requirement already satisfied: typing-extensions>=3.10.0 in /usr/local/lib/python3.10/dist-packages (from bokeh>=2.4.2->dask[complete]) (4.7.1)\n",
            "Requirement already satisfied: MarkupSafe>=2.0 in /usr/local/lib/python3.10/dist-packages (from jinja2>=2.10.3->dask[complete]) (2.1.3)\n",
            "Installing collected packages: tzdata, lz4, importlib-metadata, pandas, dask, distributed\n",
            "  Attempting uninstall: importlib-metadata\n",
            "    Found existing installation: importlib-metadata 4.6.4\n",
            "    Uninstalling importlib-metadata-4.6.4:\n",
            "      Successfully uninstalled importlib-metadata-4.6.4\n",
            "  Attempting uninstall: pandas\n",
            "    Found existing installation: pandas 1.5.3\n",
            "    Uninstalling pandas-1.5.3:\n",
            "      Successfully uninstalled pandas-1.5.3\n",
            "  Attempting uninstall: dask\n",
            "    Found existing installation: dask 2022.12.1\n",
            "    Uninstalling dask-2022.12.1:\n",
            "      Successfully uninstalled dask-2022.12.1\n",
            "  Attempting uninstall: distributed\n",
            "    Found existing installation: distributed 2022.12.1\n",
            "    Uninstalling distributed-2022.12.1:\n",
            "      Successfully uninstalled distributed-2022.12.1\n",
            "\u001b[31mERROR: pip's dependency resolver does not currently take into account all the packages that are installed. This behaviour is the source of the following dependency conflicts.\n",
            "google-colab 1.0.0 requires pandas==1.5.3, but you have pandas 2.0.3 which is incompatible.\u001b[0m\u001b[31m\n",
            "\u001b[0mSuccessfully installed dask-2023.7.1 distributed-2023.7.1 importlib-metadata-6.8.0 lz4-4.3.2 pandas-2.0.3 tzdata-2023.3\n",
            "Requirement already satisfied: python-dateutil==2.8.2 in /usr/local/lib/python3.10/dist-packages (2.8.2)\n",
            "Requirement already satisfied: six>=1.5 in /usr/local/lib/python3.10/dist-packages (from python-dateutil==2.8.2) (1.16.0)\n",
            "Collecting pytz==2023.3\n",
            "  Downloading pytz-2023.3-py2.py3-none-any.whl (502 kB)\n",
            "\u001b[2K     \u001b[90m━━━━━━━━━━━━━━━━━━━━━━━━━━━━━━━━━━━━━━━\u001b[0m \u001b[32m502.3/502.3 kB\u001b[0m \u001b[31m5.2 MB/s\u001b[0m eta \u001b[36m0:00:00\u001b[0m\n",
            "\u001b[?25hInstalling collected packages: pytz\n",
            "  Attempting uninstall: pytz\n",
            "    Found existing installation: pytz 2022.7.1\n",
            "    Uninstalling pytz-2022.7.1:\n",
            "      Successfully uninstalled pytz-2022.7.1\n",
            "Successfully installed pytz-2023.3\n",
            "Requirement already satisfied: scikit-learn==1.2.2 in /usr/local/lib/python3.10/dist-packages (1.2.2)\n",
            "Requirement already satisfied: numpy>=1.17.3 in /usr/local/lib/python3.10/dist-packages (from scikit-learn==1.2.2) (1.23.0)\n",
            "Requirement already satisfied: scipy>=1.3.2 in /usr/local/lib/python3.10/dist-packages (from scikit-learn==1.2.2) (1.10.1)\n",
            "Requirement already satisfied: joblib>=1.1.1 in /usr/local/lib/python3.10/dist-packages (from scikit-learn==1.2.2) (1.3.1)\n",
            "Requirement already satisfied: threadpoolctl>=2.0.0 in /usr/local/lib/python3.10/dist-packages (from scikit-learn==1.2.2) (3.2.0)\n",
            "Collecting scipy==1.11.1\n",
            "  Downloading scipy-1.11.1-cp310-cp310-manylinux_2_17_x86_64.manylinux2014_x86_64.whl (36.3 MB)\n",
            "\u001b[2K     \u001b[90m━━━━━━━━━━━━━━━━━━━━━━━━━━━━━━━━━━━━━━━━\u001b[0m \u001b[32m36.3/36.3 MB\u001b[0m \u001b[31m26.6 MB/s\u001b[0m eta \u001b[36m0:00:00\u001b[0m\n",
            "\u001b[?25hRequirement already satisfied: numpy<1.28.0,>=1.21.6 in /usr/local/lib/python3.10/dist-packages (from scipy==1.11.1) (1.23.0)\n",
            "Installing collected packages: scipy\n",
            "  Attempting uninstall: scipy\n",
            "    Found existing installation: scipy 1.10.1\n",
            "    Uninstalling scipy-1.10.1:\n",
            "      Successfully uninstalled scipy-1.10.1\n",
            "Successfully installed scipy-1.11.1\n",
            "Requirement already satisfied: six==1.16.0 in /usr/local/lib/python3.10/dist-packages (1.16.0)\n",
            "Requirement already satisfied: threadpoolctl==3.2.0 in /usr/local/lib/python3.10/dist-packages (3.2.0)\n",
            "Requirement already satisfied: tzdata==2023.3 in /usr/local/lib/python3.10/dist-packages (2023.3)\n",
            "Requirement already satisfied: xgboost==1.7.6 in /usr/local/lib/python3.10/dist-packages (1.7.6)\n",
            "Requirement already satisfied: numpy in /usr/local/lib/python3.10/dist-packages (from xgboost==1.7.6) (1.23.0)\n",
            "Requirement already satisfied: scipy in /usr/local/lib/python3.10/dist-packages (from xgboost==1.7.6) (1.11.1)\n",
            "Collecting shap\n",
            "  Downloading shap-0.42.1-cp310-cp310-manylinux_2_12_x86_64.manylinux2010_x86_64.manylinux_2_17_x86_64.manylinux2014_x86_64.whl (547 kB)\n",
            "\u001b[2K     \u001b[90m━━━━━━━━━━━━━━━━━━━━━━━━━━━━━━━━━━━━━━━\u001b[0m \u001b[32m547.9/547.9 kB\u001b[0m \u001b[31m5.4 MB/s\u001b[0m eta \u001b[36m0:00:00\u001b[0m\n",
            "\u001b[?25hRequirement already satisfied: numpy in /usr/local/lib/python3.10/dist-packages (from shap) (1.23.0)\n",
            "Requirement already satisfied: scipy in /usr/local/lib/python3.10/dist-packages (from shap) (1.11.1)\n",
            "Requirement already satisfied: scikit-learn in /usr/local/lib/python3.10/dist-packages (from shap) (1.2.2)\n",
            "Requirement already satisfied: pandas in /usr/local/lib/python3.10/dist-packages (from shap) (2.0.3)\n",
            "Requirement already satisfied: tqdm>=4.27.0 in /usr/local/lib/python3.10/dist-packages (from shap) (4.65.0)\n",
            "Requirement already satisfied: packaging>20.9 in /usr/local/lib/python3.10/dist-packages (from shap) (23.1)\n",
            "Collecting slicer==0.0.7 (from shap)\n",
            "  Downloading slicer-0.0.7-py3-none-any.whl (14 kB)\n",
            "Requirement already satisfied: numba in /usr/local/lib/python3.10/dist-packages (from shap) (0.56.4)\n",
            "Requirement already satisfied: cloudpickle in /usr/local/lib/python3.10/dist-packages (from shap) (2.2.1)\n",
            "Requirement already satisfied: llvmlite<0.40,>=0.39.0dev0 in /usr/local/lib/python3.10/dist-packages (from numba->shap) (0.39.1)\n",
            "Requirement already satisfied: setuptools in /usr/local/lib/python3.10/dist-packages (from numba->shap) (67.7.2)\n",
            "Requirement already satisfied: python-dateutil>=2.8.2 in /usr/local/lib/python3.10/dist-packages (from pandas->shap) (2.8.2)\n",
            "Requirement already satisfied: pytz>=2020.1 in /usr/local/lib/python3.10/dist-packages (from pandas->shap) (2023.3)\n",
            "Requirement already satisfied: tzdata>=2022.1 in /usr/local/lib/python3.10/dist-packages (from pandas->shap) (2023.3)\n",
            "Requirement already satisfied: joblib>=1.1.1 in /usr/local/lib/python3.10/dist-packages (from scikit-learn->shap) (1.3.1)\n",
            "Requirement already satisfied: threadpoolctl>=2.0.0 in /usr/local/lib/python3.10/dist-packages (from scikit-learn->shap) (3.2.0)\n",
            "Requirement already satisfied: six>=1.5 in /usr/local/lib/python3.10/dist-packages (from python-dateutil>=2.8.2->pandas->shap) (1.16.0)\n",
            "Installing collected packages: slicer, shap\n",
            "Successfully installed shap-0.42.1 slicer-0.0.7\n"
          ]
        }
      ]
    },
    {
      "cell_type": "markdown",
      "source": [
        "### 1. Introducción\n"
      ],
      "metadata": {
        "id": "5ksTixZKdsM_"
      }
    },
    {
      "cell_type": "markdown",
      "source": [
        "El banquero Giturra requiere de un modelo de predicción de riesgos de préstamo, de forma que pueda ofrecerle mejores condiciones a los clientes que presenten un menor riesgo. Los datos disponibles para esta tarea se componen principalmente de el historial de comportamiento financiero del cliente, como el número de prestamos, comportamiento de pago de créditos, salario mensual, etc.\n",
        "\n",
        "En este caso se enfocará el problema en predecir a aquellos clientes que supongan un riesgo para el banquero, pues priorizando la predicción de riesgos altos se podrá evitar mejor el impago de prestamos. Es debido a lo anterior que se le dará prioridad a la métrica F1 en el caso de riesgo alto, pues dado que además se busca la retención de clientes responsables, es prudente tener un equilibrio entre encontrar a los clientes riesgosos y no acusar falsamente a un cliente de riesgoso.\n",
        "\n",
        "Con el objetivo de resolver el problema se preprocesan los datos, reemplazando outliers, creando características nuevas, codificando características categoricas, escalando características numéricas y aplicando técnicas de balanceo de clases. Para el modelamiento se aplican multiples clasificadores, así como técnicas de ajuste de hiperparámetros. Al finalizar los experimentos el mejor clasificador obtenido no logra una métrica F1 alta, sin embargo esta es suficientemente alta para demostrar que es posible encontrar relaciones útiles para resolver el problema y seguir iterando para mejorar los resultados."
      ],
      "metadata": {
        "id": "jLiV42w0hz0E"
      }
    },
    {
      "cell_type": "markdown",
      "source": [
        "### 2. Carga de datos Análisis Exploratorio de Datos\n"
      ],
      "metadata": {
        "id": "eQ2eKPa-dxOn"
      }
    },
    {
      "cell_type": "code",
      "source": [
        "import pandas as pd\n",
        "df = pd.read_parquet('dataset.pq')"
      ],
      "metadata": {
        "id": "MhaM0T-8dyN3"
      },
      "execution_count": 1,
      "outputs": []
    },
    {
      "cell_type": "markdown",
      "source": [
        "### 3. Preparación de Datos\n"
      ],
      "metadata": {
        "id": "IlijtRVde1h3"
      }
    },
    {
      "cell_type": "markdown",
      "source": [
        "#### Limpieza de datos"
      ],
      "metadata": {
        "id": "lc3agBEG5Xko"
      }
    },
    {
      "cell_type": "markdown",
      "source": [
        "Durante la exploración de datos se identificaron algunos patrones que podrían complicar la tarea de clasificación:\n",
        "- Variables númericas como `age` poseen valores extremos que no tienen mucho sentido en su contexto. Otras variables como `annual_income` poseen valores extremos, pero si pueden tener sentido (por ejemplo, el banco podría tener clientes millonarios).\n",
        "- A su vez, variables categoricas como `payment_behaviour` o `occupation` poseen valores sin sentido o en blanco.\n",
        "\n",
        "Es debido a esto que antes de preprocesar los datos se considerarán los valores extemos como nulos, con el objetivo de reemplazarlos posteriormente, mientras que muestras con variables categoricas sin sentido simplemente se eliminarán."
      ],
      "metadata": {
        "id": "LCvsps495ezR"
      }
    },
    {
      "cell_type": "code",
      "source": [
        "from sklearn.compose import ColumnTransformer\n",
        "from sklearn.preprocessing import OneHotEncoder\n",
        "from sklearn.preprocessing import RobustScaler\n",
        "import numpy as np"
      ],
      "metadata": {
        "id": "p4xih1nawAGE"
      },
      "execution_count": 2,
      "outputs": []
    },
    {
      "cell_type": "code",
      "source": [
        "import re\n",
        "def preprocess_payment_behaviour(s):\n",
        "    match = re.match(r'(\\w+_spent)_(\\w+.+)', s)\n",
        "    return match.group(1), match.group(2)"
      ],
      "metadata": {
        "id": "kKbUh9cwZ99E"
      },
      "execution_count": 3,
      "outputs": []
    },
    {
      "cell_type": "code",
      "source": [
        "def clean_df(df, clean_na= True, clean_outliers = True):\n",
        "  df_copy = df.copy(True)\n",
        "  # Limpiar\n",
        "  # Outliers válidos: annual_income,\n",
        "  # Negativos validos:  changed_credit_limit\n",
        "  # Negativos no válidos: age, monthly_balance (principalmente porque es muy extremo)\n",
        "  # Negativos a cambiar por 0: Delay_from_due_date, Num_of_Delayed_Payment, Num_of_Loan\n",
        "\n",
        "  # Eliminar/Reemplazar valores extraños\n",
        "  df_copy = df_copy[df_copy['payment_behaviour']!='!@9#%8']\n",
        "  df_copy = df_copy.replace({'_______': 'Not specified'})\n",
        "\n",
        "  # Eliminar negativos que no hacen sentido\n",
        "  no_negatives = ['age', 'monthly_balance']\n",
        "  if clean_outliers:\n",
        "    df_copy = df_copy[(df_copy[no_negatives] < 0 ).any(axis=1)]\n",
        "  else:\n",
        "    df_copy.loc[:, no_negatives] = np.where(df_copy[no_negatives] < 0, np.nan, df_copy[no_negatives])\n",
        "  # Reemplazar negativos que podrían ser interpretados como zero\n",
        "  num = df_copy._get_numeric_data().drop(columns = ['changed_credit_limit'])\n",
        "  if clean_outliers:\n",
        "      num[num < 0] = 0\n",
        "  else:\n",
        "      num[num<0] = np.nan\n",
        "  # No pueden haber rangos de edades extraños\n",
        "  if clean_outliers:\n",
        "    df_copy = df_copy[(df_copy['age']<100)]\n",
        "  else:\n",
        "    df_copy.loc[df_copy['age'] >= 100, 'age'] = np.nan\n",
        "\n",
        "  # Quitar valores extremos que no hacen sentido\n",
        "  no_outliers = ['num_bank_accounts', 'num_credit_card', 'interest_rate', 'num_of_loan',\n",
        "                 'num_of_delayed_payment', 'num_credit_inquiries']\n",
        "  outliers_thresh = df_copy[no_outliers].quantile(0.95)\n",
        "  if clean_outliers:\n",
        "    df_copy = df_copy[(df_copy[no_outliers]<=outliers_thresh).any(axis=1)]\n",
        "  else:\n",
        "    # np.where(df[no_outliers] > df[no_outliers].quantile(0.95) , np.nan, df[no_outliers])\n",
        "    df_copy.loc[:, no_outliers] = np.where(df_copy[no_outliers] > df_copy[no_outliers].quantile(0.95) , np.nan, df_copy[no_outliers])\n",
        "\n",
        "\n",
        "  # Feature Engineering\n",
        "  df_copy[['spent', 'payment_value']] = df_copy['payment_behaviour'].apply(preprocess_payment_behaviour).apply(pd.Series)\n",
        "  if clean_na:\n",
        "    df_copy = df_copy.dropna()\n",
        "  return df_copy\n",
        "\n"
      ],
      "metadata": {
        "id": "nnlLYDJ7Gdro"
      },
      "execution_count": 12,
      "outputs": []
    },
    {
      "cell_type": "markdown",
      "source": [
        "#### Preprocesamiento"
      ],
      "metadata": {
        "id": "4zM3ZTiW7FJR"
      }
    },
    {
      "cell_type": "markdown",
      "source": [
        "Como preprocesamiento previo al modelamiento se realizará lo siguiente:\n",
        "- Eliminar el id de cliente, pues no aporta a la generalización\n",
        "- Imputar NANS númericos como la mediana de la distribución\n",
        "- Aplicar RobustScaler a las variables númericas, pues existen variables con outliers, por lo que este tipo de escalado es más adecuado.\n",
        "- Aplicar encoders a variables categoricas, aquellas que puedan ordenarse serán codificadas con un ordinal encoder, mientras que aquellas que no se codificarán con un one hot encoder.\n",
        "\n",
        "Se crearán, además, variables categoricas en base a otras:\n",
        "- Se separará la edad en rangos.\n",
        "- Se separará la variable `payment_behaviour` entre los gastos y el valor de los pagos, de forma que puedan ordenarse.\n",
        "\n",
        "En cuanto a los valores nulos, la eliminación de estos implicaría la eliminación de casi 2000 muestras de un número inicial de 12500. Este número no es menor, y se considera que se podrían aprovechar los datos que si están bien imputados si se reemplazan dichos valores nulos, en este caso, debido a la presencia de outliers, se utilizará como medida de imputación la mediana, que es una medida con cierta robustez hacia valores extremos."
      ],
      "metadata": {
        "id": "hyxrubZi7HMO"
      }
    },
    {
      "cell_type": "code",
      "source": [
        "df_cleaned = clean_df(df, clean_na=False, clean_outliers=False)\n",
        "df_cleaned[['num_bank_accounts', 'num_credit_card', 'interest_rate', 'num_of_loan',\n",
        "                 'num_of_delayed_payment', 'num_credit_inquiries']].max()"
      ],
      "metadata": {
        "colab": {
          "base_uri": "https://localhost:8080/"
        },
        "id": "hFdxaLzdORIo",
        "outputId": "16f7851e-0d64-4990-8667-eb19ee44e245"
      },
      "execution_count": 13,
      "outputs": [
        {
          "output_type": "execute_result",
          "data": {
            "text/plain": [
              "num_bank_accounts         10.0\n",
              "num_credit_card           10.0\n",
              "interest_rate             33.0\n",
              "num_of_loan                8.0\n",
              "num_of_delayed_payment    24.0\n",
              "num_credit_inquiries      14.0\n",
              "dtype: float64"
            ]
          },
          "metadata": {},
          "execution_count": 13
        }
      ]
    },
    {
      "cell_type": "code",
      "source": [
        "from sklearn.preprocessing import OrdinalEncoder\n",
        "from sklearn.preprocessing import KBinsDiscretizer\n",
        "from imblearn.pipeline import Pipeline\n",
        "from sklearn.impute import SimpleImputer\n",
        "\n",
        "spent_ordinal = OrdinalEncoder(categories = [['Low_spent', 'High_spent']])\n",
        "payment_ordinal = OrdinalEncoder(categories = [['Small_value_payments', 'Medium_value_payments', 'Large_value_payments']])\n",
        "age_pipe = Pipeline([\n",
        "    ('imputer', SimpleImputer(strategy='median')),\n",
        "    ('to_ordinal', KBinsDiscretizer(encode='ordinal', random_state=42))\n",
        "    ])\n",
        "scaling_pipe = Pipeline([\n",
        "    ('imputer', SimpleImputer(strategy='median')),\n",
        "    ('RobustScaler', RobustScaler())\n",
        "])"
      ],
      "metadata": {
        "id": "494Loj4qnRiI"
      },
      "execution_count": 20,
      "outputs": []
    },
    {
      "cell_type": "code",
      "source": [
        "num_cols = df_cleaned._get_numeric_data().drop(columns = ['credit_score', 'age']).columns\n",
        "ct = ColumnTransformer(\n",
        "    [\n",
        "        (\"drop\", \"drop\", [\"customer_id\", \"payment_behaviour\"]),\n",
        "        (\"encoding\", OneHotEncoder(sparse_output=False), ['occupation', 'payment_of_min_amount']),\n",
        "        (\"num_preprocess\", scaling_pipe, num_cols),\n",
        "        (\"spent_encoding\", spent_ordinal, ['spent']),\n",
        "        (\"payment_encoding\", payment_ordinal, ['payment_value']),\n",
        "        (\"age_group\", age_pipe, ['age'])\n",
        "         ],\n",
        "     remainder='passthrough', sparse_threshold=0, verbose_feature_names_out=False)"
      ],
      "metadata": {
        "id": "6vaV079pHTFD"
      },
      "execution_count": 21,
      "outputs": []
    },
    {
      "cell_type": "code",
      "source": [
        "ct.set_output(transform=\"pandas\")\n",
        "df_trans = ct.fit_transform(df_cleaned)\n",
        "ct.set_output(transform=\"default\")"
      ],
      "metadata": {
        "colab": {
          "base_uri": "https://localhost:8080/",
          "height": 151
        },
        "id": "Xg_1gVg5caNV",
        "outputId": "5d55a3a4-bbbd-4d7f-dbe6-423214378e41"
      },
      "execution_count": 22,
      "outputs": [
        {
          "output_type": "execute_result",
          "data": {
            "text/plain": [
              "ColumnTransformer(remainder='passthrough', sparse_threshold=0,\n",
              "                  transformers=[('drop', 'drop',\n",
              "                                 ['customer_id', 'payment_behaviour']),\n",
              "                                ('encoding', OneHotEncoder(sparse_output=False),\n",
              "                                 ['occupation', 'payment_of_min_amount']),\n",
              "                                ('num_preprocess',\n",
              "                                 Pipeline(steps=[('imputer',\n",
              "                                                  SimpleImputer(strategy='median')),\n",
              "                                                 ('RobustScaler',\n",
              "                                                  RobustScaler())]),\n",
              "                                 Index(['annual_income',...\n",
              "                                                             'High_spent']]),\n",
              "                                 ['spent']),\n",
              "                                ('payment_encoding',\n",
              "                                 OrdinalEncoder(categories=[['Small_value_payments',\n",
              "                                                             'Medium_value_payments',\n",
              "                                                             'Large_value_payments']]),\n",
              "                                 ['payment_value']),\n",
              "                                ('age_group',\n",
              "                                 Pipeline(steps=[('imputer',\n",
              "                                                  SimpleImputer(strategy='median')),\n",
              "                                                 ('to_ordinal',\n",
              "                                                  KBinsDiscretizer(encode='ordinal',\n",
              "                                                                   random_state=42))]),\n",
              "                                 ['age'])],\n",
              "                  verbose_feature_names_out=False)"
            ],
            "text/html": [
              "<style>#sk-container-id-1 {color: black;background-color: white;}#sk-container-id-1 pre{padding: 0;}#sk-container-id-1 div.sk-toggleable {background-color: white;}#sk-container-id-1 label.sk-toggleable__label {cursor: pointer;display: block;width: 100%;margin-bottom: 0;padding: 0.3em;box-sizing: border-box;text-align: center;}#sk-container-id-1 label.sk-toggleable__label-arrow:before {content: \"▸\";float: left;margin-right: 0.25em;color: #696969;}#sk-container-id-1 label.sk-toggleable__label-arrow:hover:before {color: black;}#sk-container-id-1 div.sk-estimator:hover label.sk-toggleable__label-arrow:before {color: black;}#sk-container-id-1 div.sk-toggleable__content {max-height: 0;max-width: 0;overflow: hidden;text-align: left;background-color: #f0f8ff;}#sk-container-id-1 div.sk-toggleable__content pre {margin: 0.2em;color: black;border-radius: 0.25em;background-color: #f0f8ff;}#sk-container-id-1 input.sk-toggleable__control:checked~div.sk-toggleable__content {max-height: 200px;max-width: 100%;overflow: auto;}#sk-container-id-1 input.sk-toggleable__control:checked~label.sk-toggleable__label-arrow:before {content: \"▾\";}#sk-container-id-1 div.sk-estimator input.sk-toggleable__control:checked~label.sk-toggleable__label {background-color: #d4ebff;}#sk-container-id-1 div.sk-label input.sk-toggleable__control:checked~label.sk-toggleable__label {background-color: #d4ebff;}#sk-container-id-1 input.sk-hidden--visually {border: 0;clip: rect(1px 1px 1px 1px);clip: rect(1px, 1px, 1px, 1px);height: 1px;margin: -1px;overflow: hidden;padding: 0;position: absolute;width: 1px;}#sk-container-id-1 div.sk-estimator {font-family: monospace;background-color: #f0f8ff;border: 1px dotted black;border-radius: 0.25em;box-sizing: border-box;margin-bottom: 0.5em;}#sk-container-id-1 div.sk-estimator:hover {background-color: #d4ebff;}#sk-container-id-1 div.sk-parallel-item::after {content: \"\";width: 100%;border-bottom: 1px solid gray;flex-grow: 1;}#sk-container-id-1 div.sk-label:hover label.sk-toggleable__label {background-color: #d4ebff;}#sk-container-id-1 div.sk-serial::before {content: \"\";position: absolute;border-left: 1px solid gray;box-sizing: border-box;top: 0;bottom: 0;left: 50%;z-index: 0;}#sk-container-id-1 div.sk-serial {display: flex;flex-direction: column;align-items: center;background-color: white;padding-right: 0.2em;padding-left: 0.2em;position: relative;}#sk-container-id-1 div.sk-item {position: relative;z-index: 1;}#sk-container-id-1 div.sk-parallel {display: flex;align-items: stretch;justify-content: center;background-color: white;position: relative;}#sk-container-id-1 div.sk-item::before, #sk-container-id-1 div.sk-parallel-item::before {content: \"\";position: absolute;border-left: 1px solid gray;box-sizing: border-box;top: 0;bottom: 0;left: 50%;z-index: -1;}#sk-container-id-1 div.sk-parallel-item {display: flex;flex-direction: column;z-index: 1;position: relative;background-color: white;}#sk-container-id-1 div.sk-parallel-item:first-child::after {align-self: flex-end;width: 50%;}#sk-container-id-1 div.sk-parallel-item:last-child::after {align-self: flex-start;width: 50%;}#sk-container-id-1 div.sk-parallel-item:only-child::after {width: 0;}#sk-container-id-1 div.sk-dashed-wrapped {border: 1px dashed gray;margin: 0 0.4em 0.5em 0.4em;box-sizing: border-box;padding-bottom: 0.4em;background-color: white;}#sk-container-id-1 div.sk-label label {font-family: monospace;font-weight: bold;display: inline-block;line-height: 1.2em;}#sk-container-id-1 div.sk-label-container {text-align: center;}#sk-container-id-1 div.sk-container {/* jupyter's `normalize.less` sets `[hidden] { display: none; }` but bootstrap.min.css set `[hidden] { display: none !important; }` so we also need the `!important` here to be able to override the default hidden behavior on the sphinx rendered scikit-learn.org. See: https://github.com/scikit-learn/scikit-learn/issues/21755 */display: inline-block !important;position: relative;}#sk-container-id-1 div.sk-text-repr-fallback {display: none;}</style><div id=\"sk-container-id-1\" class=\"sk-top-container\"><div class=\"sk-text-repr-fallback\"><pre>ColumnTransformer(remainder=&#x27;passthrough&#x27;, sparse_threshold=0,\n",
              "                  transformers=[(&#x27;drop&#x27;, &#x27;drop&#x27;,\n",
              "                                 [&#x27;customer_id&#x27;, &#x27;payment_behaviour&#x27;]),\n",
              "                                (&#x27;encoding&#x27;, OneHotEncoder(sparse_output=False),\n",
              "                                 [&#x27;occupation&#x27;, &#x27;payment_of_min_amount&#x27;]),\n",
              "                                (&#x27;num_preprocess&#x27;,\n",
              "                                 Pipeline(steps=[(&#x27;imputer&#x27;,\n",
              "                                                  SimpleImputer(strategy=&#x27;median&#x27;)),\n",
              "                                                 (&#x27;RobustScaler&#x27;,\n",
              "                                                  RobustScaler())]),\n",
              "                                 Index([&#x27;annual_income&#x27;,...\n",
              "                                                             &#x27;High_spent&#x27;]]),\n",
              "                                 [&#x27;spent&#x27;]),\n",
              "                                (&#x27;payment_encoding&#x27;,\n",
              "                                 OrdinalEncoder(categories=[[&#x27;Small_value_payments&#x27;,\n",
              "                                                             &#x27;Medium_value_payments&#x27;,\n",
              "                                                             &#x27;Large_value_payments&#x27;]]),\n",
              "                                 [&#x27;payment_value&#x27;]),\n",
              "                                (&#x27;age_group&#x27;,\n",
              "                                 Pipeline(steps=[(&#x27;imputer&#x27;,\n",
              "                                                  SimpleImputer(strategy=&#x27;median&#x27;)),\n",
              "                                                 (&#x27;to_ordinal&#x27;,\n",
              "                                                  KBinsDiscretizer(encode=&#x27;ordinal&#x27;,\n",
              "                                                                   random_state=42))]),\n",
              "                                 [&#x27;age&#x27;])],\n",
              "                  verbose_feature_names_out=False)</pre><b>In a Jupyter environment, please rerun this cell to show the HTML representation or trust the notebook. <br />On GitHub, the HTML representation is unable to render, please try loading this page with nbviewer.org.</b></div><div class=\"sk-container\" hidden><div class=\"sk-item sk-dashed-wrapped\"><div class=\"sk-label-container\"><div class=\"sk-label sk-toggleable\"><input class=\"sk-toggleable__control sk-hidden--visually\" id=\"sk-estimator-id-1\" type=\"checkbox\" ><label for=\"sk-estimator-id-1\" class=\"sk-toggleable__label sk-toggleable__label-arrow\">ColumnTransformer</label><div class=\"sk-toggleable__content\"><pre>ColumnTransformer(remainder=&#x27;passthrough&#x27;, sparse_threshold=0,\n",
              "                  transformers=[(&#x27;drop&#x27;, &#x27;drop&#x27;,\n",
              "                                 [&#x27;customer_id&#x27;, &#x27;payment_behaviour&#x27;]),\n",
              "                                (&#x27;encoding&#x27;, OneHotEncoder(sparse_output=False),\n",
              "                                 [&#x27;occupation&#x27;, &#x27;payment_of_min_amount&#x27;]),\n",
              "                                (&#x27;num_preprocess&#x27;,\n",
              "                                 Pipeline(steps=[(&#x27;imputer&#x27;,\n",
              "                                                  SimpleImputer(strategy=&#x27;median&#x27;)),\n",
              "                                                 (&#x27;RobustScaler&#x27;,\n",
              "                                                  RobustScaler())]),\n",
              "                                 Index([&#x27;annual_income&#x27;,...\n",
              "                                                             &#x27;High_spent&#x27;]]),\n",
              "                                 [&#x27;spent&#x27;]),\n",
              "                                (&#x27;payment_encoding&#x27;,\n",
              "                                 OrdinalEncoder(categories=[[&#x27;Small_value_payments&#x27;,\n",
              "                                                             &#x27;Medium_value_payments&#x27;,\n",
              "                                                             &#x27;Large_value_payments&#x27;]]),\n",
              "                                 [&#x27;payment_value&#x27;]),\n",
              "                                (&#x27;age_group&#x27;,\n",
              "                                 Pipeline(steps=[(&#x27;imputer&#x27;,\n",
              "                                                  SimpleImputer(strategy=&#x27;median&#x27;)),\n",
              "                                                 (&#x27;to_ordinal&#x27;,\n",
              "                                                  KBinsDiscretizer(encode=&#x27;ordinal&#x27;,\n",
              "                                                                   random_state=42))]),\n",
              "                                 [&#x27;age&#x27;])],\n",
              "                  verbose_feature_names_out=False)</pre></div></div></div><div class=\"sk-parallel\"><div class=\"sk-parallel-item\"><div class=\"sk-item\"><div class=\"sk-label-container\"><div class=\"sk-label sk-toggleable\"><input class=\"sk-toggleable__control sk-hidden--visually\" id=\"sk-estimator-id-2\" type=\"checkbox\" ><label for=\"sk-estimator-id-2\" class=\"sk-toggleable__label sk-toggleable__label-arrow\">drop</label><div class=\"sk-toggleable__content\"><pre>[&#x27;customer_id&#x27;, &#x27;payment_behaviour&#x27;]</pre></div></div></div><div class=\"sk-serial\"><div class=\"sk-item\"><div class=\"sk-estimator sk-toggleable\"><input class=\"sk-toggleable__control sk-hidden--visually\" id=\"sk-estimator-id-3\" type=\"checkbox\" ><label for=\"sk-estimator-id-3\" class=\"sk-toggleable__label sk-toggleable__label-arrow\">drop</label><div class=\"sk-toggleable__content\"><pre>drop</pre></div></div></div></div></div></div><div class=\"sk-parallel-item\"><div class=\"sk-item\"><div class=\"sk-label-container\"><div class=\"sk-label sk-toggleable\"><input class=\"sk-toggleable__control sk-hidden--visually\" id=\"sk-estimator-id-4\" type=\"checkbox\" ><label for=\"sk-estimator-id-4\" class=\"sk-toggleable__label sk-toggleable__label-arrow\">encoding</label><div class=\"sk-toggleable__content\"><pre>[&#x27;occupation&#x27;, &#x27;payment_of_min_amount&#x27;]</pre></div></div></div><div class=\"sk-serial\"><div class=\"sk-item\"><div class=\"sk-estimator sk-toggleable\"><input class=\"sk-toggleable__control sk-hidden--visually\" id=\"sk-estimator-id-5\" type=\"checkbox\" ><label for=\"sk-estimator-id-5\" class=\"sk-toggleable__label sk-toggleable__label-arrow\">OneHotEncoder</label><div class=\"sk-toggleable__content\"><pre>OneHotEncoder(sparse_output=False)</pre></div></div></div></div></div></div><div class=\"sk-parallel-item\"><div class=\"sk-item\"><div class=\"sk-label-container\"><div class=\"sk-label sk-toggleable\"><input class=\"sk-toggleable__control sk-hidden--visually\" id=\"sk-estimator-id-6\" type=\"checkbox\" ><label for=\"sk-estimator-id-6\" class=\"sk-toggleable__label sk-toggleable__label-arrow\">num_preprocess</label><div class=\"sk-toggleable__content\"><pre>Index([&#x27;annual_income&#x27;, &#x27;monthly_inhand_salary&#x27;, &#x27;num_bank_accounts&#x27;,\n",
              "       &#x27;num_credit_card&#x27;, &#x27;interest_rate&#x27;, &#x27;num_of_loan&#x27;,\n",
              "       &#x27;delay_from_due_date&#x27;, &#x27;num_of_delayed_payment&#x27;, &#x27;changed_credit_limit&#x27;,\n",
              "       &#x27;num_credit_inquiries&#x27;, &#x27;outstanding_debt&#x27;, &#x27;credit_utilization_ratio&#x27;,\n",
              "       &#x27;credit_history_age&#x27;, &#x27;total_emi_per_month&#x27;, &#x27;amount_invested_monthly&#x27;,\n",
              "       &#x27;monthly_balance&#x27;],\n",
              "      dtype=&#x27;object&#x27;)</pre></div></div></div><div class=\"sk-serial\"><div class=\"sk-item\"><div class=\"sk-serial\"><div class=\"sk-item\"><div class=\"sk-estimator sk-toggleable\"><input class=\"sk-toggleable__control sk-hidden--visually\" id=\"sk-estimator-id-7\" type=\"checkbox\" ><label for=\"sk-estimator-id-7\" class=\"sk-toggleable__label sk-toggleable__label-arrow\">SimpleImputer</label><div class=\"sk-toggleable__content\"><pre>SimpleImputer(strategy=&#x27;median&#x27;)</pre></div></div></div><div class=\"sk-item\"><div class=\"sk-estimator sk-toggleable\"><input class=\"sk-toggleable__control sk-hidden--visually\" id=\"sk-estimator-id-8\" type=\"checkbox\" ><label for=\"sk-estimator-id-8\" class=\"sk-toggleable__label sk-toggleable__label-arrow\">RobustScaler</label><div class=\"sk-toggleable__content\"><pre>RobustScaler()</pre></div></div></div></div></div></div></div></div><div class=\"sk-parallel-item\"><div class=\"sk-item\"><div class=\"sk-label-container\"><div class=\"sk-label sk-toggleable\"><input class=\"sk-toggleable__control sk-hidden--visually\" id=\"sk-estimator-id-9\" type=\"checkbox\" ><label for=\"sk-estimator-id-9\" class=\"sk-toggleable__label sk-toggleable__label-arrow\">spent_encoding</label><div class=\"sk-toggleable__content\"><pre>[&#x27;spent&#x27;]</pre></div></div></div><div class=\"sk-serial\"><div class=\"sk-item\"><div class=\"sk-estimator sk-toggleable\"><input class=\"sk-toggleable__control sk-hidden--visually\" id=\"sk-estimator-id-10\" type=\"checkbox\" ><label for=\"sk-estimator-id-10\" class=\"sk-toggleable__label sk-toggleable__label-arrow\">OrdinalEncoder</label><div class=\"sk-toggleable__content\"><pre>OrdinalEncoder(categories=[[&#x27;Low_spent&#x27;, &#x27;High_spent&#x27;]])</pre></div></div></div></div></div></div><div class=\"sk-parallel-item\"><div class=\"sk-item\"><div class=\"sk-label-container\"><div class=\"sk-label sk-toggleable\"><input class=\"sk-toggleable__control sk-hidden--visually\" id=\"sk-estimator-id-11\" type=\"checkbox\" ><label for=\"sk-estimator-id-11\" class=\"sk-toggleable__label sk-toggleable__label-arrow\">payment_encoding</label><div class=\"sk-toggleable__content\"><pre>[&#x27;payment_value&#x27;]</pre></div></div></div><div class=\"sk-serial\"><div class=\"sk-item\"><div class=\"sk-estimator sk-toggleable\"><input class=\"sk-toggleable__control sk-hidden--visually\" id=\"sk-estimator-id-12\" type=\"checkbox\" ><label for=\"sk-estimator-id-12\" class=\"sk-toggleable__label sk-toggleable__label-arrow\">OrdinalEncoder</label><div class=\"sk-toggleable__content\"><pre>OrdinalEncoder(categories=[[&#x27;Small_value_payments&#x27;, &#x27;Medium_value_payments&#x27;,\n",
              "                            &#x27;Large_value_payments&#x27;]])</pre></div></div></div></div></div></div><div class=\"sk-parallel-item\"><div class=\"sk-item\"><div class=\"sk-label-container\"><div class=\"sk-label sk-toggleable\"><input class=\"sk-toggleable__control sk-hidden--visually\" id=\"sk-estimator-id-13\" type=\"checkbox\" ><label for=\"sk-estimator-id-13\" class=\"sk-toggleable__label sk-toggleable__label-arrow\">age_group</label><div class=\"sk-toggleable__content\"><pre>[&#x27;age&#x27;]</pre></div></div></div><div class=\"sk-serial\"><div class=\"sk-item\"><div class=\"sk-serial\"><div class=\"sk-item\"><div class=\"sk-estimator sk-toggleable\"><input class=\"sk-toggleable__control sk-hidden--visually\" id=\"sk-estimator-id-14\" type=\"checkbox\" ><label for=\"sk-estimator-id-14\" class=\"sk-toggleable__label sk-toggleable__label-arrow\">SimpleImputer</label><div class=\"sk-toggleable__content\"><pre>SimpleImputer(strategy=&#x27;median&#x27;)</pre></div></div></div><div class=\"sk-item\"><div class=\"sk-estimator sk-toggleable\"><input class=\"sk-toggleable__control sk-hidden--visually\" id=\"sk-estimator-id-15\" type=\"checkbox\" ><label for=\"sk-estimator-id-15\" class=\"sk-toggleable__label sk-toggleable__label-arrow\">KBinsDiscretizer</label><div class=\"sk-toggleable__content\"><pre>KBinsDiscretizer(encode=&#x27;ordinal&#x27;, random_state=42)</pre></div></div></div></div></div></div></div></div><div class=\"sk-parallel-item\"><div class=\"sk-item\"><div class=\"sk-label-container\"><div class=\"sk-label sk-toggleable\"><input class=\"sk-toggleable__control sk-hidden--visually\" id=\"sk-estimator-id-16\" type=\"checkbox\" ><label for=\"sk-estimator-id-16\" class=\"sk-toggleable__label sk-toggleable__label-arrow\">remainder</label><div class=\"sk-toggleable__content\"><pre>[&#x27;credit_score&#x27;]</pre></div></div></div><div class=\"sk-serial\"><div class=\"sk-item\"><div class=\"sk-estimator sk-toggleable\"><input class=\"sk-toggleable__control sk-hidden--visually\" id=\"sk-estimator-id-17\" type=\"checkbox\" ><label for=\"sk-estimator-id-17\" class=\"sk-toggleable__label sk-toggleable__label-arrow\">passthrough</label><div class=\"sk-toggleable__content\"><pre>passthrough</pre></div></div></div></div></div></div></div></div></div></div>"
            ]
          },
          "metadata": {},
          "execution_count": 22
        }
      ]
    },
    {
      "cell_type": "code",
      "source": [
        "df_trans.head()"
      ],
      "metadata": {
        "colab": {
          "base_uri": "https://localhost:8080/",
          "height": 299
        },
        "id": "1QZspspN_HUa",
        "outputId": "15b43d76-1f59-4129-ce9f-875bab41a12e"
      },
      "execution_count": 96,
      "outputs": [
        {
          "output_type": "execute_result",
          "data": {
            "text/plain": [
              "   occupation_Accountant  occupation_Architect  occupation_Developer  \\\n",
              "0                    0.0                   0.0                   0.0   \n",
              "1                    0.0                   0.0                   0.0   \n",
              "2                    0.0                   0.0                   0.0   \n",
              "3                    0.0                   0.0                   0.0   \n",
              "4                    0.0                   0.0                   1.0   \n",
              "\n",
              "   occupation_Doctor  occupation_Engineer  occupation_Entrepreneur  \\\n",
              "0                0.0                  0.0                      0.0   \n",
              "1                0.0                  0.0                      0.0   \n",
              "2                0.0                  1.0                      0.0   \n",
              "3                0.0                  0.0                      1.0   \n",
              "4                0.0                  0.0                      0.0   \n",
              "\n",
              "   occupation_Journalist  occupation_Lawyer  occupation_Manager  \\\n",
              "0                    0.0                0.0                 0.0   \n",
              "1                    0.0                0.0                 0.0   \n",
              "2                    0.0                0.0                 0.0   \n",
              "3                    0.0                0.0                 0.0   \n",
              "4                    0.0                0.0                 0.0   \n",
              "\n",
              "   occupation_Mechanic  ...  outstanding_debt  credit_utilization_ratio  \\\n",
              "0                  0.0  ...         -0.259903                 -0.987422   \n",
              "1                  0.0  ...         -0.408305                  0.063621   \n",
              "2                  0.0  ...          0.097093                  0.699019   \n",
              "3                  0.0  ...         -0.388443                 -0.590513   \n",
              "4                  0.0  ...         -0.162963                 -0.762135   \n",
              "\n",
              "   credit_history_age  total_emi_per_month  amount_invested_monthly  \\\n",
              "0            0.000000            -0.165160                -0.625574   \n",
              "1            0.818182            -0.387448                 0.487616   \n",
              "2            0.000000             1.261541                56.578008   \n",
              "3           -0.090909            -0.404798                -0.047346   \n",
              "4            1.181818            -0.523430                 0.272148   \n",
              "\n",
              "   monthly_balance  spent  payment_value  age  credit_score  \n",
              "0         0.098383    1.0            1.0  1.0             0  \n",
              "1         0.087668    0.0            0.0  1.0             0  \n",
              "2         2.912448    1.0            0.0  2.0             0  \n",
              "3         0.208837    1.0            0.0  4.0             0  \n",
              "4         0.129153    1.0            0.0  0.0             0  \n",
              "\n",
              "[5 rows x 39 columns]"
            ],
            "text/html": [
              "\n",
              "\n",
              "  <div id=\"df-b4f05a5f-8bed-4386-b647-56ec6d0dc3ac\">\n",
              "    <div class=\"colab-df-container\">\n",
              "      <div>\n",
              "<style scoped>\n",
              "    .dataframe tbody tr th:only-of-type {\n",
              "        vertical-align: middle;\n",
              "    }\n",
              "\n",
              "    .dataframe tbody tr th {\n",
              "        vertical-align: top;\n",
              "    }\n",
              "\n",
              "    .dataframe thead th {\n",
              "        text-align: right;\n",
              "    }\n",
              "</style>\n",
              "<table border=\"1\" class=\"dataframe\">\n",
              "  <thead>\n",
              "    <tr style=\"text-align: right;\">\n",
              "      <th></th>\n",
              "      <th>occupation_Accountant</th>\n",
              "      <th>occupation_Architect</th>\n",
              "      <th>occupation_Developer</th>\n",
              "      <th>occupation_Doctor</th>\n",
              "      <th>occupation_Engineer</th>\n",
              "      <th>occupation_Entrepreneur</th>\n",
              "      <th>occupation_Journalist</th>\n",
              "      <th>occupation_Lawyer</th>\n",
              "      <th>occupation_Manager</th>\n",
              "      <th>occupation_Mechanic</th>\n",
              "      <th>...</th>\n",
              "      <th>outstanding_debt</th>\n",
              "      <th>credit_utilization_ratio</th>\n",
              "      <th>credit_history_age</th>\n",
              "      <th>total_emi_per_month</th>\n",
              "      <th>amount_invested_monthly</th>\n",
              "      <th>monthly_balance</th>\n",
              "      <th>spent</th>\n",
              "      <th>payment_value</th>\n",
              "      <th>age</th>\n",
              "      <th>credit_score</th>\n",
              "    </tr>\n",
              "  </thead>\n",
              "  <tbody>\n",
              "    <tr>\n",
              "      <th>0</th>\n",
              "      <td>0.0</td>\n",
              "      <td>0.0</td>\n",
              "      <td>0.0</td>\n",
              "      <td>0.0</td>\n",
              "      <td>0.0</td>\n",
              "      <td>0.0</td>\n",
              "      <td>0.0</td>\n",
              "      <td>0.0</td>\n",
              "      <td>0.0</td>\n",
              "      <td>0.0</td>\n",
              "      <td>...</td>\n",
              "      <td>-0.259903</td>\n",
              "      <td>-0.987422</td>\n",
              "      <td>0.000000</td>\n",
              "      <td>-0.165160</td>\n",
              "      <td>-0.625574</td>\n",
              "      <td>0.098383</td>\n",
              "      <td>1.0</td>\n",
              "      <td>1.0</td>\n",
              "      <td>1.0</td>\n",
              "      <td>0</td>\n",
              "    </tr>\n",
              "    <tr>\n",
              "      <th>1</th>\n",
              "      <td>0.0</td>\n",
              "      <td>0.0</td>\n",
              "      <td>0.0</td>\n",
              "      <td>0.0</td>\n",
              "      <td>0.0</td>\n",
              "      <td>0.0</td>\n",
              "      <td>0.0</td>\n",
              "      <td>0.0</td>\n",
              "      <td>0.0</td>\n",
              "      <td>0.0</td>\n",
              "      <td>...</td>\n",
              "      <td>-0.408305</td>\n",
              "      <td>0.063621</td>\n",
              "      <td>0.818182</td>\n",
              "      <td>-0.387448</td>\n",
              "      <td>0.487616</td>\n",
              "      <td>0.087668</td>\n",
              "      <td>0.0</td>\n",
              "      <td>0.0</td>\n",
              "      <td>1.0</td>\n",
              "      <td>0</td>\n",
              "    </tr>\n",
              "    <tr>\n",
              "      <th>2</th>\n",
              "      <td>0.0</td>\n",
              "      <td>0.0</td>\n",
              "      <td>0.0</td>\n",
              "      <td>0.0</td>\n",
              "      <td>1.0</td>\n",
              "      <td>0.0</td>\n",
              "      <td>0.0</td>\n",
              "      <td>0.0</td>\n",
              "      <td>0.0</td>\n",
              "      <td>0.0</td>\n",
              "      <td>...</td>\n",
              "      <td>0.097093</td>\n",
              "      <td>0.699019</td>\n",
              "      <td>0.000000</td>\n",
              "      <td>1.261541</td>\n",
              "      <td>56.578008</td>\n",
              "      <td>2.912448</td>\n",
              "      <td>1.0</td>\n",
              "      <td>0.0</td>\n",
              "      <td>2.0</td>\n",
              "      <td>0</td>\n",
              "    </tr>\n",
              "    <tr>\n",
              "      <th>3</th>\n",
              "      <td>0.0</td>\n",
              "      <td>0.0</td>\n",
              "      <td>0.0</td>\n",
              "      <td>0.0</td>\n",
              "      <td>0.0</td>\n",
              "      <td>1.0</td>\n",
              "      <td>0.0</td>\n",
              "      <td>0.0</td>\n",
              "      <td>0.0</td>\n",
              "      <td>0.0</td>\n",
              "      <td>...</td>\n",
              "      <td>-0.388443</td>\n",
              "      <td>-0.590513</td>\n",
              "      <td>-0.090909</td>\n",
              "      <td>-0.404798</td>\n",
              "      <td>-0.047346</td>\n",
              "      <td>0.208837</td>\n",
              "      <td>1.0</td>\n",
              "      <td>0.0</td>\n",
              "      <td>4.0</td>\n",
              "      <td>0</td>\n",
              "    </tr>\n",
              "    <tr>\n",
              "      <th>4</th>\n",
              "      <td>0.0</td>\n",
              "      <td>0.0</td>\n",
              "      <td>1.0</td>\n",
              "      <td>0.0</td>\n",
              "      <td>0.0</td>\n",
              "      <td>0.0</td>\n",
              "      <td>0.0</td>\n",
              "      <td>0.0</td>\n",
              "      <td>0.0</td>\n",
              "      <td>0.0</td>\n",
              "      <td>...</td>\n",
              "      <td>-0.162963</td>\n",
              "      <td>-0.762135</td>\n",
              "      <td>1.181818</td>\n",
              "      <td>-0.523430</td>\n",
              "      <td>0.272148</td>\n",
              "      <td>0.129153</td>\n",
              "      <td>1.0</td>\n",
              "      <td>0.0</td>\n",
              "      <td>0.0</td>\n",
              "      <td>0</td>\n",
              "    </tr>\n",
              "  </tbody>\n",
              "</table>\n",
              "<p>5 rows × 39 columns</p>\n",
              "</div>\n",
              "      <button class=\"colab-df-convert\" onclick=\"convertToInteractive('df-b4f05a5f-8bed-4386-b647-56ec6d0dc3ac')\"\n",
              "              title=\"Convert this dataframe to an interactive table.\"\n",
              "              style=\"display:none;\">\n",
              "\n",
              "  <svg xmlns=\"http://www.w3.org/2000/svg\" height=\"24px\"viewBox=\"0 0 24 24\"\n",
              "       width=\"24px\">\n",
              "    <path d=\"M0 0h24v24H0V0z\" fill=\"none\"/>\n",
              "    <path d=\"M18.56 5.44l.94 2.06.94-2.06 2.06-.94-2.06-.94-.94-2.06-.94 2.06-2.06.94zm-11 1L8.5 8.5l.94-2.06 2.06-.94-2.06-.94L8.5 2.5l-.94 2.06-2.06.94zm10 10l.94 2.06.94-2.06 2.06-.94-2.06-.94-.94-2.06-.94 2.06-2.06.94z\"/><path d=\"M17.41 7.96l-1.37-1.37c-.4-.4-.92-.59-1.43-.59-.52 0-1.04.2-1.43.59L10.3 9.45l-7.72 7.72c-.78.78-.78 2.05 0 2.83L4 21.41c.39.39.9.59 1.41.59.51 0 1.02-.2 1.41-.59l7.78-7.78 2.81-2.81c.8-.78.8-2.07 0-2.86zM5.41 20L4 18.59l7.72-7.72 1.47 1.35L5.41 20z\"/>\n",
              "  </svg>\n",
              "      </button>\n",
              "\n",
              "\n",
              "\n",
              "    <div id=\"df-983b7929-08d2-4526-a779-1e809f0d7030\">\n",
              "      <button class=\"colab-df-quickchart\" onclick=\"quickchart('df-983b7929-08d2-4526-a779-1e809f0d7030')\"\n",
              "              title=\"Suggest charts.\"\n",
              "              style=\"display:none;\">\n",
              "\n",
              "<svg xmlns=\"http://www.w3.org/2000/svg\" height=\"24px\"viewBox=\"0 0 24 24\"\n",
              "     width=\"24px\">\n",
              "    <g>\n",
              "        <path d=\"M19 3H5c-1.1 0-2 .9-2 2v14c0 1.1.9 2 2 2h14c1.1 0 2-.9 2-2V5c0-1.1-.9-2-2-2zM9 17H7v-7h2v7zm4 0h-2V7h2v10zm4 0h-2v-4h2v4z\"/>\n",
              "    </g>\n",
              "</svg>\n",
              "      </button>\n",
              "    </div>\n",
              "\n",
              "<style>\n",
              "  .colab-df-quickchart {\n",
              "    background-color: #E8F0FE;\n",
              "    border: none;\n",
              "    border-radius: 50%;\n",
              "    cursor: pointer;\n",
              "    display: none;\n",
              "    fill: #1967D2;\n",
              "    height: 32px;\n",
              "    padding: 0 0 0 0;\n",
              "    width: 32px;\n",
              "  }\n",
              "\n",
              "  .colab-df-quickchart:hover {\n",
              "    background-color: #E2EBFA;\n",
              "    box-shadow: 0px 1px 2px rgba(60, 64, 67, 0.3), 0px 1px 3px 1px rgba(60, 64, 67, 0.15);\n",
              "    fill: #174EA6;\n",
              "  }\n",
              "\n",
              "  [theme=dark] .colab-df-quickchart {\n",
              "    background-color: #3B4455;\n",
              "    fill: #D2E3FC;\n",
              "  }\n",
              "\n",
              "  [theme=dark] .colab-df-quickchart:hover {\n",
              "    background-color: #434B5C;\n",
              "    box-shadow: 0px 1px 3px 1px rgba(0, 0, 0, 0.15);\n",
              "    filter: drop-shadow(0px 1px 2px rgba(0, 0, 0, 0.3));\n",
              "    fill: #FFFFFF;\n",
              "  }\n",
              "</style>\n",
              "\n",
              "    <script>\n",
              "      async function quickchart(key) {\n",
              "        const containerElement = document.querySelector('#' + key);\n",
              "        const charts = await google.colab.kernel.invokeFunction(\n",
              "            'suggestCharts', [key], {});\n",
              "      }\n",
              "    </script>\n",
              "\n",
              "      <script>\n",
              "\n",
              "function displayQuickchartButton(domScope) {\n",
              "  let quickchartButtonEl =\n",
              "    domScope.querySelector('#df-983b7929-08d2-4526-a779-1e809f0d7030 button.colab-df-quickchart');\n",
              "  quickchartButtonEl.style.display =\n",
              "    google.colab.kernel.accessAllowed ? 'block' : 'none';\n",
              "}\n",
              "\n",
              "        displayQuickchartButton(document);\n",
              "      </script>\n",
              "      <style>\n",
              "    .colab-df-container {\n",
              "      display:flex;\n",
              "      flex-wrap:wrap;\n",
              "      gap: 12px;\n",
              "    }\n",
              "\n",
              "    .colab-df-convert {\n",
              "      background-color: #E8F0FE;\n",
              "      border: none;\n",
              "      border-radius: 50%;\n",
              "      cursor: pointer;\n",
              "      display: none;\n",
              "      fill: #1967D2;\n",
              "      height: 32px;\n",
              "      padding: 0 0 0 0;\n",
              "      width: 32px;\n",
              "    }\n",
              "\n",
              "    .colab-df-convert:hover {\n",
              "      background-color: #E2EBFA;\n",
              "      box-shadow: 0px 1px 2px rgba(60, 64, 67, 0.3), 0px 1px 3px 1px rgba(60, 64, 67, 0.15);\n",
              "      fill: #174EA6;\n",
              "    }\n",
              "\n",
              "    [theme=dark] .colab-df-convert {\n",
              "      background-color: #3B4455;\n",
              "      fill: #D2E3FC;\n",
              "    }\n",
              "\n",
              "    [theme=dark] .colab-df-convert:hover {\n",
              "      background-color: #434B5C;\n",
              "      box-shadow: 0px 1px 3px 1px rgba(0, 0, 0, 0.15);\n",
              "      filter: drop-shadow(0px 1px 2px rgba(0, 0, 0, 0.3));\n",
              "      fill: #FFFFFF;\n",
              "    }\n",
              "  </style>\n",
              "\n",
              "      <script>\n",
              "        const buttonEl =\n",
              "          document.querySelector('#df-b4f05a5f-8bed-4386-b647-56ec6d0dc3ac button.colab-df-convert');\n",
              "        buttonEl.style.display =\n",
              "          google.colab.kernel.accessAllowed ? 'block' : 'none';\n",
              "\n",
              "        async function convertToInteractive(key) {\n",
              "          const element = document.querySelector('#df-b4f05a5f-8bed-4386-b647-56ec6d0dc3ac');\n",
              "          const dataTable =\n",
              "            await google.colab.kernel.invokeFunction('convertToInteractive',\n",
              "                                                     [key], {});\n",
              "          if (!dataTable) return;\n",
              "\n",
              "          const docLinkHtml = 'Like what you see? Visit the ' +\n",
              "            '<a target=\"_blank\" href=https://colab.research.google.com/notebooks/data_table.ipynb>data table notebook</a>'\n",
              "            + ' to learn more about interactive tables.';\n",
              "          element.innerHTML = '';\n",
              "          dataTable['output_type'] = 'display_data';\n",
              "          await google.colab.output.renderOutput(dataTable, element);\n",
              "          const docLink = document.createElement('div');\n",
              "          docLink.innerHTML = docLinkHtml;\n",
              "          element.appendChild(docLink);\n",
              "        }\n",
              "      </script>\n",
              "    </div>\n",
              "  </div>\n"
            ]
          },
          "metadata": {},
          "execution_count": 96
        }
      ]
    },
    {
      "cell_type": "markdown",
      "source": [
        "Por último, se considerará un split estándar 80:20 entre conjuntos de entrenamiento y prueba."
      ],
      "metadata": {
        "id": "y8Um5H7-_QEQ"
      }
    },
    {
      "cell_type": "code",
      "source": [
        "x, y = df_cleaned.drop(columns=['credit_score']), df_cleaned['credit_score']"
      ],
      "metadata": {
        "id": "D2M4KEPAlk75"
      },
      "execution_count": 25,
      "outputs": []
    },
    {
      "cell_type": "code",
      "source": [
        "from sklearn.model_selection import train_test_split\n",
        "x_train, x_test, y_train, y_test = train_test_split(x, y, train_size=0.8, random_state=42)"
      ],
      "metadata": {
        "id": "Vm6oyHXMlrrR"
      },
      "execution_count": 26,
      "outputs": []
    },
    {
      "cell_type": "markdown",
      "source": [
        "### 4. Baseline\n",
        "\n",
        "Como primera aproximación se modela el problema con una variedad de clasificadores, teniendo todos estos como datos de entrada el conjunto de entrenamiento con el preprocesamiento descrito anteriormente.\n",
        "Los clasificadores a probar son los siguientes, todos utilizando los parámetros por defecto de sklearn:\n",
        "- Dummy estratificado\n",
        "- Regresión logistica\n",
        "- KNN\n",
        "- Árbol de decisión\n",
        "- SVM\n",
        "- Random Forest\n",
        "- LGBM\n",
        "- XGBoost\n",
        "\n",
        "Se calculan las métricas Precision, Recall y F1 para cada uno de estos, así como el tiempo de entrenamiento."
      ],
      "metadata": {
        "id": "6MPHPF6VeY1r"
      }
    },
    {
      "cell_type": "code",
      "source": [
        "np.random.seed(42)"
      ],
      "metadata": {
        "id": "mWwQhz7b8l8d"
      },
      "execution_count": 28,
      "outputs": []
    },
    {
      "cell_type": "code",
      "source": [
        "from sklearn.dummy import DummyClassifier\n",
        "from sklearn.linear_model import LogisticRegression\n",
        "from sklearn.neighbors import KNeighborsClassifier\n",
        "from sklearn.tree import DecisionTreeClassifier\n",
        "from sklearn.svm import SVC\n",
        "from sklearn.ensemble import RandomForestClassifier\n",
        "from lightgbm import LGBMClassifier\n",
        "from xgboost import XGBClassifier"
      ],
      "metadata": {
        "id": "_JRiU3AseZvc"
      },
      "execution_count": 27,
      "outputs": []
    },
    {
      "cell_type": "code",
      "source": [
        "from sklearn.metrics import precision_score\n",
        "from sklearn.metrics import recall_score\n",
        "from sklearn.metrics import f1_score\n",
        "from sklearn.metrics import classification_report\n",
        "\n",
        "from time import time\n",
        "rs = 42\n",
        "clfs = [DummyClassifier(strategy='stratified'), LogisticRegression(random_state=rs),\n",
        "        KNeighborsClassifier(), DecisionTreeClassifier(random_state=rs),\n",
        "        SVC(random_state=rs), RandomForestClassifier(random_state=rs),\n",
        "        LGBMClassifier(random_state=rs), XGBClassifier(random_state=rs)]\n",
        "\n",
        "base_metrics = {'Recall':{}, 'Precision':{}, \"F1\":{}, 'Time':{}}\n",
        "for clf in clfs:\n",
        "  pipe = Pipeline([\n",
        "      ('ct', ct),\n",
        "      ('clf', clf)\n",
        "  ])\n",
        "  clf_name = str(type(clf).__name__)\n",
        "  ti = time()\n",
        "  pipe.fit(x_train, y_train)\n",
        "  train_time = time()-ti\n",
        "  y_pred = pipe.predict(x_test)\n",
        "\n",
        "  base_metrics['Recall'][clf_name] = recall_score(y_test, y_pred, zero_division=0.0)\n",
        "  base_metrics['Precision'][clf_name]= precision_score(y_test, y_pred, zero_division=0.0)\n",
        "  base_metrics['F1'][clf_name]= f1_score(y_test, y_pred, zero_division=0.0)\n",
        "  base_metrics['Time'][clf_name]= train_time\n",
        "  print(f'Performance: {clf_name}')\n",
        "  print(classification_report(y_test, y_pred, zero_division=0.0))"
      ],
      "metadata": {
        "colab": {
          "base_uri": "https://localhost:8080/"
        },
        "id": "qWkbN1zWmIlF",
        "outputId": "049eba0a-f935-434c-b35d-55f0503e2ed2"
      },
      "execution_count": 40,
      "outputs": [
        {
          "output_type": "stream",
          "name": "stdout",
          "text": [
            "Performance: DummyClassifier\n",
            "              precision    recall  f1-score   support\n",
            "\n",
            "           0       0.70      0.71      0.70      1612\n",
            "           1       0.29      0.27      0.28       689\n",
            "\n",
            "    accuracy                           0.58      2301\n",
            "   macro avg       0.49      0.49      0.49      2301\n",
            "weighted avg       0.57      0.58      0.58      2301\n",
            "\n"
          ]
        },
        {
          "output_type": "stream",
          "name": "stderr",
          "text": [
            "/usr/local/lib/python3.10/dist-packages/sklearn/linear_model/_logistic.py:458: ConvergenceWarning: lbfgs failed to converge (status=1):\n",
            "STOP: TOTAL NO. of ITERATIONS REACHED LIMIT.\n",
            "\n",
            "Increase the number of iterations (max_iter) or scale the data as shown in:\n",
            "    https://scikit-learn.org/stable/modules/preprocessing.html\n",
            "Please also refer to the documentation for alternative solver options:\n",
            "    https://scikit-learn.org/stable/modules/linear_model.html#logistic-regression\n",
            "  n_iter_i = _check_optimize_result(\n"
          ]
        },
        {
          "output_type": "stream",
          "name": "stdout",
          "text": [
            "Performance: LogisticRegression\n",
            "              precision    recall  f1-score   support\n",
            "\n",
            "           0       0.78      0.90      0.83      1612\n",
            "           1       0.63      0.41      0.50       689\n",
            "\n",
            "    accuracy                           0.75      2301\n",
            "   macro avg       0.71      0.65      0.67      2301\n",
            "weighted avg       0.74      0.75      0.73      2301\n",
            "\n",
            "Performance: KNeighborsClassifier\n",
            "              precision    recall  f1-score   support\n",
            "\n",
            "           0       0.78      0.88      0.82      1612\n",
            "           1       0.59      0.41      0.49       689\n",
            "\n",
            "    accuracy                           0.74      2301\n",
            "   macro avg       0.68      0.65      0.66      2301\n",
            "weighted avg       0.72      0.74      0.72      2301\n",
            "\n",
            "Performance: DecisionTreeClassifier\n",
            "              precision    recall  f1-score   support\n",
            "\n",
            "           0       0.77      0.78      0.78      1612\n",
            "           1       0.48      0.46      0.47       689\n",
            "\n",
            "    accuracy                           0.69      2301\n",
            "   macro avg       0.62      0.62      0.62      2301\n",
            "weighted avg       0.68      0.69      0.69      2301\n",
            "\n",
            "Performance: SVC\n",
            "              precision    recall  f1-score   support\n",
            "\n",
            "           0       0.70      1.00      0.82      1612\n",
            "           1       0.00      0.00      0.00       689\n",
            "\n",
            "    accuracy                           0.70      2301\n",
            "   macro avg       0.35      0.50      0.41      2301\n",
            "weighted avg       0.49      0.70      0.58      2301\n",
            "\n",
            "Performance: RandomForestClassifier\n",
            "              precision    recall  f1-score   support\n",
            "\n",
            "           0       0.81      0.90      0.86      1612\n",
            "           1       0.70      0.52      0.59       689\n",
            "\n",
            "    accuracy                           0.79      2301\n",
            "   macro avg       0.76      0.71      0.73      2301\n",
            "weighted avg       0.78      0.79      0.78      2301\n",
            "\n",
            "[LightGBM] [Info] Number of positive: 2624, number of negative: 6577\n",
            "[LightGBM] [Warning] Auto-choosing row-wise multi-threading, the overhead of testing was 0.000638 seconds.\n",
            "You can set `force_row_wise=true` to remove the overhead.\n",
            "And if memory is not enough, you can set `force_col_wise=true`.\n",
            "[LightGBM] [Info] Total Bins 2303\n",
            "[LightGBM] [Info] Number of data points in the train set: 9201, number of used features: 38\n",
            "[LightGBM] [Info] [binary:BoostFromScore]: pavg=0.285186 -> initscore=-0.918879\n",
            "[LightGBM] [Info] Start training from score -0.918879\n",
            "Performance: LGBMClassifier\n",
            "              precision    recall  f1-score   support\n",
            "\n",
            "           0       0.82      0.89      0.85      1612\n",
            "           1       0.67      0.53      0.59       689\n",
            "\n",
            "    accuracy                           0.78      2301\n",
            "   macro avg       0.74      0.71      0.72      2301\n",
            "weighted avg       0.77      0.78      0.77      2301\n",
            "\n",
            "Performance: XGBClassifier\n",
            "              precision    recall  f1-score   support\n",
            "\n",
            "           0       0.80      0.89      0.84      1612\n",
            "           1       0.66      0.49      0.56       689\n",
            "\n",
            "    accuracy                           0.77      2301\n",
            "   macro avg       0.73      0.69      0.70      2301\n",
            "weighted avg       0.76      0.77      0.76      2301\n",
            "\n"
          ]
        }
      ]
    },
    {
      "cell_type": "code",
      "source": [
        "metrics_df = pd.DataFrame(base_metrics)\n",
        "metrics_df.sort_values(by='F1', ascending=False)"
      ],
      "metadata": {
        "colab": {
          "base_uri": "https://localhost:8080/",
          "height": 300
        },
        "id": "gkZjngn5Bxp0",
        "outputId": "c1302860-0d72-4049-f73d-6900cb2db811"
      },
      "execution_count": 98,
      "outputs": [
        {
          "output_type": "execute_result",
          "data": {
            "text/plain": [
              "                          Recall  Precision        F1      Time\n",
              "RandomForestClassifier  0.516691   0.698039  0.593828  2.745048\n",
              "LGBMClassifier          0.529753   0.667276  0.590615  0.353003\n",
              "XGBClassifier           0.489115   0.656920  0.560732  2.766191\n",
              "LogisticRegression      0.409289   0.630872  0.496479  0.448340\n",
              "KNeighborsClassifier    0.413643   0.590062  0.486348  0.544618\n",
              "DecisionTreeClassifier  0.460087   0.475976  0.467897  0.431083\n",
              "DummyClassifier         0.268505   0.285935  0.276946  0.132481\n",
              "SVC                     0.000000   0.000000  0.000000  6.789562"
            ],
            "text/html": [
              "\n",
              "\n",
              "  <div id=\"df-2a31e9b9-5fea-40de-bfdf-c83996501e7a\">\n",
              "    <div class=\"colab-df-container\">\n",
              "      <div>\n",
              "<style scoped>\n",
              "    .dataframe tbody tr th:only-of-type {\n",
              "        vertical-align: middle;\n",
              "    }\n",
              "\n",
              "    .dataframe tbody tr th {\n",
              "        vertical-align: top;\n",
              "    }\n",
              "\n",
              "    .dataframe thead th {\n",
              "        text-align: right;\n",
              "    }\n",
              "</style>\n",
              "<table border=\"1\" class=\"dataframe\">\n",
              "  <thead>\n",
              "    <tr style=\"text-align: right;\">\n",
              "      <th></th>\n",
              "      <th>Recall</th>\n",
              "      <th>Precision</th>\n",
              "      <th>F1</th>\n",
              "      <th>Time</th>\n",
              "    </tr>\n",
              "  </thead>\n",
              "  <tbody>\n",
              "    <tr>\n",
              "      <th>RandomForestClassifier</th>\n",
              "      <td>0.516691</td>\n",
              "      <td>0.698039</td>\n",
              "      <td>0.593828</td>\n",
              "      <td>2.745048</td>\n",
              "    </tr>\n",
              "    <tr>\n",
              "      <th>LGBMClassifier</th>\n",
              "      <td>0.529753</td>\n",
              "      <td>0.667276</td>\n",
              "      <td>0.590615</td>\n",
              "      <td>0.353003</td>\n",
              "    </tr>\n",
              "    <tr>\n",
              "      <th>XGBClassifier</th>\n",
              "      <td>0.489115</td>\n",
              "      <td>0.656920</td>\n",
              "      <td>0.560732</td>\n",
              "      <td>2.766191</td>\n",
              "    </tr>\n",
              "    <tr>\n",
              "      <th>LogisticRegression</th>\n",
              "      <td>0.409289</td>\n",
              "      <td>0.630872</td>\n",
              "      <td>0.496479</td>\n",
              "      <td>0.448340</td>\n",
              "    </tr>\n",
              "    <tr>\n",
              "      <th>KNeighborsClassifier</th>\n",
              "      <td>0.413643</td>\n",
              "      <td>0.590062</td>\n",
              "      <td>0.486348</td>\n",
              "      <td>0.544618</td>\n",
              "    </tr>\n",
              "    <tr>\n",
              "      <th>DecisionTreeClassifier</th>\n",
              "      <td>0.460087</td>\n",
              "      <td>0.475976</td>\n",
              "      <td>0.467897</td>\n",
              "      <td>0.431083</td>\n",
              "    </tr>\n",
              "    <tr>\n",
              "      <th>DummyClassifier</th>\n",
              "      <td>0.268505</td>\n",
              "      <td>0.285935</td>\n",
              "      <td>0.276946</td>\n",
              "      <td>0.132481</td>\n",
              "    </tr>\n",
              "    <tr>\n",
              "      <th>SVC</th>\n",
              "      <td>0.000000</td>\n",
              "      <td>0.000000</td>\n",
              "      <td>0.000000</td>\n",
              "      <td>6.789562</td>\n",
              "    </tr>\n",
              "  </tbody>\n",
              "</table>\n",
              "</div>\n",
              "      <button class=\"colab-df-convert\" onclick=\"convertToInteractive('df-2a31e9b9-5fea-40de-bfdf-c83996501e7a')\"\n",
              "              title=\"Convert this dataframe to an interactive table.\"\n",
              "              style=\"display:none;\">\n",
              "\n",
              "  <svg xmlns=\"http://www.w3.org/2000/svg\" height=\"24px\"viewBox=\"0 0 24 24\"\n",
              "       width=\"24px\">\n",
              "    <path d=\"M0 0h24v24H0V0z\" fill=\"none\"/>\n",
              "    <path d=\"M18.56 5.44l.94 2.06.94-2.06 2.06-.94-2.06-.94-.94-2.06-.94 2.06-2.06.94zm-11 1L8.5 8.5l.94-2.06 2.06-.94-2.06-.94L8.5 2.5l-.94 2.06-2.06.94zm10 10l.94 2.06.94-2.06 2.06-.94-2.06-.94-.94-2.06-.94 2.06-2.06.94z\"/><path d=\"M17.41 7.96l-1.37-1.37c-.4-.4-.92-.59-1.43-.59-.52 0-1.04.2-1.43.59L10.3 9.45l-7.72 7.72c-.78.78-.78 2.05 0 2.83L4 21.41c.39.39.9.59 1.41.59.51 0 1.02-.2 1.41-.59l7.78-7.78 2.81-2.81c.8-.78.8-2.07 0-2.86zM5.41 20L4 18.59l7.72-7.72 1.47 1.35L5.41 20z\"/>\n",
              "  </svg>\n",
              "      </button>\n",
              "\n",
              "\n",
              "\n",
              "    <div id=\"df-92bf38b7-2e9d-4fb2-9e11-de1d5330875d\">\n",
              "      <button class=\"colab-df-quickchart\" onclick=\"quickchart('df-92bf38b7-2e9d-4fb2-9e11-de1d5330875d')\"\n",
              "              title=\"Suggest charts.\"\n",
              "              style=\"display:none;\">\n",
              "\n",
              "<svg xmlns=\"http://www.w3.org/2000/svg\" height=\"24px\"viewBox=\"0 0 24 24\"\n",
              "     width=\"24px\">\n",
              "    <g>\n",
              "        <path d=\"M19 3H5c-1.1 0-2 .9-2 2v14c0 1.1.9 2 2 2h14c1.1 0 2-.9 2-2V5c0-1.1-.9-2-2-2zM9 17H7v-7h2v7zm4 0h-2V7h2v10zm4 0h-2v-4h2v4z\"/>\n",
              "    </g>\n",
              "</svg>\n",
              "      </button>\n",
              "    </div>\n",
              "\n",
              "<style>\n",
              "  .colab-df-quickchart {\n",
              "    background-color: #E8F0FE;\n",
              "    border: none;\n",
              "    border-radius: 50%;\n",
              "    cursor: pointer;\n",
              "    display: none;\n",
              "    fill: #1967D2;\n",
              "    height: 32px;\n",
              "    padding: 0 0 0 0;\n",
              "    width: 32px;\n",
              "  }\n",
              "\n",
              "  .colab-df-quickchart:hover {\n",
              "    background-color: #E2EBFA;\n",
              "    box-shadow: 0px 1px 2px rgba(60, 64, 67, 0.3), 0px 1px 3px 1px rgba(60, 64, 67, 0.15);\n",
              "    fill: #174EA6;\n",
              "  }\n",
              "\n",
              "  [theme=dark] .colab-df-quickchart {\n",
              "    background-color: #3B4455;\n",
              "    fill: #D2E3FC;\n",
              "  }\n",
              "\n",
              "  [theme=dark] .colab-df-quickchart:hover {\n",
              "    background-color: #434B5C;\n",
              "    box-shadow: 0px 1px 3px 1px rgba(0, 0, 0, 0.15);\n",
              "    filter: drop-shadow(0px 1px 2px rgba(0, 0, 0, 0.3));\n",
              "    fill: #FFFFFF;\n",
              "  }\n",
              "</style>\n",
              "\n",
              "    <script>\n",
              "      async function quickchart(key) {\n",
              "        const containerElement = document.querySelector('#' + key);\n",
              "        const charts = await google.colab.kernel.invokeFunction(\n",
              "            'suggestCharts', [key], {});\n",
              "      }\n",
              "    </script>\n",
              "\n",
              "      <script>\n",
              "\n",
              "function displayQuickchartButton(domScope) {\n",
              "  let quickchartButtonEl =\n",
              "    domScope.querySelector('#df-92bf38b7-2e9d-4fb2-9e11-de1d5330875d button.colab-df-quickchart');\n",
              "  quickchartButtonEl.style.display =\n",
              "    google.colab.kernel.accessAllowed ? 'block' : 'none';\n",
              "}\n",
              "\n",
              "        displayQuickchartButton(document);\n",
              "      </script>\n",
              "      <style>\n",
              "    .colab-df-container {\n",
              "      display:flex;\n",
              "      flex-wrap:wrap;\n",
              "      gap: 12px;\n",
              "    }\n",
              "\n",
              "    .colab-df-convert {\n",
              "      background-color: #E8F0FE;\n",
              "      border: none;\n",
              "      border-radius: 50%;\n",
              "      cursor: pointer;\n",
              "      display: none;\n",
              "      fill: #1967D2;\n",
              "      height: 32px;\n",
              "      padding: 0 0 0 0;\n",
              "      width: 32px;\n",
              "    }\n",
              "\n",
              "    .colab-df-convert:hover {\n",
              "      background-color: #E2EBFA;\n",
              "      box-shadow: 0px 1px 2px rgba(60, 64, 67, 0.3), 0px 1px 3px 1px rgba(60, 64, 67, 0.15);\n",
              "      fill: #174EA6;\n",
              "    }\n",
              "\n",
              "    [theme=dark] .colab-df-convert {\n",
              "      background-color: #3B4455;\n",
              "      fill: #D2E3FC;\n",
              "    }\n",
              "\n",
              "    [theme=dark] .colab-df-convert:hover {\n",
              "      background-color: #434B5C;\n",
              "      box-shadow: 0px 1px 3px 1px rgba(0, 0, 0, 0.15);\n",
              "      filter: drop-shadow(0px 1px 2px rgba(0, 0, 0, 0.3));\n",
              "      fill: #FFFFFF;\n",
              "    }\n",
              "  </style>\n",
              "\n",
              "      <script>\n",
              "        const buttonEl =\n",
              "          document.querySelector('#df-2a31e9b9-5fea-40de-bfdf-c83996501e7a button.colab-df-convert');\n",
              "        buttonEl.style.display =\n",
              "          google.colab.kernel.accessAllowed ? 'block' : 'none';\n",
              "\n",
              "        async function convertToInteractive(key) {\n",
              "          const element = document.querySelector('#df-2a31e9b9-5fea-40de-bfdf-c83996501e7a');\n",
              "          const dataTable =\n",
              "            await google.colab.kernel.invokeFunction('convertToInteractive',\n",
              "                                                     [key], {});\n",
              "          if (!dataTable) return;\n",
              "\n",
              "          const docLinkHtml = 'Like what you see? Visit the ' +\n",
              "            '<a target=\"_blank\" href=https://colab.research.google.com/notebooks/data_table.ipynb>data table notebook</a>'\n",
              "            + ' to learn more about interactive tables.';\n",
              "          element.innerHTML = '';\n",
              "          dataTable['output_type'] = 'display_data';\n",
              "          await google.colab.output.renderOutput(dataTable, element);\n",
              "          const docLink = document.createElement('div');\n",
              "          docLink.innerHTML = docLinkHtml;\n",
              "          element.appendChild(docLink);\n",
              "        }\n",
              "      </script>\n",
              "    </div>\n",
              "  </div>\n"
            ]
          },
          "metadata": {},
          "execution_count": 98
        }
      ]
    },
    {
      "cell_type": "markdown",
      "source": [
        "En general todos los clasificadores, con la excepción de SVC, el cual está sesgado hacia la clase mayoritaria, logran mejores métricas que el clasificador Dummy. En este caso, tanto Random Forest como LightGBM presentan las métricas F1 más altas, siendo muy cercanas entre sí. En general, los clasificadores basados en ensamblaje presentan los mejores resultados, esto puede deberse a la combinación de clasificadores debiles, lo que crea un clasficador final más robusto y capaz de capturar posibles relaciones no lineales entre variables.\n",
        "\n"
      ],
      "metadata": {
        "id": "VqEIyyABD4-S"
      }
    },
    {
      "cell_type": "code",
      "source": [
        "metrics_df.sort_values(by='Time')"
      ],
      "metadata": {
        "colab": {
          "base_uri": "https://localhost:8080/",
          "height": 300
        },
        "id": "WwFQ59GBFSe_",
        "outputId": "df06d72a-cd68-47ff-956d-092da1017396"
      },
      "execution_count": 101,
      "outputs": [
        {
          "output_type": "execute_result",
          "data": {
            "text/plain": [
              "                          Recall  Precision        F1      Time\n",
              "DummyClassifier         0.268505   0.285935  0.276946  0.132481\n",
              "LGBMClassifier          0.529753   0.667276  0.590615  0.353003\n",
              "DecisionTreeClassifier  0.460087   0.475976  0.467897  0.431083\n",
              "LogisticRegression      0.409289   0.630872  0.496479  0.448340\n",
              "KNeighborsClassifier    0.413643   0.590062  0.486348  0.544618\n",
              "RandomForestClassifier  0.516691   0.698039  0.593828  2.745048\n",
              "XGBClassifier           0.489115   0.656920  0.560732  2.766191\n",
              "SVC                     0.000000   0.000000  0.000000  6.789562"
            ],
            "text/html": [
              "\n",
              "\n",
              "  <div id=\"df-9bdb0883-311b-49c4-9698-08142e44d743\">\n",
              "    <div class=\"colab-df-container\">\n",
              "      <div>\n",
              "<style scoped>\n",
              "    .dataframe tbody tr th:only-of-type {\n",
              "        vertical-align: middle;\n",
              "    }\n",
              "\n",
              "    .dataframe tbody tr th {\n",
              "        vertical-align: top;\n",
              "    }\n",
              "\n",
              "    .dataframe thead th {\n",
              "        text-align: right;\n",
              "    }\n",
              "</style>\n",
              "<table border=\"1\" class=\"dataframe\">\n",
              "  <thead>\n",
              "    <tr style=\"text-align: right;\">\n",
              "      <th></th>\n",
              "      <th>Recall</th>\n",
              "      <th>Precision</th>\n",
              "      <th>F1</th>\n",
              "      <th>Time</th>\n",
              "    </tr>\n",
              "  </thead>\n",
              "  <tbody>\n",
              "    <tr>\n",
              "      <th>DummyClassifier</th>\n",
              "      <td>0.268505</td>\n",
              "      <td>0.285935</td>\n",
              "      <td>0.276946</td>\n",
              "      <td>0.132481</td>\n",
              "    </tr>\n",
              "    <tr>\n",
              "      <th>LGBMClassifier</th>\n",
              "      <td>0.529753</td>\n",
              "      <td>0.667276</td>\n",
              "      <td>0.590615</td>\n",
              "      <td>0.353003</td>\n",
              "    </tr>\n",
              "    <tr>\n",
              "      <th>DecisionTreeClassifier</th>\n",
              "      <td>0.460087</td>\n",
              "      <td>0.475976</td>\n",
              "      <td>0.467897</td>\n",
              "      <td>0.431083</td>\n",
              "    </tr>\n",
              "    <tr>\n",
              "      <th>LogisticRegression</th>\n",
              "      <td>0.409289</td>\n",
              "      <td>0.630872</td>\n",
              "      <td>0.496479</td>\n",
              "      <td>0.448340</td>\n",
              "    </tr>\n",
              "    <tr>\n",
              "      <th>KNeighborsClassifier</th>\n",
              "      <td>0.413643</td>\n",
              "      <td>0.590062</td>\n",
              "      <td>0.486348</td>\n",
              "      <td>0.544618</td>\n",
              "    </tr>\n",
              "    <tr>\n",
              "      <th>RandomForestClassifier</th>\n",
              "      <td>0.516691</td>\n",
              "      <td>0.698039</td>\n",
              "      <td>0.593828</td>\n",
              "      <td>2.745048</td>\n",
              "    </tr>\n",
              "    <tr>\n",
              "      <th>XGBClassifier</th>\n",
              "      <td>0.489115</td>\n",
              "      <td>0.656920</td>\n",
              "      <td>0.560732</td>\n",
              "      <td>2.766191</td>\n",
              "    </tr>\n",
              "    <tr>\n",
              "      <th>SVC</th>\n",
              "      <td>0.000000</td>\n",
              "      <td>0.000000</td>\n",
              "      <td>0.000000</td>\n",
              "      <td>6.789562</td>\n",
              "    </tr>\n",
              "  </tbody>\n",
              "</table>\n",
              "</div>\n",
              "      <button class=\"colab-df-convert\" onclick=\"convertToInteractive('df-9bdb0883-311b-49c4-9698-08142e44d743')\"\n",
              "              title=\"Convert this dataframe to an interactive table.\"\n",
              "              style=\"display:none;\">\n",
              "\n",
              "  <svg xmlns=\"http://www.w3.org/2000/svg\" height=\"24px\"viewBox=\"0 0 24 24\"\n",
              "       width=\"24px\">\n",
              "    <path d=\"M0 0h24v24H0V0z\" fill=\"none\"/>\n",
              "    <path d=\"M18.56 5.44l.94 2.06.94-2.06 2.06-.94-2.06-.94-.94-2.06-.94 2.06-2.06.94zm-11 1L8.5 8.5l.94-2.06 2.06-.94-2.06-.94L8.5 2.5l-.94 2.06-2.06.94zm10 10l.94 2.06.94-2.06 2.06-.94-2.06-.94-.94-2.06-.94 2.06-2.06.94z\"/><path d=\"M17.41 7.96l-1.37-1.37c-.4-.4-.92-.59-1.43-.59-.52 0-1.04.2-1.43.59L10.3 9.45l-7.72 7.72c-.78.78-.78 2.05 0 2.83L4 21.41c.39.39.9.59 1.41.59.51 0 1.02-.2 1.41-.59l7.78-7.78 2.81-2.81c.8-.78.8-2.07 0-2.86zM5.41 20L4 18.59l7.72-7.72 1.47 1.35L5.41 20z\"/>\n",
              "  </svg>\n",
              "      </button>\n",
              "\n",
              "\n",
              "\n",
              "    <div id=\"df-d7fed9f7-d0fc-4721-8a1d-970b19605386\">\n",
              "      <button class=\"colab-df-quickchart\" onclick=\"quickchart('df-d7fed9f7-d0fc-4721-8a1d-970b19605386')\"\n",
              "              title=\"Suggest charts.\"\n",
              "              style=\"display:none;\">\n",
              "\n",
              "<svg xmlns=\"http://www.w3.org/2000/svg\" height=\"24px\"viewBox=\"0 0 24 24\"\n",
              "     width=\"24px\">\n",
              "    <g>\n",
              "        <path d=\"M19 3H5c-1.1 0-2 .9-2 2v14c0 1.1.9 2 2 2h14c1.1 0 2-.9 2-2V5c0-1.1-.9-2-2-2zM9 17H7v-7h2v7zm4 0h-2V7h2v10zm4 0h-2v-4h2v4z\"/>\n",
              "    </g>\n",
              "</svg>\n",
              "      </button>\n",
              "    </div>\n",
              "\n",
              "<style>\n",
              "  .colab-df-quickchart {\n",
              "    background-color: #E8F0FE;\n",
              "    border: none;\n",
              "    border-radius: 50%;\n",
              "    cursor: pointer;\n",
              "    display: none;\n",
              "    fill: #1967D2;\n",
              "    height: 32px;\n",
              "    padding: 0 0 0 0;\n",
              "    width: 32px;\n",
              "  }\n",
              "\n",
              "  .colab-df-quickchart:hover {\n",
              "    background-color: #E2EBFA;\n",
              "    box-shadow: 0px 1px 2px rgba(60, 64, 67, 0.3), 0px 1px 3px 1px rgba(60, 64, 67, 0.15);\n",
              "    fill: #174EA6;\n",
              "  }\n",
              "\n",
              "  [theme=dark] .colab-df-quickchart {\n",
              "    background-color: #3B4455;\n",
              "    fill: #D2E3FC;\n",
              "  }\n",
              "\n",
              "  [theme=dark] .colab-df-quickchart:hover {\n",
              "    background-color: #434B5C;\n",
              "    box-shadow: 0px 1px 3px 1px rgba(0, 0, 0, 0.15);\n",
              "    filter: drop-shadow(0px 1px 2px rgba(0, 0, 0, 0.3));\n",
              "    fill: #FFFFFF;\n",
              "  }\n",
              "</style>\n",
              "\n",
              "    <script>\n",
              "      async function quickchart(key) {\n",
              "        const containerElement = document.querySelector('#' + key);\n",
              "        const charts = await google.colab.kernel.invokeFunction(\n",
              "            'suggestCharts', [key], {});\n",
              "      }\n",
              "    </script>\n",
              "\n",
              "      <script>\n",
              "\n",
              "function displayQuickchartButton(domScope) {\n",
              "  let quickchartButtonEl =\n",
              "    domScope.querySelector('#df-d7fed9f7-d0fc-4721-8a1d-970b19605386 button.colab-df-quickchart');\n",
              "  quickchartButtonEl.style.display =\n",
              "    google.colab.kernel.accessAllowed ? 'block' : 'none';\n",
              "}\n",
              "\n",
              "        displayQuickchartButton(document);\n",
              "      </script>\n",
              "      <style>\n",
              "    .colab-df-container {\n",
              "      display:flex;\n",
              "      flex-wrap:wrap;\n",
              "      gap: 12px;\n",
              "    }\n",
              "\n",
              "    .colab-df-convert {\n",
              "      background-color: #E8F0FE;\n",
              "      border: none;\n",
              "      border-radius: 50%;\n",
              "      cursor: pointer;\n",
              "      display: none;\n",
              "      fill: #1967D2;\n",
              "      height: 32px;\n",
              "      padding: 0 0 0 0;\n",
              "      width: 32px;\n",
              "    }\n",
              "\n",
              "    .colab-df-convert:hover {\n",
              "      background-color: #E2EBFA;\n",
              "      box-shadow: 0px 1px 2px rgba(60, 64, 67, 0.3), 0px 1px 3px 1px rgba(60, 64, 67, 0.15);\n",
              "      fill: #174EA6;\n",
              "    }\n",
              "\n",
              "    [theme=dark] .colab-df-convert {\n",
              "      background-color: #3B4455;\n",
              "      fill: #D2E3FC;\n",
              "    }\n",
              "\n",
              "    [theme=dark] .colab-df-convert:hover {\n",
              "      background-color: #434B5C;\n",
              "      box-shadow: 0px 1px 3px 1px rgba(0, 0, 0, 0.15);\n",
              "      filter: drop-shadow(0px 1px 2px rgba(0, 0, 0, 0.3));\n",
              "      fill: #FFFFFF;\n",
              "    }\n",
              "  </style>\n",
              "\n",
              "      <script>\n",
              "        const buttonEl =\n",
              "          document.querySelector('#df-9bdb0883-311b-49c4-9698-08142e44d743 button.colab-df-convert');\n",
              "        buttonEl.style.display =\n",
              "          google.colab.kernel.accessAllowed ? 'block' : 'none';\n",
              "\n",
              "        async function convertToInteractive(key) {\n",
              "          const element = document.querySelector('#df-9bdb0883-311b-49c4-9698-08142e44d743');\n",
              "          const dataTable =\n",
              "            await google.colab.kernel.invokeFunction('convertToInteractive',\n",
              "                                                     [key], {});\n",
              "          if (!dataTable) return;\n",
              "\n",
              "          const docLinkHtml = 'Like what you see? Visit the ' +\n",
              "            '<a target=\"_blank\" href=https://colab.research.google.com/notebooks/data_table.ipynb>data table notebook</a>'\n",
              "            + ' to learn more about interactive tables.';\n",
              "          element.innerHTML = '';\n",
              "          dataTable['output_type'] = 'display_data';\n",
              "          await google.colab.output.renderOutput(dataTable, element);\n",
              "          const docLink = document.createElement('div');\n",
              "          docLink.innerHTML = docLinkHtml;\n",
              "          element.appendChild(docLink);\n",
              "        }\n",
              "      </script>\n",
              "    </div>\n",
              "  </div>\n"
            ]
          },
          "metadata": {},
          "execution_count": 101
        }
      ]
    },
    {
      "cell_type": "markdown",
      "source": [
        "En cuanto al tiempo de entrenamiento, el clasificador LGBM es de los más eficientes, a diferencia de Random Forest, el cuál toma un tiempo significativamente mayor. En este sentido, se considera que, tomando en cuenta tanto tiempo de ejecución como métricas, es conveniente experimentar con los clasificadores LGBM y Regresión logistica, debido a que, si bien no poseen la métrica F1 más alta, son los clasificadores con mayor potencial para el ajuste de hiperparámetros, pues obtienen métricas relativamente altas, a la vez que sus tiempos de ejecución son de los más pequeños."
      ],
      "metadata": {
        "id": "D-_rFc1CFYns"
      }
    },
    {
      "cell_type": "markdown",
      "metadata": {
        "cell_id": "8c769111397b49e980ce325911903144",
        "deepnote_cell_type": "markdown",
        "id": "bho1FIn5bn-B"
      },
      "source": [
        "### 5. Optimización del Modelo\n",
        "Debido a que los clasificadores LGBM y regresión logística logran un buen equilibrio entre eficiencia en el tiempo de entrenamiento y métrica F1, se opta por experimentar con el reajuste de hiperparámetros de estos, con el objetivo de mejorar la métrica objetivo.\n",
        "\n",
        "Para esto se aplica el mismo preprocesado utilizado en la sección anterior, con la adición de oversampling en la clase minoritaria  mediante la técnica SMOTE, con el objetivo de mejorar los modelos al eliminar el desbalance de clases en el entrenamiento.\n"
      ]
    },
    {
      "cell_type": "code",
      "source": [
        "!pip install optuna"
      ],
      "metadata": {
        "colab": {
          "base_uri": "https://localhost:8080/"
        },
        "id": "jxDLAzlObqcu",
        "outputId": "cc077f29-6beb-4f3b-8ae8-78490060d9d1"
      },
      "execution_count": 42,
      "outputs": [
        {
          "output_type": "stream",
          "name": "stdout",
          "text": [
            "Installing collected packages: Mako, colorlog, cmaes, alembic, optuna\n",
            "Successfully installed Mako-1.2.4 alembic-1.11.1 cmaes-0.10.0 colorlog-6.7.0 optuna-3.2.0\n"
          ]
        }
      ]
    },
    {
      "cell_type": "code",
      "source": [
        "from sklearn.model_selection import GridSearchCV\n",
        "from imblearn.over_sampling import SMOTE\n",
        "from optuna.integration import OptunaSearchCV\n",
        "from optuna.distributions import CategoricalDistribution\n",
        "from optuna.distributions import IntDistribution\n",
        "from optuna.distributions import FloatDistribution\n",
        "from optuna import create_study"
      ],
      "metadata": {
        "id": "4Svm6V_MbuIl"
      },
      "execution_count": 57,
      "outputs": []
    },
    {
      "cell_type": "markdown",
      "source": [
        "#### Ajuste de LGBM"
      ],
      "metadata": {
        "id": "OfCBPgohvPyC"
      }
    },
    {
      "cell_type": "markdown",
      "source": [
        "Para el reajuste de hiperparámetros del clasificador LGBM, se experimenta con los siguientes:\n",
        "- Algoritmo de boosting: GBDT, DART\n",
        "- Número de estimadores: 50, 100, 150\n",
        "- Learning rate: 0.05, 0.1, 0.15"
      ],
      "metadata": {
        "id": "QAbZQ1kJSfmu"
      }
    },
    {
      "cell_type": "code",
      "source": [
        "lg_pipe = Pipeline([\n",
        "    ('ct', ct),\n",
        "    ('smote', SMOTE()),\n",
        "    ('clf', LGBMClassifier(random_state=rs))\n",
        "], memory=\".\")\n",
        "\n",
        "lg_params = {'clf__boosting_type':CategoricalDistribution(['gbdt', 'dart']),\n",
        "           'clf__n_estimators':IntDistribution(50, 150, step=50),#([50, 100, 150]),\n",
        "             'clf__learning_rate': FloatDistribution(0.05, 0.15, step=0.05)#[0.05, 0.1, 0.15]\n",
        "             }\n",
        "lg_study = create_study(direction='maximize')\n",
        "lg_grid = OptunaSearchCV(lg_pipe, lg_params, n_jobs=4, scoring='f1', study=lg_study)\n",
        "lg_grid.fit(x_train, y_train)"
      ],
      "metadata": {
        "colab": {
          "base_uri": "https://localhost:8080/",
          "height": 702
        },
        "id": "p9KVhjfDMhPZ",
        "outputId": "87986640-c0a0-47ef-9989-fecc1862c823"
      },
      "execution_count": 106,
      "outputs": [
        {
          "output_type": "stream",
          "name": "stderr",
          "text": [
            "[I 2023-07-23 05:51:07,336] A new study created in memory with name: no-name-564dda3e-4aa0-43ae-bb80-166a00df5eb6\n",
            "<ipython-input-106-0a3defa686ce>:12: ExperimentalWarning:\n",
            "\n",
            "OptunaSearchCV is experimental (supported from v0.17.0). The interface can change in the future.\n",
            "\n",
            "[I 2023-07-23 05:51:22,483] Trial 1 finished with value: 0.6187000248197784 and parameters: {'clf__boosting_type': 'gbdt', 'clf__n_estimators': 50, 'clf__learning_rate': 0.05}. Best is trial 1 with value: 0.6187000248197784.\n",
            "[I 2023-07-23 05:51:22,652] Trial 3 finished with value: 0.6187000248197784 and parameters: {'clf__boosting_type': 'gbdt', 'clf__n_estimators': 50, 'clf__learning_rate': 0.05}. Best is trial 1 with value: 0.6187000248197784.\n",
            "[I 2023-07-23 05:51:28,745] Trial 2 finished with value: 0.5924147323469301 and parameters: {'clf__boosting_type': 'gbdt', 'clf__n_estimators': 100, 'clf__learning_rate': 0.1}. Best is trial 1 with value: 0.6187000248197784.\n",
            "[I 2023-07-23 05:51:51,451] Trial 4 finished with value: 0.6181046766608904 and parameters: {'clf__boosting_type': 'dart', 'clf__n_estimators': 100, 'clf__learning_rate': 0.05}. Best is trial 1 with value: 0.6187000248197784.\n",
            "[I 2023-07-23 05:51:52,281] Trial 6 finished with value: 0.5907430108864833 and parameters: {'clf__boosting_type': 'gbdt', 'clf__n_estimators': 150, 'clf__learning_rate': 0.1}. Best is trial 1 with value: 0.6187000248197784.\n",
            "[I 2023-07-23 05:51:55,141] Trial 0 finished with value: 0.6005178388574516 and parameters: {'clf__boosting_type': 'dart', 'clf__n_estimators': 150, 'clf__learning_rate': 0.15}. Best is trial 1 with value: 0.6187000248197784.\n",
            "[I 2023-07-23 05:52:07,001] Trial 7 finished with value: 0.5924815455259271 and parameters: {'clf__boosting_type': 'gbdt', 'clf__n_estimators': 50, 'clf__learning_rate': 0.15}. Best is trial 1 with value: 0.6187000248197784.\n",
            "[I 2023-07-23 05:52:08,348] Trial 9 finished with value: 0.5924815455259271 and parameters: {'clf__boosting_type': 'gbdt', 'clf__n_estimators': 50, 'clf__learning_rate': 0.15}. Best is trial 1 with value: 0.6187000248197784.\n",
            "[I 2023-07-23 05:52:09,169] Trial 5 finished with value: 0.6005178388574516 and parameters: {'clf__boosting_type': 'dart', 'clf__n_estimators': 150, 'clf__learning_rate': 0.15}. Best is trial 1 with value: 0.6187000248197784.\n",
            "[I 2023-07-23 05:52:12,277] Trial 8 finished with value: 0.6007618241307588 and parameters: {'clf__boosting_type': 'gbdt', 'clf__n_estimators': 150, 'clf__learning_rate': 0.05}. Best is trial 1 with value: 0.6187000248197784.\n"
          ]
        },
        {
          "output_type": "stream",
          "name": "stdout",
          "text": [
            "[LightGBM] [Info] Number of positive: 6577, number of negative: 6577\n",
            "[LightGBM] [Warning] Auto-choosing row-wise multi-threading, the overhead of testing was 0.005203 seconds.\n",
            "You can set `force_row_wise=true` to remove the overhead.\n",
            "And if memory is not enough, you can set `force_col_wise=true`.\n",
            "[LightGBM] [Info] Total Bins 9498\n",
            "[LightGBM] [Info] Number of data points in the train set: 13154, number of used features: 38\n",
            "[LightGBM] [Info] [binary:BoostFromScore]: pavg=0.500000 -> initscore=0.000000\n"
          ]
        },
        {
          "output_type": "execute_result",
          "data": {
            "text/plain": [
              "OptunaSearchCV(estimator=Pipeline(memory='.',\n",
              "                                  steps=[('ct',\n",
              "                                          ColumnTransformer(remainder='passthrough',\n",
              "                                                            sparse_threshold=0,\n",
              "                                                            transformers=[('drop',\n",
              "                                                                           'drop',\n",
              "                                                                           ['customer_id',\n",
              "                                                                            'payment_behaviour']),\n",
              "                                                                          ('encoding',\n",
              "                                                                           OneHotEncoder(sparse_output=False),\n",
              "                                                                           ['occupation',\n",
              "                                                                            'payment_of_min_amount']),\n",
              "                                                                          ('num_preprocess',\n",
              "                                                                           Pipeline(steps=[('imputer',\n",
              "                                                                                            SimpleImputer(strategy='median'))...\n",
              "                                          LGBMClassifier(random_state=42))]),\n",
              "               n_jobs=4,\n",
              "               param_distributions={'clf__boosting_type': CategoricalDistribution(choices=('gbdt', 'dart')),\n",
              "                                    'clf__learning_rate': FloatDistribution(high=0.15, log=False, low=0.05, step=0.05),\n",
              "                                    'clf__n_estimators': IntDistribution(high=150, log=False, low=50, step=50)},\n",
              "               scoring='f1',\n",
              "               study=<optuna.study.study.Study object at 0x7a23296f5600>)"
            ],
            "text/html": [
              "<style>#sk-container-id-20 {color: black;background-color: white;}#sk-container-id-20 pre{padding: 0;}#sk-container-id-20 div.sk-toggleable {background-color: white;}#sk-container-id-20 label.sk-toggleable__label {cursor: pointer;display: block;width: 100%;margin-bottom: 0;padding: 0.3em;box-sizing: border-box;text-align: center;}#sk-container-id-20 label.sk-toggleable__label-arrow:before {content: \"▸\";float: left;margin-right: 0.25em;color: #696969;}#sk-container-id-20 label.sk-toggleable__label-arrow:hover:before {color: black;}#sk-container-id-20 div.sk-estimator:hover label.sk-toggleable__label-arrow:before {color: black;}#sk-container-id-20 div.sk-toggleable__content {max-height: 0;max-width: 0;overflow: hidden;text-align: left;background-color: #f0f8ff;}#sk-container-id-20 div.sk-toggleable__content pre {margin: 0.2em;color: black;border-radius: 0.25em;background-color: #f0f8ff;}#sk-container-id-20 input.sk-toggleable__control:checked~div.sk-toggleable__content {max-height: 200px;max-width: 100%;overflow: auto;}#sk-container-id-20 input.sk-toggleable__control:checked~label.sk-toggleable__label-arrow:before {content: \"▾\";}#sk-container-id-20 div.sk-estimator input.sk-toggleable__control:checked~label.sk-toggleable__label {background-color: #d4ebff;}#sk-container-id-20 div.sk-label input.sk-toggleable__control:checked~label.sk-toggleable__label {background-color: #d4ebff;}#sk-container-id-20 input.sk-hidden--visually {border: 0;clip: rect(1px 1px 1px 1px);clip: rect(1px, 1px, 1px, 1px);height: 1px;margin: -1px;overflow: hidden;padding: 0;position: absolute;width: 1px;}#sk-container-id-20 div.sk-estimator {font-family: monospace;background-color: #f0f8ff;border: 1px dotted black;border-radius: 0.25em;box-sizing: border-box;margin-bottom: 0.5em;}#sk-container-id-20 div.sk-estimator:hover {background-color: #d4ebff;}#sk-container-id-20 div.sk-parallel-item::after {content: \"\";width: 100%;border-bottom: 1px solid gray;flex-grow: 1;}#sk-container-id-20 div.sk-label:hover label.sk-toggleable__label {background-color: #d4ebff;}#sk-container-id-20 div.sk-serial::before {content: \"\";position: absolute;border-left: 1px solid gray;box-sizing: border-box;top: 0;bottom: 0;left: 50%;z-index: 0;}#sk-container-id-20 div.sk-serial {display: flex;flex-direction: column;align-items: center;background-color: white;padding-right: 0.2em;padding-left: 0.2em;position: relative;}#sk-container-id-20 div.sk-item {position: relative;z-index: 1;}#sk-container-id-20 div.sk-parallel {display: flex;align-items: stretch;justify-content: center;background-color: white;position: relative;}#sk-container-id-20 div.sk-item::before, #sk-container-id-20 div.sk-parallel-item::before {content: \"\";position: absolute;border-left: 1px solid gray;box-sizing: border-box;top: 0;bottom: 0;left: 50%;z-index: -1;}#sk-container-id-20 div.sk-parallel-item {display: flex;flex-direction: column;z-index: 1;position: relative;background-color: white;}#sk-container-id-20 div.sk-parallel-item:first-child::after {align-self: flex-end;width: 50%;}#sk-container-id-20 div.sk-parallel-item:last-child::after {align-self: flex-start;width: 50%;}#sk-container-id-20 div.sk-parallel-item:only-child::after {width: 0;}#sk-container-id-20 div.sk-dashed-wrapped {border: 1px dashed gray;margin: 0 0.4em 0.5em 0.4em;box-sizing: border-box;padding-bottom: 0.4em;background-color: white;}#sk-container-id-20 div.sk-label label {font-family: monospace;font-weight: bold;display: inline-block;line-height: 1.2em;}#sk-container-id-20 div.sk-label-container {text-align: center;}#sk-container-id-20 div.sk-container {/* jupyter's `normalize.less` sets `[hidden] { display: none; }` but bootstrap.min.css set `[hidden] { display: none !important; }` so we also need the `!important` here to be able to override the default hidden behavior on the sphinx rendered scikit-learn.org. See: https://github.com/scikit-learn/scikit-learn/issues/21755 */display: inline-block !important;position: relative;}#sk-container-id-20 div.sk-text-repr-fallback {display: none;}</style><div id=\"sk-container-id-20\" class=\"sk-top-container\"><div class=\"sk-text-repr-fallback\"><pre>OptunaSearchCV(estimator=Pipeline(memory=&#x27;.&#x27;,\n",
              "                                  steps=[(&#x27;ct&#x27;,\n",
              "                                          ColumnTransformer(remainder=&#x27;passthrough&#x27;,\n",
              "                                                            sparse_threshold=0,\n",
              "                                                            transformers=[(&#x27;drop&#x27;,\n",
              "                                                                           &#x27;drop&#x27;,\n",
              "                                                                           [&#x27;customer_id&#x27;,\n",
              "                                                                            &#x27;payment_behaviour&#x27;]),\n",
              "                                                                          (&#x27;encoding&#x27;,\n",
              "                                                                           OneHotEncoder(sparse_output=False),\n",
              "                                                                           [&#x27;occupation&#x27;,\n",
              "                                                                            &#x27;payment_of_min_amount&#x27;]),\n",
              "                                                                          (&#x27;num_preprocess&#x27;,\n",
              "                                                                           Pipeline(steps=[(&#x27;imputer&#x27;,\n",
              "                                                                                            SimpleImputer(strategy=&#x27;median&#x27;))...\n",
              "                                          LGBMClassifier(random_state=42))]),\n",
              "               n_jobs=4,\n",
              "               param_distributions={&#x27;clf__boosting_type&#x27;: CategoricalDistribution(choices=(&#x27;gbdt&#x27;, &#x27;dart&#x27;)),\n",
              "                                    &#x27;clf__learning_rate&#x27;: FloatDistribution(high=0.15, log=False, low=0.05, step=0.05),\n",
              "                                    &#x27;clf__n_estimators&#x27;: IntDistribution(high=150, log=False, low=50, step=50)},\n",
              "               scoring=&#x27;f1&#x27;,\n",
              "               study=&lt;optuna.study.study.Study object at 0x7a23296f5600&gt;)</pre><b>In a Jupyter environment, please rerun this cell to show the HTML representation or trust the notebook. <br />On GitHub, the HTML representation is unable to render, please try loading this page with nbviewer.org.</b></div><div class=\"sk-container\" hidden><div class=\"sk-item sk-dashed-wrapped\"><div class=\"sk-label-container\"><div class=\"sk-label sk-toggleable\"><input class=\"sk-toggleable__control sk-hidden--visually\" id=\"sk-estimator-id-396\" type=\"checkbox\" ><label for=\"sk-estimator-id-396\" class=\"sk-toggleable__label sk-toggleable__label-arrow\">OptunaSearchCV</label><div class=\"sk-toggleable__content\"><pre>OptunaSearchCV(estimator=Pipeline(memory=&#x27;.&#x27;,\n",
              "                                  steps=[(&#x27;ct&#x27;,\n",
              "                                          ColumnTransformer(remainder=&#x27;passthrough&#x27;,\n",
              "                                                            sparse_threshold=0,\n",
              "                                                            transformers=[(&#x27;drop&#x27;,\n",
              "                                                                           &#x27;drop&#x27;,\n",
              "                                                                           [&#x27;customer_id&#x27;,\n",
              "                                                                            &#x27;payment_behaviour&#x27;]),\n",
              "                                                                          (&#x27;encoding&#x27;,\n",
              "                                                                           OneHotEncoder(sparse_output=False),\n",
              "                                                                           [&#x27;occupation&#x27;,\n",
              "                                                                            &#x27;payment_of_min_amount&#x27;]),\n",
              "                                                                          (&#x27;num_preprocess&#x27;,\n",
              "                                                                           Pipeline(steps=[(&#x27;imputer&#x27;,\n",
              "                                                                                            SimpleImputer(strategy=&#x27;median&#x27;))...\n",
              "                                          LGBMClassifier(random_state=42))]),\n",
              "               n_jobs=4,\n",
              "               param_distributions={&#x27;clf__boosting_type&#x27;: CategoricalDistribution(choices=(&#x27;gbdt&#x27;, &#x27;dart&#x27;)),\n",
              "                                    &#x27;clf__learning_rate&#x27;: FloatDistribution(high=0.15, log=False, low=0.05, step=0.05),\n",
              "                                    &#x27;clf__n_estimators&#x27;: IntDistribution(high=150, log=False, low=50, step=50)},\n",
              "               scoring=&#x27;f1&#x27;,\n",
              "               study=&lt;optuna.study.study.Study object at 0x7a23296f5600&gt;)</pre></div></div></div><div class=\"sk-parallel\"><div class=\"sk-parallel-item\"><div class=\"sk-item\"><div class=\"sk-label-container\"><div class=\"sk-label sk-toggleable\"><input class=\"sk-toggleable__control sk-hidden--visually\" id=\"sk-estimator-id-397\" type=\"checkbox\" ><label for=\"sk-estimator-id-397\" class=\"sk-toggleable__label sk-toggleable__label-arrow\">estimator: Pipeline</label><div class=\"sk-toggleable__content\"><pre>Pipeline(memory=&#x27;.&#x27;,\n",
              "         steps=[(&#x27;ct&#x27;,\n",
              "                 ColumnTransformer(remainder=&#x27;passthrough&#x27;, sparse_threshold=0,\n",
              "                                   transformers=[(&#x27;drop&#x27;, &#x27;drop&#x27;,\n",
              "                                                  [&#x27;customer_id&#x27;,\n",
              "                                                   &#x27;payment_behaviour&#x27;]),\n",
              "                                                 (&#x27;encoding&#x27;,\n",
              "                                                  OneHotEncoder(sparse_output=False),\n",
              "                                                  [&#x27;occupation&#x27;,\n",
              "                                                   &#x27;payment_of_min_amount&#x27;]),\n",
              "                                                 (&#x27;num_preprocess&#x27;,\n",
              "                                                  Pipeline(steps=[(&#x27;imputer&#x27;,\n",
              "                                                                   SimpleImputer(strategy=&#x27;median&#x27;)),\n",
              "                                                                  (&#x27;RobustScaler&#x27;,\n",
              "                                                                   RobustSc...\n",
              "                                                  OrdinalEncoder(categories=[[&#x27;Small_value_payments&#x27;,\n",
              "                                                                              &#x27;Medium_value_payments&#x27;,\n",
              "                                                                              &#x27;Large_value_payments&#x27;]]),\n",
              "                                                  [&#x27;payment_value&#x27;]),\n",
              "                                                 (&#x27;age_group&#x27;,\n",
              "                                                  Pipeline(steps=[(&#x27;imputer&#x27;,\n",
              "                                                                   SimpleImputer(strategy=&#x27;median&#x27;)),\n",
              "                                                                  (&#x27;to_ordinal&#x27;,\n",
              "                                                                   KBinsDiscretizer(encode=&#x27;ordinal&#x27;,\n",
              "                                                                                    random_state=42))]),\n",
              "                                                  [&#x27;age&#x27;])],\n",
              "                                   verbose_feature_names_out=False)),\n",
              "                (&#x27;smote&#x27;, SMOTE()), (&#x27;clf&#x27;, LGBMClassifier(random_state=42))])</pre></div></div></div><div class=\"sk-serial\"><div class=\"sk-item\"><div class=\"sk-serial\"><div class=\"sk-item sk-dashed-wrapped\"><div class=\"sk-label-container\"><div class=\"sk-label sk-toggleable\"><input class=\"sk-toggleable__control sk-hidden--visually\" id=\"sk-estimator-id-398\" type=\"checkbox\" ><label for=\"sk-estimator-id-398\" class=\"sk-toggleable__label sk-toggleable__label-arrow\">ct: ColumnTransformer</label><div class=\"sk-toggleable__content\"><pre>ColumnTransformer(remainder=&#x27;passthrough&#x27;, sparse_threshold=0,\n",
              "                  transformers=[(&#x27;drop&#x27;, &#x27;drop&#x27;,\n",
              "                                 [&#x27;customer_id&#x27;, &#x27;payment_behaviour&#x27;]),\n",
              "                                (&#x27;encoding&#x27;, OneHotEncoder(sparse_output=False),\n",
              "                                 [&#x27;occupation&#x27;, &#x27;payment_of_min_amount&#x27;]),\n",
              "                                (&#x27;num_preprocess&#x27;,\n",
              "                                 Pipeline(steps=[(&#x27;imputer&#x27;,\n",
              "                                                  SimpleImputer(strategy=&#x27;median&#x27;)),\n",
              "                                                 (&#x27;RobustScaler&#x27;,\n",
              "                                                  RobustScaler())]),\n",
              "                                 Index([&#x27;annual_income&#x27;,...\n",
              "                                                             &#x27;High_spent&#x27;]]),\n",
              "                                 [&#x27;spent&#x27;]),\n",
              "                                (&#x27;payment_encoding&#x27;,\n",
              "                                 OrdinalEncoder(categories=[[&#x27;Small_value_payments&#x27;,\n",
              "                                                             &#x27;Medium_value_payments&#x27;,\n",
              "                                                             &#x27;Large_value_payments&#x27;]]),\n",
              "                                 [&#x27;payment_value&#x27;]),\n",
              "                                (&#x27;age_group&#x27;,\n",
              "                                 Pipeline(steps=[(&#x27;imputer&#x27;,\n",
              "                                                  SimpleImputer(strategy=&#x27;median&#x27;)),\n",
              "                                                 (&#x27;to_ordinal&#x27;,\n",
              "                                                  KBinsDiscretizer(encode=&#x27;ordinal&#x27;,\n",
              "                                                                   random_state=42))]),\n",
              "                                 [&#x27;age&#x27;])],\n",
              "                  verbose_feature_names_out=False)</pre></div></div></div><div class=\"sk-parallel\"><div class=\"sk-parallel-item\"><div class=\"sk-item\"><div class=\"sk-label-container\"><div class=\"sk-label sk-toggleable\"><input class=\"sk-toggleable__control sk-hidden--visually\" id=\"sk-estimator-id-399\" type=\"checkbox\" ><label for=\"sk-estimator-id-399\" class=\"sk-toggleable__label sk-toggleable__label-arrow\">drop</label><div class=\"sk-toggleable__content\"><pre>[&#x27;customer_id&#x27;, &#x27;payment_behaviour&#x27;]</pre></div></div></div><div class=\"sk-serial\"><div class=\"sk-item\"><div class=\"sk-estimator sk-toggleable\"><input class=\"sk-toggleable__control sk-hidden--visually\" id=\"sk-estimator-id-400\" type=\"checkbox\" ><label for=\"sk-estimator-id-400\" class=\"sk-toggleable__label sk-toggleable__label-arrow\">drop</label><div class=\"sk-toggleable__content\"><pre>drop</pre></div></div></div></div></div></div><div class=\"sk-parallel-item\"><div class=\"sk-item\"><div class=\"sk-label-container\"><div class=\"sk-label sk-toggleable\"><input class=\"sk-toggleable__control sk-hidden--visually\" id=\"sk-estimator-id-401\" type=\"checkbox\" ><label for=\"sk-estimator-id-401\" class=\"sk-toggleable__label sk-toggleable__label-arrow\">encoding</label><div class=\"sk-toggleable__content\"><pre>[&#x27;occupation&#x27;, &#x27;payment_of_min_amount&#x27;]</pre></div></div></div><div class=\"sk-serial\"><div class=\"sk-item\"><div class=\"sk-estimator sk-toggleable\"><input class=\"sk-toggleable__control sk-hidden--visually\" id=\"sk-estimator-id-402\" type=\"checkbox\" ><label for=\"sk-estimator-id-402\" class=\"sk-toggleable__label sk-toggleable__label-arrow\">OneHotEncoder</label><div class=\"sk-toggleable__content\"><pre>OneHotEncoder(sparse_output=False)</pre></div></div></div></div></div></div><div class=\"sk-parallel-item\"><div class=\"sk-item\"><div class=\"sk-label-container\"><div class=\"sk-label sk-toggleable\"><input class=\"sk-toggleable__control sk-hidden--visually\" id=\"sk-estimator-id-403\" type=\"checkbox\" ><label for=\"sk-estimator-id-403\" class=\"sk-toggleable__label sk-toggleable__label-arrow\">num_preprocess</label><div class=\"sk-toggleable__content\"><pre>Index([&#x27;annual_income&#x27;, &#x27;monthly_inhand_salary&#x27;, &#x27;num_bank_accounts&#x27;,\n",
              "       &#x27;num_credit_card&#x27;, &#x27;interest_rate&#x27;, &#x27;num_of_loan&#x27;,\n",
              "       &#x27;delay_from_due_date&#x27;, &#x27;num_of_delayed_payment&#x27;, &#x27;changed_credit_limit&#x27;,\n",
              "       &#x27;num_credit_inquiries&#x27;, &#x27;outstanding_debt&#x27;, &#x27;credit_utilization_ratio&#x27;,\n",
              "       &#x27;credit_history_age&#x27;, &#x27;total_emi_per_month&#x27;, &#x27;amount_invested_monthly&#x27;,\n",
              "       &#x27;monthly_balance&#x27;],\n",
              "      dtype=&#x27;object&#x27;)</pre></div></div></div><div class=\"sk-serial\"><div class=\"sk-item\"><div class=\"sk-serial\"><div class=\"sk-item\"><div class=\"sk-estimator sk-toggleable\"><input class=\"sk-toggleable__control sk-hidden--visually\" id=\"sk-estimator-id-404\" type=\"checkbox\" ><label for=\"sk-estimator-id-404\" class=\"sk-toggleable__label sk-toggleable__label-arrow\">SimpleImputer</label><div class=\"sk-toggleable__content\"><pre>SimpleImputer(strategy=&#x27;median&#x27;)</pre></div></div></div><div class=\"sk-item\"><div class=\"sk-estimator sk-toggleable\"><input class=\"sk-toggleable__control sk-hidden--visually\" id=\"sk-estimator-id-405\" type=\"checkbox\" ><label for=\"sk-estimator-id-405\" class=\"sk-toggleable__label sk-toggleable__label-arrow\">RobustScaler</label><div class=\"sk-toggleable__content\"><pre>RobustScaler()</pre></div></div></div></div></div></div></div></div><div class=\"sk-parallel-item\"><div class=\"sk-item\"><div class=\"sk-label-container\"><div class=\"sk-label sk-toggleable\"><input class=\"sk-toggleable__control sk-hidden--visually\" id=\"sk-estimator-id-406\" type=\"checkbox\" ><label for=\"sk-estimator-id-406\" class=\"sk-toggleable__label sk-toggleable__label-arrow\">spent_encoding</label><div class=\"sk-toggleable__content\"><pre>[&#x27;spent&#x27;]</pre></div></div></div><div class=\"sk-serial\"><div class=\"sk-item\"><div class=\"sk-estimator sk-toggleable\"><input class=\"sk-toggleable__control sk-hidden--visually\" id=\"sk-estimator-id-407\" type=\"checkbox\" ><label for=\"sk-estimator-id-407\" class=\"sk-toggleable__label sk-toggleable__label-arrow\">OrdinalEncoder</label><div class=\"sk-toggleable__content\"><pre>OrdinalEncoder(categories=[[&#x27;Low_spent&#x27;, &#x27;High_spent&#x27;]])</pre></div></div></div></div></div></div><div class=\"sk-parallel-item\"><div class=\"sk-item\"><div class=\"sk-label-container\"><div class=\"sk-label sk-toggleable\"><input class=\"sk-toggleable__control sk-hidden--visually\" id=\"sk-estimator-id-408\" type=\"checkbox\" ><label for=\"sk-estimator-id-408\" class=\"sk-toggleable__label sk-toggleable__label-arrow\">payment_encoding</label><div class=\"sk-toggleable__content\"><pre>[&#x27;payment_value&#x27;]</pre></div></div></div><div class=\"sk-serial\"><div class=\"sk-item\"><div class=\"sk-estimator sk-toggleable\"><input class=\"sk-toggleable__control sk-hidden--visually\" id=\"sk-estimator-id-409\" type=\"checkbox\" ><label for=\"sk-estimator-id-409\" class=\"sk-toggleable__label sk-toggleable__label-arrow\">OrdinalEncoder</label><div class=\"sk-toggleable__content\"><pre>OrdinalEncoder(categories=[[&#x27;Small_value_payments&#x27;, &#x27;Medium_value_payments&#x27;,\n",
              "                            &#x27;Large_value_payments&#x27;]])</pre></div></div></div></div></div></div><div class=\"sk-parallel-item\"><div class=\"sk-item\"><div class=\"sk-label-container\"><div class=\"sk-label sk-toggleable\"><input class=\"sk-toggleable__control sk-hidden--visually\" id=\"sk-estimator-id-410\" type=\"checkbox\" ><label for=\"sk-estimator-id-410\" class=\"sk-toggleable__label sk-toggleable__label-arrow\">age_group</label><div class=\"sk-toggleable__content\"><pre>[&#x27;age&#x27;]</pre></div></div></div><div class=\"sk-serial\"><div class=\"sk-item\"><div class=\"sk-serial\"><div class=\"sk-item\"><div class=\"sk-estimator sk-toggleable\"><input class=\"sk-toggleable__control sk-hidden--visually\" id=\"sk-estimator-id-411\" type=\"checkbox\" ><label for=\"sk-estimator-id-411\" class=\"sk-toggleable__label sk-toggleable__label-arrow\">SimpleImputer</label><div class=\"sk-toggleable__content\"><pre>SimpleImputer(strategy=&#x27;median&#x27;)</pre></div></div></div><div class=\"sk-item\"><div class=\"sk-estimator sk-toggleable\"><input class=\"sk-toggleable__control sk-hidden--visually\" id=\"sk-estimator-id-412\" type=\"checkbox\" ><label for=\"sk-estimator-id-412\" class=\"sk-toggleable__label sk-toggleable__label-arrow\">KBinsDiscretizer</label><div class=\"sk-toggleable__content\"><pre>KBinsDiscretizer(encode=&#x27;ordinal&#x27;, random_state=42)</pre></div></div></div></div></div></div></div></div><div class=\"sk-parallel-item\"><div class=\"sk-item\"><div class=\"sk-label-container\"><div class=\"sk-label sk-toggleable\"><input class=\"sk-toggleable__control sk-hidden--visually\" id=\"sk-estimator-id-413\" type=\"checkbox\" ><label for=\"sk-estimator-id-413\" class=\"sk-toggleable__label sk-toggleable__label-arrow\">remainder</label><div class=\"sk-toggleable__content\"><pre>[]</pre></div></div></div><div class=\"sk-serial\"><div class=\"sk-item\"><div class=\"sk-estimator sk-toggleable\"><input class=\"sk-toggleable__control sk-hidden--visually\" id=\"sk-estimator-id-414\" type=\"checkbox\" ><label for=\"sk-estimator-id-414\" class=\"sk-toggleable__label sk-toggleable__label-arrow\">passthrough</label><div class=\"sk-toggleable__content\"><pre>passthrough</pre></div></div></div></div></div></div></div></div><div class=\"sk-item\"><div class=\"sk-estimator sk-toggleable\"><input class=\"sk-toggleable__control sk-hidden--visually\" id=\"sk-estimator-id-415\" type=\"checkbox\" ><label for=\"sk-estimator-id-415\" class=\"sk-toggleable__label sk-toggleable__label-arrow\">SMOTE</label><div class=\"sk-toggleable__content\"><pre>SMOTE()</pre></div></div></div><div class=\"sk-item\"><div class=\"sk-estimator sk-toggleable\"><input class=\"sk-toggleable__control sk-hidden--visually\" id=\"sk-estimator-id-416\" type=\"checkbox\" ><label for=\"sk-estimator-id-416\" class=\"sk-toggleable__label sk-toggleable__label-arrow\">LGBMClassifier</label><div class=\"sk-toggleable__content\"><pre>LGBMClassifier(random_state=42)</pre></div></div></div></div></div></div></div></div></div></div></div></div>"
            ]
          },
          "metadata": {},
          "execution_count": 106
        }
      ]
    },
    {
      "cell_type": "code",
      "source": [
        "print('Mejores Hiperparámetros')\n",
        "print(lg_grid.best_params_)"
      ],
      "metadata": {
        "colab": {
          "base_uri": "https://localhost:8080/"
        },
        "id": "2lrLT-f-TWFu",
        "outputId": "9bbac0f2-efd9-4efd-fe65-449a033f64db"
      },
      "execution_count": 113,
      "outputs": [
        {
          "output_type": "stream",
          "name": "stdout",
          "text": [
            "Mejores Hiperparámetros\n",
            "{'clf__boosting_type': 'gbdt', 'clf__n_estimators': 50, 'clf__learning_rate': 0.05}\n",
            "Resultado en conjunto de entrenamiento\n",
            "              precision    recall  f1-score   support\n",
            "\n",
            "           0       0.86      0.85      0.86      6577\n",
            "           1       0.64      0.66      0.65      2624\n",
            "\n",
            "    accuracy                           0.80      9201\n",
            "   macro avg       0.75      0.76      0.76      9201\n",
            "weighted avg       0.80      0.80      0.80      9201\n",
            "\n"
          ]
        }
      ]
    },
    {
      "cell_type": "markdown",
      "source": [
        "El mejor clasificador LGBM utiliza el algoritmo GBDT, utiliza 50 estimadores y tiene un learning rate de 0.05. Se visualiza la importancia de los hiperparámetros así como la relación entre estos."
      ],
      "metadata": {
        "id": "tg8K3kaITf6J"
      }
    },
    {
      "cell_type": "code",
      "source": [
        "from optuna.visualization import plot_param_importances\n",
        "fig = plot_param_importances(lg_study)\n",
        "fig.show()"
      ],
      "metadata": {
        "colab": {
          "base_uri": "https://localhost:8080/",
          "height": 542
        },
        "id": "nN2uMl87nfiv",
        "outputId": "0d3b4cac-8922-458e-c13e-c047ff37b3c2"
      },
      "execution_count": 108,
      "outputs": [
        {
          "output_type": "display_data",
          "data": {
            "text/html": [
              "<html>\n",
              "<head><meta charset=\"utf-8\" /></head>\n",
              "<body>\n",
              "    <div>            <script src=\"https://cdnjs.cloudflare.com/ajax/libs/mathjax/2.7.5/MathJax.js?config=TeX-AMS-MML_SVG\"></script><script type=\"text/javascript\">if (window.MathJax && window.MathJax.Hub && window.MathJax.Hub.Config) {window.MathJax.Hub.Config({SVG: {font: \"STIX-Web\"}});}</script>                <script type=\"text/javascript\">window.PlotlyConfig = {MathJaxConfig: 'local'};</script>\n",
              "        <script src=\"https://cdn.plot.ly/plotly-2.18.2.min.js\"></script>                <div id=\"dac0bf9a-c916-498b-8b68-578ad9ab7c5d\" class=\"plotly-graph-div\" style=\"height:525px; width:100%;\"></div>            <script type=\"text/javascript\">                                    window.PLOTLYENV=window.PLOTLYENV || {};                                    if (document.getElementById(\"dac0bf9a-c916-498b-8b68-578ad9ab7c5d\")) {                    Plotly.newPlot(                        \"dac0bf9a-c916-498b-8b68-578ad9ab7c5d\",                        [{\"cliponaxis\":false,\"hovertemplate\":[\"clf__n_estimators (IntDistribution): 0.07711729787810404<extra></extra>\",\"clf__boosting_type (CategoricalDistribution): 0.11558415787030914<extra></extra>\",\"clf__learning_rate (FloatDistribution): 0.8072985442515869<extra></extra>\"],\"marker\":{\"color\":\"rgb(66,146,198)\"},\"orientation\":\"h\",\"text\":[\"0.08\",\"0.12\",\"0.81\"],\"textposition\":\"outside\",\"x\":[0.07711729787810404,0.11558415787030914,0.8072985442515869],\"y\":[\"clf__n_estimators\",\"clf__boosting_type\",\"clf__learning_rate\"],\"type\":\"bar\"}],                        {\"showlegend\":false,\"title\":{\"text\":\"Hyperparameter Importances\"},\"xaxis\":{\"title\":{\"text\":\"Importance for Objective Value\"}},\"yaxis\":{\"title\":{\"text\":\"Hyperparameter\"}},\"template\":{\"data\":{\"histogram2dcontour\":[{\"type\":\"histogram2dcontour\",\"colorbar\":{\"outlinewidth\":0,\"ticks\":\"\"},\"colorscale\":[[0.0,\"#0d0887\"],[0.1111111111111111,\"#46039f\"],[0.2222222222222222,\"#7201a8\"],[0.3333333333333333,\"#9c179e\"],[0.4444444444444444,\"#bd3786\"],[0.5555555555555556,\"#d8576b\"],[0.6666666666666666,\"#ed7953\"],[0.7777777777777778,\"#fb9f3a\"],[0.8888888888888888,\"#fdca26\"],[1.0,\"#f0f921\"]]}],\"choropleth\":[{\"type\":\"choropleth\",\"colorbar\":{\"outlinewidth\":0,\"ticks\":\"\"}}],\"histogram2d\":[{\"type\":\"histogram2d\",\"colorbar\":{\"outlinewidth\":0,\"ticks\":\"\"},\"colorscale\":[[0.0,\"#0d0887\"],[0.1111111111111111,\"#46039f\"],[0.2222222222222222,\"#7201a8\"],[0.3333333333333333,\"#9c179e\"],[0.4444444444444444,\"#bd3786\"],[0.5555555555555556,\"#d8576b\"],[0.6666666666666666,\"#ed7953\"],[0.7777777777777778,\"#fb9f3a\"],[0.8888888888888888,\"#fdca26\"],[1.0,\"#f0f921\"]]}],\"heatmap\":[{\"type\":\"heatmap\",\"colorbar\":{\"outlinewidth\":0,\"ticks\":\"\"},\"colorscale\":[[0.0,\"#0d0887\"],[0.1111111111111111,\"#46039f\"],[0.2222222222222222,\"#7201a8\"],[0.3333333333333333,\"#9c179e\"],[0.4444444444444444,\"#bd3786\"],[0.5555555555555556,\"#d8576b\"],[0.6666666666666666,\"#ed7953\"],[0.7777777777777778,\"#fb9f3a\"],[0.8888888888888888,\"#fdca26\"],[1.0,\"#f0f921\"]]}],\"heatmapgl\":[{\"type\":\"heatmapgl\",\"colorbar\":{\"outlinewidth\":0,\"ticks\":\"\"},\"colorscale\":[[0.0,\"#0d0887\"],[0.1111111111111111,\"#46039f\"],[0.2222222222222222,\"#7201a8\"],[0.3333333333333333,\"#9c179e\"],[0.4444444444444444,\"#bd3786\"],[0.5555555555555556,\"#d8576b\"],[0.6666666666666666,\"#ed7953\"],[0.7777777777777778,\"#fb9f3a\"],[0.8888888888888888,\"#fdca26\"],[1.0,\"#f0f921\"]]}],\"contourcarpet\":[{\"type\":\"contourcarpet\",\"colorbar\":{\"outlinewidth\":0,\"ticks\":\"\"}}],\"contour\":[{\"type\":\"contour\",\"colorbar\":{\"outlinewidth\":0,\"ticks\":\"\"},\"colorscale\":[[0.0,\"#0d0887\"],[0.1111111111111111,\"#46039f\"],[0.2222222222222222,\"#7201a8\"],[0.3333333333333333,\"#9c179e\"],[0.4444444444444444,\"#bd3786\"],[0.5555555555555556,\"#d8576b\"],[0.6666666666666666,\"#ed7953\"],[0.7777777777777778,\"#fb9f3a\"],[0.8888888888888888,\"#fdca26\"],[1.0,\"#f0f921\"]]}],\"surface\":[{\"type\":\"surface\",\"colorbar\":{\"outlinewidth\":0,\"ticks\":\"\"},\"colorscale\":[[0.0,\"#0d0887\"],[0.1111111111111111,\"#46039f\"],[0.2222222222222222,\"#7201a8\"],[0.3333333333333333,\"#9c179e\"],[0.4444444444444444,\"#bd3786\"],[0.5555555555555556,\"#d8576b\"],[0.6666666666666666,\"#ed7953\"],[0.7777777777777778,\"#fb9f3a\"],[0.8888888888888888,\"#fdca26\"],[1.0,\"#f0f921\"]]}],\"mesh3d\":[{\"type\":\"mesh3d\",\"colorbar\":{\"outlinewidth\":0,\"ticks\":\"\"}}],\"scatter\":[{\"fillpattern\":{\"fillmode\":\"overlay\",\"size\":10,\"solidity\":0.2},\"type\":\"scatter\"}],\"parcoords\":[{\"type\":\"parcoords\",\"line\":{\"colorbar\":{\"outlinewidth\":0,\"ticks\":\"\"}}}],\"scatterpolargl\":[{\"type\":\"scatterpolargl\",\"marker\":{\"colorbar\":{\"outlinewidth\":0,\"ticks\":\"\"}}}],\"bar\":[{\"error_x\":{\"color\":\"#2a3f5f\"},\"error_y\":{\"color\":\"#2a3f5f\"},\"marker\":{\"line\":{\"color\":\"#E5ECF6\",\"width\":0.5},\"pattern\":{\"fillmode\":\"overlay\",\"size\":10,\"solidity\":0.2}},\"type\":\"bar\"}],\"scattergeo\":[{\"type\":\"scattergeo\",\"marker\":{\"colorbar\":{\"outlinewidth\":0,\"ticks\":\"\"}}}],\"scatterpolar\":[{\"type\":\"scatterpolar\",\"marker\":{\"colorbar\":{\"outlinewidth\":0,\"ticks\":\"\"}}}],\"histogram\":[{\"marker\":{\"pattern\":{\"fillmode\":\"overlay\",\"size\":10,\"solidity\":0.2}},\"type\":\"histogram\"}],\"scattergl\":[{\"type\":\"scattergl\",\"marker\":{\"colorbar\":{\"outlinewidth\":0,\"ticks\":\"\"}}}],\"scatter3d\":[{\"type\":\"scatter3d\",\"line\":{\"colorbar\":{\"outlinewidth\":0,\"ticks\":\"\"}},\"marker\":{\"colorbar\":{\"outlinewidth\":0,\"ticks\":\"\"}}}],\"scattermapbox\":[{\"type\":\"scattermapbox\",\"marker\":{\"colorbar\":{\"outlinewidth\":0,\"ticks\":\"\"}}}],\"scatterternary\":[{\"type\":\"scatterternary\",\"marker\":{\"colorbar\":{\"outlinewidth\":0,\"ticks\":\"\"}}}],\"scattercarpet\":[{\"type\":\"scattercarpet\",\"marker\":{\"colorbar\":{\"outlinewidth\":0,\"ticks\":\"\"}}}],\"carpet\":[{\"aaxis\":{\"endlinecolor\":\"#2a3f5f\",\"gridcolor\":\"white\",\"linecolor\":\"white\",\"minorgridcolor\":\"white\",\"startlinecolor\":\"#2a3f5f\"},\"baxis\":{\"endlinecolor\":\"#2a3f5f\",\"gridcolor\":\"white\",\"linecolor\":\"white\",\"minorgridcolor\":\"white\",\"startlinecolor\":\"#2a3f5f\"},\"type\":\"carpet\"}],\"table\":[{\"cells\":{\"fill\":{\"color\":\"#EBF0F8\"},\"line\":{\"color\":\"white\"}},\"header\":{\"fill\":{\"color\":\"#C8D4E3\"},\"line\":{\"color\":\"white\"}},\"type\":\"table\"}],\"barpolar\":[{\"marker\":{\"line\":{\"color\":\"#E5ECF6\",\"width\":0.5},\"pattern\":{\"fillmode\":\"overlay\",\"size\":10,\"solidity\":0.2}},\"type\":\"barpolar\"}],\"pie\":[{\"automargin\":true,\"type\":\"pie\"}]},\"layout\":{\"autotypenumbers\":\"strict\",\"colorway\":[\"#636efa\",\"#EF553B\",\"#00cc96\",\"#ab63fa\",\"#FFA15A\",\"#19d3f3\",\"#FF6692\",\"#B6E880\",\"#FF97FF\",\"#FECB52\"],\"font\":{\"color\":\"#2a3f5f\"},\"hovermode\":\"closest\",\"hoverlabel\":{\"align\":\"left\"},\"paper_bgcolor\":\"white\",\"plot_bgcolor\":\"#E5ECF6\",\"polar\":{\"bgcolor\":\"#E5ECF6\",\"angularaxis\":{\"gridcolor\":\"white\",\"linecolor\":\"white\",\"ticks\":\"\"},\"radialaxis\":{\"gridcolor\":\"white\",\"linecolor\":\"white\",\"ticks\":\"\"}},\"ternary\":{\"bgcolor\":\"#E5ECF6\",\"aaxis\":{\"gridcolor\":\"white\",\"linecolor\":\"white\",\"ticks\":\"\"},\"baxis\":{\"gridcolor\":\"white\",\"linecolor\":\"white\",\"ticks\":\"\"},\"caxis\":{\"gridcolor\":\"white\",\"linecolor\":\"white\",\"ticks\":\"\"}},\"coloraxis\":{\"colorbar\":{\"outlinewidth\":0,\"ticks\":\"\"}},\"colorscale\":{\"sequential\":[[0.0,\"#0d0887\"],[0.1111111111111111,\"#46039f\"],[0.2222222222222222,\"#7201a8\"],[0.3333333333333333,\"#9c179e\"],[0.4444444444444444,\"#bd3786\"],[0.5555555555555556,\"#d8576b\"],[0.6666666666666666,\"#ed7953\"],[0.7777777777777778,\"#fb9f3a\"],[0.8888888888888888,\"#fdca26\"],[1.0,\"#f0f921\"]],\"sequentialminus\":[[0.0,\"#0d0887\"],[0.1111111111111111,\"#46039f\"],[0.2222222222222222,\"#7201a8\"],[0.3333333333333333,\"#9c179e\"],[0.4444444444444444,\"#bd3786\"],[0.5555555555555556,\"#d8576b\"],[0.6666666666666666,\"#ed7953\"],[0.7777777777777778,\"#fb9f3a\"],[0.8888888888888888,\"#fdca26\"],[1.0,\"#f0f921\"]],\"diverging\":[[0,\"#8e0152\"],[0.1,\"#c51b7d\"],[0.2,\"#de77ae\"],[0.3,\"#f1b6da\"],[0.4,\"#fde0ef\"],[0.5,\"#f7f7f7\"],[0.6,\"#e6f5d0\"],[0.7,\"#b8e186\"],[0.8,\"#7fbc41\"],[0.9,\"#4d9221\"],[1,\"#276419\"]]},\"xaxis\":{\"gridcolor\":\"white\",\"linecolor\":\"white\",\"ticks\":\"\",\"title\":{\"standoff\":15},\"zerolinecolor\":\"white\",\"automargin\":true,\"zerolinewidth\":2},\"yaxis\":{\"gridcolor\":\"white\",\"linecolor\":\"white\",\"ticks\":\"\",\"title\":{\"standoff\":15},\"zerolinecolor\":\"white\",\"automargin\":true,\"zerolinewidth\":2},\"scene\":{\"xaxis\":{\"backgroundcolor\":\"#E5ECF6\",\"gridcolor\":\"white\",\"linecolor\":\"white\",\"showbackground\":true,\"ticks\":\"\",\"zerolinecolor\":\"white\",\"gridwidth\":2},\"yaxis\":{\"backgroundcolor\":\"#E5ECF6\",\"gridcolor\":\"white\",\"linecolor\":\"white\",\"showbackground\":true,\"ticks\":\"\",\"zerolinecolor\":\"white\",\"gridwidth\":2},\"zaxis\":{\"backgroundcolor\":\"#E5ECF6\",\"gridcolor\":\"white\",\"linecolor\":\"white\",\"showbackground\":true,\"ticks\":\"\",\"zerolinecolor\":\"white\",\"gridwidth\":2}},\"shapedefaults\":{\"line\":{\"color\":\"#2a3f5f\"}},\"annotationdefaults\":{\"arrowcolor\":\"#2a3f5f\",\"arrowhead\":0,\"arrowwidth\":1},\"geo\":{\"bgcolor\":\"white\",\"landcolor\":\"#E5ECF6\",\"subunitcolor\":\"white\",\"showland\":true,\"showlakes\":true,\"lakecolor\":\"white\"},\"title\":{\"x\":0.05},\"mapbox\":{\"style\":\"light\"}}}},                        {\"responsive\": true}                    ).then(function(){\n",
              "                            \n",
              "var gd = document.getElementById('dac0bf9a-c916-498b-8b68-578ad9ab7c5d');\n",
              "var x = new MutationObserver(function (mutations, observer) {{\n",
              "        var display = window.getComputedStyle(gd).display;\n",
              "        if (!display || display === 'none') {{\n",
              "            console.log([gd, 'removed!']);\n",
              "            Plotly.purge(gd);\n",
              "            observer.disconnect();\n",
              "        }}\n",
              "}});\n",
              "\n",
              "// Listen for the removal of the full notebook cells\n",
              "var notebookContainer = gd.closest('#notebook-container');\n",
              "if (notebookContainer) {{\n",
              "    x.observe(notebookContainer, {childList: true});\n",
              "}}\n",
              "\n",
              "// Listen for the clearing of the current output cell\n",
              "var outputEl = gd.closest('.output');\n",
              "if (outputEl) {{\n",
              "    x.observe(outputEl, {childList: true});\n",
              "}}\n",
              "\n",
              "                        })                };                            </script>        </div>\n",
              "</body>\n",
              "</html>"
            ]
          },
          "metadata": {}
        }
      ]
    },
    {
      "cell_type": "code",
      "source": [
        "from optuna.visualization import plot_optimization_history\n",
        "from optuna.visualization import plot_rank\n",
        "fig = plot_rank(lg_study)\n",
        "fig.show()"
      ],
      "metadata": {
        "colab": {
          "base_uri": "https://localhost:8080/",
          "height": 614
        },
        "id": "WtLswbPgeT6K",
        "outputId": "9125a234-42c9-4192-f125-826781318a64"
      },
      "execution_count": 111,
      "outputs": [
        {
          "output_type": "stream",
          "name": "stderr",
          "text": [
            "<ipython-input-111-04d1ce20d018>:3: ExperimentalWarning:\n",
            "\n",
            "plot_rank is experimental (supported from v3.2.0). The interface can change in the future.\n",
            "\n"
          ]
        },
        {
          "output_type": "display_data",
          "data": {
            "text/html": [
              "<html>\n",
              "<head><meta charset=\"utf-8\" /></head>\n",
              "<body>\n",
              "    <div>            <script src=\"https://cdnjs.cloudflare.com/ajax/libs/mathjax/2.7.5/MathJax.js?config=TeX-AMS-MML_SVG\"></script><script type=\"text/javascript\">if (window.MathJax && window.MathJax.Hub && window.MathJax.Hub.Config) {window.MathJax.Hub.Config({SVG: {font: \"STIX-Web\"}});}</script>                <script type=\"text/javascript\">window.PlotlyConfig = {MathJaxConfig: 'local'};</script>\n",
              "        <script src=\"https://cdn.plot.ly/plotly-2.18.2.min.js\"></script>                <div id=\"cbc8856d-5f25-4071-a6fb-80aba0c65af7\" class=\"plotly-graph-div\" style=\"height:525px; width:100%;\"></div>            <script type=\"text/javascript\">                                    window.PLOTLYENV=window.PLOTLYENV || {};                                    if (document.getElementById(\"cbc8856d-5f25-4071-a6fb-80aba0c65af7\")) {                    Plotly.newPlot(                        \"cbc8856d-5f25-4071-a6fb-80aba0c65af7\",                        [{\"hovertemplate\":\"%{hovertext}<extra></extra>\",\"hovertext\":[\"Trial #0<br>clf__boosting_type: dart<br>clf__n_estimators: 150<br>clf__learning_rate: 0.15<br><b>Objective Value: 0.6005178388574516</b>\",\"Trial #1<br>clf__boosting_type: gbdt<br>clf__n_estimators: 50<br>clf__learning_rate: 0.05<br><b>Objective Value: 0.6187000248197784</b>\",\"Trial #2<br>clf__boosting_type: gbdt<br>clf__n_estimators: 100<br>clf__learning_rate: 0.1<br><b>Objective Value: 0.5924147323469301</b>\",\"Trial #3<br>clf__boosting_type: gbdt<br>clf__n_estimators: 50<br>clf__learning_rate: 0.05<br><b>Objective Value: 0.6187000248197784</b>\",\"Trial #4<br>clf__boosting_type: dart<br>clf__n_estimators: 100<br>clf__learning_rate: 0.05<br><b>Objective Value: 0.6181046766608904</b>\",\"Trial #5<br>clf__boosting_type: dart<br>clf__n_estimators: 150<br>clf__learning_rate: 0.15<br><b>Objective Value: 0.6005178388574516</b>\",\"Trial #6<br>clf__boosting_type: gbdt<br>clf__n_estimators: 150<br>clf__learning_rate: 0.1<br><b>Objective Value: 0.5907430108864833</b>\",\"Trial #7<br>clf__boosting_type: gbdt<br>clf__n_estimators: 50<br>clf__learning_rate: 0.15<br><b>Objective Value: 0.5924815455259271</b>\",\"Trial #8<br>clf__boosting_type: gbdt<br>clf__n_estimators: 150<br>clf__learning_rate: 0.05<br><b>Objective Value: 0.6007618241307588</b>\",\"Trial #9<br>clf__boosting_type: gbdt<br>clf__n_estimators: 50<br>clf__learning_rate: 0.15<br><b>Objective Value: 0.5924815455259271</b>\"],\"marker\":{\"color\":[\"rgb(255, 255, 191)\",\"rgb(193, 27, 39)\",\"rgb(74, 123, 183)\",\"rgb(193, 27, 39)\",\"rgb(246, 123, 74)\",\"rgb(255, 255, 191)\",\"rgb(49, 54, 149)\",\"rgb(159, 207, 228)\",\"rgb(253, 191, 113)\",\"rgb(159, 207, 228)\"],\"line\":{\"color\":\"Grey\",\"width\":0.5}},\"mode\":\"markers\",\"showlegend\":false,\"x\":[\"dart\",\"gbdt\",\"gbdt\",\"gbdt\",\"dart\",\"dart\",\"gbdt\",\"gbdt\",\"gbdt\",\"gbdt\"],\"y\":[\"dart\",\"gbdt\",\"gbdt\",\"gbdt\",\"dart\",\"dart\",\"gbdt\",\"gbdt\",\"gbdt\",\"gbdt\"],\"type\":\"scatter\",\"xaxis\":\"x\",\"yaxis\":\"y\"},{\"hovertemplate\":\"%{hovertext}<extra></extra>\",\"hovertext\":[\"Trial #0<br>clf__boosting_type: dart<br>clf__n_estimators: 150<br>clf__learning_rate: 0.15<br><b>Objective Value: 0.6005178388574516</b>\",\"Trial #1<br>clf__boosting_type: gbdt<br>clf__n_estimators: 50<br>clf__learning_rate: 0.05<br><b>Objective Value: 0.6187000248197784</b>\",\"Trial #2<br>clf__boosting_type: gbdt<br>clf__n_estimators: 100<br>clf__learning_rate: 0.1<br><b>Objective Value: 0.5924147323469301</b>\",\"Trial #3<br>clf__boosting_type: gbdt<br>clf__n_estimators: 50<br>clf__learning_rate: 0.05<br><b>Objective Value: 0.6187000248197784</b>\",\"Trial #4<br>clf__boosting_type: dart<br>clf__n_estimators: 100<br>clf__learning_rate: 0.05<br><b>Objective Value: 0.6181046766608904</b>\",\"Trial #5<br>clf__boosting_type: dart<br>clf__n_estimators: 150<br>clf__learning_rate: 0.15<br><b>Objective Value: 0.6005178388574516</b>\",\"Trial #6<br>clf__boosting_type: gbdt<br>clf__n_estimators: 150<br>clf__learning_rate: 0.1<br><b>Objective Value: 0.5907430108864833</b>\",\"Trial #7<br>clf__boosting_type: gbdt<br>clf__n_estimators: 50<br>clf__learning_rate: 0.15<br><b>Objective Value: 0.5924815455259271</b>\",\"Trial #8<br>clf__boosting_type: gbdt<br>clf__n_estimators: 150<br>clf__learning_rate: 0.05<br><b>Objective Value: 0.6007618241307588</b>\",\"Trial #9<br>clf__boosting_type: gbdt<br>clf__n_estimators: 50<br>clf__learning_rate: 0.15<br><b>Objective Value: 0.5924815455259271</b>\"],\"marker\":{\"color\":[\"rgb(255, 255, 191)\",\"rgb(193, 27, 39)\",\"rgb(74, 123, 183)\",\"rgb(193, 27, 39)\",\"rgb(246, 123, 74)\",\"rgb(255, 255, 191)\",\"rgb(49, 54, 149)\",\"rgb(159, 207, 228)\",\"rgb(253, 191, 113)\",\"rgb(159, 207, 228)\"],\"line\":{\"color\":\"Grey\",\"width\":0.5}},\"mode\":\"markers\",\"showlegend\":false,\"x\":[\"dart\",\"gbdt\",\"gbdt\",\"gbdt\",\"dart\",\"dart\",\"gbdt\",\"gbdt\",\"gbdt\",\"gbdt\"],\"y\":[0.15,0.05,0.1,0.05,0.05,0.15,0.1,0.15,0.05,0.15],\"type\":\"scatter\",\"xaxis\":\"x4\",\"yaxis\":\"y4\"},{\"hovertemplate\":\"%{hovertext}<extra></extra>\",\"hovertext\":[\"Trial #0<br>clf__boosting_type: dart<br>clf__n_estimators: 150<br>clf__learning_rate: 0.15<br><b>Objective Value: 0.6005178388574516</b>\",\"Trial #1<br>clf__boosting_type: gbdt<br>clf__n_estimators: 50<br>clf__learning_rate: 0.05<br><b>Objective Value: 0.6187000248197784</b>\",\"Trial #2<br>clf__boosting_type: gbdt<br>clf__n_estimators: 100<br>clf__learning_rate: 0.1<br><b>Objective Value: 0.5924147323469301</b>\",\"Trial #3<br>clf__boosting_type: gbdt<br>clf__n_estimators: 50<br>clf__learning_rate: 0.05<br><b>Objective Value: 0.6187000248197784</b>\",\"Trial #4<br>clf__boosting_type: dart<br>clf__n_estimators: 100<br>clf__learning_rate: 0.05<br><b>Objective Value: 0.6181046766608904</b>\",\"Trial #5<br>clf__boosting_type: dart<br>clf__n_estimators: 150<br>clf__learning_rate: 0.15<br><b>Objective Value: 0.6005178388574516</b>\",\"Trial #6<br>clf__boosting_type: gbdt<br>clf__n_estimators: 150<br>clf__learning_rate: 0.1<br><b>Objective Value: 0.5907430108864833</b>\",\"Trial #7<br>clf__boosting_type: gbdt<br>clf__n_estimators: 50<br>clf__learning_rate: 0.15<br><b>Objective Value: 0.5924815455259271</b>\",\"Trial #8<br>clf__boosting_type: gbdt<br>clf__n_estimators: 150<br>clf__learning_rate: 0.05<br><b>Objective Value: 0.6007618241307588</b>\",\"Trial #9<br>clf__boosting_type: gbdt<br>clf__n_estimators: 50<br>clf__learning_rate: 0.15<br><b>Objective Value: 0.5924815455259271</b>\"],\"marker\":{\"color\":[\"rgb(255, 255, 191)\",\"rgb(193, 27, 39)\",\"rgb(74, 123, 183)\",\"rgb(193, 27, 39)\",\"rgb(246, 123, 74)\",\"rgb(255, 255, 191)\",\"rgb(49, 54, 149)\",\"rgb(159, 207, 228)\",\"rgb(253, 191, 113)\",\"rgb(159, 207, 228)\"],\"line\":{\"color\":\"Grey\",\"width\":0.5}},\"mode\":\"markers\",\"showlegend\":false,\"x\":[\"dart\",\"gbdt\",\"gbdt\",\"gbdt\",\"dart\",\"dart\",\"gbdt\",\"gbdt\",\"gbdt\",\"gbdt\"],\"y\":[150,50,100,50,100,150,150,50,150,50],\"type\":\"scatter\",\"xaxis\":\"x7\",\"yaxis\":\"y7\"},{\"hovertemplate\":\"%{hovertext}<extra></extra>\",\"hovertext\":[\"Trial #0<br>clf__boosting_type: dart<br>clf__n_estimators: 150<br>clf__learning_rate: 0.15<br><b>Objective Value: 0.6005178388574516</b>\",\"Trial #1<br>clf__boosting_type: gbdt<br>clf__n_estimators: 50<br>clf__learning_rate: 0.05<br><b>Objective Value: 0.6187000248197784</b>\",\"Trial #2<br>clf__boosting_type: gbdt<br>clf__n_estimators: 100<br>clf__learning_rate: 0.1<br><b>Objective Value: 0.5924147323469301</b>\",\"Trial #3<br>clf__boosting_type: gbdt<br>clf__n_estimators: 50<br>clf__learning_rate: 0.05<br><b>Objective Value: 0.6187000248197784</b>\",\"Trial #4<br>clf__boosting_type: dart<br>clf__n_estimators: 100<br>clf__learning_rate: 0.05<br><b>Objective Value: 0.6181046766608904</b>\",\"Trial #5<br>clf__boosting_type: dart<br>clf__n_estimators: 150<br>clf__learning_rate: 0.15<br><b>Objective Value: 0.6005178388574516</b>\",\"Trial #6<br>clf__boosting_type: gbdt<br>clf__n_estimators: 150<br>clf__learning_rate: 0.1<br><b>Objective Value: 0.5907430108864833</b>\",\"Trial #7<br>clf__boosting_type: gbdt<br>clf__n_estimators: 50<br>clf__learning_rate: 0.15<br><b>Objective Value: 0.5924815455259271</b>\",\"Trial #8<br>clf__boosting_type: gbdt<br>clf__n_estimators: 150<br>clf__learning_rate: 0.05<br><b>Objective Value: 0.6007618241307588</b>\",\"Trial #9<br>clf__boosting_type: gbdt<br>clf__n_estimators: 50<br>clf__learning_rate: 0.15<br><b>Objective Value: 0.5924815455259271</b>\"],\"marker\":{\"color\":[\"rgb(255, 255, 191)\",\"rgb(193, 27, 39)\",\"rgb(74, 123, 183)\",\"rgb(193, 27, 39)\",\"rgb(246, 123, 74)\",\"rgb(255, 255, 191)\",\"rgb(49, 54, 149)\",\"rgb(159, 207, 228)\",\"rgb(253, 191, 113)\",\"rgb(159, 207, 228)\"],\"line\":{\"color\":\"Grey\",\"width\":0.5}},\"mode\":\"markers\",\"showlegend\":false,\"x\":[0.15,0.05,0.1,0.05,0.05,0.15,0.1,0.15,0.05,0.15],\"y\":[\"dart\",\"gbdt\",\"gbdt\",\"gbdt\",\"dart\",\"dart\",\"gbdt\",\"gbdt\",\"gbdt\",\"gbdt\"],\"type\":\"scatter\",\"xaxis\":\"x2\",\"yaxis\":\"y2\"},{\"hovertemplate\":\"%{hovertext}<extra></extra>\",\"hovertext\":[\"Trial #0<br>clf__boosting_type: dart<br>clf__n_estimators: 150<br>clf__learning_rate: 0.15<br><b>Objective Value: 0.6005178388574516</b>\",\"Trial #1<br>clf__boosting_type: gbdt<br>clf__n_estimators: 50<br>clf__learning_rate: 0.05<br><b>Objective Value: 0.6187000248197784</b>\",\"Trial #2<br>clf__boosting_type: gbdt<br>clf__n_estimators: 100<br>clf__learning_rate: 0.1<br><b>Objective Value: 0.5924147323469301</b>\",\"Trial #3<br>clf__boosting_type: gbdt<br>clf__n_estimators: 50<br>clf__learning_rate: 0.05<br><b>Objective Value: 0.6187000248197784</b>\",\"Trial #4<br>clf__boosting_type: dart<br>clf__n_estimators: 100<br>clf__learning_rate: 0.05<br><b>Objective Value: 0.6181046766608904</b>\",\"Trial #5<br>clf__boosting_type: dart<br>clf__n_estimators: 150<br>clf__learning_rate: 0.15<br><b>Objective Value: 0.6005178388574516</b>\",\"Trial #6<br>clf__boosting_type: gbdt<br>clf__n_estimators: 150<br>clf__learning_rate: 0.1<br><b>Objective Value: 0.5907430108864833</b>\",\"Trial #7<br>clf__boosting_type: gbdt<br>clf__n_estimators: 50<br>clf__learning_rate: 0.15<br><b>Objective Value: 0.5924815455259271</b>\",\"Trial #8<br>clf__boosting_type: gbdt<br>clf__n_estimators: 150<br>clf__learning_rate: 0.05<br><b>Objective Value: 0.6007618241307588</b>\",\"Trial #9<br>clf__boosting_type: gbdt<br>clf__n_estimators: 50<br>clf__learning_rate: 0.15<br><b>Objective Value: 0.5924815455259271</b>\"],\"marker\":{\"color\":[\"rgb(255, 255, 191)\",\"rgb(193, 27, 39)\",\"rgb(74, 123, 183)\",\"rgb(193, 27, 39)\",\"rgb(246, 123, 74)\",\"rgb(255, 255, 191)\",\"rgb(49, 54, 149)\",\"rgb(159, 207, 228)\",\"rgb(253, 191, 113)\",\"rgb(159, 207, 228)\"],\"line\":{\"color\":\"Grey\",\"width\":0.5}},\"mode\":\"markers\",\"showlegend\":false,\"x\":[0.15,0.05,0.1,0.05,0.05,0.15,0.1,0.15,0.05,0.15],\"y\":[0.15,0.05,0.1,0.05,0.05,0.15,0.1,0.15,0.05,0.15],\"type\":\"scatter\",\"xaxis\":\"x5\",\"yaxis\":\"y5\"},{\"hovertemplate\":\"%{hovertext}<extra></extra>\",\"hovertext\":[\"Trial #0<br>clf__boosting_type: dart<br>clf__n_estimators: 150<br>clf__learning_rate: 0.15<br><b>Objective Value: 0.6005178388574516</b>\",\"Trial #1<br>clf__boosting_type: gbdt<br>clf__n_estimators: 50<br>clf__learning_rate: 0.05<br><b>Objective Value: 0.6187000248197784</b>\",\"Trial #2<br>clf__boosting_type: gbdt<br>clf__n_estimators: 100<br>clf__learning_rate: 0.1<br><b>Objective Value: 0.5924147323469301</b>\",\"Trial #3<br>clf__boosting_type: gbdt<br>clf__n_estimators: 50<br>clf__learning_rate: 0.05<br><b>Objective Value: 0.6187000248197784</b>\",\"Trial #4<br>clf__boosting_type: dart<br>clf__n_estimators: 100<br>clf__learning_rate: 0.05<br><b>Objective Value: 0.6181046766608904</b>\",\"Trial #5<br>clf__boosting_type: dart<br>clf__n_estimators: 150<br>clf__learning_rate: 0.15<br><b>Objective Value: 0.6005178388574516</b>\",\"Trial #6<br>clf__boosting_type: gbdt<br>clf__n_estimators: 150<br>clf__learning_rate: 0.1<br><b>Objective Value: 0.5907430108864833</b>\",\"Trial #7<br>clf__boosting_type: gbdt<br>clf__n_estimators: 50<br>clf__learning_rate: 0.15<br><b>Objective Value: 0.5924815455259271</b>\",\"Trial #8<br>clf__boosting_type: gbdt<br>clf__n_estimators: 150<br>clf__learning_rate: 0.05<br><b>Objective Value: 0.6007618241307588</b>\",\"Trial #9<br>clf__boosting_type: gbdt<br>clf__n_estimators: 50<br>clf__learning_rate: 0.15<br><b>Objective Value: 0.5924815455259271</b>\"],\"marker\":{\"color\":[\"rgb(255, 255, 191)\",\"rgb(193, 27, 39)\",\"rgb(74, 123, 183)\",\"rgb(193, 27, 39)\",\"rgb(246, 123, 74)\",\"rgb(255, 255, 191)\",\"rgb(49, 54, 149)\",\"rgb(159, 207, 228)\",\"rgb(253, 191, 113)\",\"rgb(159, 207, 228)\"],\"line\":{\"color\":\"Grey\",\"width\":0.5}},\"mode\":\"markers\",\"showlegend\":false,\"x\":[0.15,0.05,0.1,0.05,0.05,0.15,0.1,0.15,0.05,0.15],\"y\":[150,50,100,50,100,150,150,50,150,50],\"type\":\"scatter\",\"xaxis\":\"x8\",\"yaxis\":\"y8\"},{\"hovertemplate\":\"%{hovertext}<extra></extra>\",\"hovertext\":[\"Trial #0<br>clf__boosting_type: dart<br>clf__n_estimators: 150<br>clf__learning_rate: 0.15<br><b>Objective Value: 0.6005178388574516</b>\",\"Trial #1<br>clf__boosting_type: gbdt<br>clf__n_estimators: 50<br>clf__learning_rate: 0.05<br><b>Objective Value: 0.6187000248197784</b>\",\"Trial #2<br>clf__boosting_type: gbdt<br>clf__n_estimators: 100<br>clf__learning_rate: 0.1<br><b>Objective Value: 0.5924147323469301</b>\",\"Trial #3<br>clf__boosting_type: gbdt<br>clf__n_estimators: 50<br>clf__learning_rate: 0.05<br><b>Objective Value: 0.6187000248197784</b>\",\"Trial #4<br>clf__boosting_type: dart<br>clf__n_estimators: 100<br>clf__learning_rate: 0.05<br><b>Objective Value: 0.6181046766608904</b>\",\"Trial #5<br>clf__boosting_type: dart<br>clf__n_estimators: 150<br>clf__learning_rate: 0.15<br><b>Objective Value: 0.6005178388574516</b>\",\"Trial #6<br>clf__boosting_type: gbdt<br>clf__n_estimators: 150<br>clf__learning_rate: 0.1<br><b>Objective Value: 0.5907430108864833</b>\",\"Trial #7<br>clf__boosting_type: gbdt<br>clf__n_estimators: 50<br>clf__learning_rate: 0.15<br><b>Objective Value: 0.5924815455259271</b>\",\"Trial #8<br>clf__boosting_type: gbdt<br>clf__n_estimators: 150<br>clf__learning_rate: 0.05<br><b>Objective Value: 0.6007618241307588</b>\",\"Trial #9<br>clf__boosting_type: gbdt<br>clf__n_estimators: 50<br>clf__learning_rate: 0.15<br><b>Objective Value: 0.5924815455259271</b>\"],\"marker\":{\"color\":[\"rgb(255, 255, 191)\",\"rgb(193, 27, 39)\",\"rgb(74, 123, 183)\",\"rgb(193, 27, 39)\",\"rgb(246, 123, 74)\",\"rgb(255, 255, 191)\",\"rgb(49, 54, 149)\",\"rgb(159, 207, 228)\",\"rgb(253, 191, 113)\",\"rgb(159, 207, 228)\"],\"line\":{\"color\":\"Grey\",\"width\":0.5}},\"mode\":\"markers\",\"showlegend\":false,\"x\":[150,50,100,50,100,150,150,50,150,50],\"y\":[\"dart\",\"gbdt\",\"gbdt\",\"gbdt\",\"dart\",\"dart\",\"gbdt\",\"gbdt\",\"gbdt\",\"gbdt\"],\"type\":\"scatter\",\"xaxis\":\"x3\",\"yaxis\":\"y3\"},{\"hovertemplate\":\"%{hovertext}<extra></extra>\",\"hovertext\":[\"Trial #0<br>clf__boosting_type: dart<br>clf__n_estimators: 150<br>clf__learning_rate: 0.15<br><b>Objective Value: 0.6005178388574516</b>\",\"Trial #1<br>clf__boosting_type: gbdt<br>clf__n_estimators: 50<br>clf__learning_rate: 0.05<br><b>Objective Value: 0.6187000248197784</b>\",\"Trial #2<br>clf__boosting_type: gbdt<br>clf__n_estimators: 100<br>clf__learning_rate: 0.1<br><b>Objective Value: 0.5924147323469301</b>\",\"Trial #3<br>clf__boosting_type: gbdt<br>clf__n_estimators: 50<br>clf__learning_rate: 0.05<br><b>Objective Value: 0.6187000248197784</b>\",\"Trial #4<br>clf__boosting_type: dart<br>clf__n_estimators: 100<br>clf__learning_rate: 0.05<br><b>Objective Value: 0.6181046766608904</b>\",\"Trial #5<br>clf__boosting_type: dart<br>clf__n_estimators: 150<br>clf__learning_rate: 0.15<br><b>Objective Value: 0.6005178388574516</b>\",\"Trial #6<br>clf__boosting_type: gbdt<br>clf__n_estimators: 150<br>clf__learning_rate: 0.1<br><b>Objective Value: 0.5907430108864833</b>\",\"Trial #7<br>clf__boosting_type: gbdt<br>clf__n_estimators: 50<br>clf__learning_rate: 0.15<br><b>Objective Value: 0.5924815455259271</b>\",\"Trial #8<br>clf__boosting_type: gbdt<br>clf__n_estimators: 150<br>clf__learning_rate: 0.05<br><b>Objective Value: 0.6007618241307588</b>\",\"Trial #9<br>clf__boosting_type: gbdt<br>clf__n_estimators: 50<br>clf__learning_rate: 0.15<br><b>Objective Value: 0.5924815455259271</b>\"],\"marker\":{\"color\":[\"rgb(255, 255, 191)\",\"rgb(193, 27, 39)\",\"rgb(74, 123, 183)\",\"rgb(193, 27, 39)\",\"rgb(246, 123, 74)\",\"rgb(255, 255, 191)\",\"rgb(49, 54, 149)\",\"rgb(159, 207, 228)\",\"rgb(253, 191, 113)\",\"rgb(159, 207, 228)\"],\"line\":{\"color\":\"Grey\",\"width\":0.5}},\"mode\":\"markers\",\"showlegend\":false,\"x\":[150,50,100,50,100,150,150,50,150,50],\"y\":[0.15,0.05,0.1,0.05,0.05,0.15,0.1,0.15,0.05,0.15],\"type\":\"scatter\",\"xaxis\":\"x6\",\"yaxis\":\"y6\"},{\"hovertemplate\":\"%{hovertext}<extra></extra>\",\"hovertext\":[\"Trial #0<br>clf__boosting_type: dart<br>clf__n_estimators: 150<br>clf__learning_rate: 0.15<br><b>Objective Value: 0.6005178388574516</b>\",\"Trial #1<br>clf__boosting_type: gbdt<br>clf__n_estimators: 50<br>clf__learning_rate: 0.05<br><b>Objective Value: 0.6187000248197784</b>\",\"Trial #2<br>clf__boosting_type: gbdt<br>clf__n_estimators: 100<br>clf__learning_rate: 0.1<br><b>Objective Value: 0.5924147323469301</b>\",\"Trial #3<br>clf__boosting_type: gbdt<br>clf__n_estimators: 50<br>clf__learning_rate: 0.05<br><b>Objective Value: 0.6187000248197784</b>\",\"Trial #4<br>clf__boosting_type: dart<br>clf__n_estimators: 100<br>clf__learning_rate: 0.05<br><b>Objective Value: 0.6181046766608904</b>\",\"Trial #5<br>clf__boosting_type: dart<br>clf__n_estimators: 150<br>clf__learning_rate: 0.15<br><b>Objective Value: 0.6005178388574516</b>\",\"Trial #6<br>clf__boosting_type: gbdt<br>clf__n_estimators: 150<br>clf__learning_rate: 0.1<br><b>Objective Value: 0.5907430108864833</b>\",\"Trial #7<br>clf__boosting_type: gbdt<br>clf__n_estimators: 50<br>clf__learning_rate: 0.15<br><b>Objective Value: 0.5924815455259271</b>\",\"Trial #8<br>clf__boosting_type: gbdt<br>clf__n_estimators: 150<br>clf__learning_rate: 0.05<br><b>Objective Value: 0.6007618241307588</b>\",\"Trial #9<br>clf__boosting_type: gbdt<br>clf__n_estimators: 50<br>clf__learning_rate: 0.15<br><b>Objective Value: 0.5924815455259271</b>\"],\"marker\":{\"color\":[\"rgb(255, 255, 191)\",\"rgb(193, 27, 39)\",\"rgb(74, 123, 183)\",\"rgb(193, 27, 39)\",\"rgb(246, 123, 74)\",\"rgb(255, 255, 191)\",\"rgb(49, 54, 149)\",\"rgb(159, 207, 228)\",\"rgb(253, 191, 113)\",\"rgb(159, 207, 228)\"],\"line\":{\"color\":\"Grey\",\"width\":0.5}},\"mode\":\"markers\",\"showlegend\":false,\"x\":[150,50,100,50,100,150,150,50,150,50],\"y\":[150,50,100,50,100,150,150,50,150,50],\"type\":\"scatter\",\"xaxis\":\"x9\",\"yaxis\":\"y9\"},{\"hoverinfo\":\"none\",\"marker\":{\"cmax\":1,\"cmin\":0,\"colorbar\":{\"thickness\":10,\"ticktext\":[\"min. (0.590743)\",\"25% (0.592482)\",\"50% (0.600518)\",\"75% (0.613769)\",\"max. (0.6187)\"],\"tickvals\":[0,0.25,0.5,0.75,1]},\"colorscale\":[[0.0,\"rgb(49,54,149)\"],[0.1,\"rgb(69,117,180)\"],[0.2,\"rgb(116,173,209)\"],[0.3,\"rgb(171,217,233)\"],[0.4,\"rgb(224,243,248)\"],[0.5,\"rgb(255,255,191)\"],[0.6,\"rgb(254,224,144)\"],[0.7,\"rgb(253,174,97)\"],[0.8,\"rgb(244,109,67)\"],[0.9,\"rgb(215,48,39)\"],[1.0,\"rgb(165,0,38)\"]],\"showscale\":true},\"mode\":\"markers\",\"showlegend\":false,\"x\":[null],\"y\":[null],\"type\":\"scatter\"}],                        {\"template\":{\"data\":{\"histogram2dcontour\":[{\"type\":\"histogram2dcontour\",\"colorbar\":{\"outlinewidth\":0,\"ticks\":\"\"},\"colorscale\":[[0.0,\"#0d0887\"],[0.1111111111111111,\"#46039f\"],[0.2222222222222222,\"#7201a8\"],[0.3333333333333333,\"#9c179e\"],[0.4444444444444444,\"#bd3786\"],[0.5555555555555556,\"#d8576b\"],[0.6666666666666666,\"#ed7953\"],[0.7777777777777778,\"#fb9f3a\"],[0.8888888888888888,\"#fdca26\"],[1.0,\"#f0f921\"]]}],\"choropleth\":[{\"type\":\"choropleth\",\"colorbar\":{\"outlinewidth\":0,\"ticks\":\"\"}}],\"histogram2d\":[{\"type\":\"histogram2d\",\"colorbar\":{\"outlinewidth\":0,\"ticks\":\"\"},\"colorscale\":[[0.0,\"#0d0887\"],[0.1111111111111111,\"#46039f\"],[0.2222222222222222,\"#7201a8\"],[0.3333333333333333,\"#9c179e\"],[0.4444444444444444,\"#bd3786\"],[0.5555555555555556,\"#d8576b\"],[0.6666666666666666,\"#ed7953\"],[0.7777777777777778,\"#fb9f3a\"],[0.8888888888888888,\"#fdca26\"],[1.0,\"#f0f921\"]]}],\"heatmap\":[{\"type\":\"heatmap\",\"colorbar\":{\"outlinewidth\":0,\"ticks\":\"\"},\"colorscale\":[[0.0,\"#0d0887\"],[0.1111111111111111,\"#46039f\"],[0.2222222222222222,\"#7201a8\"],[0.3333333333333333,\"#9c179e\"],[0.4444444444444444,\"#bd3786\"],[0.5555555555555556,\"#d8576b\"],[0.6666666666666666,\"#ed7953\"],[0.7777777777777778,\"#fb9f3a\"],[0.8888888888888888,\"#fdca26\"],[1.0,\"#f0f921\"]]}],\"heatmapgl\":[{\"type\":\"heatmapgl\",\"colorbar\":{\"outlinewidth\":0,\"ticks\":\"\"},\"colorscale\":[[0.0,\"#0d0887\"],[0.1111111111111111,\"#46039f\"],[0.2222222222222222,\"#7201a8\"],[0.3333333333333333,\"#9c179e\"],[0.4444444444444444,\"#bd3786\"],[0.5555555555555556,\"#d8576b\"],[0.6666666666666666,\"#ed7953\"],[0.7777777777777778,\"#fb9f3a\"],[0.8888888888888888,\"#fdca26\"],[1.0,\"#f0f921\"]]}],\"contourcarpet\":[{\"type\":\"contourcarpet\",\"colorbar\":{\"outlinewidth\":0,\"ticks\":\"\"}}],\"contour\":[{\"type\":\"contour\",\"colorbar\":{\"outlinewidth\":0,\"ticks\":\"\"},\"colorscale\":[[0.0,\"#0d0887\"],[0.1111111111111111,\"#46039f\"],[0.2222222222222222,\"#7201a8\"],[0.3333333333333333,\"#9c179e\"],[0.4444444444444444,\"#bd3786\"],[0.5555555555555556,\"#d8576b\"],[0.6666666666666666,\"#ed7953\"],[0.7777777777777778,\"#fb9f3a\"],[0.8888888888888888,\"#fdca26\"],[1.0,\"#f0f921\"]]}],\"surface\":[{\"type\":\"surface\",\"colorbar\":{\"outlinewidth\":0,\"ticks\":\"\"},\"colorscale\":[[0.0,\"#0d0887\"],[0.1111111111111111,\"#46039f\"],[0.2222222222222222,\"#7201a8\"],[0.3333333333333333,\"#9c179e\"],[0.4444444444444444,\"#bd3786\"],[0.5555555555555556,\"#d8576b\"],[0.6666666666666666,\"#ed7953\"],[0.7777777777777778,\"#fb9f3a\"],[0.8888888888888888,\"#fdca26\"],[1.0,\"#f0f921\"]]}],\"mesh3d\":[{\"type\":\"mesh3d\",\"colorbar\":{\"outlinewidth\":0,\"ticks\":\"\"}}],\"scatter\":[{\"fillpattern\":{\"fillmode\":\"overlay\",\"size\":10,\"solidity\":0.2},\"type\":\"scatter\"}],\"parcoords\":[{\"type\":\"parcoords\",\"line\":{\"colorbar\":{\"outlinewidth\":0,\"ticks\":\"\"}}}],\"scatterpolargl\":[{\"type\":\"scatterpolargl\",\"marker\":{\"colorbar\":{\"outlinewidth\":0,\"ticks\":\"\"}}}],\"bar\":[{\"error_x\":{\"color\":\"#2a3f5f\"},\"error_y\":{\"color\":\"#2a3f5f\"},\"marker\":{\"line\":{\"color\":\"#E5ECF6\",\"width\":0.5},\"pattern\":{\"fillmode\":\"overlay\",\"size\":10,\"solidity\":0.2}},\"type\":\"bar\"}],\"scattergeo\":[{\"type\":\"scattergeo\",\"marker\":{\"colorbar\":{\"outlinewidth\":0,\"ticks\":\"\"}}}],\"scatterpolar\":[{\"type\":\"scatterpolar\",\"marker\":{\"colorbar\":{\"outlinewidth\":0,\"ticks\":\"\"}}}],\"histogram\":[{\"marker\":{\"pattern\":{\"fillmode\":\"overlay\",\"size\":10,\"solidity\":0.2}},\"type\":\"histogram\"}],\"scattergl\":[{\"type\":\"scattergl\",\"marker\":{\"colorbar\":{\"outlinewidth\":0,\"ticks\":\"\"}}}],\"scatter3d\":[{\"type\":\"scatter3d\",\"line\":{\"colorbar\":{\"outlinewidth\":0,\"ticks\":\"\"}},\"marker\":{\"colorbar\":{\"outlinewidth\":0,\"ticks\":\"\"}}}],\"scattermapbox\":[{\"type\":\"scattermapbox\",\"marker\":{\"colorbar\":{\"outlinewidth\":0,\"ticks\":\"\"}}}],\"scatterternary\":[{\"type\":\"scatterternary\",\"marker\":{\"colorbar\":{\"outlinewidth\":0,\"ticks\":\"\"}}}],\"scattercarpet\":[{\"type\":\"scattercarpet\",\"marker\":{\"colorbar\":{\"outlinewidth\":0,\"ticks\":\"\"}}}],\"carpet\":[{\"aaxis\":{\"endlinecolor\":\"#2a3f5f\",\"gridcolor\":\"white\",\"linecolor\":\"white\",\"minorgridcolor\":\"white\",\"startlinecolor\":\"#2a3f5f\"},\"baxis\":{\"endlinecolor\":\"#2a3f5f\",\"gridcolor\":\"white\",\"linecolor\":\"white\",\"minorgridcolor\":\"white\",\"startlinecolor\":\"#2a3f5f\"},\"type\":\"carpet\"}],\"table\":[{\"cells\":{\"fill\":{\"color\":\"#EBF0F8\"},\"line\":{\"color\":\"white\"}},\"header\":{\"fill\":{\"color\":\"#C8D4E3\"},\"line\":{\"color\":\"white\"}},\"type\":\"table\"}],\"barpolar\":[{\"marker\":{\"line\":{\"color\":\"#E5ECF6\",\"width\":0.5},\"pattern\":{\"fillmode\":\"overlay\",\"size\":10,\"solidity\":0.2}},\"type\":\"barpolar\"}],\"pie\":[{\"automargin\":true,\"type\":\"pie\"}]},\"layout\":{\"autotypenumbers\":\"strict\",\"colorway\":[\"#636efa\",\"#EF553B\",\"#00cc96\",\"#ab63fa\",\"#FFA15A\",\"#19d3f3\",\"#FF6692\",\"#B6E880\",\"#FF97FF\",\"#FECB52\"],\"font\":{\"color\":\"#2a3f5f\"},\"hovermode\":\"closest\",\"hoverlabel\":{\"align\":\"left\"},\"paper_bgcolor\":\"white\",\"plot_bgcolor\":\"#E5ECF6\",\"polar\":{\"bgcolor\":\"#E5ECF6\",\"angularaxis\":{\"gridcolor\":\"white\",\"linecolor\":\"white\",\"ticks\":\"\"},\"radialaxis\":{\"gridcolor\":\"white\",\"linecolor\":\"white\",\"ticks\":\"\"}},\"ternary\":{\"bgcolor\":\"#E5ECF6\",\"aaxis\":{\"gridcolor\":\"white\",\"linecolor\":\"white\",\"ticks\":\"\"},\"baxis\":{\"gridcolor\":\"white\",\"linecolor\":\"white\",\"ticks\":\"\"},\"caxis\":{\"gridcolor\":\"white\",\"linecolor\":\"white\",\"ticks\":\"\"}},\"coloraxis\":{\"colorbar\":{\"outlinewidth\":0,\"ticks\":\"\"}},\"colorscale\":{\"sequential\":[[0.0,\"#0d0887\"],[0.1111111111111111,\"#46039f\"],[0.2222222222222222,\"#7201a8\"],[0.3333333333333333,\"#9c179e\"],[0.4444444444444444,\"#bd3786\"],[0.5555555555555556,\"#d8576b\"],[0.6666666666666666,\"#ed7953\"],[0.7777777777777778,\"#fb9f3a\"],[0.8888888888888888,\"#fdca26\"],[1.0,\"#f0f921\"]],\"sequentialminus\":[[0.0,\"#0d0887\"],[0.1111111111111111,\"#46039f\"],[0.2222222222222222,\"#7201a8\"],[0.3333333333333333,\"#9c179e\"],[0.4444444444444444,\"#bd3786\"],[0.5555555555555556,\"#d8576b\"],[0.6666666666666666,\"#ed7953\"],[0.7777777777777778,\"#fb9f3a\"],[0.8888888888888888,\"#fdca26\"],[1.0,\"#f0f921\"]],\"diverging\":[[0,\"#8e0152\"],[0.1,\"#c51b7d\"],[0.2,\"#de77ae\"],[0.3,\"#f1b6da\"],[0.4,\"#fde0ef\"],[0.5,\"#f7f7f7\"],[0.6,\"#e6f5d0\"],[0.7,\"#b8e186\"],[0.8,\"#7fbc41\"],[0.9,\"#4d9221\"],[1,\"#276419\"]]},\"xaxis\":{\"gridcolor\":\"white\",\"linecolor\":\"white\",\"ticks\":\"\",\"title\":{\"standoff\":15},\"zerolinecolor\":\"white\",\"automargin\":true,\"zerolinewidth\":2},\"yaxis\":{\"gridcolor\":\"white\",\"linecolor\":\"white\",\"ticks\":\"\",\"title\":{\"standoff\":15},\"zerolinecolor\":\"white\",\"automargin\":true,\"zerolinewidth\":2},\"scene\":{\"xaxis\":{\"backgroundcolor\":\"#E5ECF6\",\"gridcolor\":\"white\",\"linecolor\":\"white\",\"showbackground\":true,\"ticks\":\"\",\"zerolinecolor\":\"white\",\"gridwidth\":2},\"yaxis\":{\"backgroundcolor\":\"#E5ECF6\",\"gridcolor\":\"white\",\"linecolor\":\"white\",\"showbackground\":true,\"ticks\":\"\",\"zerolinecolor\":\"white\",\"gridwidth\":2},\"zaxis\":{\"backgroundcolor\":\"#E5ECF6\",\"gridcolor\":\"white\",\"linecolor\":\"white\",\"showbackground\":true,\"ticks\":\"\",\"zerolinecolor\":\"white\",\"gridwidth\":2}},\"shapedefaults\":{\"line\":{\"color\":\"#2a3f5f\"}},\"annotationdefaults\":{\"arrowcolor\":\"#2a3f5f\",\"arrowhead\":0,\"arrowwidth\":1},\"geo\":{\"bgcolor\":\"white\",\"landcolor\":\"#E5ECF6\",\"subunitcolor\":\"white\",\"showland\":true,\"showlakes\":true,\"lakecolor\":\"white\"},\"title\":{\"x\":0.05},\"mapbox\":{\"style\":\"light\"}}},\"xaxis\":{\"anchor\":\"y\",\"domain\":[0.0,0.31555555555555553],\"matches\":\"x7\",\"showticklabels\":false,\"range\":[-0.05,1.05],\"type\":\"category\"},\"yaxis\":{\"anchor\":\"x\",\"domain\":[0.6844444444444444,1.0],\"range\":[-0.05,1.05],\"type\":\"category\",\"title\":{\"text\":\"clf__boosting_type\"}},\"xaxis2\":{\"anchor\":\"y2\",\"domain\":[0.3422222222222222,0.6577777777777778],\"matches\":\"x8\",\"showticklabels\":false,\"range\":[0.045000000000000005,0.155]},\"yaxis2\":{\"anchor\":\"x2\",\"domain\":[0.6844444444444444,1.0],\"matches\":\"y\",\"showticklabels\":false,\"range\":[-0.05,1.05],\"type\":\"category\"},\"xaxis3\":{\"anchor\":\"y3\",\"domain\":[0.6844444444444444,1.0],\"matches\":\"x9\",\"showticklabels\":false,\"range\":[45.0,155.0]},\"yaxis3\":{\"anchor\":\"x3\",\"domain\":[0.6844444444444444,1.0],\"matches\":\"y\",\"showticklabels\":false,\"range\":[-0.05,1.05],\"type\":\"category\"},\"xaxis4\":{\"anchor\":\"y4\",\"domain\":[0.0,0.31555555555555553],\"matches\":\"x7\",\"showticklabels\":false,\"range\":[-0.05,1.05],\"type\":\"category\"},\"yaxis4\":{\"anchor\":\"x4\",\"domain\":[0.3422222222222222,0.6577777777777778],\"range\":[0.045000000000000005,0.155],\"title\":{\"text\":\"clf__learning_rate\"}},\"xaxis5\":{\"anchor\":\"y5\",\"domain\":[0.3422222222222222,0.6577777777777778],\"matches\":\"x8\",\"showticklabels\":false,\"range\":[0.045000000000000005,0.155]},\"yaxis5\":{\"anchor\":\"x5\",\"domain\":[0.3422222222222222,0.6577777777777778],\"matches\":\"y4\",\"showticklabels\":false,\"range\":[0.045000000000000005,0.155]},\"xaxis6\":{\"anchor\":\"y6\",\"domain\":[0.6844444444444444,1.0],\"matches\":\"x9\",\"showticklabels\":false,\"range\":[45.0,155.0]},\"yaxis6\":{\"anchor\":\"x6\",\"domain\":[0.3422222222222222,0.6577777777777778],\"matches\":\"y4\",\"showticklabels\":false,\"range\":[0.045000000000000005,0.155]},\"xaxis7\":{\"anchor\":\"y7\",\"domain\":[0.0,0.31555555555555553],\"range\":[-0.05,1.05],\"type\":\"category\",\"title\":{\"text\":\"clf__boosting_type\"}},\"yaxis7\":{\"anchor\":\"x7\",\"domain\":[0.0,0.31555555555555553],\"range\":[45.0,155.0],\"title\":{\"text\":\"clf__n_estimators\"}},\"xaxis8\":{\"anchor\":\"y8\",\"domain\":[0.3422222222222222,0.6577777777777778],\"range\":[0.045000000000000005,0.155],\"title\":{\"text\":\"clf__learning_rate\"}},\"yaxis8\":{\"anchor\":\"x8\",\"domain\":[0.0,0.31555555555555553],\"matches\":\"y7\",\"showticklabels\":false,\"range\":[45.0,155.0]},\"xaxis9\":{\"anchor\":\"y9\",\"domain\":[0.6844444444444444,1.0],\"range\":[45.0,155.0],\"title\":{\"text\":\"clf__n_estimators\"}},\"yaxis9\":{\"anchor\":\"x9\",\"domain\":[0.0,0.31555555555555553],\"matches\":\"y7\",\"showticklabels\":false,\"range\":[45.0,155.0]},\"title\":{\"text\":\"Rank (Objective Value)\"}},                        {\"responsive\": true}                    ).then(function(){\n",
              "                            \n",
              "var gd = document.getElementById('cbc8856d-5f25-4071-a6fb-80aba0c65af7');\n",
              "var x = new MutationObserver(function (mutations, observer) {{\n",
              "        var display = window.getComputedStyle(gd).display;\n",
              "        if (!display || display === 'none') {{\n",
              "            console.log([gd, 'removed!']);\n",
              "            Plotly.purge(gd);\n",
              "            observer.disconnect();\n",
              "        }}\n",
              "}});\n",
              "\n",
              "// Listen for the removal of the full notebook cells\n",
              "var notebookContainer = gd.closest('#notebook-container');\n",
              "if (notebookContainer) {{\n",
              "    x.observe(notebookContainer, {childList: true});\n",
              "}}\n",
              "\n",
              "// Listen for the clearing of the current output cell\n",
              "var outputEl = gd.closest('.output');\n",
              "if (outputEl) {{\n",
              "    x.observe(outputEl, {childList: true});\n",
              "}}\n",
              "\n",
              "                        })                };                            </script>        </div>\n",
              "</body>\n",
              "</html>"
            ]
          },
          "metadata": {}
        }
      ]
    },
    {
      "cell_type": "markdown",
      "source": [
        "En general, variaciones en el algoritmo de boosting o el número de estimadores no parecen tener un impacto significativo o consistente, mientras que el uso de un learning rate más pequeño fue lo que gatilló mejores resultados."
      ],
      "metadata": {
        "id": "6tQGaibTTdiB"
      }
    },
    {
      "cell_type": "markdown",
      "source": [
        "#### Ajuste de regresión logistica"
      ],
      "metadata": {
        "id": "Cmr8JJqmvVUk"
      }
    },
    {
      "cell_type": "markdown",
      "source": [
        "En el caso de la regresión logística, se ajustan los siguientes hiperparámetros:\n",
        "- Penalización: L1, L2\n",
        "- C: 0.5, 1, 1.5"
      ],
      "metadata": {
        "id": "NpUBxZS5XMd0"
      }
    },
    {
      "cell_type": "code",
      "source": [
        "logit_pipe = Pipeline([\n",
        "    ('ct', ct),\n",
        "    ('smote', SMOTE()),\n",
        "    ('clf', LogisticRegression(random_state=rs, n_jobs=4, solver='saga', max_iter=150)) #KNeighborsClassifier(n_jobs=4)\n",
        "], memory=\".\")\n",
        "\n",
        "logit_params = {\n",
        "    'clf__penalty':CategoricalDistribution(['l1', 'l2']),\n",
        "    'clf__C': FloatDistribution(0.5, 1.5, step=0.5)\n",
        "}\n",
        "logit_study = create_study(direction='maximize')\n",
        "logit_grid = OptunaSearchCV(logit_pipe, logit_params, n_jobs=4, scoring='f1', study=logit_study)\n",
        "logit_grid.fit(x_train, y_train)"
      ],
      "metadata": {
        "id": "dQBuTkRMo34b"
      },
      "execution_count": null,
      "outputs": []
    },
    {
      "cell_type": "code",
      "source": [
        "print('Mejores Hiperparámetros')\n",
        "print(logit_grid.best_params_)\n"
      ],
      "metadata": {
        "colab": {
          "base_uri": "https://localhost:8080/"
        },
        "id": "S6CE5I_6t3H9",
        "outputId": "182d0897-d915-413c-e314-359c3595ee0b"
      },
      "execution_count": 117,
      "outputs": [
        {
          "output_type": "stream",
          "name": "stdout",
          "text": [
            "{'clf__penalty': 'l1', 'clf__C': 0.5}\n",
            "              precision    recall  f1-score   support\n",
            "\n",
            "           0       0.86      0.77      0.81      6577\n",
            "           1       0.55      0.69      0.61      2624\n",
            "\n",
            "    accuracy                           0.75      9201\n",
            "   macro avg       0.70      0.73      0.71      9201\n",
            "weighted avg       0.77      0.75      0.76      9201\n",
            "\n"
          ]
        }
      ]
    },
    {
      "cell_type": "markdown",
      "source": [
        "El mejor algoritmo de regresión logística utiliza penalización L1 y utiliza un C igual a 0.5. Una vez realizado el entrenamiento en grilla, se visualiza la importancia de hiperparámetros, así como la relación entre estos."
      ],
      "metadata": {
        "id": "vnzi14nNXYMH"
      }
    },
    {
      "cell_type": "code",
      "source": [
        "fig = plot_param_importances(logit_study)\n",
        "fig.show()"
      ],
      "metadata": {
        "colab": {
          "base_uri": "https://localhost:8080/",
          "height": 542
        },
        "id": "NT8gXHY0wlpK",
        "outputId": "fbbd5beb-d389-4c19-ae76-68fa6c95504b"
      },
      "execution_count": 115,
      "outputs": [
        {
          "output_type": "display_data",
          "data": {
            "text/html": [
              "<html>\n",
              "<head><meta charset=\"utf-8\" /></head>\n",
              "<body>\n",
              "    <div>            <script src=\"https://cdnjs.cloudflare.com/ajax/libs/mathjax/2.7.5/MathJax.js?config=TeX-AMS-MML_SVG\"></script><script type=\"text/javascript\">if (window.MathJax && window.MathJax.Hub && window.MathJax.Hub.Config) {window.MathJax.Hub.Config({SVG: {font: \"STIX-Web\"}});}</script>                <script type=\"text/javascript\">window.PlotlyConfig = {MathJaxConfig: 'local'};</script>\n",
              "        <script src=\"https://cdn.plot.ly/plotly-2.18.2.min.js\"></script>                <div id=\"bc0d4d4e-5b64-4724-912d-fde41616efb5\" class=\"plotly-graph-div\" style=\"height:525px; width:100%;\"></div>            <script type=\"text/javascript\">                                    window.PLOTLYENV=window.PLOTLYENV || {};                                    if (document.getElementById(\"bc0d4d4e-5b64-4724-912d-fde41616efb5\")) {                    Plotly.newPlot(                        \"bc0d4d4e-5b64-4724-912d-fde41616efb5\",                        [{\"cliponaxis\":false,\"hovertemplate\":[\"clf__penalty (CategoricalDistribution): 0.0716676002242276<extra></extra>\",\"clf__C (FloatDistribution): 0.9283323997757724<extra></extra>\"],\"marker\":{\"color\":\"rgb(66,146,198)\"},\"orientation\":\"h\",\"text\":[\"0.07\",\"0.93\"],\"textposition\":\"outside\",\"x\":[0.0716676002242276,0.9283323997757724],\"y\":[\"clf__penalty\",\"clf__C\"],\"type\":\"bar\"}],                        {\"showlegend\":false,\"title\":{\"text\":\"Hyperparameter Importances\"},\"xaxis\":{\"title\":{\"text\":\"Importance for Objective Value\"}},\"yaxis\":{\"title\":{\"text\":\"Hyperparameter\"}},\"template\":{\"data\":{\"histogram2dcontour\":[{\"type\":\"histogram2dcontour\",\"colorbar\":{\"outlinewidth\":0,\"ticks\":\"\"},\"colorscale\":[[0.0,\"#0d0887\"],[0.1111111111111111,\"#46039f\"],[0.2222222222222222,\"#7201a8\"],[0.3333333333333333,\"#9c179e\"],[0.4444444444444444,\"#bd3786\"],[0.5555555555555556,\"#d8576b\"],[0.6666666666666666,\"#ed7953\"],[0.7777777777777778,\"#fb9f3a\"],[0.8888888888888888,\"#fdca26\"],[1.0,\"#f0f921\"]]}],\"choropleth\":[{\"type\":\"choropleth\",\"colorbar\":{\"outlinewidth\":0,\"ticks\":\"\"}}],\"histogram2d\":[{\"type\":\"histogram2d\",\"colorbar\":{\"outlinewidth\":0,\"ticks\":\"\"},\"colorscale\":[[0.0,\"#0d0887\"],[0.1111111111111111,\"#46039f\"],[0.2222222222222222,\"#7201a8\"],[0.3333333333333333,\"#9c179e\"],[0.4444444444444444,\"#bd3786\"],[0.5555555555555556,\"#d8576b\"],[0.6666666666666666,\"#ed7953\"],[0.7777777777777778,\"#fb9f3a\"],[0.8888888888888888,\"#fdca26\"],[1.0,\"#f0f921\"]]}],\"heatmap\":[{\"type\":\"heatmap\",\"colorbar\":{\"outlinewidth\":0,\"ticks\":\"\"},\"colorscale\":[[0.0,\"#0d0887\"],[0.1111111111111111,\"#46039f\"],[0.2222222222222222,\"#7201a8\"],[0.3333333333333333,\"#9c179e\"],[0.4444444444444444,\"#bd3786\"],[0.5555555555555556,\"#d8576b\"],[0.6666666666666666,\"#ed7953\"],[0.7777777777777778,\"#fb9f3a\"],[0.8888888888888888,\"#fdca26\"],[1.0,\"#f0f921\"]]}],\"heatmapgl\":[{\"type\":\"heatmapgl\",\"colorbar\":{\"outlinewidth\":0,\"ticks\":\"\"},\"colorscale\":[[0.0,\"#0d0887\"],[0.1111111111111111,\"#46039f\"],[0.2222222222222222,\"#7201a8\"],[0.3333333333333333,\"#9c179e\"],[0.4444444444444444,\"#bd3786\"],[0.5555555555555556,\"#d8576b\"],[0.6666666666666666,\"#ed7953\"],[0.7777777777777778,\"#fb9f3a\"],[0.8888888888888888,\"#fdca26\"],[1.0,\"#f0f921\"]]}],\"contourcarpet\":[{\"type\":\"contourcarpet\",\"colorbar\":{\"outlinewidth\":0,\"ticks\":\"\"}}],\"contour\":[{\"type\":\"contour\",\"colorbar\":{\"outlinewidth\":0,\"ticks\":\"\"},\"colorscale\":[[0.0,\"#0d0887\"],[0.1111111111111111,\"#46039f\"],[0.2222222222222222,\"#7201a8\"],[0.3333333333333333,\"#9c179e\"],[0.4444444444444444,\"#bd3786\"],[0.5555555555555556,\"#d8576b\"],[0.6666666666666666,\"#ed7953\"],[0.7777777777777778,\"#fb9f3a\"],[0.8888888888888888,\"#fdca26\"],[1.0,\"#f0f921\"]]}],\"surface\":[{\"type\":\"surface\",\"colorbar\":{\"outlinewidth\":0,\"ticks\":\"\"},\"colorscale\":[[0.0,\"#0d0887\"],[0.1111111111111111,\"#46039f\"],[0.2222222222222222,\"#7201a8\"],[0.3333333333333333,\"#9c179e\"],[0.4444444444444444,\"#bd3786\"],[0.5555555555555556,\"#d8576b\"],[0.6666666666666666,\"#ed7953\"],[0.7777777777777778,\"#fb9f3a\"],[0.8888888888888888,\"#fdca26\"],[1.0,\"#f0f921\"]]}],\"mesh3d\":[{\"type\":\"mesh3d\",\"colorbar\":{\"outlinewidth\":0,\"ticks\":\"\"}}],\"scatter\":[{\"fillpattern\":{\"fillmode\":\"overlay\",\"size\":10,\"solidity\":0.2},\"type\":\"scatter\"}],\"parcoords\":[{\"type\":\"parcoords\",\"line\":{\"colorbar\":{\"outlinewidth\":0,\"ticks\":\"\"}}}],\"scatterpolargl\":[{\"type\":\"scatterpolargl\",\"marker\":{\"colorbar\":{\"outlinewidth\":0,\"ticks\":\"\"}}}],\"bar\":[{\"error_x\":{\"color\":\"#2a3f5f\"},\"error_y\":{\"color\":\"#2a3f5f\"},\"marker\":{\"line\":{\"color\":\"#E5ECF6\",\"width\":0.5},\"pattern\":{\"fillmode\":\"overlay\",\"size\":10,\"solidity\":0.2}},\"type\":\"bar\"}],\"scattergeo\":[{\"type\":\"scattergeo\",\"marker\":{\"colorbar\":{\"outlinewidth\":0,\"ticks\":\"\"}}}],\"scatterpolar\":[{\"type\":\"scatterpolar\",\"marker\":{\"colorbar\":{\"outlinewidth\":0,\"ticks\":\"\"}}}],\"histogram\":[{\"marker\":{\"pattern\":{\"fillmode\":\"overlay\",\"size\":10,\"solidity\":0.2}},\"type\":\"histogram\"}],\"scattergl\":[{\"type\":\"scattergl\",\"marker\":{\"colorbar\":{\"outlinewidth\":0,\"ticks\":\"\"}}}],\"scatter3d\":[{\"type\":\"scatter3d\",\"line\":{\"colorbar\":{\"outlinewidth\":0,\"ticks\":\"\"}},\"marker\":{\"colorbar\":{\"outlinewidth\":0,\"ticks\":\"\"}}}],\"scattermapbox\":[{\"type\":\"scattermapbox\",\"marker\":{\"colorbar\":{\"outlinewidth\":0,\"ticks\":\"\"}}}],\"scatterternary\":[{\"type\":\"scatterternary\",\"marker\":{\"colorbar\":{\"outlinewidth\":0,\"ticks\":\"\"}}}],\"scattercarpet\":[{\"type\":\"scattercarpet\",\"marker\":{\"colorbar\":{\"outlinewidth\":0,\"ticks\":\"\"}}}],\"carpet\":[{\"aaxis\":{\"endlinecolor\":\"#2a3f5f\",\"gridcolor\":\"white\",\"linecolor\":\"white\",\"minorgridcolor\":\"white\",\"startlinecolor\":\"#2a3f5f\"},\"baxis\":{\"endlinecolor\":\"#2a3f5f\",\"gridcolor\":\"white\",\"linecolor\":\"white\",\"minorgridcolor\":\"white\",\"startlinecolor\":\"#2a3f5f\"},\"type\":\"carpet\"}],\"table\":[{\"cells\":{\"fill\":{\"color\":\"#EBF0F8\"},\"line\":{\"color\":\"white\"}},\"header\":{\"fill\":{\"color\":\"#C8D4E3\"},\"line\":{\"color\":\"white\"}},\"type\":\"table\"}],\"barpolar\":[{\"marker\":{\"line\":{\"color\":\"#E5ECF6\",\"width\":0.5},\"pattern\":{\"fillmode\":\"overlay\",\"size\":10,\"solidity\":0.2}},\"type\":\"barpolar\"}],\"pie\":[{\"automargin\":true,\"type\":\"pie\"}]},\"layout\":{\"autotypenumbers\":\"strict\",\"colorway\":[\"#636efa\",\"#EF553B\",\"#00cc96\",\"#ab63fa\",\"#FFA15A\",\"#19d3f3\",\"#FF6692\",\"#B6E880\",\"#FF97FF\",\"#FECB52\"],\"font\":{\"color\":\"#2a3f5f\"},\"hovermode\":\"closest\",\"hoverlabel\":{\"align\":\"left\"},\"paper_bgcolor\":\"white\",\"plot_bgcolor\":\"#E5ECF6\",\"polar\":{\"bgcolor\":\"#E5ECF6\",\"angularaxis\":{\"gridcolor\":\"white\",\"linecolor\":\"white\",\"ticks\":\"\"},\"radialaxis\":{\"gridcolor\":\"white\",\"linecolor\":\"white\",\"ticks\":\"\"}},\"ternary\":{\"bgcolor\":\"#E5ECF6\",\"aaxis\":{\"gridcolor\":\"white\",\"linecolor\":\"white\",\"ticks\":\"\"},\"baxis\":{\"gridcolor\":\"white\",\"linecolor\":\"white\",\"ticks\":\"\"},\"caxis\":{\"gridcolor\":\"white\",\"linecolor\":\"white\",\"ticks\":\"\"}},\"coloraxis\":{\"colorbar\":{\"outlinewidth\":0,\"ticks\":\"\"}},\"colorscale\":{\"sequential\":[[0.0,\"#0d0887\"],[0.1111111111111111,\"#46039f\"],[0.2222222222222222,\"#7201a8\"],[0.3333333333333333,\"#9c179e\"],[0.4444444444444444,\"#bd3786\"],[0.5555555555555556,\"#d8576b\"],[0.6666666666666666,\"#ed7953\"],[0.7777777777777778,\"#fb9f3a\"],[0.8888888888888888,\"#fdca26\"],[1.0,\"#f0f921\"]],\"sequentialminus\":[[0.0,\"#0d0887\"],[0.1111111111111111,\"#46039f\"],[0.2222222222222222,\"#7201a8\"],[0.3333333333333333,\"#9c179e\"],[0.4444444444444444,\"#bd3786\"],[0.5555555555555556,\"#d8576b\"],[0.6666666666666666,\"#ed7953\"],[0.7777777777777778,\"#fb9f3a\"],[0.8888888888888888,\"#fdca26\"],[1.0,\"#f0f921\"]],\"diverging\":[[0,\"#8e0152\"],[0.1,\"#c51b7d\"],[0.2,\"#de77ae\"],[0.3,\"#f1b6da\"],[0.4,\"#fde0ef\"],[0.5,\"#f7f7f7\"],[0.6,\"#e6f5d0\"],[0.7,\"#b8e186\"],[0.8,\"#7fbc41\"],[0.9,\"#4d9221\"],[1,\"#276419\"]]},\"xaxis\":{\"gridcolor\":\"white\",\"linecolor\":\"white\",\"ticks\":\"\",\"title\":{\"standoff\":15},\"zerolinecolor\":\"white\",\"automargin\":true,\"zerolinewidth\":2},\"yaxis\":{\"gridcolor\":\"white\",\"linecolor\":\"white\",\"ticks\":\"\",\"title\":{\"standoff\":15},\"zerolinecolor\":\"white\",\"automargin\":true,\"zerolinewidth\":2},\"scene\":{\"xaxis\":{\"backgroundcolor\":\"#E5ECF6\",\"gridcolor\":\"white\",\"linecolor\":\"white\",\"showbackground\":true,\"ticks\":\"\",\"zerolinecolor\":\"white\",\"gridwidth\":2},\"yaxis\":{\"backgroundcolor\":\"#E5ECF6\",\"gridcolor\":\"white\",\"linecolor\":\"white\",\"showbackground\":true,\"ticks\":\"\",\"zerolinecolor\":\"white\",\"gridwidth\":2},\"zaxis\":{\"backgroundcolor\":\"#E5ECF6\",\"gridcolor\":\"white\",\"linecolor\":\"white\",\"showbackground\":true,\"ticks\":\"\",\"zerolinecolor\":\"white\",\"gridwidth\":2}},\"shapedefaults\":{\"line\":{\"color\":\"#2a3f5f\"}},\"annotationdefaults\":{\"arrowcolor\":\"#2a3f5f\",\"arrowhead\":0,\"arrowwidth\":1},\"geo\":{\"bgcolor\":\"white\",\"landcolor\":\"#E5ECF6\",\"subunitcolor\":\"white\",\"showland\":true,\"showlakes\":true,\"lakecolor\":\"white\"},\"title\":{\"x\":0.05},\"mapbox\":{\"style\":\"light\"}}}},                        {\"responsive\": true}                    ).then(function(){\n",
              "                            \n",
              "var gd = document.getElementById('bc0d4d4e-5b64-4724-912d-fde41616efb5');\n",
              "var x = new MutationObserver(function (mutations, observer) {{\n",
              "        var display = window.getComputedStyle(gd).display;\n",
              "        if (!display || display === 'none') {{\n",
              "            console.log([gd, 'removed!']);\n",
              "            Plotly.purge(gd);\n",
              "            observer.disconnect();\n",
              "        }}\n",
              "}});\n",
              "\n",
              "// Listen for the removal of the full notebook cells\n",
              "var notebookContainer = gd.closest('#notebook-container');\n",
              "if (notebookContainer) {{\n",
              "    x.observe(notebookContainer, {childList: true});\n",
              "}}\n",
              "\n",
              "// Listen for the clearing of the current output cell\n",
              "var outputEl = gd.closest('.output');\n",
              "if (outputEl) {{\n",
              "    x.observe(outputEl, {childList: true});\n",
              "}}\n",
              "\n",
              "                        })                };                            </script>        </div>\n",
              "</body>\n",
              "</html>"
            ]
          },
          "metadata": {}
        }
      ]
    },
    {
      "cell_type": "code",
      "source": [
        "fig = plot_rank(logit_study)\n",
        "fig.show()"
      ],
      "metadata": {
        "colab": {
          "base_uri": "https://localhost:8080/",
          "height": 614
        },
        "id": "vu713Ac8wqDf",
        "outputId": "562cf152-1de4-45c3-8ec0-ed9a92a2fb12"
      },
      "execution_count": 116,
      "outputs": [
        {
          "output_type": "stream",
          "name": "stderr",
          "text": [
            "<ipython-input-116-f6203ebe5eac>:1: ExperimentalWarning:\n",
            "\n",
            "plot_rank is experimental (supported from v3.2.0). The interface can change in the future.\n",
            "\n"
          ]
        },
        {
          "output_type": "display_data",
          "data": {
            "text/html": [
              "<html>\n",
              "<head><meta charset=\"utf-8\" /></head>\n",
              "<body>\n",
              "    <div>            <script src=\"https://cdnjs.cloudflare.com/ajax/libs/mathjax/2.7.5/MathJax.js?config=TeX-AMS-MML_SVG\"></script><script type=\"text/javascript\">if (window.MathJax && window.MathJax.Hub && window.MathJax.Hub.Config) {window.MathJax.Hub.Config({SVG: {font: \"STIX-Web\"}});}</script>                <script type=\"text/javascript\">window.PlotlyConfig = {MathJaxConfig: 'local'};</script>\n",
              "        <script src=\"https://cdn.plot.ly/plotly-2.18.2.min.js\"></script>                <div id=\"388e97d0-b503-4f70-89a1-7239616741a9\" class=\"plotly-graph-div\" style=\"height:525px; width:100%;\"></div>            <script type=\"text/javascript\">                                    window.PLOTLYENV=window.PLOTLYENV || {};                                    if (document.getElementById(\"388e97d0-b503-4f70-89a1-7239616741a9\")) {                    Plotly.newPlot(                        \"388e97d0-b503-4f70-89a1-7239616741a9\",                        [{\"hovertemplate\":\"%{hovertext}<extra></extra>\",\"hovertext\":[\"Trial #0<br>clf__penalty: l1<br>clf__C: 0.5<br><b>Objective Value: 0.608889561902819</b>\",\"Trial #1<br>clf__penalty: l1<br>clf__C: 0.5<br><b>Objective Value: 0.608889561902819</b>\",\"Trial #2<br>clf__penalty: l2<br>clf__C: 1.5<br><b>Objective Value: 0.6085810206164235</b>\",\"Trial #3<br>clf__penalty: l1<br>clf__C: 1.0<br><b>Objective Value: 0.6086853077424301</b>\",\"Trial #4<br>clf__penalty: l1<br>clf__C: 1.0<br><b>Objective Value: 0.6086853077424301</b>\",\"Trial #5<br>clf__penalty: l1<br>clf__C: 1.5<br><b>Objective Value: 0.6085810206164235</b>\",\"Trial #6<br>clf__penalty: l1<br>clf__C: 1.0<br><b>Objective Value: 0.6086853077424301</b>\",\"Trial #7<br>clf__penalty: l2<br>clf__C: 1.0<br><b>Objective Value: 0.6085810206164235</b>\",\"Trial #8<br>clf__penalty: l1<br>clf__C: 1.5<br><b>Objective Value: 0.6085810206164235</b>\",\"Trial #9<br>clf__penalty: l1<br>clf__C: 1.5<br><b>Objective Value: 0.6085810206164235</b>\"],\"marker\":{\"color\":[\"rgb(193, 27, 39)\",\"rgb(193, 27, 39)\",\"rgb(128, 183, 214)\",\"rgb(253, 191, 113)\",\"rgb(253, 191, 113)\",\"rgb(128, 183, 214)\",\"rgb(253, 191, 113)\",\"rgb(128, 183, 214)\",\"rgb(128, 183, 214)\",\"rgb(128, 183, 214)\"],\"line\":{\"color\":\"Grey\",\"width\":0.5}},\"mode\":\"markers\",\"showlegend\":false,\"x\":[0.5,0.5,1.5,1.0,1.0,1.5,1.0,1.0,1.5,1.5],\"y\":[\"l1\",\"l1\",\"l2\",\"l1\",\"l1\",\"l1\",\"l1\",\"l2\",\"l1\",\"l1\"],\"type\":\"scatter\"},{\"hoverinfo\":\"none\",\"marker\":{\"cmax\":1,\"cmin\":0,\"colorbar\":{\"thickness\":10,\"ticktext\":[\"min. (0.608581)\",\"25% (0.608581)\",\"50% (0.608633)\",\"75% (0.608685)\",\"max. (0.60889)\"],\"tickvals\":[0,0.25,0.5,0.75,1]},\"colorscale\":[[0.0,\"rgb(49,54,149)\"],[0.1,\"rgb(69,117,180)\"],[0.2,\"rgb(116,173,209)\"],[0.3,\"rgb(171,217,233)\"],[0.4,\"rgb(224,243,248)\"],[0.5,\"rgb(255,255,191)\"],[0.6,\"rgb(254,224,144)\"],[0.7,\"rgb(253,174,97)\"],[0.8,\"rgb(244,109,67)\"],[0.9,\"rgb(215,48,39)\"],[1.0,\"rgb(165,0,38)\"]],\"showscale\":true},\"mode\":\"markers\",\"showlegend\":false,\"x\":[null],\"y\":[null],\"type\":\"scatter\"}],                        {\"title\":{\"text\":\"Rank (Objective Value)\"},\"template\":{\"data\":{\"histogram2dcontour\":[{\"type\":\"histogram2dcontour\",\"colorbar\":{\"outlinewidth\":0,\"ticks\":\"\"},\"colorscale\":[[0.0,\"#0d0887\"],[0.1111111111111111,\"#46039f\"],[0.2222222222222222,\"#7201a8\"],[0.3333333333333333,\"#9c179e\"],[0.4444444444444444,\"#bd3786\"],[0.5555555555555556,\"#d8576b\"],[0.6666666666666666,\"#ed7953\"],[0.7777777777777778,\"#fb9f3a\"],[0.8888888888888888,\"#fdca26\"],[1.0,\"#f0f921\"]]}],\"choropleth\":[{\"type\":\"choropleth\",\"colorbar\":{\"outlinewidth\":0,\"ticks\":\"\"}}],\"histogram2d\":[{\"type\":\"histogram2d\",\"colorbar\":{\"outlinewidth\":0,\"ticks\":\"\"},\"colorscale\":[[0.0,\"#0d0887\"],[0.1111111111111111,\"#46039f\"],[0.2222222222222222,\"#7201a8\"],[0.3333333333333333,\"#9c179e\"],[0.4444444444444444,\"#bd3786\"],[0.5555555555555556,\"#d8576b\"],[0.6666666666666666,\"#ed7953\"],[0.7777777777777778,\"#fb9f3a\"],[0.8888888888888888,\"#fdca26\"],[1.0,\"#f0f921\"]]}],\"heatmap\":[{\"type\":\"heatmap\",\"colorbar\":{\"outlinewidth\":0,\"ticks\":\"\"},\"colorscale\":[[0.0,\"#0d0887\"],[0.1111111111111111,\"#46039f\"],[0.2222222222222222,\"#7201a8\"],[0.3333333333333333,\"#9c179e\"],[0.4444444444444444,\"#bd3786\"],[0.5555555555555556,\"#d8576b\"],[0.6666666666666666,\"#ed7953\"],[0.7777777777777778,\"#fb9f3a\"],[0.8888888888888888,\"#fdca26\"],[1.0,\"#f0f921\"]]}],\"heatmapgl\":[{\"type\":\"heatmapgl\",\"colorbar\":{\"outlinewidth\":0,\"ticks\":\"\"},\"colorscale\":[[0.0,\"#0d0887\"],[0.1111111111111111,\"#46039f\"],[0.2222222222222222,\"#7201a8\"],[0.3333333333333333,\"#9c179e\"],[0.4444444444444444,\"#bd3786\"],[0.5555555555555556,\"#d8576b\"],[0.6666666666666666,\"#ed7953\"],[0.7777777777777778,\"#fb9f3a\"],[0.8888888888888888,\"#fdca26\"],[1.0,\"#f0f921\"]]}],\"contourcarpet\":[{\"type\":\"contourcarpet\",\"colorbar\":{\"outlinewidth\":0,\"ticks\":\"\"}}],\"contour\":[{\"type\":\"contour\",\"colorbar\":{\"outlinewidth\":0,\"ticks\":\"\"},\"colorscale\":[[0.0,\"#0d0887\"],[0.1111111111111111,\"#46039f\"],[0.2222222222222222,\"#7201a8\"],[0.3333333333333333,\"#9c179e\"],[0.4444444444444444,\"#bd3786\"],[0.5555555555555556,\"#d8576b\"],[0.6666666666666666,\"#ed7953\"],[0.7777777777777778,\"#fb9f3a\"],[0.8888888888888888,\"#fdca26\"],[1.0,\"#f0f921\"]]}],\"surface\":[{\"type\":\"surface\",\"colorbar\":{\"outlinewidth\":0,\"ticks\":\"\"},\"colorscale\":[[0.0,\"#0d0887\"],[0.1111111111111111,\"#46039f\"],[0.2222222222222222,\"#7201a8\"],[0.3333333333333333,\"#9c179e\"],[0.4444444444444444,\"#bd3786\"],[0.5555555555555556,\"#d8576b\"],[0.6666666666666666,\"#ed7953\"],[0.7777777777777778,\"#fb9f3a\"],[0.8888888888888888,\"#fdca26\"],[1.0,\"#f0f921\"]]}],\"mesh3d\":[{\"type\":\"mesh3d\",\"colorbar\":{\"outlinewidth\":0,\"ticks\":\"\"}}],\"scatter\":[{\"fillpattern\":{\"fillmode\":\"overlay\",\"size\":10,\"solidity\":0.2},\"type\":\"scatter\"}],\"parcoords\":[{\"type\":\"parcoords\",\"line\":{\"colorbar\":{\"outlinewidth\":0,\"ticks\":\"\"}}}],\"scatterpolargl\":[{\"type\":\"scatterpolargl\",\"marker\":{\"colorbar\":{\"outlinewidth\":0,\"ticks\":\"\"}}}],\"bar\":[{\"error_x\":{\"color\":\"#2a3f5f\"},\"error_y\":{\"color\":\"#2a3f5f\"},\"marker\":{\"line\":{\"color\":\"#E5ECF6\",\"width\":0.5},\"pattern\":{\"fillmode\":\"overlay\",\"size\":10,\"solidity\":0.2}},\"type\":\"bar\"}],\"scattergeo\":[{\"type\":\"scattergeo\",\"marker\":{\"colorbar\":{\"outlinewidth\":0,\"ticks\":\"\"}}}],\"scatterpolar\":[{\"type\":\"scatterpolar\",\"marker\":{\"colorbar\":{\"outlinewidth\":0,\"ticks\":\"\"}}}],\"histogram\":[{\"marker\":{\"pattern\":{\"fillmode\":\"overlay\",\"size\":10,\"solidity\":0.2}},\"type\":\"histogram\"}],\"scattergl\":[{\"type\":\"scattergl\",\"marker\":{\"colorbar\":{\"outlinewidth\":0,\"ticks\":\"\"}}}],\"scatter3d\":[{\"type\":\"scatter3d\",\"line\":{\"colorbar\":{\"outlinewidth\":0,\"ticks\":\"\"}},\"marker\":{\"colorbar\":{\"outlinewidth\":0,\"ticks\":\"\"}}}],\"scattermapbox\":[{\"type\":\"scattermapbox\",\"marker\":{\"colorbar\":{\"outlinewidth\":0,\"ticks\":\"\"}}}],\"scatterternary\":[{\"type\":\"scatterternary\",\"marker\":{\"colorbar\":{\"outlinewidth\":0,\"ticks\":\"\"}}}],\"scattercarpet\":[{\"type\":\"scattercarpet\",\"marker\":{\"colorbar\":{\"outlinewidth\":0,\"ticks\":\"\"}}}],\"carpet\":[{\"aaxis\":{\"endlinecolor\":\"#2a3f5f\",\"gridcolor\":\"white\",\"linecolor\":\"white\",\"minorgridcolor\":\"white\",\"startlinecolor\":\"#2a3f5f\"},\"baxis\":{\"endlinecolor\":\"#2a3f5f\",\"gridcolor\":\"white\",\"linecolor\":\"white\",\"minorgridcolor\":\"white\",\"startlinecolor\":\"#2a3f5f\"},\"type\":\"carpet\"}],\"table\":[{\"cells\":{\"fill\":{\"color\":\"#EBF0F8\"},\"line\":{\"color\":\"white\"}},\"header\":{\"fill\":{\"color\":\"#C8D4E3\"},\"line\":{\"color\":\"white\"}},\"type\":\"table\"}],\"barpolar\":[{\"marker\":{\"line\":{\"color\":\"#E5ECF6\",\"width\":0.5},\"pattern\":{\"fillmode\":\"overlay\",\"size\":10,\"solidity\":0.2}},\"type\":\"barpolar\"}],\"pie\":[{\"automargin\":true,\"type\":\"pie\"}]},\"layout\":{\"autotypenumbers\":\"strict\",\"colorway\":[\"#636efa\",\"#EF553B\",\"#00cc96\",\"#ab63fa\",\"#FFA15A\",\"#19d3f3\",\"#FF6692\",\"#B6E880\",\"#FF97FF\",\"#FECB52\"],\"font\":{\"color\":\"#2a3f5f\"},\"hovermode\":\"closest\",\"hoverlabel\":{\"align\":\"left\"},\"paper_bgcolor\":\"white\",\"plot_bgcolor\":\"#E5ECF6\",\"polar\":{\"bgcolor\":\"#E5ECF6\",\"angularaxis\":{\"gridcolor\":\"white\",\"linecolor\":\"white\",\"ticks\":\"\"},\"radialaxis\":{\"gridcolor\":\"white\",\"linecolor\":\"white\",\"ticks\":\"\"}},\"ternary\":{\"bgcolor\":\"#E5ECF6\",\"aaxis\":{\"gridcolor\":\"white\",\"linecolor\":\"white\",\"ticks\":\"\"},\"baxis\":{\"gridcolor\":\"white\",\"linecolor\":\"white\",\"ticks\":\"\"},\"caxis\":{\"gridcolor\":\"white\",\"linecolor\":\"white\",\"ticks\":\"\"}},\"coloraxis\":{\"colorbar\":{\"outlinewidth\":0,\"ticks\":\"\"}},\"colorscale\":{\"sequential\":[[0.0,\"#0d0887\"],[0.1111111111111111,\"#46039f\"],[0.2222222222222222,\"#7201a8\"],[0.3333333333333333,\"#9c179e\"],[0.4444444444444444,\"#bd3786\"],[0.5555555555555556,\"#d8576b\"],[0.6666666666666666,\"#ed7953\"],[0.7777777777777778,\"#fb9f3a\"],[0.8888888888888888,\"#fdca26\"],[1.0,\"#f0f921\"]],\"sequentialminus\":[[0.0,\"#0d0887\"],[0.1111111111111111,\"#46039f\"],[0.2222222222222222,\"#7201a8\"],[0.3333333333333333,\"#9c179e\"],[0.4444444444444444,\"#bd3786\"],[0.5555555555555556,\"#d8576b\"],[0.6666666666666666,\"#ed7953\"],[0.7777777777777778,\"#fb9f3a\"],[0.8888888888888888,\"#fdca26\"],[1.0,\"#f0f921\"]],\"diverging\":[[0,\"#8e0152\"],[0.1,\"#c51b7d\"],[0.2,\"#de77ae\"],[0.3,\"#f1b6da\"],[0.4,\"#fde0ef\"],[0.5,\"#f7f7f7\"],[0.6,\"#e6f5d0\"],[0.7,\"#b8e186\"],[0.8,\"#7fbc41\"],[0.9,\"#4d9221\"],[1,\"#276419\"]]},\"xaxis\":{\"gridcolor\":\"white\",\"linecolor\":\"white\",\"ticks\":\"\",\"title\":{\"standoff\":15},\"zerolinecolor\":\"white\",\"automargin\":true,\"zerolinewidth\":2},\"yaxis\":{\"gridcolor\":\"white\",\"linecolor\":\"white\",\"ticks\":\"\",\"title\":{\"standoff\":15},\"zerolinecolor\":\"white\",\"automargin\":true,\"zerolinewidth\":2},\"scene\":{\"xaxis\":{\"backgroundcolor\":\"#E5ECF6\",\"gridcolor\":\"white\",\"linecolor\":\"white\",\"showbackground\":true,\"ticks\":\"\",\"zerolinecolor\":\"white\",\"gridwidth\":2},\"yaxis\":{\"backgroundcolor\":\"#E5ECF6\",\"gridcolor\":\"white\",\"linecolor\":\"white\",\"showbackground\":true,\"ticks\":\"\",\"zerolinecolor\":\"white\",\"gridwidth\":2},\"zaxis\":{\"backgroundcolor\":\"#E5ECF6\",\"gridcolor\":\"white\",\"linecolor\":\"white\",\"showbackground\":true,\"ticks\":\"\",\"zerolinecolor\":\"white\",\"gridwidth\":2}},\"shapedefaults\":{\"line\":{\"color\":\"#2a3f5f\"}},\"annotationdefaults\":{\"arrowcolor\":\"#2a3f5f\",\"arrowhead\":0,\"arrowwidth\":1},\"geo\":{\"bgcolor\":\"white\",\"landcolor\":\"#E5ECF6\",\"subunitcolor\":\"white\",\"showland\":true,\"showlakes\":true,\"lakecolor\":\"white\"},\"title\":{\"x\":0.05},\"mapbox\":{\"style\":\"light\"}}},\"xaxis\":{\"title\":{\"text\":\"clf__C\"},\"range\":[0.45,1.55]},\"yaxis\":{\"title\":{\"text\":\"clf__penalty\"},\"range\":[-0.05,1.05],\"type\":\"category\"}},                        {\"responsive\": true}                    ).then(function(){\n",
              "                            \n",
              "var gd = document.getElementById('388e97d0-b503-4f70-89a1-7239616741a9');\n",
              "var x = new MutationObserver(function (mutations, observer) {{\n",
              "        var display = window.getComputedStyle(gd).display;\n",
              "        if (!display || display === 'none') {{\n",
              "            console.log([gd, 'removed!']);\n",
              "            Plotly.purge(gd);\n",
              "            observer.disconnect();\n",
              "        }}\n",
              "}});\n",
              "\n",
              "// Listen for the removal of the full notebook cells\n",
              "var notebookContainer = gd.closest('#notebook-container');\n",
              "if (notebookContainer) {{\n",
              "    x.observe(notebookContainer, {childList: true});\n",
              "}}\n",
              "\n",
              "// Listen for the clearing of the current output cell\n",
              "var outputEl = gd.closest('.output');\n",
              "if (outputEl) {{\n",
              "    x.observe(outputEl, {childList: true});\n",
              "}}\n",
              "\n",
              "                        })                };                            </script>        </div>\n",
              "</body>\n",
              "</html>"
            ]
          },
          "metadata": {}
        }
      ]
    },
    {
      "cell_type": "markdown",
      "source": [
        "En este caso, el tipo de penalización no toma tanto peso, aunque la penalización de tipo L1 da resultados ligeramente mejores. Por otro lado, el parámetro más relevante es el coeficiente de regularización C, siendo una regularización baja más estricta y, en este caso, mejorando el rendimiento del modelo."
      ],
      "metadata": {
        "id": "nXJFlq0vX3Mm"
      }
    },
    {
      "cell_type": "markdown",
      "source": [
        "#### Mejor clasificador"
      ],
      "metadata": {
        "id": "E8r87eKIVcGr"
      }
    },
    {
      "cell_type": "markdown",
      "source": [
        "Se prueban los mejores clasificadores de cada tipo con el conjunto de entrenamiento, siendo el mejor de estos el clasificador LGBM, con una métrica F1 más alta en la clase positiva, al mismo tiempo que obtiene un mejor rendimiento en la clase negativa."
      ],
      "metadata": {
        "id": "mDMj2TAGYubr"
      }
    },
    {
      "cell_type": "code",
      "source": [
        "print('Resultado en conjunto de entrenamiento (LGBM)')\n",
        "print(classification_report(y_train, lg_grid.predict(x_train)))\n",
        "print('Resultado en conjunto de entrenamiento (Logistic)')\n",
        "print(classification_report(y_train, logit_grid.predict(x_train)))"
      ],
      "metadata": {
        "colab": {
          "base_uri": "https://localhost:8080/"
        },
        "id": "KUvyh2NmXhSk",
        "outputId": "ada6e83b-3ef2-491f-b04b-5cd9f28c058c"
      },
      "execution_count": 118,
      "outputs": [
        {
          "output_type": "stream",
          "name": "stdout",
          "text": [
            "Resultado en conjunto de entrenamiento (LGBM)\n",
            "              precision    recall  f1-score   support\n",
            "\n",
            "           0       0.86      0.85      0.86      6577\n",
            "           1       0.64      0.66      0.65      2624\n",
            "\n",
            "    accuracy                           0.80      9201\n",
            "   macro avg       0.75      0.76      0.76      9201\n",
            "weighted avg       0.80      0.80      0.80      9201\n",
            "\n",
            "Resultado en conjunto de entrenamiento (Logistic)\n",
            "              precision    recall  f1-score   support\n",
            "\n",
            "           0       0.86      0.77      0.81      6577\n",
            "           1       0.55      0.69      0.61      2624\n",
            "\n",
            "    accuracy                           0.75      9201\n",
            "   macro avg       0.70      0.73      0.71      9201\n",
            "weighted avg       0.77      0.75      0.76      9201\n",
            "\n"
          ]
        }
      ]
    },
    {
      "cell_type": "markdown",
      "source": [
        "Se prueba el mejor clasificador en el conjunto de prueba, obteniendo mejor F1 que cualquiera de los clasificadores probados en el baseline."
      ],
      "metadata": {
        "id": "cnbDOGJ5ZJ4Z"
      }
    },
    {
      "cell_type": "code",
      "source": [
        "print('Resultado en conjunto de prueba')\n",
        "print(classification_report(y_test, lg_grid.predict(x_test)))"
      ],
      "metadata": {
        "colab": {
          "base_uri": "https://localhost:8080/"
        },
        "id": "qngYx1R8ZO2h",
        "outputId": "f312b933-1233-481e-89dd-ea57309cc79a"
      },
      "execution_count": 119,
      "outputs": [
        {
          "output_type": "stream",
          "name": "stdout",
          "text": [
            "Resultado en conjunto de prueba\n",
            "              precision    recall  f1-score   support\n",
            "\n",
            "           0       0.84      0.84      0.84      1612\n",
            "           1       0.63      0.62      0.63       689\n",
            "\n",
            "    accuracy                           0.78      2301\n",
            "   macro avg       0.73      0.73      0.73      2301\n",
            "weighted avg       0.78      0.78      0.78      2301\n",
            "\n"
          ]
        }
      ]
    },
    {
      "cell_type": "code",
      "source": [
        "best_clf = lg_grid.best_estimator_"
      ],
      "metadata": {
        "id": "CUuZ1l2aXkdi"
      },
      "execution_count": 39,
      "outputs": []
    },
    {
      "cell_type": "markdown",
      "source": [
        "### 6. Interpretabilidad\n",
        "\n",
        "- Analizar 10 observaciones aleatorias utilizando un método específico para verificar la coherencia de las interacciones entre las características. R: Waterfall plot\n",
        "- Explorar cómo se relacionan las variables utilizando algún descriptivo de interpretabilidad. R: ?\n",
        "\n",
        "\n",
        "Es fundamental que los estudiantes sean capaces de determinar si su modelo toma decisiones coherentes y evaluar el impacto que podría tener la aplicación de un modelo con esas variables en una población. ¿Es posible que el modelo sea perjudicial o que las estimaciones se basen en decisiones sesgadas?\n",
        "\n",
        "En resumen, esta sección busca que los estudiantes apliquen un enfoque crítico para evaluar la interpretabilidad de su modelo, identificar posibles sesgos y analizar las implicaciones de sus decisiones en la población objetivo."
      ],
      "metadata": {
        "id": "4V41KhuoWtJY"
      }
    },
    {
      "cell_type": "markdown",
      "source": [
        "Una vez obtenido el mejor clasificador, se considera prudente interpretar los resultados del modelo. Dado que el banquero Giturra necesita resultados fáciles de interpretar, y que se está ante un problema de clasificación binaria, se opta por utilizar SHAP values para la interpretación de resultados, debido a la facilidad que estos dan para saber como influyen las caracteristicas en la decisión del modelo."
      ],
      "metadata": {
        "id": "5FdknZTGgfQh"
      }
    },
    {
      "cell_type": "code",
      "source": [
        "import shap"
      ],
      "metadata": {
        "id": "hvc_yVkEWu9K"
      },
      "execution_count": 120,
      "outputs": []
    },
    {
      "cell_type": "code",
      "source": [
        "# Obtener x con preprocesado\n",
        "ct.set_output(transform=\"pandas\")\n",
        "x_trans = ct.fit_transform(x_train)\n",
        "ct.set_output(transform='default')"
      ],
      "metadata": {
        "colab": {
          "base_uri": "https://localhost:8080/",
          "height": 151
        },
        "id": "kRyTrlCKX8_5",
        "outputId": "91aa92f1-e1c9-415a-eec9-527cfb924c6c"
      },
      "execution_count": 121,
      "outputs": [
        {
          "output_type": "execute_result",
          "data": {
            "text/plain": [
              "ColumnTransformer(remainder='passthrough', sparse_threshold=0,\n",
              "                  transformers=[('drop', 'drop',\n",
              "                                 ['customer_id', 'payment_behaviour']),\n",
              "                                ('encoding', OneHotEncoder(sparse_output=False),\n",
              "                                 ['occupation', 'payment_of_min_amount']),\n",
              "                                ('num_preprocess',\n",
              "                                 Pipeline(steps=[('imputer',\n",
              "                                                  SimpleImputer(strategy='median')),\n",
              "                                                 ('RobustScaler',\n",
              "                                                  RobustScaler())]),\n",
              "                                 Index(['annual_income',...\n",
              "                                                             'High_spent']]),\n",
              "                                 ['spent']),\n",
              "                                ('payment_encoding',\n",
              "                                 OrdinalEncoder(categories=[['Small_value_payments',\n",
              "                                                             'Medium_value_payments',\n",
              "                                                             'Large_value_payments']]),\n",
              "                                 ['payment_value']),\n",
              "                                ('age_group',\n",
              "                                 Pipeline(steps=[('imputer',\n",
              "                                                  SimpleImputer(strategy='median')),\n",
              "                                                 ('to_ordinal',\n",
              "                                                  KBinsDiscretizer(encode='ordinal',\n",
              "                                                                   random_state=42))]),\n",
              "                                 ['age'])],\n",
              "                  verbose_feature_names_out=False)"
            ],
            "text/html": [
              "<style>#sk-container-id-21 {color: black;background-color: white;}#sk-container-id-21 pre{padding: 0;}#sk-container-id-21 div.sk-toggleable {background-color: white;}#sk-container-id-21 label.sk-toggleable__label {cursor: pointer;display: block;width: 100%;margin-bottom: 0;padding: 0.3em;box-sizing: border-box;text-align: center;}#sk-container-id-21 label.sk-toggleable__label-arrow:before {content: \"▸\";float: left;margin-right: 0.25em;color: #696969;}#sk-container-id-21 label.sk-toggleable__label-arrow:hover:before {color: black;}#sk-container-id-21 div.sk-estimator:hover label.sk-toggleable__label-arrow:before {color: black;}#sk-container-id-21 div.sk-toggleable__content {max-height: 0;max-width: 0;overflow: hidden;text-align: left;background-color: #f0f8ff;}#sk-container-id-21 div.sk-toggleable__content pre {margin: 0.2em;color: black;border-radius: 0.25em;background-color: #f0f8ff;}#sk-container-id-21 input.sk-toggleable__control:checked~div.sk-toggleable__content {max-height: 200px;max-width: 100%;overflow: auto;}#sk-container-id-21 input.sk-toggleable__control:checked~label.sk-toggleable__label-arrow:before {content: \"▾\";}#sk-container-id-21 div.sk-estimator input.sk-toggleable__control:checked~label.sk-toggleable__label {background-color: #d4ebff;}#sk-container-id-21 div.sk-label input.sk-toggleable__control:checked~label.sk-toggleable__label {background-color: #d4ebff;}#sk-container-id-21 input.sk-hidden--visually {border: 0;clip: rect(1px 1px 1px 1px);clip: rect(1px, 1px, 1px, 1px);height: 1px;margin: -1px;overflow: hidden;padding: 0;position: absolute;width: 1px;}#sk-container-id-21 div.sk-estimator {font-family: monospace;background-color: #f0f8ff;border: 1px dotted black;border-radius: 0.25em;box-sizing: border-box;margin-bottom: 0.5em;}#sk-container-id-21 div.sk-estimator:hover {background-color: #d4ebff;}#sk-container-id-21 div.sk-parallel-item::after {content: \"\";width: 100%;border-bottom: 1px solid gray;flex-grow: 1;}#sk-container-id-21 div.sk-label:hover label.sk-toggleable__label {background-color: #d4ebff;}#sk-container-id-21 div.sk-serial::before {content: \"\";position: absolute;border-left: 1px solid gray;box-sizing: border-box;top: 0;bottom: 0;left: 50%;z-index: 0;}#sk-container-id-21 div.sk-serial {display: flex;flex-direction: column;align-items: center;background-color: white;padding-right: 0.2em;padding-left: 0.2em;position: relative;}#sk-container-id-21 div.sk-item {position: relative;z-index: 1;}#sk-container-id-21 div.sk-parallel {display: flex;align-items: stretch;justify-content: center;background-color: white;position: relative;}#sk-container-id-21 div.sk-item::before, #sk-container-id-21 div.sk-parallel-item::before {content: \"\";position: absolute;border-left: 1px solid gray;box-sizing: border-box;top: 0;bottom: 0;left: 50%;z-index: -1;}#sk-container-id-21 div.sk-parallel-item {display: flex;flex-direction: column;z-index: 1;position: relative;background-color: white;}#sk-container-id-21 div.sk-parallel-item:first-child::after {align-self: flex-end;width: 50%;}#sk-container-id-21 div.sk-parallel-item:last-child::after {align-self: flex-start;width: 50%;}#sk-container-id-21 div.sk-parallel-item:only-child::after {width: 0;}#sk-container-id-21 div.sk-dashed-wrapped {border: 1px dashed gray;margin: 0 0.4em 0.5em 0.4em;box-sizing: border-box;padding-bottom: 0.4em;background-color: white;}#sk-container-id-21 div.sk-label label {font-family: monospace;font-weight: bold;display: inline-block;line-height: 1.2em;}#sk-container-id-21 div.sk-label-container {text-align: center;}#sk-container-id-21 div.sk-container {/* jupyter's `normalize.less` sets `[hidden] { display: none; }` but bootstrap.min.css set `[hidden] { display: none !important; }` so we also need the `!important` here to be able to override the default hidden behavior on the sphinx rendered scikit-learn.org. See: https://github.com/scikit-learn/scikit-learn/issues/21755 */display: inline-block !important;position: relative;}#sk-container-id-21 div.sk-text-repr-fallback {display: none;}</style><div id=\"sk-container-id-21\" class=\"sk-top-container\"><div class=\"sk-text-repr-fallback\"><pre>ColumnTransformer(remainder=&#x27;passthrough&#x27;, sparse_threshold=0,\n",
              "                  transformers=[(&#x27;drop&#x27;, &#x27;drop&#x27;,\n",
              "                                 [&#x27;customer_id&#x27;, &#x27;payment_behaviour&#x27;]),\n",
              "                                (&#x27;encoding&#x27;, OneHotEncoder(sparse_output=False),\n",
              "                                 [&#x27;occupation&#x27;, &#x27;payment_of_min_amount&#x27;]),\n",
              "                                (&#x27;num_preprocess&#x27;,\n",
              "                                 Pipeline(steps=[(&#x27;imputer&#x27;,\n",
              "                                                  SimpleImputer(strategy=&#x27;median&#x27;)),\n",
              "                                                 (&#x27;RobustScaler&#x27;,\n",
              "                                                  RobustScaler())]),\n",
              "                                 Index([&#x27;annual_income&#x27;,...\n",
              "                                                             &#x27;High_spent&#x27;]]),\n",
              "                                 [&#x27;spent&#x27;]),\n",
              "                                (&#x27;payment_encoding&#x27;,\n",
              "                                 OrdinalEncoder(categories=[[&#x27;Small_value_payments&#x27;,\n",
              "                                                             &#x27;Medium_value_payments&#x27;,\n",
              "                                                             &#x27;Large_value_payments&#x27;]]),\n",
              "                                 [&#x27;payment_value&#x27;]),\n",
              "                                (&#x27;age_group&#x27;,\n",
              "                                 Pipeline(steps=[(&#x27;imputer&#x27;,\n",
              "                                                  SimpleImputer(strategy=&#x27;median&#x27;)),\n",
              "                                                 (&#x27;to_ordinal&#x27;,\n",
              "                                                  KBinsDiscretizer(encode=&#x27;ordinal&#x27;,\n",
              "                                                                   random_state=42))]),\n",
              "                                 [&#x27;age&#x27;])],\n",
              "                  verbose_feature_names_out=False)</pre><b>In a Jupyter environment, please rerun this cell to show the HTML representation or trust the notebook. <br />On GitHub, the HTML representation is unable to render, please try loading this page with nbviewer.org.</b></div><div class=\"sk-container\" hidden><div class=\"sk-item sk-dashed-wrapped\"><div class=\"sk-label-container\"><div class=\"sk-label sk-toggleable\"><input class=\"sk-toggleable__control sk-hidden--visually\" id=\"sk-estimator-id-417\" type=\"checkbox\" ><label for=\"sk-estimator-id-417\" class=\"sk-toggleable__label sk-toggleable__label-arrow\">ColumnTransformer</label><div class=\"sk-toggleable__content\"><pre>ColumnTransformer(remainder=&#x27;passthrough&#x27;, sparse_threshold=0,\n",
              "                  transformers=[(&#x27;drop&#x27;, &#x27;drop&#x27;,\n",
              "                                 [&#x27;customer_id&#x27;, &#x27;payment_behaviour&#x27;]),\n",
              "                                (&#x27;encoding&#x27;, OneHotEncoder(sparse_output=False),\n",
              "                                 [&#x27;occupation&#x27;, &#x27;payment_of_min_amount&#x27;]),\n",
              "                                (&#x27;num_preprocess&#x27;,\n",
              "                                 Pipeline(steps=[(&#x27;imputer&#x27;,\n",
              "                                                  SimpleImputer(strategy=&#x27;median&#x27;)),\n",
              "                                                 (&#x27;RobustScaler&#x27;,\n",
              "                                                  RobustScaler())]),\n",
              "                                 Index([&#x27;annual_income&#x27;,...\n",
              "                                                             &#x27;High_spent&#x27;]]),\n",
              "                                 [&#x27;spent&#x27;]),\n",
              "                                (&#x27;payment_encoding&#x27;,\n",
              "                                 OrdinalEncoder(categories=[[&#x27;Small_value_payments&#x27;,\n",
              "                                                             &#x27;Medium_value_payments&#x27;,\n",
              "                                                             &#x27;Large_value_payments&#x27;]]),\n",
              "                                 [&#x27;payment_value&#x27;]),\n",
              "                                (&#x27;age_group&#x27;,\n",
              "                                 Pipeline(steps=[(&#x27;imputer&#x27;,\n",
              "                                                  SimpleImputer(strategy=&#x27;median&#x27;)),\n",
              "                                                 (&#x27;to_ordinal&#x27;,\n",
              "                                                  KBinsDiscretizer(encode=&#x27;ordinal&#x27;,\n",
              "                                                                   random_state=42))]),\n",
              "                                 [&#x27;age&#x27;])],\n",
              "                  verbose_feature_names_out=False)</pre></div></div></div><div class=\"sk-parallel\"><div class=\"sk-parallel-item\"><div class=\"sk-item\"><div class=\"sk-label-container\"><div class=\"sk-label sk-toggleable\"><input class=\"sk-toggleable__control sk-hidden--visually\" id=\"sk-estimator-id-418\" type=\"checkbox\" ><label for=\"sk-estimator-id-418\" class=\"sk-toggleable__label sk-toggleable__label-arrow\">drop</label><div class=\"sk-toggleable__content\"><pre>[&#x27;customer_id&#x27;, &#x27;payment_behaviour&#x27;]</pre></div></div></div><div class=\"sk-serial\"><div class=\"sk-item\"><div class=\"sk-estimator sk-toggleable\"><input class=\"sk-toggleable__control sk-hidden--visually\" id=\"sk-estimator-id-419\" type=\"checkbox\" ><label for=\"sk-estimator-id-419\" class=\"sk-toggleable__label sk-toggleable__label-arrow\">drop</label><div class=\"sk-toggleable__content\"><pre>drop</pre></div></div></div></div></div></div><div class=\"sk-parallel-item\"><div class=\"sk-item\"><div class=\"sk-label-container\"><div class=\"sk-label sk-toggleable\"><input class=\"sk-toggleable__control sk-hidden--visually\" id=\"sk-estimator-id-420\" type=\"checkbox\" ><label for=\"sk-estimator-id-420\" class=\"sk-toggleable__label sk-toggleable__label-arrow\">encoding</label><div class=\"sk-toggleable__content\"><pre>[&#x27;occupation&#x27;, &#x27;payment_of_min_amount&#x27;]</pre></div></div></div><div class=\"sk-serial\"><div class=\"sk-item\"><div class=\"sk-estimator sk-toggleable\"><input class=\"sk-toggleable__control sk-hidden--visually\" id=\"sk-estimator-id-421\" type=\"checkbox\" ><label for=\"sk-estimator-id-421\" class=\"sk-toggleable__label sk-toggleable__label-arrow\">OneHotEncoder</label><div class=\"sk-toggleable__content\"><pre>OneHotEncoder(sparse_output=False)</pre></div></div></div></div></div></div><div class=\"sk-parallel-item\"><div class=\"sk-item\"><div class=\"sk-label-container\"><div class=\"sk-label sk-toggleable\"><input class=\"sk-toggleable__control sk-hidden--visually\" id=\"sk-estimator-id-422\" type=\"checkbox\" ><label for=\"sk-estimator-id-422\" class=\"sk-toggleable__label sk-toggleable__label-arrow\">num_preprocess</label><div class=\"sk-toggleable__content\"><pre>Index([&#x27;annual_income&#x27;, &#x27;monthly_inhand_salary&#x27;, &#x27;num_bank_accounts&#x27;,\n",
              "       &#x27;num_credit_card&#x27;, &#x27;interest_rate&#x27;, &#x27;num_of_loan&#x27;,\n",
              "       &#x27;delay_from_due_date&#x27;, &#x27;num_of_delayed_payment&#x27;, &#x27;changed_credit_limit&#x27;,\n",
              "       &#x27;num_credit_inquiries&#x27;, &#x27;outstanding_debt&#x27;, &#x27;credit_utilization_ratio&#x27;,\n",
              "       &#x27;credit_history_age&#x27;, &#x27;total_emi_per_month&#x27;, &#x27;amount_invested_monthly&#x27;,\n",
              "       &#x27;monthly_balance&#x27;],\n",
              "      dtype=&#x27;object&#x27;)</pre></div></div></div><div class=\"sk-serial\"><div class=\"sk-item\"><div class=\"sk-serial\"><div class=\"sk-item\"><div class=\"sk-estimator sk-toggleable\"><input class=\"sk-toggleable__control sk-hidden--visually\" id=\"sk-estimator-id-423\" type=\"checkbox\" ><label for=\"sk-estimator-id-423\" class=\"sk-toggleable__label sk-toggleable__label-arrow\">SimpleImputer</label><div class=\"sk-toggleable__content\"><pre>SimpleImputer(strategy=&#x27;median&#x27;)</pre></div></div></div><div class=\"sk-item\"><div class=\"sk-estimator sk-toggleable\"><input class=\"sk-toggleable__control sk-hidden--visually\" id=\"sk-estimator-id-424\" type=\"checkbox\" ><label for=\"sk-estimator-id-424\" class=\"sk-toggleable__label sk-toggleable__label-arrow\">RobustScaler</label><div class=\"sk-toggleable__content\"><pre>RobustScaler()</pre></div></div></div></div></div></div></div></div><div class=\"sk-parallel-item\"><div class=\"sk-item\"><div class=\"sk-label-container\"><div class=\"sk-label sk-toggleable\"><input class=\"sk-toggleable__control sk-hidden--visually\" id=\"sk-estimator-id-425\" type=\"checkbox\" ><label for=\"sk-estimator-id-425\" class=\"sk-toggleable__label sk-toggleable__label-arrow\">spent_encoding</label><div class=\"sk-toggleable__content\"><pre>[&#x27;spent&#x27;]</pre></div></div></div><div class=\"sk-serial\"><div class=\"sk-item\"><div class=\"sk-estimator sk-toggleable\"><input class=\"sk-toggleable__control sk-hidden--visually\" id=\"sk-estimator-id-426\" type=\"checkbox\" ><label for=\"sk-estimator-id-426\" class=\"sk-toggleable__label sk-toggleable__label-arrow\">OrdinalEncoder</label><div class=\"sk-toggleable__content\"><pre>OrdinalEncoder(categories=[[&#x27;Low_spent&#x27;, &#x27;High_spent&#x27;]])</pre></div></div></div></div></div></div><div class=\"sk-parallel-item\"><div class=\"sk-item\"><div class=\"sk-label-container\"><div class=\"sk-label sk-toggleable\"><input class=\"sk-toggleable__control sk-hidden--visually\" id=\"sk-estimator-id-427\" type=\"checkbox\" ><label for=\"sk-estimator-id-427\" class=\"sk-toggleable__label sk-toggleable__label-arrow\">payment_encoding</label><div class=\"sk-toggleable__content\"><pre>[&#x27;payment_value&#x27;]</pre></div></div></div><div class=\"sk-serial\"><div class=\"sk-item\"><div class=\"sk-estimator sk-toggleable\"><input class=\"sk-toggleable__control sk-hidden--visually\" id=\"sk-estimator-id-428\" type=\"checkbox\" ><label for=\"sk-estimator-id-428\" class=\"sk-toggleable__label sk-toggleable__label-arrow\">OrdinalEncoder</label><div class=\"sk-toggleable__content\"><pre>OrdinalEncoder(categories=[[&#x27;Small_value_payments&#x27;, &#x27;Medium_value_payments&#x27;,\n",
              "                            &#x27;Large_value_payments&#x27;]])</pre></div></div></div></div></div></div><div class=\"sk-parallel-item\"><div class=\"sk-item\"><div class=\"sk-label-container\"><div class=\"sk-label sk-toggleable\"><input class=\"sk-toggleable__control sk-hidden--visually\" id=\"sk-estimator-id-429\" type=\"checkbox\" ><label for=\"sk-estimator-id-429\" class=\"sk-toggleable__label sk-toggleable__label-arrow\">age_group</label><div class=\"sk-toggleable__content\"><pre>[&#x27;age&#x27;]</pre></div></div></div><div class=\"sk-serial\"><div class=\"sk-item\"><div class=\"sk-serial\"><div class=\"sk-item\"><div class=\"sk-estimator sk-toggleable\"><input class=\"sk-toggleable__control sk-hidden--visually\" id=\"sk-estimator-id-430\" type=\"checkbox\" ><label for=\"sk-estimator-id-430\" class=\"sk-toggleable__label sk-toggleable__label-arrow\">SimpleImputer</label><div class=\"sk-toggleable__content\"><pre>SimpleImputer(strategy=&#x27;median&#x27;)</pre></div></div></div><div class=\"sk-item\"><div class=\"sk-estimator sk-toggleable\"><input class=\"sk-toggleable__control sk-hidden--visually\" id=\"sk-estimator-id-431\" type=\"checkbox\" ><label for=\"sk-estimator-id-431\" class=\"sk-toggleable__label sk-toggleable__label-arrow\">KBinsDiscretizer</label><div class=\"sk-toggleable__content\"><pre>KBinsDiscretizer(encode=&#x27;ordinal&#x27;, random_state=42)</pre></div></div></div></div></div></div></div></div><div class=\"sk-parallel-item\"><div class=\"sk-item\"><div class=\"sk-label-container\"><div class=\"sk-label sk-toggleable\"><input class=\"sk-toggleable__control sk-hidden--visually\" id=\"sk-estimator-id-432\" type=\"checkbox\" ><label for=\"sk-estimator-id-432\" class=\"sk-toggleable__label sk-toggleable__label-arrow\">remainder</label><div class=\"sk-toggleable__content\"><pre>[]</pre></div></div></div><div class=\"sk-serial\"><div class=\"sk-item\"><div class=\"sk-estimator sk-toggleable\"><input class=\"sk-toggleable__control sk-hidden--visually\" id=\"sk-estimator-id-433\" type=\"checkbox\" ><label for=\"sk-estimator-id-433\" class=\"sk-toggleable__label sk-toggleable__label-arrow\">passthrough</label><div class=\"sk-toggleable__content\"><pre>passthrough</pre></div></div></div></div></div></div></div></div></div></div>"
            ]
          },
          "metadata": {},
          "execution_count": 121
        }
      ]
    },
    {
      "cell_type": "code",
      "source": [
        "explainer = shap.TreeExplainer(best_clf.named_steps['clf'])\n",
        "shap_values = explainer.shap_values(x_trans)"
      ],
      "metadata": {
        "colab": {
          "base_uri": "https://localhost:8080/"
        },
        "id": "gu9b8VZuXLD5",
        "outputId": "d8d46bdd-3f5a-4c41-f19e-6f4b6cd2f7ec"
      },
      "execution_count": 122,
      "outputs": [
        {
          "output_type": "stream",
          "name": "stderr",
          "text": [
            "LightGBM binary classifier with TreeExplainer shap values output has changed to a list of ndarray\n"
          ]
        }
      ]
    },
    {
      "cell_type": "markdown",
      "source": [
        "#### Resultados generales"
      ],
      "metadata": {
        "id": "s9O4FuHMNXLA"
      }
    },
    {
      "cell_type": "markdown",
      "source": [
        "Se empieza por un análisis general de los shap values en la clase positiva mediante un gráfico resumen de barra, en el que las características se ordenan por importancia. Entre las características más importantes se tienen `outstanding_debt` (deuda por pagar ), `interest_rate` (interés) y `num_credit_card` (Numero de tarjetas de credito), estas 3 características, en particular `outstanding_debt`, son las que más peso tienen en el modelo por diferencia, mientras que el resto de características en comparación no tienen tanto peso en el output final."
      ],
      "metadata": {
        "id": "WAzHsvczh1H-"
      }
    },
    {
      "cell_type": "code",
      "source": [
        "shap.summary_plot(shap_values[1], x_trans, plot_type='bar', max_display=10)"
      ],
      "metadata": {
        "colab": {
          "base_uri": "https://localhost:8080/",
          "height": 557
        },
        "id": "g6oMMCDDjSZS",
        "outputId": "4a0de540-6d2b-4043-f8b1-ea9ae4a63b13"
      },
      "execution_count": 127,
      "outputs": [
        {
          "output_type": "display_data",
          "data": {
            "text/plain": [
              "<Figure size 800x550 with 1 Axes>"
            ],
            "image/png": "[encoded data removed]"
          },
          "metadata": {}
        }
      ]
    },
    {
      "cell_type": "markdown",
      "source": [
        "Para estudiar más a fondo el comportamiento de las características, se visualiza en un gráfico de densidad la relación entre el valor de las características con el output final. En este se puede notar que, por ejemplo, valores más altos de `outstanding_debt` se asocian a una predicción positiva de riesgo alto, esto tiene sentido pues un cliente con una mayor deuda es más probable que tenga problemas para pagar o necesite más tiempo para ello. En general, una mayor cantidad de factores de riesgo como un interés alto en la tarjeta de crédito o un número alto de estas, se asocian con un riesgo alto de no pago."
      ],
      "metadata": {
        "id": "qryRaFIfkCDe"
      }
    },
    {
      "cell_type": "code",
      "source": [
        "shap.summary_plot(shap_values[1], x_trans, plot_type='dot', max_display=10)"
      ],
      "metadata": {
        "colab": {
          "base_uri": "https://localhost:8080/",
          "height": 575
        },
        "id": "ACPLrdCuYvyL",
        "outputId": "69d5487f-7b24-4dda-8d91-8923cf1103cb"
      },
      "execution_count": null,
      "outputs": [
        {
          "output_type": "stream",
          "name": "stderr",
          "text": [
            "No data for colormapping provided via 'c'. Parameters 'vmin', 'vmax' will be ignored\n"
          ]
        },
        {
          "output_type": "display_data",
          "data": {
            "text/plain": [
              "<Figure size 800x550 with 2 Axes>"
            ],
            "image/png": "[encoded data removed]"
          },
          "metadata": {}
        }
      ]
    },
    {
      "cell_type": "code",
      "source": [
        "def shapley_feature_ranking(shap_values, X):\n",
        "    feature_order = np.argsort(np.mean(np.abs(shap_values), axis=0))\n",
        "    return pd.DataFrame(\n",
        "        {\n",
        "            \"features\": [X.columns[i] for i in feature_order][::-1],\n",
        "            \"importance\": [\n",
        "                np.mean(np.abs(shap_values), axis=0)[i] for i in feature_order\n",
        "            ][::-1],\n",
        "        }\n",
        "    )"
      ],
      "metadata": {
        "id": "95fTJcxbmu4k"
      },
      "execution_count": 128,
      "outputs": []
    },
    {
      "cell_type": "code",
      "source": [
        "feature_importance_df = shapley_feature_ranking(shap_values[1], x_trans)"
      ],
      "metadata": {
        "id": "zEjdPEoymv-5"
      },
      "execution_count": 131,
      "outputs": []
    },
    {
      "cell_type": "markdown",
      "source": [
        "Siguiendo la línea del análisis general se busca determinar cuales son las características menos importantes, para ello se calculan las importancias en el caso de la clase positiva, esta se calcula como el promedio del valor absoluto de los shap values. Del calculo se determina que las características menos relevantes incluyen a todas aquellas asociadas a la profesión del cliente, con importancias muy cercanas a 0, por lo que apenas influyen en el modelo. Estos resultados no son del todo extraños, pues si bien la profesión podría ser un indicio del estatus economico del cliente, en la realidad existen muchas profesiones, por lo que podrían no traducirse bien a nivel de generalización."
      ],
      "metadata": {
        "id": "mVZ_ybxSndGY"
      }
    },
    {
      "cell_type": "code",
      "source": [
        "least_important = feature_importance_df.sort_values(by=['importance']).head(10)\n",
        "least_important"
      ],
      "metadata": {
        "colab": {
          "base_uri": "https://localhost:8080/",
          "height": 362
        },
        "id": "DBPDJQJMnNG3",
        "outputId": "52afdd7e-922b-40e7-c653-e43099a3a4ba"
      },
      "execution_count": 134,
      "outputs": [
        {
          "output_type": "execute_result",
          "data": {
            "text/plain": [
              "                    features  importance\n",
              "37     occupation_Journalist    0.000000\n",
              "36  occupation_Media_Manager    0.000000\n",
              "35         occupation_Doctor    0.000448\n",
              "34         occupation_Lawyer    0.001551\n",
              "33      occupation_Scientist    0.001848\n",
              "32        occupation_Teacher    0.001881\n",
              "31  occupation_Not specified    0.002266\n",
              "30       occupation_Engineer    0.002529\n",
              "29      occupation_Architect    0.002801\n",
              "28     occupation_Accountant    0.003245"
            ],
            "text/html": [
              "\n",
              "\n",
              "  <div id=\"df-ad49a098-9418-402b-b14f-b3b7b5cc1180\">\n",
              "    <div class=\"colab-df-container\">\n",
              "      <div>\n",
              "<style scoped>\n",
              "    .dataframe tbody tr th:only-of-type {\n",
              "        vertical-align: middle;\n",
              "    }\n",
              "\n",
              "    .dataframe tbody tr th {\n",
              "        vertical-align: top;\n",
              "    }\n",
              "\n",
              "    .dataframe thead th {\n",
              "        text-align: right;\n",
              "    }\n",
              "</style>\n",
              "<table border=\"1\" class=\"dataframe\">\n",
              "  <thead>\n",
              "    <tr style=\"text-align: right;\">\n",
              "      <th></th>\n",
              "      <th>features</th>\n",
              "      <th>importance</th>\n",
              "    </tr>\n",
              "  </thead>\n",
              "  <tbody>\n",
              "    <tr>\n",
              "      <th>37</th>\n",
              "      <td>occupation_Journalist</td>\n",
              "      <td>0.000000</td>\n",
              "    </tr>\n",
              "    <tr>\n",
              "      <th>36</th>\n",
              "      <td>occupation_Media_Manager</td>\n",
              "      <td>0.000000</td>\n",
              "    </tr>\n",
              "    <tr>\n",
              "      <th>35</th>\n",
              "      <td>occupation_Doctor</td>\n",
              "      <td>0.000448</td>\n",
              "    </tr>\n",
              "    <tr>\n",
              "      <th>34</th>\n",
              "      <td>occupation_Lawyer</td>\n",
              "      <td>0.001551</td>\n",
              "    </tr>\n",
              "    <tr>\n",
              "      <th>33</th>\n",
              "      <td>occupation_Scientist</td>\n",
              "      <td>0.001848</td>\n",
              "    </tr>\n",
              "    <tr>\n",
              "      <th>32</th>\n",
              "      <td>occupation_Teacher</td>\n",
              "      <td>0.001881</td>\n",
              "    </tr>\n",
              "    <tr>\n",
              "      <th>31</th>\n",
              "      <td>occupation_Not specified</td>\n",
              "      <td>0.002266</td>\n",
              "    </tr>\n",
              "    <tr>\n",
              "      <th>30</th>\n",
              "      <td>occupation_Engineer</td>\n",
              "      <td>0.002529</td>\n",
              "    </tr>\n",
              "    <tr>\n",
              "      <th>29</th>\n",
              "      <td>occupation_Architect</td>\n",
              "      <td>0.002801</td>\n",
              "    </tr>\n",
              "    <tr>\n",
              "      <th>28</th>\n",
              "      <td>occupation_Accountant</td>\n",
              "      <td>0.003245</td>\n",
              "    </tr>\n",
              "  </tbody>\n",
              "</table>\n",
              "</div>\n",
              "      <button class=\"colab-df-convert\" onclick=\"convertToInteractive('df-ad49a098-9418-402b-b14f-b3b7b5cc1180')\"\n",
              "              title=\"Convert this dataframe to an interactive table.\"\n",
              "              style=\"display:none;\">\n",
              "\n",
              "  <svg xmlns=\"http://www.w3.org/2000/svg\" height=\"24px\"viewBox=\"0 0 24 24\"\n",
              "       width=\"24px\">\n",
              "    <path d=\"M0 0h24v24H0V0z\" fill=\"none\"/>\n",
              "    <path d=\"M18.56 5.44l.94 2.06.94-2.06 2.06-.94-2.06-.94-.94-2.06-.94 2.06-2.06.94zm-11 1L8.5 8.5l.94-2.06 2.06-.94-2.06-.94L8.5 2.5l-.94 2.06-2.06.94zm10 10l.94 2.06.94-2.06 2.06-.94-2.06-.94-.94-2.06-.94 2.06-2.06.94z\"/><path d=\"M17.41 7.96l-1.37-1.37c-.4-.4-.92-.59-1.43-.59-.52 0-1.04.2-1.43.59L10.3 9.45l-7.72 7.72c-.78.78-.78 2.05 0 2.83L4 21.41c.39.39.9.59 1.41.59.51 0 1.02-.2 1.41-.59l7.78-7.78 2.81-2.81c.8-.78.8-2.07 0-2.86zM5.41 20L4 18.59l7.72-7.72 1.47 1.35L5.41 20z\"/>\n",
              "  </svg>\n",
              "      </button>\n",
              "\n",
              "\n",
              "\n",
              "    <div id=\"df-b998a348-8240-4465-9f1b-03c5d355eeb5\">\n",
              "      <button class=\"colab-df-quickchart\" onclick=\"quickchart('df-b998a348-8240-4465-9f1b-03c5d355eeb5')\"\n",
              "              title=\"Suggest charts.\"\n",
              "              style=\"display:none;\">\n",
              "\n",
              "<svg xmlns=\"http://www.w3.org/2000/svg\" height=\"24px\"viewBox=\"0 0 24 24\"\n",
              "     width=\"24px\">\n",
              "    <g>\n",
              "        <path d=\"M19 3H5c-1.1 0-2 .9-2 2v14c0 1.1.9 2 2 2h14c1.1 0 2-.9 2-2V5c0-1.1-.9-2-2-2zM9 17H7v-7h2v7zm4 0h-2V7h2v10zm4 0h-2v-4h2v4z\"/>\n",
              "    </g>\n",
              "</svg>\n",
              "      </button>\n",
              "    </div>\n",
              "\n",
              "<style>\n",
              "  .colab-df-quickchart {\n",
              "    background-color: #E8F0FE;\n",
              "    border: none;\n",
              "    border-radius: 50%;\n",
              "    cursor: pointer;\n",
              "    display: none;\n",
              "    fill: #1967D2;\n",
              "    height: 32px;\n",
              "    padding: 0 0 0 0;\n",
              "    width: 32px;\n",
              "  }\n",
              "\n",
              "  .colab-df-quickchart:hover {\n",
              "    background-color: #E2EBFA;\n",
              "    box-shadow: 0px 1px 2px rgba(60, 64, 67, 0.3), 0px 1px 3px 1px rgba(60, 64, 67, 0.15);\n",
              "    fill: #174EA6;\n",
              "  }\n",
              "\n",
              "  [theme=dark] .colab-df-quickchart {\n",
              "    background-color: #3B4455;\n",
              "    fill: #D2E3FC;\n",
              "  }\n",
              "\n",
              "  [theme=dark] .colab-df-quickchart:hover {\n",
              "    background-color: #434B5C;\n",
              "    box-shadow: 0px 1px 3px 1px rgba(0, 0, 0, 0.15);\n",
              "    filter: drop-shadow(0px 1px 2px rgba(0, 0, 0, 0.3));\n",
              "    fill: #FFFFFF;\n",
              "  }\n",
              "</style>\n",
              "\n",
              "    <script>\n",
              "      async function quickchart(key) {\n",
              "        const containerElement = document.querySelector('#' + key);\n",
              "        const charts = await google.colab.kernel.invokeFunction(\n",
              "            'suggestCharts', [key], {});\n",
              "      }\n",
              "    </script>\n",
              "\n",
              "      <script>\n",
              "\n",
              "function displayQuickchartButton(domScope) {\n",
              "  let quickchartButtonEl =\n",
              "    domScope.querySelector('#df-b998a348-8240-4465-9f1b-03c5d355eeb5 button.colab-df-quickchart');\n",
              "  quickchartButtonEl.style.display =\n",
              "    google.colab.kernel.accessAllowed ? 'block' : 'none';\n",
              "}\n",
              "\n",
              "        displayQuickchartButton(document);\n",
              "      </script>\n",
              "      <style>\n",
              "    .colab-df-container {\n",
              "      display:flex;\n",
              "      flex-wrap:wrap;\n",
              "      gap: 12px;\n",
              "    }\n",
              "\n",
              "    .colab-df-convert {\n",
              "      background-color: #E8F0FE;\n",
              "      border: none;\n",
              "      border-radius: 50%;\n",
              "      cursor: pointer;\n",
              "      display: none;\n",
              "      fill: #1967D2;\n",
              "      height: 32px;\n",
              "      padding: 0 0 0 0;\n",
              "      width: 32px;\n",
              "    }\n",
              "\n",
              "    .colab-df-convert:hover {\n",
              "      background-color: #E2EBFA;\n",
              "      box-shadow: 0px 1px 2px rgba(60, 64, 67, 0.3), 0px 1px 3px 1px rgba(60, 64, 67, 0.15);\n",
              "      fill: #174EA6;\n",
              "    }\n",
              "\n",
              "    [theme=dark] .colab-df-convert {\n",
              "      background-color: #3B4455;\n",
              "      fill: #D2E3FC;\n",
              "    }\n",
              "\n",
              "    [theme=dark] .colab-df-convert:hover {\n",
              "      background-color: #434B5C;\n",
              "      box-shadow: 0px 1px 3px 1px rgba(0, 0, 0, 0.15);\n",
              "      filter: drop-shadow(0px 1px 2px rgba(0, 0, 0, 0.3));\n",
              "      fill: #FFFFFF;\n",
              "    }\n",
              "  </style>\n",
              "\n",
              "      <script>\n",
              "        const buttonEl =\n",
              "          document.querySelector('#df-ad49a098-9418-402b-b14f-b3b7b5cc1180 button.colab-df-convert');\n",
              "        buttonEl.style.display =\n",
              "          google.colab.kernel.accessAllowed ? 'block' : 'none';\n",
              "\n",
              "        async function convertToInteractive(key) {\n",
              "          const element = document.querySelector('#df-ad49a098-9418-402b-b14f-b3b7b5cc1180');\n",
              "          const dataTable =\n",
              "            await google.colab.kernel.invokeFunction('convertToInteractive',\n",
              "                                                     [key], {});\n",
              "          if (!dataTable) return;\n",
              "\n",
              "          const docLinkHtml = 'Like what you see? Visit the ' +\n",
              "            '<a target=\"_blank\" href=https://colab.research.google.com/notebooks/data_table.ipynb>data table notebook</a>'\n",
              "            + ' to learn more about interactive tables.';\n",
              "          element.innerHTML = '';\n",
              "          dataTable['output_type'] = 'display_data';\n",
              "          await google.colab.output.renderOutput(dataTable, element);\n",
              "          const docLink = document.createElement('div');\n",
              "          docLink.innerHTML = docLinkHtml;\n",
              "          element.appendChild(docLink);\n",
              "        }\n",
              "      </script>\n",
              "    </div>\n",
              "  </div>\n"
            ]
          },
          "metadata": {},
          "execution_count": 134
        }
      ]
    },
    {
      "cell_type": "markdown",
      "source": [
        "#### Resultados locales"
      ],
      "metadata": {
        "id": "oHsMbq_yM8_q"
      }
    },
    {
      "cell_type": "code",
      "source": [
        " # Replicabilidad\n",
        " np.random.seed(42)\n",
        " samples = np.random.randint(0, len(x_trans), size = 10)"
      ],
      "metadata": {
        "id": "tNJDh6fHCq1q"
      },
      "execution_count": 137,
      "outputs": []
    },
    {
      "cell_type": "markdown",
      "source": [
        "Para realizar un estudio más localizado del impacto en el modelo, se revisan los shap values de 10 muestras aleatorias mediante un heatmap. Del heatmap se puede desprender que, efectivamente, la variable `outstanding_debt` tiene un gran peso en el output del modelo, dado que en general posee los shap values más marcados y cuyo signo (positivo o negativo) suelen determinar el output esperado de la muestra."
      ],
      "metadata": {
        "id": "oyk699UKwc7B"
      }
    },
    {
      "cell_type": "code",
      "source": [
        "shap.plots.heatmap(shap.Explanation(\n",
        "          values = shap_values[1][samples],\n",
        "          base_values = explainer.expected_value[1],\n",
        "          data = x_trans.iloc[samples],\n",
        "          feature_names = x_trans.columns.tolist()\n",
        "      ), max_display=10)"
      ],
      "metadata": {
        "colab": {
          "base_uri": "https://localhost:8080/",
          "height": 575
        },
        "id": "9HQfXzzAr2_U",
        "outputId": "5d810e75-2a41-4294-f285-94c74a30fc71"
      },
      "execution_count": 142,
      "outputs": [
        {
          "output_type": "display_data",
          "data": {
            "text/plain": [
              "<Figure size 800x750 with 2 Axes>"
            ],
            "image/png": "[encoded data removed]"
          },
          "metadata": {}
        }
      ]
    },
    {
      "cell_type": "markdown",
      "source": [
        "#### Análisis"
      ],
      "metadata": {
        "id": "doPCzNSm5a6E"
      }
    },
    {
      "cell_type": "markdown",
      "source": [
        "Del análisis de los shap values se encontraron las características más y menos relevantes en el modelamiento, en particular se encontró que el modelamiento está fuertemente influenciado por la variable `outstanding_debt`. Si bien la importancia de esta variable tiene sentido, es posible que esto a su vez sea un indicio de que, o bien el resto de variables no son suficientemente útiles, o la variable `outstanding_debt` está sesgando demasiado al modelo."
      ],
      "metadata": {
        "id": "Zy1V75w-5DzX"
      }
    },
    {
      "cell_type": "markdown",
      "metadata": {
        "cell_id": "86fadbd406214b998dd528ec52eeecde",
        "deepnote_cell_type": "markdown",
        "id": "oKyGghIAbn-C"
      },
      "source": [
        "\n",
        "\n",
        "### 7. Conclusiones\n",
        "\n",
        "\n",
        "\n",
        "\n"
      ]
    },
    {
      "cell_type": "markdown",
      "source": [
        "En general los resultados de clasificación aún dejan que desear, pues un 0.63 de F1 en el conjunto de prueba para la clase positiva indica que aún hay un gran margen de mejora, y que los modelos probablemente no sean suficientemente útiles para Giturra. Aún así, fue posible mejorar el resultado del baseline gracias a la busqueda en grilla, pasando de un F1 de 0.59 a uno de 0.63 para la clase positiva.\n",
        "\n",
        "Si bien los resultados obtenidos no son completamente satisfactorios, del trabajo realizado se lograron identificar problemas en el dataset base (outliers, valores negativos y/o extraños) que podrían ser tratados de una forma más útil en una iteración futura. Por ejemplo, se podrían tratar los outliers de forma distinta (eliminarlos, reemplazarlos por valores extremos más acotados, etc). A su vez, se podrían añadir características más útiles en base a las ya existentes, o eliminar las que no son tan útiles, por ejemplo, la variable `occupation` podría eliminarse o tratarse como binaria (se especifica o no)."
      ],
      "metadata": {
        "id": "4Cm4UlLNy42J"
      }
    },
    {
      "cell_type": "markdown",
      "source": [
        "<a style='text-decoration:none;line-height:16px;display:flex;color:#5B5B62;padding:10px;justify-content:end;' href='https://deepnote.com?utm_source=created-in-deepnote-cell&projectId=87110296-876e-426f-b91d-aaf681223468' target=\"_blank\">\n",
        "<img alt='Created in deepnote.com' style='display:inline;max-height:16px;margin:0px;margin-right:7.5px;' src='data:image/svg+xml;base64,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' > </img>\n",
        "Created in <span style='font-weight:600;margin-left:4px;'>Deepnote</span></a>"
      ],
      "metadata": {
        "created_in_deepnote_cell": true,
        "deepnote_cell_type": "markdown",
        "id": "xgek4BSqbn-D"
      }
    }
  ],
  "nbformat": 4,
  "nbformat_minor": 0,
  "metadata": {
    "deepnote": {},
    "kernelspec": {
      "name": "python3",
      "language": "python",
      "display_name": "competencia"
    },
    "language_info": {
      "name": "python",
      "version": "3.9.16",
      "mimetype": "text/x-python",
      "file_extension": ".py",
      "pygments_lexer": "ipython3",
      "codemirror_mode": {
        "name": "ipython",
        "version": 3
      },
      "nbconvert_exporter": "python"
    },
    "orig_nbformat": 4,
    "deepnote_notebook_id": "4a4ad4306407402db0c258f95d5a9abe",
    "deepnote_execution_queue": [],
    "colab": {
      "provenance": [],
      "toc_visible": true
    }
  }
}